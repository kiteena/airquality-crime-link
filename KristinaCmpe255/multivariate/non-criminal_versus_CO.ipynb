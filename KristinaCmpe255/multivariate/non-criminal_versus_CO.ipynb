{
 "cells": [
  {
   "cell_type": "code",
   "execution_count": 1,
   "metadata": {},
   "outputs": [
    {
     "name": "stderr",
     "output_type": "stream",
     "text": [
      "/home/kristina/anaconda3/lib/python3.6/site-packages/sklearn/cross_validation.py:41: DeprecationWarning: This module was deprecated in version 0.18 in favor of the model_selection module into which all the refactored classes and functions are moved. Also note that the interface of the new CV iterators are different from that of this module. This module will be removed in 0.20.\n",
      "  \"This module will be removed in 0.20.\", DeprecationWarning)\n"
     ]
    }
   ],
   "source": [
    "# removes annoying deprecation warnings \n",
    "import warnings\n",
    "warnings.filterwarnings(\"ignore\", category=DeprecationWarning) \n",
    "\n",
    "import pandas as pd\n",
    "from google.cloud import bigquery\n",
    "from bq_helper import BigQueryHelper #third party library to translate google query data to dataframe\n",
    "import matplotlib.pyplot as plt\n",
    "import os, sys\n",
    "\n",
    "sys.path.insert(0, './../utils/')\n",
    "\n",
    "# custom files \n",
    "import random_forest_regressor as rfr\n",
    "import utilities as util\n",
    "import validation as cv\n",
    "\n",
    "from sklearn.model_selection import train_test_split\n",
    "from sklearn import cross_validation\n",
    "%matplotlib inline\n",
    "\n",
    "with open('../../key.txt') as f:\n",
    "    content = f.readlines()\n",
    "\n",
    "#add your own key here \n",
    "os.environ['GOOGLE_APPLICATION_CREDENTIALS']= content[0]"
   ]
  },
  {
   "cell_type": "code",
   "execution_count": 2,
   "metadata": {},
   "outputs": [],
   "source": [
    "EPA_QUERY = \"\"\"\n",
    "        SELECT\n",
    "            avg(arithmetic_mean) as am,\n",
    "            CONCAT(cast(EXTRACT(YEAR FROM CO_daily.date_local) as string),\n",
    "            cast(EXTRACT(MONTH FROM CO_daily.date_local) as string), \n",
    "            cast(EXTRACT(DAY FROM CO_daily.date_local) as string)) as date\n",
    "        FROM\n",
    "          `bigquery-public-data.epa_historical_air_quality.co_daily_summary` as CO_daily\n",
    "        WHERE state_name =\"California\" AND city_name=\"San Francisco\"\n",
    "        GROUP BY date\n",
    "        ORDER BY date DESC\n",
    "        \"\"\"\n",
    "\n",
    "bq_assistant_CO = BigQueryHelper(\"bigquery-public-data\", \"epa_historical_air_quality\")\n",
    "df_CO = bq_assistant_CO.query_to_pandas(EPA_QUERY)"
   ]
  },
  {
   "cell_type": "code",
   "execution_count": 3,
   "metadata": {
    "scrolled": true
   },
   "outputs": [
    {
     "data": {
      "text/html": [
       "<div>\n",
       "<style scoped>\n",
       "    .dataframe tbody tr th:only-of-type {\n",
       "        vertical-align: middle;\n",
       "    }\n",
       "\n",
       "    .dataframe tbody tr th {\n",
       "        vertical-align: top;\n",
       "    }\n",
       "\n",
       "    .dataframe thead th {\n",
       "        text-align: right;\n",
       "    }\n",
       "</style>\n",
       "<table border=\"1\" class=\"dataframe\">\n",
       "  <thead>\n",
       "    <tr style=\"text-align: right;\">\n",
       "      <th></th>\n",
       "      <th>am</th>\n",
       "      <th>date</th>\n",
       "    </tr>\n",
       "  </thead>\n",
       "  <tbody>\n",
       "    <tr>\n",
       "      <th>0</th>\n",
       "      <td>0.593479</td>\n",
       "      <td>201799</td>\n",
       "    </tr>\n",
       "    <tr>\n",
       "      <th>1</th>\n",
       "      <td>0.595652</td>\n",
       "      <td>201798</td>\n",
       "    </tr>\n",
       "    <tr>\n",
       "      <th>2</th>\n",
       "      <td>0.600000</td>\n",
       "      <td>201797</td>\n",
       "    </tr>\n",
       "    <tr>\n",
       "      <th>3</th>\n",
       "      <td>0.591304</td>\n",
       "      <td>201796</td>\n",
       "    </tr>\n",
       "    <tr>\n",
       "      <th>4</th>\n",
       "      <td>0.557608</td>\n",
       "      <td>201795</td>\n",
       "    </tr>\n",
       "  </tbody>\n",
       "</table>\n",
       "</div>"
      ],
      "text/plain": [
       "         am    date\n",
       "0  0.593479  201799\n",
       "1  0.595652  201798\n",
       "2  0.600000  201797\n",
       "3  0.591304  201796\n",
       "4  0.557608  201795"
      ]
     },
     "execution_count": 3,
     "metadata": {},
     "output_type": "execute_result"
    }
   ],
   "source": [
    "df_CO.head()"
   ]
  },
  {
   "cell_type": "code",
   "execution_count": 4,
   "metadata": {},
   "outputs": [],
   "source": [
    "SF_CRIME_QUERY = \"\"\"\n",
    "        SELECT\n",
    "            COUNT( DISTINCT unique_key) as count,\n",
    "            cast(EXTRACT(YEAR FROM SFCrimeData.timestamp)*10000 +\n",
    "            EXTRACT(MONTH FROM SFCrimeData.timestamp)*100 + \n",
    "            EXTRACT(DAY FROM SFCrimeData.timestamp) as string) as date\n",
    "        FROM\n",
    "          `bigquery-public-data.san_francisco_sfpd_incidents.sfpd_incidents` AS SFCrimeData\n",
    "        WHERE category = \"NON-CRIMINAL\"\n",
    "        GROUP BY date\n",
    "        ORDER BY date DESC\n",
    "        \"\"\"\n",
    "bq_assistant_SF_crime = BigQueryHelper(\"bigquery-public-data\", \"san_francisco_sfpd_incidents.sfpd_incidents\")\n",
    "df_SF_crime = bq_assistant_SF_crime.query_to_pandas(SF_CRIME_QUERY)"
   ]
  },
  {
   "cell_type": "code",
   "execution_count": 5,
   "metadata": {},
   "outputs": [
    {
     "data": {
      "text/html": [
       "<div>\n",
       "<style scoped>\n",
       "    .dataframe tbody tr th:only-of-type {\n",
       "        vertical-align: middle;\n",
       "    }\n",
       "\n",
       "    .dataframe tbody tr th {\n",
       "        vertical-align: top;\n",
       "    }\n",
       "\n",
       "    .dataframe thead th {\n",
       "        text-align: right;\n",
       "    }\n",
       "</style>\n",
       "<table border=\"1\" class=\"dataframe\">\n",
       "  <thead>\n",
       "    <tr style=\"text-align: right;\">\n",
       "      <th></th>\n",
       "      <th>count</th>\n",
       "      <th>date</th>\n",
       "    </tr>\n",
       "  </thead>\n",
       "  <tbody>\n",
       "    <tr>\n",
       "      <th>0</th>\n",
       "      <td>1</td>\n",
       "      <td>20180515</td>\n",
       "    </tr>\n",
       "    <tr>\n",
       "      <th>1</th>\n",
       "      <td>8</td>\n",
       "      <td>20180514</td>\n",
       "    </tr>\n",
       "    <tr>\n",
       "      <th>2</th>\n",
       "      <td>22</td>\n",
       "      <td>20180513</td>\n",
       "    </tr>\n",
       "    <tr>\n",
       "      <th>3</th>\n",
       "      <td>28</td>\n",
       "      <td>20180512</td>\n",
       "    </tr>\n",
       "    <tr>\n",
       "      <th>4</th>\n",
       "      <td>19</td>\n",
       "      <td>20180511</td>\n",
       "    </tr>\n",
       "    <tr>\n",
       "      <th>5</th>\n",
       "      <td>33</td>\n",
       "      <td>20180510</td>\n",
       "    </tr>\n",
       "    <tr>\n",
       "      <th>6</th>\n",
       "      <td>17</td>\n",
       "      <td>20180509</td>\n",
       "    </tr>\n",
       "    <tr>\n",
       "      <th>7</th>\n",
       "      <td>27</td>\n",
       "      <td>20180508</td>\n",
       "    </tr>\n",
       "    <tr>\n",
       "      <th>8</th>\n",
       "      <td>40</td>\n",
       "      <td>20180507</td>\n",
       "    </tr>\n",
       "    <tr>\n",
       "      <th>9</th>\n",
       "      <td>36</td>\n",
       "      <td>20180506</td>\n",
       "    </tr>\n",
       "  </tbody>\n",
       "</table>\n",
       "</div>"
      ],
      "text/plain": [
       "   count      date\n",
       "0      1  20180515\n",
       "1      8  20180514\n",
       "2     22  20180513\n",
       "3     28  20180512\n",
       "4     19  20180511\n",
       "5     33  20180510\n",
       "6     17  20180509\n",
       "7     27  20180508\n",
       "8     40  20180507\n",
       "9     36  20180506"
      ]
     },
     "execution_count": 5,
     "metadata": {},
     "output_type": "execute_result"
    }
   ],
   "source": [
    "df_SF_crime.head(n=10)"
   ]
  },
  {
   "cell_type": "code",
   "execution_count": 6,
   "metadata": {},
   "outputs": [
    {
     "data": {
      "text/html": [
       "<div>\n",
       "<style scoped>\n",
       "    .dataframe tbody tr th:only-of-type {\n",
       "        vertical-align: middle;\n",
       "    }\n",
       "\n",
       "    .dataframe tbody tr th {\n",
       "        vertical-align: top;\n",
       "    }\n",
       "\n",
       "    .dataframe thead th {\n",
       "        text-align: right;\n",
       "    }\n",
       "</style>\n",
       "<table border=\"1\" class=\"dataframe\">\n",
       "  <thead>\n",
       "    <tr style=\"text-align: right;\">\n",
       "      <th></th>\n",
       "      <th>year</th>\n",
       "      <th>pop</th>\n",
       "    </tr>\n",
       "  </thead>\n",
       "  <tbody>\n",
       "    <tr>\n",
       "      <th>0</th>\n",
       "      <td>2003</td>\n",
       "      <td>757638</td>\n",
       "    </tr>\n",
       "    <tr>\n",
       "      <th>1</th>\n",
       "      <td>2004</td>\n",
       "      <td>750133</td>\n",
       "    </tr>\n",
       "    <tr>\n",
       "      <th>2</th>\n",
       "      <td>2005</td>\n",
       "      <td>748846</td>\n",
       "    </tr>\n",
       "    <tr>\n",
       "      <th>3</th>\n",
       "      <td>2006</td>\n",
       "      <td>751431</td>\n",
       "    </tr>\n",
       "    <tr>\n",
       "      <th>4</th>\n",
       "      <td>2007</td>\n",
       "      <td>758348</td>\n",
       "    </tr>\n",
       "    <tr>\n",
       "      <th>5</th>\n",
       "      <td>2008</td>\n",
       "      <td>767067</td>\n",
       "    </tr>\n",
       "    <tr>\n",
       "      <th>6</th>\n",
       "      <td>2009</td>\n",
       "      <td>774347</td>\n",
       "    </tr>\n",
       "    <tr>\n",
       "      <th>7</th>\n",
       "      <td>2010</td>\n",
       "      <td>805770</td>\n",
       "    </tr>\n",
       "    <tr>\n",
       "      <th>8</th>\n",
       "      <td>2011</td>\n",
       "      <td>816294</td>\n",
       "    </tr>\n",
       "    <tr>\n",
       "      <th>9</th>\n",
       "      <td>2012</td>\n",
       "      <td>830406</td>\n",
       "    </tr>\n",
       "  </tbody>\n",
       "</table>\n",
       "</div>"
      ],
      "text/plain": [
       "   year     pop\n",
       "0  2003  757638\n",
       "1  2004  750133\n",
       "2  2005  748846\n",
       "3  2006  751431\n",
       "4  2007  758348\n",
       "5  2008  767067\n",
       "6  2009  774347\n",
       "7  2010  805770\n",
       "8  2011  816294\n",
       "9  2012  830406"
      ]
     },
     "execution_count": 6,
     "metadata": {},
     "output_type": "execute_result"
    }
   ],
   "source": [
    "df_SF_census = pd.read_csv('../../data/censuspopulationsf.tsv', sep='\\t', header=None)\n",
    "df_SF_census.columns = ['year', 'pop']\n",
    "df_SF_census.head(n=10)"
   ]
  },
  {
   "cell_type": "code",
   "execution_count": 7,
   "metadata": {},
   "outputs": [
    {
     "data": {
      "text/html": [
       "<div>\n",
       "<style scoped>\n",
       "    .dataframe tbody tr th:only-of-type {\n",
       "        vertical-align: middle;\n",
       "    }\n",
       "\n",
       "    .dataframe tbody tr th {\n",
       "        vertical-align: top;\n",
       "    }\n",
       "\n",
       "    .dataframe thead th {\n",
       "        text-align: right;\n",
       "    }\n",
       "</style>\n",
       "<table border=\"1\" class=\"dataframe\">\n",
       "  <thead>\n",
       "    <tr style=\"text-align: right;\">\n",
       "      <th></th>\n",
       "      <th>am</th>\n",
       "      <th>date</th>\n",
       "      <th>count</th>\n",
       "      <th>per_capita</th>\n",
       "    </tr>\n",
       "  </thead>\n",
       "  <tbody>\n",
       "    <tr>\n",
       "      <th>135</th>\n",
       "      <td>0.648188</td>\n",
       "      <td>20171231</td>\n",
       "      <td>57</td>\n",
       "      <td>6.445317</td>\n",
       "    </tr>\n",
       "    <tr>\n",
       "      <th>136</th>\n",
       "      <td>0.626177</td>\n",
       "      <td>20171230</td>\n",
       "      <td>51</td>\n",
       "      <td>5.766863</td>\n",
       "    </tr>\n",
       "    <tr>\n",
       "      <th>137</th>\n",
       "      <td>0.563949</td>\n",
       "      <td>20171229</td>\n",
       "      <td>46</td>\n",
       "      <td>5.201484</td>\n",
       "    </tr>\n",
       "    <tr>\n",
       "      <th>138</th>\n",
       "      <td>0.675906</td>\n",
       "      <td>20171228</td>\n",
       "      <td>46</td>\n",
       "      <td>5.201484</td>\n",
       "    </tr>\n",
       "    <tr>\n",
       "      <th>139</th>\n",
       "      <td>0.610960</td>\n",
       "      <td>20171227</td>\n",
       "      <td>41</td>\n",
       "      <td>4.636105</td>\n",
       "    </tr>\n",
       "  </tbody>\n",
       "</table>\n",
       "</div>"
      ],
      "text/plain": [
       "           am      date  count  per_capita\n",
       "135  0.648188  20171231     57    6.445317\n",
       "136  0.626177  20171230     51    5.766863\n",
       "137  0.563949  20171229     46    5.201484\n",
       "138  0.675906  20171228     46    5.201484\n",
       "139  0.610960  20171227     41    4.636105"
      ]
     },
     "execution_count": 7,
     "metadata": {},
     "output_type": "execute_result"
    }
   ],
   "source": [
    "# make column for counts per capita\n",
    "util.per_capita(df_SF_crime, df_SF_census)\n",
    "# merge CO and Crime data\n",
    "df_merged = util.merge_data(df_CO, df_SF_crime)\n",
    "df_merged['per_capita'] *=100000\n",
    "df_merged.head()"
   ]
  },
  {
   "cell_type": "code",
   "execution_count": 8,
   "metadata": {},
   "outputs": [
    {
     "name": "stdout",
     "output_type": "stream",
     "text": [
      "Fitting 3 folds for each of 10 candidates, totalling 30 fits\n"
     ]
    },
    {
     "name": "stderr",
     "output_type": "stream",
     "text": [
      "/home/kristina/anaconda3/lib/python3.6/site-packages/ipykernel_launcher.py:2: FutureWarning: Method .as_matrix will be removed in a future version. Use .values instead.\n",
      "  \n"
     ]
    },
    {
     "name": "stdout",
     "output_type": "stream",
     "text": [
      "[CV] n_estimators=250, min_samples_split=8, max_depth=50, bootstrap=True \n",
      "[CV] n_estimators=275, min_samples_split=4, max_depth=80, bootstrap=True \n",
      "[CV] n_estimators=250, min_samples_split=8, max_depth=50, bootstrap=True \n",
      "[CV] n_estimators=250, min_samples_split=8, max_depth=50, bootstrap=True \n",
      "[CV]  n_estimators=250, min_samples_split=8, max_depth=50, bootstrap=True, total=   0.6s\n",
      "[CV] n_estimators=275, min_samples_split=4, max_depth=80, bootstrap=True \n",
      "[CV]  n_estimators=250, min_samples_split=8, max_depth=50, bootstrap=True, total=   0.6s\n",
      "[CV]  n_estimators=250, min_samples_split=8, max_depth=50, bootstrap=True, total=   0.6s\n",
      "[CV] n_estimators=275, min_samples_split=4, max_depth=80, bootstrap=True \n",
      "[CV] n_estimators=250, min_samples_split=2, max_depth=10, bootstrap=False \n",
      "[CV]  n_estimators=275, min_samples_split=4, max_depth=80, bootstrap=True, total=   0.6s\n",
      "[CV] n_estimators=250, min_samples_split=2, max_depth=10, bootstrap=False \n",
      "[CV]  n_estimators=275, min_samples_split=4, max_depth=80, bootstrap=True, total=   0.7s\n",
      "[CV] n_estimators=250, min_samples_split=2, max_depth=10, bootstrap=False \n",
      "[CV]  n_estimators=275, min_samples_split=4, max_depth=80, bootstrap=True, total=   0.8s\n",
      "[CV] n_estimators=175, min_samples_split=10, max_depth=70, bootstrap=True \n",
      "[CV]  n_estimators=250, min_samples_split=2, max_depth=10, bootstrap=False, total=   0.8s\n",
      "[CV] n_estimators=175, min_samples_split=10, max_depth=70, bootstrap=True \n",
      "[CV]  n_estimators=250, min_samples_split=2, max_depth=10, bootstrap=False, total=   0.8s\n",
      "[CV] n_estimators=175, min_samples_split=10, max_depth=70, bootstrap=True \n",
      "[CV]  n_estimators=175, min_samples_split=10, max_depth=70, bootstrap=True, total=   0.4s\n",
      "[CV] n_estimators=275, min_samples_split=10, max_depth=20, bootstrap=True \n",
      "[CV]  n_estimators=175, min_samples_split=10, max_depth=70, bootstrap=True, total=   0.5s\n",
      "[CV] n_estimators=275, min_samples_split=10, max_depth=20, bootstrap=True \n",
      "[CV]  n_estimators=175, min_samples_split=10, max_depth=70, bootstrap=True, total=   0.6s\n",
      "[CV] n_estimators=275, min_samples_split=10, max_depth=20, bootstrap=True \n",
      "[CV]  n_estimators=250, min_samples_split=2, max_depth=10, bootstrap=False, total=   1.0s\n",
      "[CV] n_estimators=200, min_samples_split=10, max_depth=10, bootstrap=False \n",
      "[CV]  n_estimators=275, min_samples_split=10, max_depth=20, bootstrap=True, total=   0.7s\n",
      "[CV] n_estimators=200, min_samples_split=10, max_depth=10, bootstrap=False \n",
      "[CV]  n_estimators=275, min_samples_split=10, max_depth=20, bootstrap=True, total=   0.7s\n",
      "[CV] n_estimators=200, min_samples_split=10, max_depth=10, bootstrap=False \n",
      "[CV]  n_estimators=275, min_samples_split=10, max_depth=20, bootstrap=True, total=   0.7s\n",
      "[CV] n_estimators=125, min_samples_split=4, max_depth=70, bootstrap=True \n",
      "[CV]  n_estimators=200, min_samples_split=10, max_depth=10, bootstrap=False, total=   0.6s\n",
      "[CV] n_estimators=125, min_samples_split=4, max_depth=70, bootstrap=True \n",
      "[CV]  n_estimators=125, min_samples_split=4, max_depth=70, bootstrap=True, total=   0.3s\n",
      "[CV] n_estimators=125, min_samples_split=4, max_depth=70, bootstrap=True \n",
      "[CV]  n_estimators=200, min_samples_split=10, max_depth=10, bootstrap=False, total=   0.5s\n",
      "[CV] n_estimators=300, min_samples_split=4, max_depth=30, bootstrap=True \n",
      "[CV]  n_estimators=200, min_samples_split=10, max_depth=10, bootstrap=False, total=   0.6s\n",
      "[CV] n_estimators=300, min_samples_split=4, max_depth=30, bootstrap=True \n",
      "[CV]  n_estimators=125, min_samples_split=4, max_depth=70, bootstrap=True, total=   0.4s\n",
      "[CV] n_estimators=300, min_samples_split=4, max_depth=30, bootstrap=True \n",
      "[CV]  n_estimators=125, min_samples_split=4, max_depth=70, bootstrap=True, total=   0.4s\n",
      "[CV] n_estimators=225, min_samples_split=4, max_depth=20, bootstrap=True \n",
      "[CV]  n_estimators=300, min_samples_split=4, max_depth=30, bootstrap=True, total=   0.7s\n",
      "[CV] n_estimators=225, min_samples_split=4, max_depth=20, bootstrap=True \n",
      "[CV]  n_estimators=300, min_samples_split=4, max_depth=30, bootstrap=True, total=   0.7s\n",
      "[CV] n_estimators=225, min_samples_split=4, max_depth=20, bootstrap=True \n",
      "[CV]  n_estimators=225, min_samples_split=4, max_depth=20, bootstrap=True, total=   0.6s\n",
      "[CV] n_estimators=150, min_samples_split=4, max_depth=10, bootstrap=False \n",
      "[CV]  n_estimators=300, min_samples_split=4, max_depth=30, bootstrap=True, total=   0.8s\n",
      "[CV] n_estimators=150, min_samples_split=4, max_depth=10, bootstrap=False \n",
      "[CV]  n_estimators=225, min_samples_split=4, max_depth=20, bootstrap=True, total=   0.6s\n",
      "[CV] n_estimators=150, min_samples_split=4, max_depth=10, bootstrap=False \n",
      "[CV]  n_estimators=150, min_samples_split=4, max_depth=10, bootstrap=False, total=   0.4s\n",
      "[CV]  n_estimators=150, min_samples_split=4, max_depth=10, bootstrap=False, total=   0.5s\n",
      "[CV]  n_estimators=225, min_samples_split=4, max_depth=20, bootstrap=True, total=   0.6s\n",
      "[CV]  n_estimators=150, min_samples_split=4, max_depth=10, bootstrap=False, total=   0.3s\n"
     ]
    },
    {
     "name": "stderr",
     "output_type": "stream",
     "text": [
      "[Parallel(n_jobs=-1)]: Done  30 out of  30 | elapsed:    5.0s finished\n"
     ]
    },
    {
     "data": {
      "text/plain": [
       "RandomForestRegressor(bootstrap=True, criterion='mse', max_depth=80,\n",
       "           max_features='auto', max_leaf_nodes=None,\n",
       "           min_impurity_decrease=0.0, min_impurity_split=None,\n",
       "           min_samples_leaf=1, min_samples_split=4,\n",
       "           min_weight_fraction_leaf=0.0, n_estimators=275, n_jobs=1,\n",
       "           oob_score=False, random_state=42, verbose=0, warm_start=False)"
      ]
     },
     "execution_count": 8,
     "metadata": {},
     "output_type": "execute_result"
    }
   ],
   "source": [
    "# find optimum regressor\n",
    "regr = rfr.find_regressor(df_merged[['date','am']].as_matrix(), df_merged['per_capita'].values)\n",
    "regr"
   ]
  },
  {
   "cell_type": "code",
   "execution_count": 9,
   "metadata": {},
   "outputs": [
    {
     "name": "stderr",
     "output_type": "stream",
     "text": [
      "./../utils/random_forest_regressor.py:18: FutureWarning: Method .as_matrix will be removed in a future version. Use .values instead.\n",
      "  regr.fit(X_train.as_matrix(), y_train)\n",
      "./../utils/random_forest_regressor.py:19: FutureWarning: Method .as_matrix will be removed in a future version. Use .values instead.\n",
      "  return regr.predict(X_test.as_matrix())\n"
     ]
    }
   ],
   "source": [
    "# split dataset \n",
    "X_train, X_test, y_train, y_test = train_test_split(df_merged[['date','am']], df_merged['per_capita'].values, test_size=0.33, random_state=42)\n",
    "# make predictions based on optimum regressor\n",
    "y_pred = rfr.fit_and_predict(regr, X_train, X_test, y_train, y_test)"
   ]
  },
  {
   "cell_type": "code",
   "execution_count": 10,
   "metadata": {},
   "outputs": [
    {
     "data": {
      "text/plain": [
       "1.1040396458443753"
      ]
     },
     "execution_count": 10,
     "metadata": {},
     "output_type": "execute_result"
    }
   ],
   "source": [
    "cv.MSE(y_test, y_pred)"
   ]
  },
  {
   "cell_type": "code",
   "execution_count": 11,
   "metadata": {},
   "outputs": [
    {
     "name": "stdout",
     "output_type": "stream",
     "text": [
      "10-fold cross validation using time series split (additive): 2.369404792187437 \n"
     ]
    }
   ],
   "source": [
    "# 10 fold tss cross validation\n",
    "tss_score = cv.Cross_Validation(df_merged[['date','am']], df_merged['per_capita'], regr, 10)\n",
    "print('10-fold cross validation using time series split (additive): {} '.format(tss_score))"
   ]
  },
  {
   "cell_type": "code",
   "execution_count": 12,
   "metadata": {},
   "outputs": [
    {
     "data": {
      "image/png": "[encoded data removed]",
      "text/plain": [
       "<Figure size 432x288 with 1 Axes>"
      ]
     },
     "metadata": {},
     "output_type": "display_data"
    }
   ],
   "source": [
    "plt.plot(X_test['am'], y_test, 'o', label = 'actual')\n",
    "plt.plot(X_test['am'], y_pred, 'ro', label = 'prediction')\n",
    "plt.xticks(rotation = '60'); \n",
    "plt.legend()\n",
    "plt.xlabel('CO average'); plt.ylabel('Non-criminal police events per capita'); plt.title('Actual and Predicted Values');"
   ]
  },
  {
   "cell_type": "code",
   "execution_count": 13,
   "metadata": {},
   "outputs": [
    {
     "data": {
      "text/html": [
       "<div>\n",
       "<style scoped>\n",
       "    .dataframe tbody tr th:only-of-type {\n",
       "        vertical-align: middle;\n",
       "    }\n",
       "\n",
       "    .dataframe tbody tr th {\n",
       "        vertical-align: top;\n",
       "    }\n",
       "\n",
       "    .dataframe thead th {\n",
       "        text-align: right;\n",
       "    }\n",
       "</style>\n",
       "<table border=\"1\" class=\"dataframe\">\n",
       "  <thead>\n",
       "    <tr style=\"text-align: right;\">\n",
       "      <th></th>\n",
       "      <th>am</th>\n",
       "      <th>count</th>\n",
       "      <th>per_capita</th>\n",
       "    </tr>\n",
       "  </thead>\n",
       "  <tbody>\n",
       "    <tr>\n",
       "      <th>am</th>\n",
       "      <td>1.000000</td>\n",
       "      <td>-0.126736</td>\n",
       "      <td>-0.073515</td>\n",
       "    </tr>\n",
       "    <tr>\n",
       "      <th>count</th>\n",
       "      <td>-0.126736</td>\n",
       "      <td>1.000000</td>\n",
       "      <td>0.975622</td>\n",
       "    </tr>\n",
       "    <tr>\n",
       "      <th>per_capita</th>\n",
       "      <td>-0.073515</td>\n",
       "      <td>0.975622</td>\n",
       "      <td>1.000000</td>\n",
       "    </tr>\n",
       "  </tbody>\n",
       "</table>\n",
       "</div>"
      ],
      "text/plain": [
       "                  am     count  per_capita\n",
       "am          1.000000 -0.126736   -0.073515\n",
       "count      -0.126736  1.000000    0.975622\n",
       "per_capita -0.073515  0.975622    1.000000"
      ]
     },
     "execution_count": 13,
     "metadata": {},
     "output_type": "execute_result"
    }
   ],
   "source": [
    "df_merged.corr()"
   ]
  },
  {
   "cell_type": "code",
   "execution_count": 14,
   "metadata": {},
   "outputs": [],
   "source": [
    "SF_NON = \"\"\"\n",
    "        SELECT\n",
    "          COUNT( DISTINCT unique_key) as count,\n",
    "          CONCAT(cast(EXTRACT(YEAR FROM SFCrimeData.timestamp) AS string), \n",
    "          cast(EXTRACT(MONTH FROM SFCrimeData.timestamp) AS string), \n",
    "          cast(EXTRACT(DAY FROM SFCrimeData.timestamp) AS string)) AS date,\n",
    "          descript as description\n",
    "        FROM\n",
    "          `bigquery-public-data.san_francisco_sfpd_incidents.sfpd_incidents` AS SFCrimeData\n",
    "        WHERE category = \"NON-CRIMINAL\"\n",
    "        GROUP BY descript, date\n",
    "        ORDER BY date DESC\n",
    "        \"\"\"\n",
    "df_SF_NON = bq_assistant_SF_crime.query_to_pandas(SF_NON)"
   ]
  },
  {
   "cell_type": "code",
   "execution_count": 15,
   "metadata": {},
   "outputs": [
    {
     "data": {
      "text/plain": [
       "{'ACCIDENTAL BURNS',\n",
       " 'ACCIDENTAL LACERATIONS',\n",
       " 'ACCIDENTAL SHOOTING',\n",
       " 'AIDED CASE',\n",
       " 'AIDED CASE -PROPERTY FOR DESTRUCTION',\n",
       " 'AIDED CASE, DOG BITE',\n",
       " 'AIDED CASE, INJURED PERSON',\n",
       " 'AIDED CASE, MENTAL DISTURBED',\n",
       " 'AIDED CASE, SICK PERSON',\n",
       " 'AUTO IMPOUNDED',\n",
       " 'CASE CLOSURE',\n",
       " 'CIVIL SIDEWALKS, BOOKING',\n",
       " 'CIVIL SIDEWALKS, CITATION',\n",
       " 'CIVIL SIDEWALKS, VIOLATION',\n",
       " 'CIVIL SIDEWALKS, WARNING',\n",
       " 'COURTESY REPORT',\n",
       " 'DEATH REPORT, CAUSE UNKNOWN',\n",
       " 'DEATH REPORT, IN CUSTODY',\n",
       " 'DEATH REPORT, NATURAL CAUSES',\n",
       " 'DEATH, ACCIDENTAL',\n",
       " 'DEATH, NON-MANSLAUGHTER AUTO ACCIDENT',\n",
       " 'DEMONSTRATION, VIDEO EVIDENCE, MISC. INVESTIGATION',\n",
       " 'FIRE REPORT',\n",
       " 'FOUND PROPERTY',\n",
       " 'IMPOUNDED VEHICLE',\n",
       " 'LICENSE PLATE, FOUND',\n",
       " 'LICENSE PLATE, RECOVERED',\n",
       " 'LOCATED PROPERTY',\n",
       " 'LOST PROPERTY',\n",
       " \"MEGAN'S LAW NOTIFICATION\",\n",
       " 'MISPLACED VEHICLE',\n",
       " 'PROPERTY FOR IDENTIFICATION',\n",
       " 'SEARCH WARRANT SERVICE',\n",
       " 'SHELTER',\n",
       " 'STAY AWAY OR COURT ORDER, NON-DV RELATED',\n",
       " 'TARASOFF REPORT',\n",
       " 'TRAFFIC ACCIDENT',\n",
       " 'TRUANT, HABITUAL',\n",
       " 'TURNED IN GUN',\n",
       " 'YOUTH COURT'}"
      ]
     },
     "execution_count": 15,
     "metadata": {},
     "output_type": "execute_result"
    }
   ],
   "source": [
    "set(df_SF_NON['description'])"
   ]
  },
  {
   "cell_type": "code",
   "execution_count": 16,
   "metadata": {},
   "outputs": [],
   "source": [
    "SF_FIRE = \"\"\"\n",
    "        SELECT\n",
    "          COUNT( DISTINCT unique_key) as count,\n",
    "          CONCAT(cast(EXTRACT(YEAR FROM SFCrimeData.timestamp) AS string), \n",
    "          cast(EXTRACT(MONTH FROM SFCrimeData.timestamp) AS string), \n",
    "          cast(EXTRACT(DAY FROM SFCrimeData.timestamp) AS string)) AS date\n",
    "        FROM\n",
    "          `bigquery-public-data.san_francisco_sfpd_incidents.sfpd_incidents` AS SFCrimeData\n",
    "        WHERE category = \"NON-CRIMINAL\" AND descript=\"FIRE REPORT\"\n",
    "        GROUP BY descript, date\n",
    "        ORDER BY date DESC\n",
    "        \"\"\"\n",
    "df_SF_FIRE = bq_assistant_SF_crime.query_to_pandas(SF_FIRE)"
   ]
  },
  {
   "cell_type": "code",
   "execution_count": 19,
   "metadata": {},
   "outputs": [
    {
     "data": {
      "text/html": [
       "<div>\n",
       "<style scoped>\n",
       "    .dataframe tbody tr th:only-of-type {\n",
       "        vertical-align: middle;\n",
       "    }\n",
       "\n",
       "    .dataframe tbody tr th {\n",
       "        vertical-align: top;\n",
       "    }\n",
       "\n",
       "    .dataframe thead th {\n",
       "        text-align: right;\n",
       "    }\n",
       "</style>\n",
       "<table border=\"1\" class=\"dataframe\">\n",
       "  <thead>\n",
       "    <tr style=\"text-align: right;\">\n",
       "      <th></th>\n",
       "      <th>am</th>\n",
       "      <th>date</th>\n",
       "      <th>count</th>\n",
       "      <th>per_capita</th>\n",
       "    </tr>\n",
       "  </thead>\n",
       "  <tbody>\n",
       "    <tr>\n",
       "      <th>45</th>\n",
       "      <td>0.287409</td>\n",
       "      <td>2017930</td>\n",
       "      <td>1</td>\n",
       "      <td>0.113076</td>\n",
       "    </tr>\n",
       "    <tr>\n",
       "      <th>46</th>\n",
       "      <td>0.489402</td>\n",
       "      <td>2017927</td>\n",
       "      <td>2</td>\n",
       "      <td>0.226151</td>\n",
       "    </tr>\n",
       "    <tr>\n",
       "      <th>47</th>\n",
       "      <td>0.482790</td>\n",
       "      <td>2017926</td>\n",
       "      <td>1</td>\n",
       "      <td>0.113076</td>\n",
       "    </tr>\n",
       "    <tr>\n",
       "      <th>48</th>\n",
       "      <td>0.296014</td>\n",
       "      <td>2017922</td>\n",
       "      <td>2</td>\n",
       "      <td>0.226151</td>\n",
       "    </tr>\n",
       "    <tr>\n",
       "      <th>49</th>\n",
       "      <td>0.286956</td>\n",
       "      <td>2017920</td>\n",
       "      <td>1</td>\n",
       "      <td>0.113076</td>\n",
       "    </tr>\n",
       "  </tbody>\n",
       "</table>\n",
       "</div>"
      ],
      "text/plain": [
       "          am     date  count  per_capita\n",
       "45  0.287409  2017930      1    0.113076\n",
       "46  0.489402  2017927      2    0.226151\n",
       "47  0.482790  2017926      1    0.113076\n",
       "48  0.296014  2017922      2    0.226151\n",
       "49  0.286956  2017920      1    0.113076"
      ]
     },
     "execution_count": 19,
     "metadata": {},
     "output_type": "execute_result"
    }
   ],
   "source": [
    "# make column for counts per capita\n",
    "util.per_capita(df_SF_FIRE, df_SF_census)\n",
    "# merge CO and Crime data\n",
    "df_merged = util.merge_data(df_CO, df_SF_FIRE)\n",
    "df_merged['per_capita'] *=100000\n",
    "df_merged.head()"
   ]
  },
  {
   "cell_type": "code",
   "execution_count": 20,
   "metadata": {},
   "outputs": [
    {
     "name": "stdout",
     "output_type": "stream",
     "text": [
      "Fitting 3 folds for each of 10 candidates, totalling 30 fits\n"
     ]
    },
    {
     "name": "stderr",
     "output_type": "stream",
     "text": [
      "/home/kristina/anaconda3/lib/python3.6/site-packages/ipykernel_launcher.py:2: FutureWarning: Method .as_matrix will be removed in a future version. Use .values instead.\n",
      "  \n"
     ]
    },
    {
     "name": "stdout",
     "output_type": "stream",
     "text": [
      "[CV] n_estimators=250, min_samples_split=8, max_depth=50, bootstrap=True \n",
      "[CV] n_estimators=250, min_samples_split=8, max_depth=50, bootstrap=True \n",
      "[CV] n_estimators=250, min_samples_split=8, max_depth=50, bootstrap=True \n",
      "[CV] n_estimators=275, min_samples_split=4, max_depth=80, bootstrap=True \n",
      "[CV]  n_estimators=250, min_samples_split=8, max_depth=50, bootstrap=True, total=   0.9s\n",
      "[CV] n_estimators=275, min_samples_split=4, max_depth=80, bootstrap=True \n",
      "[CV]  n_estimators=250, min_samples_split=8, max_depth=50, bootstrap=True, total=   0.9s\n",
      "[CV] n_estimators=275, min_samples_split=4, max_depth=80, bootstrap=True \n",
      "[CV]  n_estimators=250, min_samples_split=8, max_depth=50, bootstrap=True, total=   1.0s\n",
      "[CV] n_estimators=250, min_samples_split=2, max_depth=10, bootstrap=False \n",
      "[CV]  n_estimators=275, min_samples_split=4, max_depth=80, bootstrap=True, total=   1.1s\n",
      "[CV] n_estimators=250, min_samples_split=2, max_depth=10, bootstrap=False \n",
      "[CV]  n_estimators=275, min_samples_split=4, max_depth=80, bootstrap=True, total=   0.9s\n",
      "[CV] n_estimators=250, min_samples_split=2, max_depth=10, bootstrap=False \n",
      "[CV]  n_estimators=275, min_samples_split=4, max_depth=80, bootstrap=True, total=   1.0s\n",
      "[CV] n_estimators=175, min_samples_split=10, max_depth=70, bootstrap=True \n",
      "[CV]  n_estimators=250, min_samples_split=2, max_depth=10, bootstrap=False, total=   1.0s\n",
      "[CV] n_estimators=175, min_samples_split=10, max_depth=70, bootstrap=True \n",
      "[CV]  n_estimators=250, min_samples_split=2, max_depth=10, bootstrap=False, total=   1.1s\n",
      "[CV] n_estimators=175, min_samples_split=10, max_depth=70, bootstrap=True \n",
      "[CV]  n_estimators=175, min_samples_split=10, max_depth=70, bootstrap=True, total=   0.6s\n",
      "[CV] n_estimators=275, min_samples_split=10, max_depth=20, bootstrap=True \n",
      "[CV]  n_estimators=175, min_samples_split=10, max_depth=70, bootstrap=True, total=   0.6s\n",
      "[CV] n_estimators=275, min_samples_split=10, max_depth=20, bootstrap=True \n",
      "[CV]  n_estimators=250, min_samples_split=2, max_depth=10, bootstrap=False, total=   0.9s\n",
      "[CV] n_estimators=275, min_samples_split=10, max_depth=20, bootstrap=True \n",
      "[CV]  n_estimators=175, min_samples_split=10, max_depth=70, bootstrap=True, total=   0.6s\n",
      "[CV] n_estimators=200, min_samples_split=10, max_depth=10, bootstrap=False \n",
      "[CV]  n_estimators=200, min_samples_split=10, max_depth=10, bootstrap=False, total=   0.8s\n",
      "[CV] n_estimators=200, min_samples_split=10, max_depth=10, bootstrap=False \n",
      "[CV]  n_estimators=275, min_samples_split=10, max_depth=20, bootstrap=True, total=   1.0s\n",
      "[CV]  n_estimators=275, min_samples_split=10, max_depth=20, bootstrap=True, total=   0.9s\n",
      "[CV] n_estimators=200, min_samples_split=10, max_depth=10, bootstrap=False \n",
      "[CV] n_estimators=125, min_samples_split=4, max_depth=70, bootstrap=True \n",
      "[CV]  n_estimators=275, min_samples_split=10, max_depth=20, bootstrap=True, total=   1.1s\n",
      "[CV] n_estimators=125, min_samples_split=4, max_depth=70, bootstrap=True \n",
      "[CV]  n_estimators=125, min_samples_split=4, max_depth=70, bootstrap=True, total=   0.5s\n",
      "[CV] n_estimators=125, min_samples_split=4, max_depth=70, bootstrap=True \n",
      "[CV]  n_estimators=125, min_samples_split=4, max_depth=70, bootstrap=True, total=   0.5s\n",
      "[CV] n_estimators=300, min_samples_split=4, max_depth=30, bootstrap=True \n",
      "[CV]  n_estimators=200, min_samples_split=10, max_depth=10, bootstrap=False, total=   0.8s\n",
      "[CV] n_estimators=300, min_samples_split=4, max_depth=30, bootstrap=True \n",
      "[CV]  n_estimators=200, min_samples_split=10, max_depth=10, bootstrap=False, total=   0.8s\n",
      "[CV] n_estimators=300, min_samples_split=4, max_depth=30, bootstrap=True \n",
      "[CV]  n_estimators=125, min_samples_split=4, max_depth=70, bootstrap=True, total=   0.4s\n",
      "[CV] n_estimators=225, min_samples_split=4, max_depth=20, bootstrap=True \n",
      "[CV]  n_estimators=225, min_samples_split=4, max_depth=20, bootstrap=True, total=   0.8s\n",
      "[CV] n_estimators=225, min_samples_split=4, max_depth=20, bootstrap=True \n",
      "[CV]  n_estimators=300, min_samples_split=4, max_depth=30, bootstrap=True, total=   1.0s\n",
      "[CV] n_estimators=225, min_samples_split=4, max_depth=20, bootstrap=True \n",
      "[CV]  n_estimators=300, min_samples_split=4, max_depth=30, bootstrap=True, total=   1.3s\n",
      "[CV] n_estimators=150, min_samples_split=4, max_depth=10, bootstrap=False \n",
      "[CV]  n_estimators=300, min_samples_split=4, max_depth=30, bootstrap=True, total=   1.1s\n",
      "[CV] n_estimators=150, min_samples_split=4, max_depth=10, bootstrap=False \n",
      "[CV]  n_estimators=150, min_samples_split=4, max_depth=10, bootstrap=False, total=   0.5s\n",
      "[CV] n_estimators=150, min_samples_split=4, max_depth=10, bootstrap=False \n",
      "[CV]  n_estimators=150, min_samples_split=4, max_depth=10, bootstrap=False, total=   0.6s\n",
      "[CV]  n_estimators=225, min_samples_split=4, max_depth=20, bootstrap=True, total=   0.8s\n",
      "[CV]  n_estimators=225, min_samples_split=4, max_depth=20, bootstrap=True, total=   0.9s\n",
      "[CV]  n_estimators=150, min_samples_split=4, max_depth=10, bootstrap=False, total=   0.5s\n"
     ]
    },
    {
     "name": "stderr",
     "output_type": "stream",
     "text": [
      "[Parallel(n_jobs=-1)]: Done  30 out of  30 | elapsed:    6.9s finished\n"
     ]
    },
    {
     "data": {
      "text/plain": [
       "RandomForestRegressor(bootstrap=False, criterion='mse', max_depth=10,\n",
       "           max_features='auto', max_leaf_nodes=None,\n",
       "           min_impurity_decrease=0.0, min_impurity_split=None,\n",
       "           min_samples_leaf=1, min_samples_split=4,\n",
       "           min_weight_fraction_leaf=0.0, n_estimators=150, n_jobs=1,\n",
       "           oob_score=False, random_state=42, verbose=0, warm_start=False)"
      ]
     },
     "execution_count": 20,
     "metadata": {},
     "output_type": "execute_result"
    }
   ],
   "source": [
    "# find optimum regressor\n",
    "regr = rfr.find_regressor(df_merged[['date','am']].as_matrix(), df_merged['per_capita'].values)\n",
    "regr"
   ]
  },
  {
   "cell_type": "code",
   "execution_count": 21,
   "metadata": {},
   "outputs": [
    {
     "name": "stderr",
     "output_type": "stream",
     "text": [
      "./../utils/random_forest_regressor.py:18: FutureWarning: Method .as_matrix will be removed in a future version. Use .values instead.\n",
      "  regr.fit(X_train.as_matrix(), y_train)\n",
      "./../utils/random_forest_regressor.py:19: FutureWarning: Method .as_matrix will be removed in a future version. Use .values instead.\n",
      "  return regr.predict(X_test.as_matrix())\n"
     ]
    }
   ],
   "source": [
    "# split dataset \n",
    "X_train, X_test, y_train, y_test = train_test_split(df_merged[['date','am']], df_merged['per_capita'].values, test_size=0.33, random_state=42)\n",
    "# make predictions based on optimum regressor\n",
    "y_pred = rfr.fit_and_predict(regr, X_train, X_test, y_train, y_test)"
   ]
  },
  {
   "cell_type": "code",
   "execution_count": 22,
   "metadata": {},
   "outputs": [
    {
     "data": {
      "text/plain": [
       "0.005009643122783157"
      ]
     },
     "execution_count": 22,
     "metadata": {},
     "output_type": "execute_result"
    }
   ],
   "source": [
    "cv.MSE(y_test, y_pred)"
   ]
  },
  {
   "cell_type": "code",
   "execution_count": 23,
   "metadata": {},
   "outputs": [
    {
     "name": "stdout",
     "output_type": "stream",
     "text": [
      "10-fold cross validation using time series split (additive): 0.0064763910462202435 \n"
     ]
    }
   ],
   "source": [
    "# 10 fold tss cross validation\n",
    "tss_score = cv.Cross_Validation(df_merged[['date','am']], df_merged['per_capita'], regr, 10)\n",
    "print('10-fold cross validation using time series split (additive): {} '.format(tss_score))"
   ]
  },
  {
   "cell_type": "code",
   "execution_count": null,
   "metadata": {},
   "outputs": [],
   "source": []
  },
  {
   "cell_type": "code",
   "execution_count": null,
   "metadata": {},
   "outputs": [],
   "source": []
  }
 ],
 "metadata": {
  "kernelspec": {
   "display_name": "Python 3",
   "language": "python",
   "name": "python3"
  },
  "language_info": {
   "codemirror_mode": {
    "name": "ipython",
    "version": 3
   },
   "file_extension": ".py",
   "mimetype": "text/x-python",
   "name": "python",
   "nbconvert_exporter": "python",
   "pygments_lexer": "ipython3",
   "version": "3.6.5"
  }
 },
 "nbformat": 4,
 "nbformat_minor": 2
}
