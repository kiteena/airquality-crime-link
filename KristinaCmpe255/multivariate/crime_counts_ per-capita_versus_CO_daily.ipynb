{
 "cells": [
  {
   "cell_type": "code",
   "execution_count": 1,
   "metadata": {},
   "outputs": [
    {
     "name": "stderr",
     "output_type": "stream",
     "text": [
      "/home/kristina/anaconda3/lib/python3.6/site-packages/sklearn/cross_validation.py:41: DeprecationWarning: This module was deprecated in version 0.18 in favor of the model_selection module into which all the refactored classes and functions are moved. Also note that the interface of the new CV iterators are different from that of this module. This module will be removed in 0.20.\n",
      "  \"This module will be removed in 0.20.\", DeprecationWarning)\n"
     ]
    }
   ],
   "source": [
    "# removes annoying deprecation warnings \n",
    "import warnings\n",
    "warnings.filterwarnings(\"ignore\", category=DeprecationWarning) \n",
    "\n",
    "import pandas as pd\n",
    "from google.cloud import bigquery\n",
    "from bq_helper import BigQueryHelper #third party library to translate google query data to dataframe\n",
    "import matplotlib.pyplot as plt\n",
    "import os, sys\n",
    "\n",
    "sys.path.insert(0, './../utils/')\n",
    "\n",
    "# custom files \n",
    "import random_forest_regressor as rfr\n",
    "import utilities as util\n",
    "import validation as cv\n",
    "from sklearn.model_selection import RepeatedKFold\n",
    "\n",
    "from sklearn.model_selection import train_test_split\n",
    "from sklearn import cross_validation\n",
    "\n",
    "%matplotlib inline\n",
    "\n",
    "with open('../../key.txt') as f:\n",
    "    content = f.readlines()\n",
    "\n",
    "#add your own key here \n",
    "os.environ['GOOGLE_APPLICATION_CREDENTIALS']= content[0]"
   ]
  },
  {
   "cell_type": "code",
   "execution_count": 2,
   "metadata": {},
   "outputs": [],
   "source": [
    "EPA_QUERY = \"\"\"\n",
    "        SELECT\n",
    "            avg(arithmetic_mean) as am,\n",
    "            CONCAT(cast(EXTRACT(YEAR FROM CO_daily.date_local) as string),\n",
    "            cast(EXTRACT(MONTH FROM CO_daily.date_local) as string), \n",
    "            cast(EXTRACT(DAY FROM CO_daily.date_local) as string)) as date\n",
    "        FROM\n",
    "          `bigquery-public-data.epa_historical_air_quality.co_daily_summary` as CO_daily\n",
    "        WHERE state_name =\"California\" AND city_name=\"San Francisco\"\n",
    "        GROUP BY date\n",
    "        ORDER BY date DESC\n",
    "        \"\"\"\n",
    "\n",
    "bq_assistant_CO = BigQueryHelper(\"bigquery-public-data\", \"epa_historical_air_quality\")\n",
    "df_CO = bq_assistant_CO.query_to_pandas(EPA_QUERY)"
   ]
  },
  {
   "cell_type": "code",
   "execution_count": 3,
   "metadata": {},
   "outputs": [
    {
     "data": {
      "text/html": [
       "<div>\n",
       "<style scoped>\n",
       "    .dataframe tbody tr th:only-of-type {\n",
       "        vertical-align: middle;\n",
       "    }\n",
       "\n",
       "    .dataframe tbody tr th {\n",
       "        vertical-align: top;\n",
       "    }\n",
       "\n",
       "    .dataframe thead th {\n",
       "        text-align: right;\n",
       "    }\n",
       "</style>\n",
       "<table border=\"1\" class=\"dataframe\">\n",
       "  <thead>\n",
       "    <tr style=\"text-align: right;\">\n",
       "      <th></th>\n",
       "      <th>am</th>\n",
       "      <th>date</th>\n",
       "    </tr>\n",
       "  </thead>\n",
       "  <tbody>\n",
       "    <tr>\n",
       "      <th>0</th>\n",
       "      <td>0.593479</td>\n",
       "      <td>201799</td>\n",
       "    </tr>\n",
       "    <tr>\n",
       "      <th>1</th>\n",
       "      <td>0.595652</td>\n",
       "      <td>201798</td>\n",
       "    </tr>\n",
       "    <tr>\n",
       "      <th>2</th>\n",
       "      <td>0.600000</td>\n",
       "      <td>201797</td>\n",
       "    </tr>\n",
       "    <tr>\n",
       "      <th>3</th>\n",
       "      <td>0.591304</td>\n",
       "      <td>201796</td>\n",
       "    </tr>\n",
       "    <tr>\n",
       "      <th>4</th>\n",
       "      <td>0.557608</td>\n",
       "      <td>201795</td>\n",
       "    </tr>\n",
       "  </tbody>\n",
       "</table>\n",
       "</div>"
      ],
      "text/plain": [
       "         am    date\n",
       "0  0.593479  201799\n",
       "1  0.595652  201798\n",
       "2  0.600000  201797\n",
       "3  0.591304  201796\n",
       "4  0.557608  201795"
      ]
     },
     "execution_count": 3,
     "metadata": {},
     "output_type": "execute_result"
    }
   ],
   "source": [
    "df_CO.head()"
   ]
  },
  {
   "cell_type": "code",
   "execution_count": 4,
   "metadata": {},
   "outputs": [],
   "source": [
    "SF_CRIME_QUERY = \"\"\"\n",
    "        SELECT\n",
    "          COUNT( DISTINCT unique_key) as count,\n",
    "          CONCAT(cast(EXTRACT(YEAR FROM SFCrimeData.timestamp) AS string), \n",
    "          cast(EXTRACT(MONTH FROM SFCrimeData.timestamp) AS string), \n",
    "          cast(EXTRACT(DAY FROM SFCrimeData.timestamp) AS string)) AS date\n",
    "        FROM\n",
    "          `bigquery-public-data.san_francisco_sfpd_incidents.sfpd_incidents` AS SFCrimeData\n",
    "        WHERE category != \"NON-CRIMINAL\" AND category != \"RECOVERED VEHICLE\"\n",
    "        GROUP BY date\n",
    "        ORDER BY date DESC\n",
    "        \"\"\"\n",
    "bq_assistant_SF_crime = BigQueryHelper(\"bigquery-public-data\", \"san_francisco_sfpd_incidents.sfpd_incidents\")\n",
    "df_SF_crime = bq_assistant_SF_crime.query_to_pandas(SF_CRIME_QUERY)"
   ]
  },
  {
   "cell_type": "code",
   "execution_count": 5,
   "metadata": {},
   "outputs": [
    {
     "data": {
      "text/html": [
       "<div>\n",
       "<style scoped>\n",
       "    .dataframe tbody tr th:only-of-type {\n",
       "        vertical-align: middle;\n",
       "    }\n",
       "\n",
       "    .dataframe tbody tr th {\n",
       "        vertical-align: top;\n",
       "    }\n",
       "\n",
       "    .dataframe thead th {\n",
       "        text-align: right;\n",
       "    }\n",
       "</style>\n",
       "<table border=\"1\" class=\"dataframe\">\n",
       "  <thead>\n",
       "    <tr style=\"text-align: right;\">\n",
       "      <th></th>\n",
       "      <th>count</th>\n",
       "      <th>date</th>\n",
       "    </tr>\n",
       "  </thead>\n",
       "  <tbody>\n",
       "    <tr>\n",
       "      <th>0</th>\n",
       "      <td>190</td>\n",
       "      <td>201859</td>\n",
       "    </tr>\n",
       "    <tr>\n",
       "      <th>1</th>\n",
       "      <td>192</td>\n",
       "      <td>201858</td>\n",
       "    </tr>\n",
       "    <tr>\n",
       "      <th>2</th>\n",
       "      <td>167</td>\n",
       "      <td>201857</td>\n",
       "    </tr>\n",
       "    <tr>\n",
       "      <th>3</th>\n",
       "      <td>191</td>\n",
       "      <td>201856</td>\n",
       "    </tr>\n",
       "    <tr>\n",
       "      <th>4</th>\n",
       "      <td>223</td>\n",
       "      <td>201855</td>\n",
       "    </tr>\n",
       "  </tbody>\n",
       "</table>\n",
       "</div>"
      ],
      "text/plain": [
       "   count    date\n",
       "0    190  201859\n",
       "1    192  201858\n",
       "2    167  201857\n",
       "3    191  201856\n",
       "4    223  201855"
      ]
     },
     "execution_count": 5,
     "metadata": {},
     "output_type": "execute_result"
    }
   ],
   "source": [
    "df_SF_crime.head()"
   ]
  },
  {
   "cell_type": "code",
   "execution_count": 6,
   "metadata": {},
   "outputs": [
    {
     "data": {
      "text/html": [
       "<div>\n",
       "<style scoped>\n",
       "    .dataframe tbody tr th:only-of-type {\n",
       "        vertical-align: middle;\n",
       "    }\n",
       "\n",
       "    .dataframe tbody tr th {\n",
       "        vertical-align: top;\n",
       "    }\n",
       "\n",
       "    .dataframe thead th {\n",
       "        text-align: right;\n",
       "    }\n",
       "</style>\n",
       "<table border=\"1\" class=\"dataframe\">\n",
       "  <thead>\n",
       "    <tr style=\"text-align: right;\">\n",
       "      <th></th>\n",
       "      <th>year</th>\n",
       "      <th>pop</th>\n",
       "    </tr>\n",
       "  </thead>\n",
       "  <tbody>\n",
       "    <tr>\n",
       "      <th>0</th>\n",
       "      <td>2003</td>\n",
       "      <td>757638</td>\n",
       "    </tr>\n",
       "    <tr>\n",
       "      <th>1</th>\n",
       "      <td>2004</td>\n",
       "      <td>750133</td>\n",
       "    </tr>\n",
       "    <tr>\n",
       "      <th>2</th>\n",
       "      <td>2005</td>\n",
       "      <td>748846</td>\n",
       "    </tr>\n",
       "    <tr>\n",
       "      <th>3</th>\n",
       "      <td>2006</td>\n",
       "      <td>751431</td>\n",
       "    </tr>\n",
       "    <tr>\n",
       "      <th>4</th>\n",
       "      <td>2007</td>\n",
       "      <td>758348</td>\n",
       "    </tr>\n",
       "    <tr>\n",
       "      <th>5</th>\n",
       "      <td>2008</td>\n",
       "      <td>767067</td>\n",
       "    </tr>\n",
       "    <tr>\n",
       "      <th>6</th>\n",
       "      <td>2009</td>\n",
       "      <td>774347</td>\n",
       "    </tr>\n",
       "    <tr>\n",
       "      <th>7</th>\n",
       "      <td>2010</td>\n",
       "      <td>805770</td>\n",
       "    </tr>\n",
       "    <tr>\n",
       "      <th>8</th>\n",
       "      <td>2011</td>\n",
       "      <td>816294</td>\n",
       "    </tr>\n",
       "    <tr>\n",
       "      <th>9</th>\n",
       "      <td>2012</td>\n",
       "      <td>830406</td>\n",
       "    </tr>\n",
       "    <tr>\n",
       "      <th>10</th>\n",
       "      <td>2013</td>\n",
       "      <td>841270</td>\n",
       "    </tr>\n",
       "    <tr>\n",
       "      <th>11</th>\n",
       "      <td>2014</td>\n",
       "      <td>853258</td>\n",
       "    </tr>\n",
       "    <tr>\n",
       "      <th>12</th>\n",
       "      <td>2015</td>\n",
       "      <td>866320</td>\n",
       "    </tr>\n",
       "    <tr>\n",
       "      <th>13</th>\n",
       "      <td>2016</td>\n",
       "      <td>876103</td>\n",
       "    </tr>\n",
       "    <tr>\n",
       "      <th>14</th>\n",
       "      <td>2017</td>\n",
       "      <td>884363</td>\n",
       "    </tr>\n",
       "    <tr>\n",
       "      <th>15</th>\n",
       "      <td>2018</td>\n",
       "      <td>884363</td>\n",
       "    </tr>\n",
       "  </tbody>\n",
       "</table>\n",
       "</div>"
      ],
      "text/plain": [
       "    year     pop\n",
       "0   2003  757638\n",
       "1   2004  750133\n",
       "2   2005  748846\n",
       "3   2006  751431\n",
       "4   2007  758348\n",
       "5   2008  767067\n",
       "6   2009  774347\n",
       "7   2010  805770\n",
       "8   2011  816294\n",
       "9   2012  830406\n",
       "10  2013  841270\n",
       "11  2014  853258\n",
       "12  2015  866320\n",
       "13  2016  876103\n",
       "14  2017  884363\n",
       "15  2018  884363"
      ]
     },
     "execution_count": 6,
     "metadata": {},
     "output_type": "execute_result"
    }
   ],
   "source": [
    "df_SF_census = pd.read_csv('../../data/censuspopulationsf.tsv', sep='\\t', header=None)\n",
    "df_SF_census.columns = ['year', 'pop']\n",
    "df_SF_census.head(n=20)"
   ]
  },
  {
   "cell_type": "code",
   "execution_count": 7,
   "metadata": {},
   "outputs": [
    {
     "data": {
      "text/html": [
       "<div>\n",
       "<style scoped>\n",
       "    .dataframe tbody tr th:only-of-type {\n",
       "        vertical-align: middle;\n",
       "    }\n",
       "\n",
       "    .dataframe tbody tr th {\n",
       "        vertical-align: top;\n",
       "    }\n",
       "\n",
       "    .dataframe thead th {\n",
       "        text-align: right;\n",
       "    }\n",
       "</style>\n",
       "<table border=\"1\" class=\"dataframe\">\n",
       "  <thead>\n",
       "    <tr style=\"text-align: right;\">\n",
       "      <th></th>\n",
       "      <th>am</th>\n",
       "      <th>date</th>\n",
       "      <th>count</th>\n",
       "      <th>per_capita</th>\n",
       "    </tr>\n",
       "  </thead>\n",
       "  <tbody>\n",
       "    <tr>\n",
       "      <th>135</th>\n",
       "      <td>0.593479</td>\n",
       "      <td>201799</td>\n",
       "      <td>290</td>\n",
       "      <td>0.000328</td>\n",
       "    </tr>\n",
       "    <tr>\n",
       "      <th>136</th>\n",
       "      <td>0.595652</td>\n",
       "      <td>201798</td>\n",
       "      <td>319</td>\n",
       "      <td>0.000361</td>\n",
       "    </tr>\n",
       "    <tr>\n",
       "      <th>137</th>\n",
       "      <td>0.600000</td>\n",
       "      <td>201797</td>\n",
       "      <td>264</td>\n",
       "      <td>0.000299</td>\n",
       "    </tr>\n",
       "    <tr>\n",
       "      <th>138</th>\n",
       "      <td>0.591304</td>\n",
       "      <td>201796</td>\n",
       "      <td>269</td>\n",
       "      <td>0.000304</td>\n",
       "    </tr>\n",
       "    <tr>\n",
       "      <th>139</th>\n",
       "      <td>0.557608</td>\n",
       "      <td>201795</td>\n",
       "      <td>258</td>\n",
       "      <td>0.000292</td>\n",
       "    </tr>\n",
       "  </tbody>\n",
       "</table>\n",
       "</div>"
      ],
      "text/plain": [
       "           am    date  count  per_capita\n",
       "135  0.593479  201799    290    0.000328\n",
       "136  0.595652  201798    319    0.000361\n",
       "137  0.600000  201797    264    0.000299\n",
       "138  0.591304  201796    269    0.000304\n",
       "139  0.557608  201795    258    0.000292"
      ]
     },
     "execution_count": 7,
     "metadata": {},
     "output_type": "execute_result"
    }
   ],
   "source": [
    "# make column for counts per capita\n",
    "util.per_capita(df_SF_crime, df_SF_census)\n",
    "# merge CO and Crime data\n",
    "df_merged = util.merge_data(df_CO, df_SF_crime)\n",
    "df_merged.head()"
   ]
  },
  {
   "cell_type": "code",
   "execution_count": 8,
   "metadata": {},
   "outputs": [
    {
     "name": "stdout",
     "output_type": "stream",
     "text": [
      "Fitting 3 folds for each of 10 candidates, totalling 30 fits\n"
     ]
    },
    {
     "name": "stderr",
     "output_type": "stream",
     "text": [
      "/home/kristina/anaconda3/lib/python3.6/site-packages/ipykernel_launcher.py:2: FutureWarning: Method .as_matrix will be removed in a future version. Use .values instead.\n",
      "  \n"
     ]
    },
    {
     "name": "stdout",
     "output_type": "stream",
     "text": [
      "[CV] n_estimators=250, min_samples_split=8, max_depth=50, bootstrap=True \n",
      "[CV] n_estimators=250, min_samples_split=8, max_depth=50, bootstrap=True \n",
      "[CV] n_estimators=250, min_samples_split=8, max_depth=50, bootstrap=True \n",
      "[CV] n_estimators=275, min_samples_split=4, max_depth=80, bootstrap=True \n",
      "[CV]  n_estimators=250, min_samples_split=8, max_depth=50, bootstrap=True, total=   0.4s\n",
      "[CV] n_estimators=275, min_samples_split=4, max_depth=80, bootstrap=True \n",
      "[CV]  n_estimators=250, min_samples_split=8, max_depth=50, bootstrap=True, total=   0.4s\n",
      "[CV] n_estimators=275, min_samples_split=4, max_depth=80, bootstrap=True \n",
      "[CV]  n_estimators=250, min_samples_split=8, max_depth=50, bootstrap=True, total=   0.4s\n",
      "[CV] n_estimators=250, min_samples_split=2, max_depth=10, bootstrap=False \n",
      "[CV]  n_estimators=275, min_samples_split=4, max_depth=80, bootstrap=True, total=   0.5s\n",
      "[CV] n_estimators=250, min_samples_split=2, max_depth=10, bootstrap=False \n",
      "[CV]  n_estimators=275, min_samples_split=4, max_depth=80, bootstrap=True, total=   0.4s\n",
      "[CV] n_estimators=250, min_samples_split=2, max_depth=10, bootstrap=False \n",
      "[CV]  n_estimators=250, min_samples_split=2, max_depth=10, bootstrap=False, total=   0.4s\n",
      "[CV] n_estimators=175, min_samples_split=10, max_depth=70, bootstrap=True \n",
      "[CV]  n_estimators=250, min_samples_split=2, max_depth=10, bootstrap=False, total=   0.4s\n",
      "[CV] n_estimators=175, min_samples_split=10, max_depth=70, bootstrap=True \n",
      "[CV]  n_estimators=275, min_samples_split=4, max_depth=80, bootstrap=True, total=   0.5s\n",
      "[CV] n_estimators=175, min_samples_split=10, max_depth=70, bootstrap=True \n",
      "[CV]  n_estimators=175, min_samples_split=10, max_depth=70, bootstrap=True, total=   0.3s\n",
      "[CV] n_estimators=275, min_samples_split=10, max_depth=20, bootstrap=True \n",
      "[CV]  n_estimators=250, min_samples_split=2, max_depth=10, bootstrap=False, total=   0.3s\n",
      "[CV] n_estimators=275, min_samples_split=10, max_depth=20, bootstrap=True \n",
      "[CV]  n_estimators=175, min_samples_split=10, max_depth=70, bootstrap=True, total=   0.3s\n",
      "[CV]  n_estimators=175, min_samples_split=10, max_depth=70, bootstrap=True, total=   0.3s\n",
      "[CV] n_estimators=275, min_samples_split=10, max_depth=20, bootstrap=True \n",
      "[CV] n_estimators=200, min_samples_split=10, max_depth=10, bootstrap=False \n",
      "[CV]  n_estimators=200, min_samples_split=10, max_depth=10, bootstrap=False, total=   0.3s\n",
      "[CV] n_estimators=200, min_samples_split=10, max_depth=10, bootstrap=False \n",
      "[CV]  n_estimators=275, min_samples_split=10, max_depth=20, bootstrap=True, total=   0.4s\n",
      "[CV] n_estimators=200, min_samples_split=10, max_depth=10, bootstrap=False \n",
      "[CV]  n_estimators=275, min_samples_split=10, max_depth=20, bootstrap=True, total=   0.4s\n",
      "[CV] n_estimators=125, min_samples_split=4, max_depth=70, bootstrap=True \n",
      "[CV]  n_estimators=275, min_samples_split=10, max_depth=20, bootstrap=True, total=   0.4s\n",
      "[CV] n_estimators=125, min_samples_split=4, max_depth=70, bootstrap=True \n",
      "[CV]  n_estimators=125, min_samples_split=4, max_depth=70, bootstrap=True, total=   0.2s\n",
      "[CV] n_estimators=125, min_samples_split=4, max_depth=70, bootstrap=True \n",
      "[CV]  n_estimators=200, min_samples_split=10, max_depth=10, bootstrap=False, total=   0.3s\n",
      "[CV]  n_estimators=200, min_samples_split=10, max_depth=10, bootstrap=False, total=   0.3s\n",
      "[CV] n_estimators=300, min_samples_split=4, max_depth=30, bootstrap=True \n",
      "[CV] n_estimators=300, min_samples_split=4, max_depth=30, bootstrap=True \n",
      "[CV]  n_estimators=125, min_samples_split=4, max_depth=70, bootstrap=True, total=   0.2s\n",
      "[CV] n_estimators=300, min_samples_split=4, max_depth=30, bootstrap=True \n",
      "[CV]  n_estimators=125, min_samples_split=4, max_depth=70, bootstrap=True, total=   0.2s\n",
      "[CV] n_estimators=225, min_samples_split=4, max_depth=20, bootstrap=True \n",
      "[CV]  n_estimators=300, min_samples_split=4, max_depth=30, bootstrap=True, total=   0.4s\n",
      "[CV] n_estimators=225, min_samples_split=4, max_depth=20, bootstrap=True \n",
      "[CV]  n_estimators=300, min_samples_split=4, max_depth=30, bootstrap=True, total=   0.4s\n",
      "[CV] n_estimators=225, min_samples_split=4, max_depth=20, bootstrap=True \n",
      "[CV]  n_estimators=225, min_samples_split=4, max_depth=20, bootstrap=True, total=   0.3s\n",
      "[CV] n_estimators=150, min_samples_split=4, max_depth=10, bootstrap=False \n",
      "[CV]  n_estimators=300, min_samples_split=4, max_depth=30, bootstrap=True, total=   0.5s\n",
      "[CV] n_estimators=150, min_samples_split=4, max_depth=10, bootstrap=False \n",
      "[CV]  n_estimators=150, min_samples_split=4, max_depth=10, bootstrap=False, total=   0.2s\n",
      "[CV] n_estimators=150, min_samples_split=4, max_depth=10, bootstrap=False \n",
      "[CV]  n_estimators=150, min_samples_split=4, max_depth=10, bootstrap=False, total=   0.2s\n",
      "[CV]  n_estimators=225, min_samples_split=4, max_depth=20, bootstrap=True, total=   0.3s\n",
      "[CV]  n_estimators=225, min_samples_split=4, max_depth=20, bootstrap=True, total=   0.3s\n",
      "[CV]  n_estimators=150, min_samples_split=4, max_depth=10, bootstrap=False, total=   0.1s\n"
     ]
    },
    {
     "name": "stderr",
     "output_type": "stream",
     "text": [
      "[Parallel(n_jobs=-1)]: Done  30 out of  30 | elapsed:    2.8s finished\n"
     ]
    },
    {
     "data": {
      "text/plain": [
       "RandomForestRegressor(bootstrap=True, criterion='mse', max_depth=50,\n",
       "           max_features='auto', max_leaf_nodes=None,\n",
       "           min_impurity_decrease=0.0, min_impurity_split=None,\n",
       "           min_samples_leaf=1, min_samples_split=8,\n",
       "           min_weight_fraction_leaf=0.0, n_estimators=250, n_jobs=1,\n",
       "           oob_score=False, random_state=42, verbose=0, warm_start=False)"
      ]
     },
     "execution_count": 8,
     "metadata": {},
     "output_type": "execute_result"
    }
   ],
   "source": [
    "# find optimum regressor\n",
    "regr = rfr.find_regressor(df_merged[['date','am']].as_matrix(), df_merged['per_capita'].values)\n",
    "regr"
   ]
  },
  {
   "cell_type": "code",
   "execution_count": 9,
   "metadata": {},
   "outputs": [
    {
     "name": "stderr",
     "output_type": "stream",
     "text": [
      "./../utils/random_forest_regressor.py:18: FutureWarning: Method .as_matrix will be removed in a future version. Use .values instead.\n",
      "  regr.fit(X_train.as_matrix(), y_train)\n",
      "./../utils/random_forest_regressor.py:19: FutureWarning: Method .as_matrix will be removed in a future version. Use .values instead.\n",
      "  return regr.predict(X_test.as_matrix())\n"
     ]
    }
   ],
   "source": [
    "# split dataset \n",
    "X_train, X_test, y_train, y_test = train_test_split(df_merged[['date','am']], df_merged['per_capita'].values, test_size=0.33, random_state=42)\n",
    "# make predictions based on optimum regressor\n",
    "y_pred = rfr.fit_and_predict(regr, X_train, X_test, y_train, y_test)"
   ]
  },
  {
   "cell_type": "code",
   "execution_count": 10,
   "metadata": {},
   "outputs": [
    {
     "data": {
      "text/plain": [
       "7.897421779846798e-09"
      ]
     },
     "execution_count": 10,
     "metadata": {},
     "output_type": "execute_result"
    }
   ],
   "source": [
    "cv.MSE(y_test, y_pred)\n",
    "# leave one out cross validation \n",
    "# loo = cross_validation.LeaveOneOut(len(df_merged['per_capita'].values))\n",
    "# loo_score = cv.Cross_Validation(loo, regr, df_merged[['date','am']].as_matrix(), df_merged['per_capita'].values)"
   ]
  },
  {
   "cell_type": "code",
   "execution_count": 11,
   "metadata": {},
   "outputs": [
    {
     "name": "stdout",
     "output_type": "stream",
     "text": [
      "10-fold cross validation using time series split (additive): 8.866974704238635e-09 \n"
     ]
    }
   ],
   "source": [
    "# 10 fold tss cross validation\n",
    "tss_score = cv.Cross_Validation(df_merged[['date','am']], df_merged['per_capita'], regr, 10)\n",
    "print('10-fold cross validation using time series split (additive): {} '.format(tss_score))"
   ]
  },
  {
   "cell_type": "code",
   "execution_count": 12,
   "metadata": {},
   "outputs": [
    {
     "data": {
      "image/png": "[encoded data removed]",
      "text/plain": [
       "<Figure size 432x288 with 1 Axes>"
      ]
     },
     "metadata": {},
     "output_type": "display_data"
    }
   ],
   "source": [
    "plt.plot(X_test['am'], y_test, 'o', label = 'actual')\n",
    "plt.plot(X_test['am'], y_pred, 'ro', label = 'prediction')\n",
    "plt.xticks(rotation = '60'); \n",
    "plt.legend()\n",
    "plt.xlabel('CO average'); plt.ylabel('Crime count per capita'); plt.title('Actual and Predicted Values');"
   ]
  },
  {
   "cell_type": "code",
   "execution_count": 13,
   "metadata": {},
   "outputs": [
    {
     "data": {
      "text/html": [
       "<div>\n",
       "<style scoped>\n",
       "    .dataframe tbody tr th:only-of-type {\n",
       "        vertical-align: middle;\n",
       "    }\n",
       "\n",
       "    .dataframe tbody tr th {\n",
       "        vertical-align: top;\n",
       "    }\n",
       "\n",
       "    .dataframe thead th {\n",
       "        text-align: right;\n",
       "    }\n",
       "</style>\n",
       "<table border=\"1\" class=\"dataframe\">\n",
       "  <thead>\n",
       "    <tr style=\"text-align: right;\">\n",
       "      <th></th>\n",
       "      <th>am</th>\n",
       "      <th>count</th>\n",
       "      <th>per_capita</th>\n",
       "    </tr>\n",
       "  </thead>\n",
       "  <tbody>\n",
       "    <tr>\n",
       "      <th>am</th>\n",
       "      <td>1.000000</td>\n",
       "      <td>0.256674</td>\n",
       "      <td>0.312716</td>\n",
       "    </tr>\n",
       "    <tr>\n",
       "      <th>count</th>\n",
       "      <td>0.256674</td>\n",
       "      <td>1.000000</td>\n",
       "      <td>0.968847</td>\n",
       "    </tr>\n",
       "    <tr>\n",
       "      <th>per_capita</th>\n",
       "      <td>0.312716</td>\n",
       "      <td>0.968847</td>\n",
       "      <td>1.000000</td>\n",
       "    </tr>\n",
       "  </tbody>\n",
       "</table>\n",
       "</div>"
      ],
      "text/plain": [
       "                  am     count  per_capita\n",
       "am          1.000000  0.256674    0.312716\n",
       "count       0.256674  1.000000    0.968847\n",
       "per_capita  0.312716  0.968847    1.000000"
      ]
     },
     "execution_count": 13,
     "metadata": {},
     "output_type": "execute_result"
    }
   ],
   "source": [
    "df_merged.corr()"
   ]
  },
  {
   "cell_type": "code",
   "execution_count": null,
   "metadata": {},
   "outputs": [],
   "source": []
  }
 ],
 "metadata": {
  "kernelspec": {
   "display_name": "Python 3",
   "language": "python",
   "name": "python3"
  },
  "language_info": {
   "codemirror_mode": {
    "name": "ipython",
    "version": 3
   },
   "file_extension": ".py",
   "mimetype": "text/x-python",
   "name": "python",
   "nbconvert_exporter": "python",
   "pygments_lexer": "ipython3",
   "version": "3.6.5"
  }
 },
 "nbformat": 4,
 "nbformat_minor": 2
}
