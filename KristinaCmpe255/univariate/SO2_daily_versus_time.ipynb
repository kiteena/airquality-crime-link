{
 "cells": [
  {
   "cell_type": "code",
   "execution_count": 15,
   "metadata": {},
   "outputs": [],
   "source": [
    "# removes annoying deprecation warnings \n",
    "import warnings\n",
    "warnings.filterwarnings(\"ignore\", category=DeprecationWarning) \n",
    "\n",
    "import pandas as pd\n",
    "from google.cloud import bigquery\n",
    "from bq_helper import BigQueryHelper #third party library to translate google query data to dataframe\n",
    "import matplotlib.pyplot as plt\n",
    "import matplotlib.dates as mdates\n",
    "import os, sys\n",
    "\n",
    "sys.path.insert(0, './../utils/')\n",
    "\n",
    "# custom files \n",
    "import random_forest_regressor as rfr\n",
    "import utilities as util\n",
    "import validation as cv\n",
    "from sklearn.model_selection import RepeatedKFold\n",
    "\n",
    "from sklearn.model_selection import train_test_split\n",
    "from sklearn import cross_validation\n",
    "\n",
    "%matplotlib inline\n",
    "\n",
    "with open('../../key.txt') as f:\n",
    "    content = f.readlines()\n",
    "\n",
    "#add your own key here \n",
    "os.environ['GOOGLE_APPLICATION_CREDENTIALS']= content[0]"
   ]
  },
  {
   "cell_type": "code",
   "execution_count": 16,
   "metadata": {},
   "outputs": [],
   "source": [
    "EPA_VISUAL = \"\"\"\n",
    "        SELECT\n",
    "            avg(arithmetic_mean) as am,\n",
    "            EXTRACT(YEAR FROM SO2_daily.date_local)*100 +\n",
    "            EXTRACT(MONTH FROM SO2_daily.date_local) as date\n",
    "        FROM\n",
    "          `bigquery-public-data.epa_historical_air_quality.so2_daily_summary` as SO2_daily\n",
    "        WHERE state_name =\"California\" AND city_name=\"San Francisco\"\n",
    "        GROUP BY date\n",
    "        ORDER BY date DESC\n",
    "        \"\"\"\n",
    "bq_assistant_SO2 = BigQueryHelper(\"bigquery-public-data\", \"epa_historical_air_quality\")\n",
    "df_SO2_VISUAL = bq_assistant_SO2.query_to_pandas(EPA_VISUAL)"
   ]
  },
  {
   "cell_type": "code",
   "execution_count": 17,
   "metadata": {},
   "outputs": [
    {
     "data": {
      "text/html": [
       "<div>\n",
       "<style scoped>\n",
       "    .dataframe tbody tr th:only-of-type {\n",
       "        vertical-align: middle;\n",
       "    }\n",
       "\n",
       "    .dataframe tbody tr th {\n",
       "        vertical-align: top;\n",
       "    }\n",
       "\n",
       "    .dataframe thead th {\n",
       "        text-align: right;\n",
       "    }\n",
       "</style>\n",
       "<table border=\"1\" class=\"dataframe\">\n",
       "  <thead>\n",
       "    <tr style=\"text-align: right;\">\n",
       "      <th></th>\n",
       "      <th>am</th>\n",
       "      <th>date</th>\n",
       "      <th>formatted_date</th>\n",
       "    </tr>\n",
       "  </thead>\n",
       "  <tbody>\n",
       "    <tr>\n",
       "      <th>0</th>\n",
       "      <td>1.579556</td>\n",
       "      <td>200812</td>\n",
       "      <td>2008-12-01</td>\n",
       "    </tr>\n",
       "    <tr>\n",
       "      <th>1</th>\n",
       "      <td>1.359224</td>\n",
       "      <td>200811</td>\n",
       "      <td>2008-11-01</td>\n",
       "    </tr>\n",
       "    <tr>\n",
       "      <th>2</th>\n",
       "      <td>1.367951</td>\n",
       "      <td>200810</td>\n",
       "      <td>2008-10-01</td>\n",
       "    </tr>\n",
       "    <tr>\n",
       "      <th>3</th>\n",
       "      <td>0.788455</td>\n",
       "      <td>200809</td>\n",
       "      <td>2008-09-01</td>\n",
       "    </tr>\n",
       "    <tr>\n",
       "      <th>4</th>\n",
       "      <td>0.458607</td>\n",
       "      <td>200808</td>\n",
       "      <td>2008-08-01</td>\n",
       "    </tr>\n",
       "  </tbody>\n",
       "</table>\n",
       "</div>"
      ],
      "text/plain": [
       "         am    date formatted_date\n",
       "0  1.579556  200812     2008-12-01\n",
       "1  1.359224  200811     2008-11-01\n",
       "2  1.367951  200810     2008-10-01\n",
       "3  0.788455  200809     2008-09-01\n",
       "4  0.458607  200808     2008-08-01"
      ]
     },
     "execution_count": 17,
     "metadata": {},
     "output_type": "execute_result"
    }
   ],
   "source": [
    "df_SO2_VISUAL['formatted_date'] = pd.to_datetime(df_SO2_VISUAL['date'], format='%Y%m')\n",
    "df_SO2_VISUAL.head()"
   ]
  },
  {
   "cell_type": "code",
   "execution_count": 18,
   "metadata": {},
   "outputs": [
    {
     "data": {
      "text/plain": [
       "Text(0.5,1,'SO2 arithmetic mean between 1999 & 2008')"
      ]
     },
     "execution_count": 18,
     "metadata": {},
     "output_type": "execute_result"
    },
    {
     "data": {
      "image/png": "[encoded data removed]",
      "text/plain": [
       "<Figure size 432x288 with 1 Axes>"
      ]
     },
     "metadata": {},
     "output_type": "display_data"
    }
   ],
   "source": [
    "# plot original data \n",
    "fig, ax = plt.subplots()\n",
    "ax.plot(df_SO2_VISUAL['formatted_date'], df_SO2_VISUAL['am'])\n",
    "fig.autofmt_xdate()\n",
    "ax.fmt_xdata = mdates.DateFormatter('%Y-%m')\n",
    "# n = 20\n",
    "# [l.set_visible(False) for (i,l) in enumerate(ax.xaxis.get_ticklabels()) if i % n != 0]\n",
    "ax.set_title('SO2 arithmetic mean between 1999 & 2008')"
   ]
  },
  {
   "cell_type": "code",
   "execution_count": 19,
   "metadata": {},
   "outputs": [],
   "source": [
    "EPA_QUERY = \"\"\"\n",
    "        SELECT\n",
    "            avg(arithmetic_mean) as am,\n",
    "            EXTRACT(YEAR FROM SO2_daily.date_local)*10000 +\n",
    "            EXTRACT(MONTH FROM SO2_daily.date_local)*100 + \n",
    "            EXTRACT(DAY FROM SO2_daily.date_local) as date\n",
    "        FROM\n",
    "          `bigquery-public-data.epa_historical_air_quality.so2_daily_summary` as SO2_daily\n",
    "        WHERE state_name =\"California\" AND city_name=\"San Francisco\"\n",
    "        GROUP BY date\n",
    "        ORDER BY date DESC\n",
    "        \"\"\"\n",
    "\n",
    "bq_assistant_SO2 = BigQueryHelper(\"bigquery-public-data\", \"epa_historical_air_quality\")\n",
    "df_SO2 = bq_assistant_SO2.query_to_pandas(EPA_QUERY)"
   ]
  },
  {
   "cell_type": "code",
   "execution_count": 20,
   "metadata": {},
   "outputs": [
    {
     "data": {
      "text/html": [
       "<div>\n",
       "<style scoped>\n",
       "    .dataframe tbody tr th:only-of-type {\n",
       "        vertical-align: middle;\n",
       "    }\n",
       "\n",
       "    .dataframe tbody tr th {\n",
       "        vertical-align: top;\n",
       "    }\n",
       "\n",
       "    .dataframe thead th {\n",
       "        text-align: right;\n",
       "    }\n",
       "</style>\n",
       "<table border=\"1\" class=\"dataframe\">\n",
       "  <thead>\n",
       "    <tr style=\"text-align: right;\">\n",
       "      <th></th>\n",
       "      <th>am</th>\n",
       "      <th>date</th>\n",
       "    </tr>\n",
       "  </thead>\n",
       "  <tbody>\n",
       "    <tr>\n",
       "      <th>0</th>\n",
       "      <td>4.256493</td>\n",
       "      <td>20081231</td>\n",
       "    </tr>\n",
       "    <tr>\n",
       "      <th>1</th>\n",
       "      <td>1.904546</td>\n",
       "      <td>20081230</td>\n",
       "    </tr>\n",
       "    <tr>\n",
       "      <th>2</th>\n",
       "      <td>3.388961</td>\n",
       "      <td>20081229</td>\n",
       "    </tr>\n",
       "    <tr>\n",
       "      <th>3</th>\n",
       "      <td>1.360390</td>\n",
       "      <td>20081228</td>\n",
       "    </tr>\n",
       "    <tr>\n",
       "      <th>4</th>\n",
       "      <td>1.183766</td>\n",
       "      <td>20081227</td>\n",
       "    </tr>\n",
       "  </tbody>\n",
       "</table>\n",
       "</div>"
      ],
      "text/plain": [
       "         am      date\n",
       "0  4.256493  20081231\n",
       "1  1.904546  20081230\n",
       "2  3.388961  20081229\n",
       "3  1.360390  20081228\n",
       "4  1.183766  20081227"
      ]
     },
     "execution_count": 20,
     "metadata": {},
     "output_type": "execute_result"
    }
   ],
   "source": [
    "df_SO2.head()"
   ]
  },
  {
   "cell_type": "code",
   "execution_count": 21,
   "metadata": {},
   "outputs": [
    {
     "name": "stdout",
     "output_type": "stream",
     "text": [
      "Fitting 3 folds for each of 10 candidates, totalling 30 fits\n"
     ]
    },
    {
     "name": "stderr",
     "output_type": "stream",
     "text": [
      "/home/kristina/anaconda3/lib/python3.6/site-packages/ipykernel_launcher.py:2: FutureWarning: Method .as_matrix will be removed in a future version. Use .values instead.\n",
      "  \n"
     ]
    },
    {
     "name": "stdout",
     "output_type": "stream",
     "text": [
      "[CV] n_estimators=250, min_samples_split=8, max_depth=50, bootstrap=True \n",
      "[CV] n_estimators=250, min_samples_split=8, max_depth=50, bootstrap=True \n",
      "[CV] n_estimators=250, min_samples_split=8, max_depth=50, bootstrap=True \n",
      "[CV] n_estimators=275, min_samples_split=4, max_depth=80, bootstrap=True \n",
      "[CV]  n_estimators=250, min_samples_split=8, max_depth=50, bootstrap=True, total=   1.5s\n",
      "[CV] n_estimators=275, min_samples_split=4, max_depth=80, bootstrap=True \n",
      "[CV]  n_estimators=250, min_samples_split=8, max_depth=50, bootstrap=True, total=   1.6s\n",
      "[CV] n_estimators=275, min_samples_split=4, max_depth=80, bootstrap=True \n",
      "[CV]  n_estimators=250, min_samples_split=8, max_depth=50, bootstrap=True, total=   1.7s\n",
      "[CV] n_estimators=250, min_samples_split=2, max_depth=10, bootstrap=False \n",
      "[CV]  n_estimators=275, min_samples_split=4, max_depth=80, bootstrap=True, total=   1.8s\n",
      "[CV] n_estimators=250, min_samples_split=2, max_depth=10, bootstrap=False \n",
      "[CV]  n_estimators=275, min_samples_split=4, max_depth=80, bootstrap=True, total=   1.8s\n",
      "[CV] n_estimators=250, min_samples_split=2, max_depth=10, bootstrap=False \n",
      "[CV]  n_estimators=275, min_samples_split=4, max_depth=80, bootstrap=True, total=   2.0s\n",
      "[CV] n_estimators=175, min_samples_split=10, max_depth=70, bootstrap=True \n",
      "[CV]  n_estimators=250, min_samples_split=2, max_depth=10, bootstrap=False, total=   1.9s\n",
      "[CV] n_estimators=175, min_samples_split=10, max_depth=70, bootstrap=True \n",
      "[CV]  n_estimators=250, min_samples_split=2, max_depth=10, bootstrap=False, total=   2.3s\n",
      "[CV] n_estimators=175, min_samples_split=10, max_depth=70, bootstrap=True \n",
      "[CV]  n_estimators=175, min_samples_split=10, max_depth=70, bootstrap=True, total=   1.0s\n",
      "[CV] n_estimators=275, min_samples_split=10, max_depth=20, bootstrap=True \n",
      "[CV]  n_estimators=175, min_samples_split=10, max_depth=70, bootstrap=True, total=   1.2s\n",
      "[CV] n_estimators=275, min_samples_split=10, max_depth=20, bootstrap=True \n",
      "[CV]  n_estimators=175, min_samples_split=10, max_depth=70, bootstrap=True, total=   1.1s\n",
      "[CV] n_estimators=275, min_samples_split=10, max_depth=20, bootstrap=True \n",
      "[CV]  n_estimators=250, min_samples_split=2, max_depth=10, bootstrap=False, total=   1.9s\n",
      "[CV] n_estimators=200, min_samples_split=10, max_depth=10, bootstrap=False \n",
      "[CV]  n_estimators=275, min_samples_split=10, max_depth=20, bootstrap=True, total=   1.9s\n",
      "[CV] n_estimators=200, min_samples_split=10, max_depth=10, bootstrap=False \n",
      "[CV]  n_estimators=200, min_samples_split=10, max_depth=10, bootstrap=False, total=   1.5s\n",
      "[CV] n_estimators=200, min_samples_split=10, max_depth=10, bootstrap=False \n",
      "[CV]  n_estimators=275, min_samples_split=10, max_depth=20, bootstrap=True, total=   1.7s\n",
      "[CV] n_estimators=125, min_samples_split=4, max_depth=70, bootstrap=True \n",
      "[CV]  n_estimators=275, min_samples_split=10, max_depth=20, bootstrap=True, total=   2.3s\n",
      "[CV] n_estimators=125, min_samples_split=4, max_depth=70, bootstrap=True \n",
      "[CV]  n_estimators=125, min_samples_split=4, max_depth=70, bootstrap=True, total=   0.9s\n",
      "[CV] n_estimators=125, min_samples_split=4, max_depth=70, bootstrap=True \n",
      "[CV]  n_estimators=125, min_samples_split=4, max_depth=70, bootstrap=True, total=   1.0s\n",
      "[CV] n_estimators=300, min_samples_split=4, max_depth=30, bootstrap=True \n",
      "[CV]  n_estimators=200, min_samples_split=10, max_depth=10, bootstrap=False, total=   1.4s\n",
      "[CV] n_estimators=300, min_samples_split=4, max_depth=30, bootstrap=True \n",
      "[CV]  n_estimators=200, min_samples_split=10, max_depth=10, bootstrap=False, total=   2.0s\n",
      "[CV] n_estimators=300, min_samples_split=4, max_depth=30, bootstrap=True \n",
      "[CV]  n_estimators=125, min_samples_split=4, max_depth=70, bootstrap=True, total=   0.8s\n",
      "[CV] n_estimators=225, min_samples_split=4, max_depth=20, bootstrap=True \n",
      "[CV]  n_estimators=225, min_samples_split=4, max_depth=20, bootstrap=True, total=   1.4s\n",
      "[CV] n_estimators=225, min_samples_split=4, max_depth=20, bootstrap=True \n",
      "[CV]  n_estimators=300, min_samples_split=4, max_depth=30, bootstrap=True, total=   2.1s\n",
      "[CV] n_estimators=225, min_samples_split=4, max_depth=20, bootstrap=True \n",
      "[CV]  n_estimators=300, min_samples_split=4, max_depth=30, bootstrap=True, total=   1.9s\n",
      "[CV] n_estimators=150, min_samples_split=4, max_depth=10, bootstrap=False \n",
      "[CV]  n_estimators=300, min_samples_split=4, max_depth=30, bootstrap=True, total=   2.2s\n",
      "[CV] n_estimators=150, min_samples_split=4, max_depth=10, bootstrap=False \n",
      "[CV]  n_estimators=150, min_samples_split=4, max_depth=10, bootstrap=False, total=   1.1s\n",
      "[CV] n_estimators=150, min_samples_split=4, max_depth=10, bootstrap=False \n",
      "[CV]  n_estimators=225, min_samples_split=4, max_depth=20, bootstrap=True, total=   1.6s\n",
      "[CV]  n_estimators=225, min_samples_split=4, max_depth=20, bootstrap=True, total=   1.4s\n",
      "[CV]  n_estimators=150, min_samples_split=4, max_depth=10, bootstrap=False, total=   1.4s\n",
      "[CV]  n_estimators=150, min_samples_split=4, max_depth=10, bootstrap=False, total=   0.7s\n"
     ]
    },
    {
     "name": "stderr",
     "output_type": "stream",
     "text": [
      "[Parallel(n_jobs=-1)]: Done  30 out of  30 | elapsed:   13.2s finished\n"
     ]
    },
    {
     "data": {
      "text/plain": [
       "RandomForestRegressor(bootstrap=True, criterion='mse', max_depth=50,\n",
       "           max_features='auto', max_leaf_nodes=None,\n",
       "           min_impurity_decrease=0.0, min_impurity_split=None,\n",
       "           min_samples_leaf=1, min_samples_split=8,\n",
       "           min_weight_fraction_leaf=0.0, n_estimators=250, n_jobs=1,\n",
       "           oob_score=False, random_state=42, verbose=0, warm_start=False)"
      ]
     },
     "execution_count": 21,
     "metadata": {},
     "output_type": "execute_result"
    }
   ],
   "source": [
    "# find optimum regressor\n",
    "regr = rfr.find_regressor(df_SO2['date'].as_matrix().reshape(-1,1), df_SO2['am'].values)\n",
    "regr"
   ]
  },
  {
   "cell_type": "code",
   "execution_count": 22,
   "metadata": {},
   "outputs": [
    {
     "name": "stderr",
     "output_type": "stream",
     "text": [
      "./../utils/random_forest_regressor.py:18: FutureWarning: Method .as_matrix will be removed in a future version. Use .values instead.\n",
      "  regr.fit(X_train.as_matrix(), y_train)\n",
      "./../utils/random_forest_regressor.py:19: FutureWarning: Method .as_matrix will be removed in a future version. Use .values instead.\n",
      "  return regr.predict(X_test.as_matrix())\n"
     ]
    }
   ],
   "source": [
    "# split dataset \n",
    "X_train, X_test, y_train, y_test = train_test_split(df_SO2['date'].to_frame(), df_SO2['am'].values, test_size=0.33, random_state=42)\n",
    "# make predictions based on optimum regressor\n",
    "y_pred = rfr.fit_and_predict(regr, X_train, X_test, y_train, y_test)"
   ]
  },
  {
   "cell_type": "code",
   "execution_count": 23,
   "metadata": {},
   "outputs": [
    {
     "data": {
      "text/plain": [
       "1.4511614940381257"
      ]
     },
     "execution_count": 23,
     "metadata": {},
     "output_type": "execute_result"
    }
   ],
   "source": [
    "cv.MSE(y_test, y_pred)"
   ]
  },
  {
   "cell_type": "code",
   "execution_count": 24,
   "metadata": {},
   "outputs": [
    {
     "name": "stdout",
     "output_type": "stream",
     "text": [
      "10-fold cross validation using time series split (additive): 9.230414518716842 \n"
     ]
    }
   ],
   "source": [
    "tss_score = cv.Cross_Validation(df_SO2['date'].to_frame(), df_SO2['am'], regr, 10)\n",
    "print('10-fold cross validation using time series split (additive): {} '.format(tss_score))"
   ]
  },
  {
   "cell_type": "code",
   "execution_count": null,
   "metadata": {},
   "outputs": [],
   "source": []
  }
 ],
 "metadata": {
  "kernelspec": {
   "display_name": "Python 3",
   "language": "python",
   "name": "python3"
  },
  "language_info": {
   "codemirror_mode": {
    "name": "ipython",
    "version": 3
   },
   "file_extension": ".py",
   "mimetype": "text/x-python",
   "name": "python",
   "nbconvert_exporter": "python",
   "pygments_lexer": "ipython3",
   "version": "3.6.5"
  }
 },
 "nbformat": 4,
 "nbformat_minor": 2
}
