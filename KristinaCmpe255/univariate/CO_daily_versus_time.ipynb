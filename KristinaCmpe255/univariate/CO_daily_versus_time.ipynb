{
 "cells": [
  {
   "cell_type": "code",
   "execution_count": 2,
   "metadata": {},
   "outputs": [
    {
     "name": "stderr",
     "output_type": "stream",
     "text": [
      "/home/kristina/anaconda3/lib/python3.6/site-packages/sklearn/cross_validation.py:41: DeprecationWarning: This module was deprecated in version 0.18 in favor of the model_selection module into which all the refactored classes and functions are moved. Also note that the interface of the new CV iterators are different from that of this module. This module will be removed in 0.20.\n",
      "  \"This module will be removed in 0.20.\", DeprecationWarning)\n"
     ]
    }
   ],
   "source": [
    "# removes annoying deprecation warnings \n",
    "import warnings\n",
    "warnings.filterwarnings(\"ignore\", category=DeprecationWarning) \n",
    "\n",
    "import pandas as pd\n",
    "from google.cloud import bigquery\n",
    "from bq_helper import BigQueryHelper #third party library to translate google query data to dataframe\n",
    "import matplotlib.pyplot as plt\n",
    "import matplotlib.dates as mdates\n",
    "import os, sys\n",
    "\n",
    "sys.path.insert(0, './../utils/')\n",
    "\n",
    "# custom files \n",
    "import random_forest_regressor as rfr\n",
    "import utilities as util\n",
    "import validation as cv\n",
    "from sklearn.model_selection import RepeatedKFold\n",
    "\n",
    "from sklearn.model_selection import train_test_split\n",
    "from sklearn import cross_validation\n",
    "\n",
    "%matplotlib inline\n",
    "\n",
    "with open('../../key.txt') as f:\n",
    "    content = f.readlines()\n",
    "\n",
    "#add your own key here \n",
    "os.environ['GOOGLE_APPLICATION_CREDENTIALS']= content[0]"
   ]
  },
  {
   "cell_type": "code",
   "execution_count": 3,
   "metadata": {},
   "outputs": [],
   "source": [
    "EPA_VISUAL = \"\"\"\n",
    "        SELECT\n",
    "            avg(arithmetic_mean) as am,\n",
    "            CONCAT(cast(EXTRACT(YEAR FROM CO_daily.date_local) as string),\n",
    "            '-',\n",
    "            cast(EXTRACT(MONTH FROM CO_daily.date_local) as string)) as date\n",
    "        FROM\n",
    "          `bigquery-public-data.epa_historical_air_quality.co_daily_summary` as CO_daily\n",
    "        WHERE state_name =\"California\" AND city_name=\"San Francisco\"\n",
    "        GROUP BY date\n",
    "        ORDER BY date ASC\n",
    "        \"\"\"\n",
    "\n",
    "bq_assistant_CO = BigQueryHelper(\"bigquery-public-data\", \"epa_historical_air_quality\")\n",
    "df_CO_VISUAL = bq_assistant_CO.query_to_pandas(EPA_VISUAL)"
   ]
  },
  {
   "cell_type": "code",
   "execution_count": 4,
   "metadata": {},
   "outputs": [
    {
     "data": {
      "text/html": [
       "<div>\n",
       "<style scoped>\n",
       "    .dataframe tbody tr th:only-of-type {\n",
       "        vertical-align: middle;\n",
       "    }\n",
       "\n",
       "    .dataframe tbody tr th {\n",
       "        vertical-align: top;\n",
       "    }\n",
       "\n",
       "    .dataframe thead th {\n",
       "        text-align: right;\n",
       "    }\n",
       "</style>\n",
       "<table border=\"1\" class=\"dataframe\">\n",
       "  <thead>\n",
       "    <tr style=\"text-align: right;\">\n",
       "      <th></th>\n",
       "      <th>am</th>\n",
       "      <th>date</th>\n",
       "    </tr>\n",
       "  </thead>\n",
       "  <tbody>\n",
       "    <tr>\n",
       "      <th>0</th>\n",
       "      <td>2.191733</td>\n",
       "      <td>1990-1</td>\n",
       "    </tr>\n",
       "    <tr>\n",
       "      <th>1</th>\n",
       "      <td>1.706890</td>\n",
       "      <td>1990-10</td>\n",
       "    </tr>\n",
       "    <tr>\n",
       "      <th>2</th>\n",
       "      <td>1.995578</td>\n",
       "      <td>1990-11</td>\n",
       "    </tr>\n",
       "    <tr>\n",
       "      <th>3</th>\n",
       "      <td>2.263792</td>\n",
       "      <td>1990-12</td>\n",
       "    </tr>\n",
       "    <tr>\n",
       "      <th>4</th>\n",
       "      <td>1.884034</td>\n",
       "      <td>1990-2</td>\n",
       "    </tr>\n",
       "  </tbody>\n",
       "</table>\n",
       "</div>"
      ],
      "text/plain": [
       "         am     date\n",
       "0  2.191733   1990-1\n",
       "1  1.706890  1990-10\n",
       "2  1.995578  1990-11\n",
       "3  2.263792  1990-12\n",
       "4  1.884034   1990-2"
      ]
     },
     "execution_count": 4,
     "metadata": {},
     "output_type": "execute_result"
    }
   ],
   "source": [
    "df_CO_VISUAL.head()"
   ]
  },
  {
   "cell_type": "code",
   "execution_count": 5,
   "metadata": {},
   "outputs": [
    {
     "data": {
      "text/plain": [
       "Text(0.5,1,'CO arithmetic mean between 1991 & 2017')"
      ]
     },
     "execution_count": 5,
     "metadata": {},
     "output_type": "execute_result"
    },
    {
     "data": {
      "image/png": "[encoded data removed]",
      "text/plain": [
       "<Figure size 432x288 with 1 Axes>"
      ]
     },
     "metadata": {},
     "output_type": "display_data"
    }
   ],
   "source": [
    "# plot original data \n",
    "fig, ax = plt.subplots()\n",
    "ax.plot(df_CO_VISUAL['date'], df_CO_VISUAL['am'])\n",
    "fig.autofmt_xdate()\n",
    "ax.fmt_xdata = mdates.DateFormatter('%Y-%m')\n",
    "n = 20\n",
    "[l.set_visible(False) for (i,l) in enumerate(ax.xaxis.get_ticklabels()) if i % n != 0]\n",
    "ax.set_title('CO arithmetic mean between 1991 & 2017')"
   ]
  },
  {
   "cell_type": "code",
   "execution_count": 6,
   "metadata": {},
   "outputs": [],
   "source": [
    "EPA_QUERY = \"\"\"\n",
    "        SELECT\n",
    "            avg(arithmetic_mean) as am,\n",
    "            CONCAT(cast(EXTRACT(YEAR FROM CO_daily.date_local) as string),\n",
    "            cast(EXTRACT(MONTH FROM CO_daily.date_local) as string), \n",
    "            cast(EXTRACT(DAY FROM CO_daily.date_local) as string)) as date\n",
    "        FROM\n",
    "          `bigquery-public-data.epa_historical_air_quality.co_daily_summary` as CO_daily\n",
    "        WHERE state_name =\"California\" AND city_name=\"San Francisco\"\n",
    "        GROUP BY date\n",
    "        ORDER BY date DESC\n",
    "        \"\"\"\n",
    "\n",
    "bq_assistant_CO = BigQueryHelper(\"bigquery-public-data\", \"epa_historical_air_quality\")\n",
    "df_CO = bq_assistant_CO.query_to_pandas(EPA_QUERY)"
   ]
  },
  {
   "cell_type": "code",
   "execution_count": 7,
   "metadata": {},
   "outputs": [
    {
     "data": {
      "text/html": [
       "<div>\n",
       "<style scoped>\n",
       "    .dataframe tbody tr th:only-of-type {\n",
       "        vertical-align: middle;\n",
       "    }\n",
       "\n",
       "    .dataframe tbody tr th {\n",
       "        vertical-align: top;\n",
       "    }\n",
       "\n",
       "    .dataframe thead th {\n",
       "        text-align: right;\n",
       "    }\n",
       "</style>\n",
       "<table border=\"1\" class=\"dataframe\">\n",
       "  <thead>\n",
       "    <tr style=\"text-align: right;\">\n",
       "      <th></th>\n",
       "      <th>am</th>\n",
       "      <th>date</th>\n",
       "    </tr>\n",
       "  </thead>\n",
       "  <tbody>\n",
       "    <tr>\n",
       "      <th>0</th>\n",
       "      <td>0.593479</td>\n",
       "      <td>201799</td>\n",
       "    </tr>\n",
       "    <tr>\n",
       "      <th>1</th>\n",
       "      <td>0.595652</td>\n",
       "      <td>201798</td>\n",
       "    </tr>\n",
       "    <tr>\n",
       "      <th>2</th>\n",
       "      <td>0.600000</td>\n",
       "      <td>201797</td>\n",
       "    </tr>\n",
       "    <tr>\n",
       "      <th>3</th>\n",
       "      <td>0.591304</td>\n",
       "      <td>201796</td>\n",
       "    </tr>\n",
       "    <tr>\n",
       "      <th>4</th>\n",
       "      <td>0.557608</td>\n",
       "      <td>201795</td>\n",
       "    </tr>\n",
       "  </tbody>\n",
       "</table>\n",
       "</div>"
      ],
      "text/plain": [
       "         am    date\n",
       "0  0.593479  201799\n",
       "1  0.595652  201798\n",
       "2  0.600000  201797\n",
       "3  0.591304  201796\n",
       "4  0.557608  201795"
      ]
     },
     "execution_count": 7,
     "metadata": {},
     "output_type": "execute_result"
    }
   ],
   "source": [
    "df_CO.head()"
   ]
  },
  {
   "cell_type": "code",
   "execution_count": 8,
   "metadata": {},
   "outputs": [
    {
     "name": "stdout",
     "output_type": "stream",
     "text": [
      "Fitting 3 folds for each of 10 candidates, totalling 30 fits\n"
     ]
    },
    {
     "name": "stderr",
     "output_type": "stream",
     "text": [
      "/home/kristina/anaconda3/lib/python3.6/site-packages/ipykernel_launcher.py:2: FutureWarning: Method .as_matrix will be removed in a future version. Use .values instead.\n",
      "  \n"
     ]
    },
    {
     "name": "stdout",
     "output_type": "stream",
     "text": [
      "[CV] n_estimators=250, min_samples_split=8, max_depth=50, bootstrap=True \n",
      "[CV] n_estimators=250, min_samples_split=8, max_depth=50, bootstrap=True \n",
      "[CV] n_estimators=250, min_samples_split=8, max_depth=50, bootstrap=True \n",
      "[CV] n_estimators=275, min_samples_split=4, max_depth=80, bootstrap=True \n",
      "[CV]  n_estimators=250, min_samples_split=8, max_depth=50, bootstrap=True, total=   2.0s\n",
      "[CV] n_estimators=275, min_samples_split=4, max_depth=80, bootstrap=True \n",
      "[CV]  n_estimators=250, min_samples_split=8, max_depth=50, bootstrap=True, total=   2.0s\n",
      "[CV] n_estimators=275, min_samples_split=4, max_depth=80, bootstrap=True \n",
      "[CV]  n_estimators=250, min_samples_split=8, max_depth=50, bootstrap=True, total=   2.0s\n",
      "[CV] n_estimators=250, min_samples_split=2, max_depth=10, bootstrap=False \n",
      "[CV]  n_estimators=275, min_samples_split=4, max_depth=80, bootstrap=True, total=   2.5s\n",
      "[CV] n_estimators=250, min_samples_split=2, max_depth=10, bootstrap=False \n",
      "[CV]  n_estimators=275, min_samples_split=4, max_depth=80, bootstrap=True, total=   2.6s\n",
      "[CV] n_estimators=250, min_samples_split=2, max_depth=10, bootstrap=False \n",
      "[CV]  n_estimators=275, min_samples_split=4, max_depth=80, bootstrap=True, total=   2.8s\n",
      "[CV]  n_estimators=250, min_samples_split=2, max_depth=10, bootstrap=False, total=   2.8s\n",
      "[CV] n_estimators=175, min_samples_split=10, max_depth=70, bootstrap=True \n",
      "[CV] n_estimators=175, min_samples_split=10, max_depth=70, bootstrap=True \n",
      "[CV]  n_estimators=250, min_samples_split=2, max_depth=10, bootstrap=False, total=   2.8s\n",
      "[CV] n_estimators=175, min_samples_split=10, max_depth=70, bootstrap=True \n",
      "[CV]  n_estimators=175, min_samples_split=10, max_depth=70, bootstrap=True, total=   1.3s\n",
      "[CV] n_estimators=275, min_samples_split=10, max_depth=20, bootstrap=True \n",
      "[CV]  n_estimators=175, min_samples_split=10, max_depth=70, bootstrap=True, total=   1.5s\n",
      "[CV] n_estimators=275, min_samples_split=10, max_depth=20, bootstrap=True \n",
      "[CV]  n_estimators=175, min_samples_split=10, max_depth=70, bootstrap=True, total=   1.4s\n",
      "[CV] n_estimators=275, min_samples_split=10, max_depth=20, bootstrap=True \n",
      "[CV]  n_estimators=250, min_samples_split=2, max_depth=10, bootstrap=False, total=   2.7s\n",
      "[CV] n_estimators=200, min_samples_split=10, max_depth=10, bootstrap=False \n",
      "[CV]  n_estimators=275, min_samples_split=10, max_depth=20, bootstrap=True, total=   2.2s\n",
      "[CV] n_estimators=200, min_samples_split=10, max_depth=10, bootstrap=False \n",
      "[CV]  n_estimators=275, min_samples_split=10, max_depth=20, bootstrap=True, total=   2.2s\n",
      "[CV] n_estimators=200, min_samples_split=10, max_depth=10, bootstrap=False \n",
      "[CV]  n_estimators=275, min_samples_split=10, max_depth=20, bootstrap=True, total=   2.1s\n",
      "[CV] n_estimators=125, min_samples_split=4, max_depth=70, bootstrap=True \n",
      "[CV]  n_estimators=200, min_samples_split=10, max_depth=10, bootstrap=False, total=   2.1s\n",
      "[CV] n_estimators=125, min_samples_split=4, max_depth=70, bootstrap=True \n",
      "[CV]  n_estimators=125, min_samples_split=4, max_depth=70, bootstrap=True, total=   1.2s\n",
      "[CV] n_estimators=125, min_samples_split=4, max_depth=70, bootstrap=True \n",
      "[CV]  n_estimators=125, min_samples_split=4, max_depth=70, bootstrap=True, total=   1.1s\n",
      "[CV] n_estimators=300, min_samples_split=4, max_depth=30, bootstrap=True \n",
      "[CV]  n_estimators=200, min_samples_split=10, max_depth=10, bootstrap=False, total=   2.1s\n",
      "[CV] n_estimators=300, min_samples_split=4, max_depth=30, bootstrap=True \n",
      "[CV]  n_estimators=200, min_samples_split=10, max_depth=10, bootstrap=False, total=   2.1s\n",
      "[CV] n_estimators=300, min_samples_split=4, max_depth=30, bootstrap=True \n",
      "[CV]  n_estimators=125, min_samples_split=4, max_depth=70, bootstrap=True, total=   1.2s\n",
      "[CV] n_estimators=225, min_samples_split=4, max_depth=20, bootstrap=True \n",
      "[CV]  n_estimators=225, min_samples_split=4, max_depth=20, bootstrap=True, total=   2.1s\n",
      "[CV] n_estimators=225, min_samples_split=4, max_depth=20, bootstrap=True \n",
      "[CV]  n_estimators=300, min_samples_split=4, max_depth=30, bootstrap=True, total=   2.8s\n",
      "[CV] n_estimators=225, min_samples_split=4, max_depth=20, bootstrap=True \n",
      "[CV]  n_estimators=300, min_samples_split=4, max_depth=30, bootstrap=True, total=   2.9s\n",
      "[CV] n_estimators=150, min_samples_split=4, max_depth=10, bootstrap=False \n",
      "[CV]  n_estimators=300, min_samples_split=4, max_depth=30, bootstrap=True, total=   2.9s\n",
      "[CV] n_estimators=150, min_samples_split=4, max_depth=10, bootstrap=False \n",
      "[CV]  n_estimators=150, min_samples_split=4, max_depth=10, bootstrap=False, total=   1.5s\n",
      "[CV] n_estimators=150, min_samples_split=4, max_depth=10, bootstrap=False \n",
      "[CV]  n_estimators=150, min_samples_split=4, max_depth=10, bootstrap=False, total=   1.5s\n",
      "[CV]  n_estimators=225, min_samples_split=4, max_depth=20, bootstrap=True, total=   2.0s\n",
      "[CV]  n_estimators=225, min_samples_split=4, max_depth=20, bootstrap=True, total=   2.0s\n",
      "[CV]  n_estimators=150, min_samples_split=4, max_depth=10, bootstrap=False, total=   1.2s\n"
     ]
    },
    {
     "name": "stderr",
     "output_type": "stream",
     "text": [
      "[Parallel(n_jobs=-1)]: Done  30 out of  30 | elapsed:   17.5s finished\n"
     ]
    },
    {
     "data": {
      "text/plain": [
       "RandomForestRegressor(bootstrap=False, criterion='mse', max_depth=10,\n",
       "           max_features='auto', max_leaf_nodes=None,\n",
       "           min_impurity_decrease=0.0, min_impurity_split=None,\n",
       "           min_samples_leaf=1, min_samples_split=4,\n",
       "           min_weight_fraction_leaf=0.0, n_estimators=150, n_jobs=1,\n",
       "           oob_score=False, random_state=42, verbose=0, warm_start=False)"
      ]
     },
     "execution_count": 8,
     "metadata": {},
     "output_type": "execute_result"
    }
   ],
   "source": [
    "# find optimum regressor\n",
    "regr = rfr.find_regressor(df_CO['date'].as_matrix().reshape(-1,1), df_CO['am'].values)\n",
    "regr"
   ]
  },
  {
   "cell_type": "code",
   "execution_count": 9,
   "metadata": {},
   "outputs": [
    {
     "data": {
      "text/html": [
       "<div>\n",
       "<style scoped>\n",
       "    .dataframe tbody tr th:only-of-type {\n",
       "        vertical-align: middle;\n",
       "    }\n",
       "\n",
       "    .dataframe tbody tr th {\n",
       "        vertical-align: top;\n",
       "    }\n",
       "\n",
       "    .dataframe thead th {\n",
       "        text-align: right;\n",
       "    }\n",
       "</style>\n",
       "<table border=\"1\" class=\"dataframe\">\n",
       "  <thead>\n",
       "    <tr style=\"text-align: right;\">\n",
       "      <th></th>\n",
       "      <th>am</th>\n",
       "      <th>date</th>\n",
       "    </tr>\n",
       "  </thead>\n",
       "  <tbody>\n",
       "    <tr>\n",
       "      <th>0</th>\n",
       "      <td>0.593479</td>\n",
       "      <td>201799</td>\n",
       "    </tr>\n",
       "    <tr>\n",
       "      <th>1</th>\n",
       "      <td>0.595652</td>\n",
       "      <td>201798</td>\n",
       "    </tr>\n",
       "    <tr>\n",
       "      <th>2</th>\n",
       "      <td>0.600000</td>\n",
       "      <td>201797</td>\n",
       "    </tr>\n",
       "    <tr>\n",
       "      <th>3</th>\n",
       "      <td>0.591304</td>\n",
       "      <td>201796</td>\n",
       "    </tr>\n",
       "    <tr>\n",
       "      <th>4</th>\n",
       "      <td>0.557608</td>\n",
       "      <td>201795</td>\n",
       "    </tr>\n",
       "  </tbody>\n",
       "</table>\n",
       "</div>"
      ],
      "text/plain": [
       "         am    date\n",
       "0  0.593479  201799\n",
       "1  0.595652  201798\n",
       "2  0.600000  201797\n",
       "3  0.591304  201796\n",
       "4  0.557608  201795"
      ]
     },
     "execution_count": 9,
     "metadata": {},
     "output_type": "execute_result"
    }
   ],
   "source": [
    "df_CO.head()"
   ]
  },
  {
   "cell_type": "code",
   "execution_count": 10,
   "metadata": {},
   "outputs": [
    {
     "name": "stderr",
     "output_type": "stream",
     "text": [
      "./../utils/random_forest_regressor.py:18: FutureWarning: Method .as_matrix will be removed in a future version. Use .values instead.\n",
      "  regr.fit(X_train.as_matrix(), y_train)\n",
      "./../utils/random_forest_regressor.py:19: FutureWarning: Method .as_matrix will be removed in a future version. Use .values instead.\n",
      "  return regr.predict(X_test.as_matrix())\n"
     ]
    }
   ],
   "source": [
    "# split dataset \n",
    "X_train, X_test, y_train, y_test = train_test_split(df_CO['date'].to_frame(), df_CO['am'].values, test_size=0.33, random_state=42)\n",
    "# make predictions based on optimum regressor\n",
    "y_pred = rfr.fit_and_predict(regr, X_train, X_test, y_train, y_test)"
   ]
  },
  {
   "cell_type": "code",
   "execution_count": 11,
   "metadata": {},
   "outputs": [
    {
     "data": {
      "text/plain": [
       "0.059275811158194205"
      ]
     },
     "execution_count": 11,
     "metadata": {},
     "output_type": "execute_result"
    }
   ],
   "source": [
    "cv.MSE(y_test, y_pred)"
   ]
  },
  {
   "cell_type": "code",
   "execution_count": 12,
   "metadata": {},
   "outputs": [
    {
     "name": "stdout",
     "output_type": "stream",
     "text": [
      "10-fold cross validation using time series split (additive): 0.12678740006636074 \n"
     ]
    }
   ],
   "source": [
    "tss_score = cv.Cross_Validation(df_CO['date'].to_frame(), df_CO['am'], regr, 10)\n",
    "print('10-fold cross validation using time series split (additive): {} '.format(tss_score))"
   ]
  }
 ],
 "metadata": {
  "kernelspec": {
   "display_name": "Python 3",
   "language": "python",
   "name": "python3"
  },
  "language_info": {
   "codemirror_mode": {
    "name": "ipython",
    "version": 3
   },
   "file_extension": ".py",
   "mimetype": "text/x-python",
   "name": "python",
   "nbconvert_exporter": "python",
   "pygments_lexer": "ipython3",
   "version": "3.6.5"
  }
 },
 "nbformat": 4,
 "nbformat_minor": 2
}
