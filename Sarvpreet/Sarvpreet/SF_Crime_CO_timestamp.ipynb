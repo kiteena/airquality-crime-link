{
 "cells": [
  {
   "cell_type": "code",
   "execution_count": 11,
   "metadata": {
    "collapsed": true
   },
   "outputs": [],
   "source": [
    "import numpy as np\n",
    "import pandas as pd\n",
    "import datetime\n",
    "import scipy as sp\n",
    "import seaborn as sns\n",
    "import matplotlib.pyplot as plt"
   ]
  },
  {
   "cell_type": "code",
   "execution_count": 12,
   "metadata": {
    "collapsed": false
   },
   "outputs": [],
   "source": [
    "df_co = pd.read_csv('/home/sarvpsin/Desktop/CMPE255Proj/airquality-crime-link/data/carbon-monoxide-results-20181007-145932.csv', engine='python')"
   ]
  },
  {
   "cell_type": "code",
   "execution_count": 13,
   "metadata": {
    "collapsed": false
   },
   "outputs": [
    {
     "data": {
      "text/html": [
       "<div>\n",
       "<table border=\"1\" class=\"dataframe\">\n",
       "  <thead>\n",
       "    <tr style=\"text-align: right;\">\n",
       "      <th></th>\n",
       "      <th>state_code</th>\n",
       "      <th>county_code</th>\n",
       "      <th>site_num</th>\n",
       "      <th>parameter_code</th>\n",
       "      <th>poc</th>\n",
       "      <th>latitude</th>\n",
       "      <th>longitude</th>\n",
       "      <th>datum</th>\n",
       "      <th>parameter_name</th>\n",
       "      <th>sample_duration</th>\n",
       "      <th>...</th>\n",
       "      <th>aqi</th>\n",
       "      <th>method_code</th>\n",
       "      <th>method_name</th>\n",
       "      <th>local_site_name</th>\n",
       "      <th>address</th>\n",
       "      <th>state_name</th>\n",
       "      <th>county_name</th>\n",
       "      <th>city_name</th>\n",
       "      <th>cbsa_name</th>\n",
       "      <th>date_of_last_change</th>\n",
       "    </tr>\n",
       "  </thead>\n",
       "  <tbody>\n",
       "    <tr>\n",
       "      <th>0</th>\n",
       "      <td>6</td>\n",
       "      <td>75</td>\n",
       "      <td>3</td>\n",
       "      <td>42101</td>\n",
       "      <td>1</td>\n",
       "      <td>37.784</td>\n",
       "      <td>-122.4216</td>\n",
       "      <td>NAD83</td>\n",
       "      <td>Carbon monoxide</td>\n",
       "      <td>8-HR RUN AVG END HOUR</td>\n",
       "      <td>...</td>\n",
       "      <td>17.0</td>\n",
       "      <td>NaN</td>\n",
       "      <td>-</td>\n",
       "      <td>San Francisco - Ellis St.</td>\n",
       "      <td>939 ELLIS ST., SAN FRANCISCO</td>\n",
       "      <td>California</td>\n",
       "      <td>San Francisco</td>\n",
       "      <td>San Francisco</td>\n",
       "      <td>San Francisco-Oakland-Hayward, CA</td>\n",
       "      <td>2016-04-21</td>\n",
       "    </tr>\n",
       "    <tr>\n",
       "      <th>1</th>\n",
       "      <td>6</td>\n",
       "      <td>75</td>\n",
       "      <td>3</td>\n",
       "      <td>42101</td>\n",
       "      <td>1</td>\n",
       "      <td>37.784</td>\n",
       "      <td>-122.4216</td>\n",
       "      <td>NAD83</td>\n",
       "      <td>Carbon monoxide</td>\n",
       "      <td>1 HOUR</td>\n",
       "      <td>...</td>\n",
       "      <td>NaN</td>\n",
       "      <td>54.0</td>\n",
       "      <td>INSTRUMENTAL - NONDISPERSIVE INFRARED</td>\n",
       "      <td>San Francisco - Ellis St.</td>\n",
       "      <td>939 ELLIS ST., SAN FRANCISCO</td>\n",
       "      <td>California</td>\n",
       "      <td>San Francisco</td>\n",
       "      <td>San Francisco</td>\n",
       "      <td>San Francisco-Oakland-Hayward, CA</td>\n",
       "      <td>2016-04-14</td>\n",
       "    </tr>\n",
       "  </tbody>\n",
       "</table>\n",
       "<p>2 rows × 29 columns</p>\n",
       "</div>"
      ],
      "text/plain": [
       "   state_code  county_code  site_num  parameter_code  poc  latitude  \\\n",
       "0           6           75         3           42101    1    37.784   \n",
       "1           6           75         3           42101    1    37.784   \n",
       "\n",
       "   longitude  datum   parameter_name        sample_duration  \\\n",
       "0  -122.4216  NAD83  Carbon monoxide  8-HR RUN AVG END HOUR   \n",
       "1  -122.4216  NAD83  Carbon monoxide                 1 HOUR   \n",
       "\n",
       "          ...            aqi method_code  \\\n",
       "0         ...           17.0         NaN   \n",
       "1         ...            NaN        54.0   \n",
       "\n",
       "                             method_name            local_site_name  \\\n",
       "0                                      -  San Francisco - Ellis St.   \n",
       "1  INSTRUMENTAL - NONDISPERSIVE INFRARED  San Francisco - Ellis St.   \n",
       "\n",
       "                        address  state_name    county_name      city_name  \\\n",
       "0  939 ELLIS ST., SAN FRANCISCO  California  San Francisco  San Francisco   \n",
       "1  939 ELLIS ST., SAN FRANCISCO  California  San Francisco  San Francisco   \n",
       "\n",
       "                           cbsa_name  date_of_last_change  \n",
       "0  San Francisco-Oakland-Hayward, CA           2016-04-21  \n",
       "1  San Francisco-Oakland-Hayward, CA           2016-04-14  \n",
       "\n",
       "[2 rows x 29 columns]"
      ]
     },
     "execution_count": 13,
     "metadata": {},
     "output_type": "execute_result"
    }
   ],
   "source": [
    "df_co.head(2)"
   ]
  },
  {
   "cell_type": "code",
   "execution_count": 14,
   "metadata": {
    "collapsed": false
   },
   "outputs": [],
   "source": [
    "df_SF_crime = pd.read_csv('/home/sarvpsin/Desktop/CMPE255Proj/airquality-crime-link/data/sf-crime-results-20181007-143916.csv', engine='python')"
   ]
  },
  {
   "cell_type": "code",
   "execution_count": 15,
   "metadata": {
    "collapsed": false
   },
   "outputs": [
    {
     "data": {
      "text/plain": [
       "10000"
      ]
     },
     "execution_count": 15,
     "metadata": {},
     "output_type": "execute_result"
    }
   ],
   "source": [
    "df_SF_crime.head(2)\n",
    "len(df_SF_crime)"
   ]
  },
  {
   "cell_type": "code",
   "execution_count": null,
   "metadata": {
    "collapsed": false
   },
   "outputs": [],
   "source": []
  },
  {
   "cell_type": "code",
   "execution_count": 16,
   "metadata": {
    "collapsed": false
   },
   "outputs": [
    {
     "data": {
      "text/html": [
       "<div>\n",
       "<table border=\"1\" class=\"dataframe\">\n",
       "  <thead>\n",
       "    <tr style=\"text-align: right;\">\n",
       "      <th></th>\n",
       "      <th>date_of_last_change</th>\n",
       "    </tr>\n",
       "  </thead>\n",
       "  <tbody>\n",
       "    <tr>\n",
       "      <th>0</th>\n",
       "      <td>2016-04-21</td>\n",
       "    </tr>\n",
       "    <tr>\n",
       "      <th>1</th>\n",
       "      <td>2016-04-14</td>\n",
       "    </tr>\n",
       "  </tbody>\n",
       "</table>\n",
       "</div>"
      ],
      "text/plain": [
       "  date_of_last_change\n",
       "0          2016-04-21\n",
       "1          2016-04-14"
      ]
     },
     "execution_count": 16,
     "metadata": {},
     "output_type": "execute_result"
    }
   ],
   "source": [
    "df_co_sub = df_co[['date_of_last_change']]\n",
    "df_co_sub.head(2)\n",
    "#df_co['date-of-last-change'] = pd.to_datetime(df_co['date-of-last-change'], format=\"%Y%m%dT%H:%M:%S.%f\")\n"
   ]
  },
  {
   "cell_type": "code",
   "execution_count": 17,
   "metadata": {
    "collapsed": false
   },
   "outputs": [
    {
     "data": {
      "text/plain": [
       "8500"
      ]
     },
     "execution_count": 17,
     "metadata": {},
     "output_type": "execute_result"
    }
   ],
   "source": [
    "df_newSF_Crime = df_SF_crime[df_SF_crime['category'] != 'NON-CRIMINAL']\n",
    "#df_SF_Crime_sub = df_SF_crime[['latitude', 'longitude', 'category']]\n",
    "df_newSF_Crime.head(2)\n",
    "\n",
    "len(df_newSF_Crime)"
   ]
  },
  {
   "cell_type": "code",
   "execution_count": 18,
   "metadata": {
    "collapsed": false
   },
   "outputs": [
    {
     "data": {
      "text/plain": [
       "8500"
      ]
     },
     "execution_count": 18,
     "metadata": {},
     "output_type": "execute_result"
    }
   ],
   "source": [
    "df_newSF_Crime_sub = df_newSF_Crime[['timestamp','category']]\n",
    "df_newSF_Crime_sub.head()\n",
    "len(df_newSF_Crime_sub)"
   ]
  },
  {
   "cell_type": "code",
   "execution_count": 19,
   "metadata": {
    "collapsed": false
   },
   "outputs": [
    {
     "data": {
      "text/plain": [
       "numpy.float64"
      ]
     },
     "execution_count": 19,
     "metadata": {},
     "output_type": "execute_result"
    }
   ],
   "source": [
    "#df_newSF_Crime_sub\n",
    "\n",
    "type(df_newSF_Crime['latitude'][0])"
   ]
  },
  {
   "cell_type": "code",
   "execution_count": 20,
   "metadata": {
    "collapsed": false
   },
   "outputs": [],
   "source": [
    "\n",
    "df_lat1 = df_newSF_Crime['latitude']\n",
    "df_lat1 = set(df_lat1.round(3))\n",
    "#df_lat1"
   ]
  },
  {
   "cell_type": "code",
   "execution_count": 21,
   "metadata": {
    "collapsed": false
   },
   "outputs": [],
   "source": [
    "df_long1 = df_newSF_Crime['longitude']\n",
    "df_long1 = set(df_long1.round(3))\n",
    "#df_long1"
   ]
  },
  {
   "cell_type": "code",
   "execution_count": 22,
   "metadata": {
    "collapsed": false
   },
   "outputs": [],
   "source": [
    "\n",
    "#df_lat2 = df_co_sub['latitude']\n",
    "#df_lat2 = set(df_lat2.round(6))\n",
    "#df_lat2"
   ]
  },
  {
   "cell_type": "code",
   "execution_count": 23,
   "metadata": {
    "collapsed": false
   },
   "outputs": [],
   "source": [
    "#df_long2 = df_co_sub['longitude']\n",
    "#df_long2 = set(df_long2.round(3))\n",
    "#df_long2"
   ]
  },
  {
   "cell_type": "code",
   "execution_count": 24,
   "metadata": {
    "collapsed": false
   },
   "outputs": [],
   "source": [
    "df_co_year = df_co['date_of_last_change']"
   ]
  },
  {
   "cell_type": "code",
   "execution_count": 25,
   "metadata": {
    "collapsed": false
   },
   "outputs": [
    {
     "name": "stderr",
     "output_type": "stream",
     "text": [
      "/home/sarvpsin/anaconda2/lib/python2.7/site-packages/ipykernel/__main__.py:1: SettingWithCopyWarning: \n",
      "A value is trying to be set on a copy of a slice from a DataFrame.\n",
      "Try using .loc[row_indexer,col_indexer] = value instead\n",
      "\n",
      "See the caveats in the documentation: http://pandas.pydata.org/pandas-docs/stable/indexing.html#indexing-view-versus-copy\n",
      "  if __name__ == '__main__':\n"
     ]
    },
    {
     "data": {
      "text/html": [
       "<div>\n",
       "<table border=\"1\" class=\"dataframe\">\n",
       "  <thead>\n",
       "    <tr style=\"text-align: right;\">\n",
       "      <th></th>\n",
       "      <th>year</th>\n",
       "      <th>month</th>\n",
       "      <th>Count</th>\n",
       "    </tr>\n",
       "  </thead>\n",
       "  <tbody>\n",
       "    <tr>\n",
       "      <th>0</th>\n",
       "      <td>2003</td>\n",
       "      <td>1</td>\n",
       "      <td>53</td>\n",
       "    </tr>\n",
       "    <tr>\n",
       "      <th>1</th>\n",
       "      <td>2003</td>\n",
       "      <td>2</td>\n",
       "      <td>46</td>\n",
       "    </tr>\n",
       "    <tr>\n",
       "      <th>2</th>\n",
       "      <td>2003</td>\n",
       "      <td>3</td>\n",
       "      <td>79</td>\n",
       "    </tr>\n",
       "    <tr>\n",
       "      <th>3</th>\n",
       "      <td>2003</td>\n",
       "      <td>4</td>\n",
       "      <td>72</td>\n",
       "    </tr>\n",
       "    <tr>\n",
       "      <th>4</th>\n",
       "      <td>2003</td>\n",
       "      <td>5</td>\n",
       "      <td>60</td>\n",
       "    </tr>\n",
       "  </tbody>\n",
       "</table>\n",
       "</div>"
      ],
      "text/plain": [
       "   year  month  Count\n",
       "0  2003      1     53\n",
       "1  2003      2     46\n",
       "2  2003      3     79\n",
       "3  2003      4     72\n",
       "4  2003      5     60"
      ]
     },
     "execution_count": 25,
     "metadata": {},
     "output_type": "execute_result"
    }
   ],
   "source": [
    "df_newSF_Crime['timestamp'] = pd.to_datetime(df_newSF_Crime['timestamp'], format=\"%Y%m%dT%H:%M:%S.%f\")\n",
    "df_SF_crime_subset= df_newSF_Crime[['timestamp', 'category']]\n",
    "#df_SF_crime_subset\n",
    "# need to get counts per capita\n",
    "#df = df_SF_crime_subset.groupby([df_SF_crime_subset['timestamp'].dt.year.astype(str) + '-' + df_SF_crime_subset['timestamp'].dt.month.astype(str)]).size().reset_index(name='Count')  \n",
    "#df.head()\n",
    "#type(df)\n",
    "df = df_SF_crime_subset.groupby([df_SF_crime_subset['timestamp'].dt.year.rename('year'), df_SF_crime_subset['timestamp'].dt.month.rename('month')]).size().reset_index(name='Count')\n",
    "df.head()"
   ]
  },
  {
   "cell_type": "code",
   "execution_count": 26,
   "metadata": {
    "collapsed": false
   },
   "outputs": [
    {
     "data": {
      "text/html": [
       "<div>\n",
       "<table border=\"1\" class=\"dataframe\">\n",
       "  <thead>\n",
       "    <tr style=\"text-align: right;\">\n",
       "      <th></th>\n",
       "      <th>year</th>\n",
       "      <th>month</th>\n",
       "      <th>Count</th>\n",
       "    </tr>\n",
       "  </thead>\n",
       "  <tbody>\n",
       "    <tr>\n",
       "      <th>0</th>\n",
       "      <td>1990</td>\n",
       "      <td>1</td>\n",
       "      <td>44</td>\n",
       "    </tr>\n",
       "    <tr>\n",
       "      <th>1</th>\n",
       "      <td>1990</td>\n",
       "      <td>2</td>\n",
       "      <td>39</td>\n",
       "    </tr>\n",
       "    <tr>\n",
       "      <th>2</th>\n",
       "      <td>1990</td>\n",
       "      <td>3</td>\n",
       "      <td>40</td>\n",
       "    </tr>\n",
       "    <tr>\n",
       "      <th>3</th>\n",
       "      <td>1990</td>\n",
       "      <td>4</td>\n",
       "      <td>40</td>\n",
       "    </tr>\n",
       "    <tr>\n",
       "      <th>4</th>\n",
       "      <td>1990</td>\n",
       "      <td>5</td>\n",
       "      <td>41</td>\n",
       "    </tr>\n",
       "  </tbody>\n",
       "</table>\n",
       "</div>"
      ],
      "text/plain": [
       "   year  month  Count\n",
       "0  1990      1     44\n",
       "1  1990      2     39\n",
       "2  1990      3     40\n",
       "3  1990      4     40\n",
       "4  1990      5     41"
      ]
     },
     "execution_count": 26,
     "metadata": {},
     "output_type": "execute_result"
    }
   ],
   "source": [
    "#df_co['date_local'] = pd.to_datetime(df_co['date_local'], format=\"%Y-%m-%d\")\n",
    "#df2 = df_co.groupby([df_co['date_local'].dt.year.astype(str) + '-' + df_co['date_local'].dt.month.astype(str)]).size().reset_index(name='Count')\n",
    "#type(df2)\n",
    "df_co['date_local'] = pd.to_datetime(df_co['date_local'], format=\"%Y%m%dT%H:%M:%S.%f\")\n",
    "df2 = df_co.groupby([df_co['date_local'].dt.year.rename('year'), df_co['date_local'].dt.month.rename('month')]).size().reset_index(name='Count')\n",
    "df2.head()\n",
    "\n",
    "#df2 = df_co.groupby([df_co['date_local'].dt.year.rename('year'), df_co['date_local'].dt.month.rename('month')]).size().reset_index(name='Count')\n",
    "#df2.head()\n",
    "\n",
    "#df_co['date_of_last_change'] = pd.to_datetime(df_co['date_of_last_change'], format=\"%Y-%m-%d\")\n",
    "#df = df_co.groupby([df_co['date_of_last_change'].dt.year.astype(str) + '-' + df_co['date_of_last_change'].dt.month.astype(str)]).size().reset_index(name='Count')\n",
    "#df\n",
    "\n"
   ]
  },
  {
   "cell_type": "code",
   "execution_count": 28,
   "metadata": {
    "collapsed": false
   },
   "outputs": [
    {
     "data": {
      "text/html": [
       "<div>\n",
       "<table border=\"1\" class=\"dataframe\">\n",
       "  <thead>\n",
       "    <tr style=\"text-align: right;\">\n",
       "      <th></th>\n",
       "      <th>aqi</th>\n",
       "      <th>date_local</th>\n",
       "    </tr>\n",
       "  </thead>\n",
       "  <tbody>\n",
       "    <tr>\n",
       "      <th>0</th>\n",
       "      <td>17.0</td>\n",
       "      <td>2002-09-09</td>\n",
       "    </tr>\n",
       "    <tr>\n",
       "      <th>1</th>\n",
       "      <td>NaN</td>\n",
       "      <td>2001-01-26</td>\n",
       "    </tr>\n",
       "    <tr>\n",
       "      <th>2</th>\n",
       "      <td>13.0</td>\n",
       "      <td>1999-01-31</td>\n",
       "    </tr>\n",
       "    <tr>\n",
       "      <th>3</th>\n",
       "      <td>NaN</td>\n",
       "      <td>2002-02-19</td>\n",
       "    </tr>\n",
       "    <tr>\n",
       "      <th>4</th>\n",
       "      <td>8.0</td>\n",
       "      <td>2005-07-15</td>\n",
       "    </tr>\n",
       "    <tr>\n",
       "      <th>5</th>\n",
       "      <td>NaN</td>\n",
       "      <td>1992-09-28</td>\n",
       "    </tr>\n",
       "    <tr>\n",
       "      <th>6</th>\n",
       "      <td>9.0</td>\n",
       "      <td>2003-07-15</td>\n",
       "    </tr>\n",
       "    <tr>\n",
       "      <th>7</th>\n",
       "      <td>23.0</td>\n",
       "      <td>1990-09-23</td>\n",
       "    </tr>\n",
       "    <tr>\n",
       "      <th>8</th>\n",
       "      <td>NaN</td>\n",
       "      <td>1997-08-12</td>\n",
       "    </tr>\n",
       "    <tr>\n",
       "      <th>9</th>\n",
       "      <td>10.0</td>\n",
       "      <td>1999-06-25</td>\n",
       "    </tr>\n",
       "    <tr>\n",
       "      <th>10</th>\n",
       "      <td>NaN</td>\n",
       "      <td>1999-08-31</td>\n",
       "    </tr>\n",
       "    <tr>\n",
       "      <th>11</th>\n",
       "      <td>35.0</td>\n",
       "      <td>1991-01-07</td>\n",
       "    </tr>\n",
       "    <tr>\n",
       "      <th>12</th>\n",
       "      <td>15.0</td>\n",
       "      <td>1996-11-17</td>\n",
       "    </tr>\n",
       "    <tr>\n",
       "      <th>13</th>\n",
       "      <td>NaN</td>\n",
       "      <td>2005-08-17</td>\n",
       "    </tr>\n",
       "    <tr>\n",
       "      <th>14</th>\n",
       "      <td>NaN</td>\n",
       "      <td>2003-03-14</td>\n",
       "    </tr>\n",
       "    <tr>\n",
       "      <th>15</th>\n",
       "      <td>NaN</td>\n",
       "      <td>1992-04-20</td>\n",
       "    </tr>\n",
       "    <tr>\n",
       "      <th>16</th>\n",
       "      <td>NaN</td>\n",
       "      <td>2002-02-02</td>\n",
       "    </tr>\n",
       "    <tr>\n",
       "      <th>17</th>\n",
       "      <td>26.0</td>\n",
       "      <td>2000-01-06</td>\n",
       "    </tr>\n",
       "    <tr>\n",
       "      <th>18</th>\n",
       "      <td>NaN</td>\n",
       "      <td>1993-11-21</td>\n",
       "    </tr>\n",
       "    <tr>\n",
       "      <th>19</th>\n",
       "      <td>NaN</td>\n",
       "      <td>1997-01-10</td>\n",
       "    </tr>\n",
       "    <tr>\n",
       "      <th>20</th>\n",
       "      <td>NaN</td>\n",
       "      <td>1993-08-19</td>\n",
       "    </tr>\n",
       "    <tr>\n",
       "      <th>21</th>\n",
       "      <td>NaN</td>\n",
       "      <td>2001-02-28</td>\n",
       "    </tr>\n",
       "    <tr>\n",
       "      <th>22</th>\n",
       "      <td>NaN</td>\n",
       "      <td>1993-11-14</td>\n",
       "    </tr>\n",
       "    <tr>\n",
       "      <th>23</th>\n",
       "      <td>10.0</td>\n",
       "      <td>1998-07-03</td>\n",
       "    </tr>\n",
       "    <tr>\n",
       "      <th>24</th>\n",
       "      <td>23.0</td>\n",
       "      <td>1995-03-01</td>\n",
       "    </tr>\n",
       "    <tr>\n",
       "      <th>25</th>\n",
       "      <td>7.0</td>\n",
       "      <td>2005-07-26</td>\n",
       "    </tr>\n",
       "    <tr>\n",
       "      <th>26</th>\n",
       "      <td>NaN</td>\n",
       "      <td>2002-08-06</td>\n",
       "    </tr>\n",
       "    <tr>\n",
       "      <th>27</th>\n",
       "      <td>NaN</td>\n",
       "      <td>2001-10-04</td>\n",
       "    </tr>\n",
       "    <tr>\n",
       "      <th>28</th>\n",
       "      <td>13.0</td>\n",
       "      <td>1996-06-20</td>\n",
       "    </tr>\n",
       "    <tr>\n",
       "      <th>29</th>\n",
       "      <td>NaN</td>\n",
       "      <td>1991-06-09</td>\n",
       "    </tr>\n",
       "    <tr>\n",
       "      <th>...</th>\n",
       "      <td>...</td>\n",
       "      <td>...</td>\n",
       "    </tr>\n",
       "    <tr>\n",
       "      <th>9970</th>\n",
       "      <td>11.0</td>\n",
       "      <td>1991-07-08</td>\n",
       "    </tr>\n",
       "    <tr>\n",
       "      <th>9971</th>\n",
       "      <td>7.0</td>\n",
       "      <td>2012-11-26</td>\n",
       "    </tr>\n",
       "    <tr>\n",
       "      <th>9972</th>\n",
       "      <td>NaN</td>\n",
       "      <td>1993-05-07</td>\n",
       "    </tr>\n",
       "    <tr>\n",
       "      <th>9973</th>\n",
       "      <td>2.0</td>\n",
       "      <td>2010-09-23</td>\n",
       "    </tr>\n",
       "    <tr>\n",
       "      <th>9974</th>\n",
       "      <td>6.0</td>\n",
       "      <td>2003-09-15</td>\n",
       "    </tr>\n",
       "    <tr>\n",
       "      <th>9975</th>\n",
       "      <td>24.0</td>\n",
       "      <td>1996-10-15</td>\n",
       "    </tr>\n",
       "    <tr>\n",
       "      <th>9976</th>\n",
       "      <td>NaN</td>\n",
       "      <td>2016-04-26</td>\n",
       "    </tr>\n",
       "    <tr>\n",
       "      <th>9977</th>\n",
       "      <td>NaN</td>\n",
       "      <td>2004-08-18</td>\n",
       "    </tr>\n",
       "    <tr>\n",
       "      <th>9978</th>\n",
       "      <td>14.0</td>\n",
       "      <td>1995-10-09</td>\n",
       "    </tr>\n",
       "    <tr>\n",
       "      <th>9979</th>\n",
       "      <td>5.0</td>\n",
       "      <td>1998-07-22</td>\n",
       "    </tr>\n",
       "    <tr>\n",
       "      <th>9980</th>\n",
       "      <td>NaN</td>\n",
       "      <td>2007-10-16</td>\n",
       "    </tr>\n",
       "    <tr>\n",
       "      <th>9981</th>\n",
       "      <td>NaN</td>\n",
       "      <td>1998-02-05</td>\n",
       "    </tr>\n",
       "    <tr>\n",
       "      <th>9982</th>\n",
       "      <td>NaN</td>\n",
       "      <td>1991-09-17</td>\n",
       "    </tr>\n",
       "    <tr>\n",
       "      <th>9983</th>\n",
       "      <td>NaN</td>\n",
       "      <td>1998-05-17</td>\n",
       "    </tr>\n",
       "    <tr>\n",
       "      <th>9984</th>\n",
       "      <td>15.0</td>\n",
       "      <td>1994-11-04</td>\n",
       "    </tr>\n",
       "    <tr>\n",
       "      <th>9985</th>\n",
       "      <td>NaN</td>\n",
       "      <td>1991-04-04</td>\n",
       "    </tr>\n",
       "    <tr>\n",
       "      <th>9986</th>\n",
       "      <td>NaN</td>\n",
       "      <td>1994-03-16</td>\n",
       "    </tr>\n",
       "    <tr>\n",
       "      <th>9987</th>\n",
       "      <td>11.0</td>\n",
       "      <td>1990-02-06</td>\n",
       "    </tr>\n",
       "    <tr>\n",
       "      <th>9988</th>\n",
       "      <td>5.0</td>\n",
       "      <td>2015-09-12</td>\n",
       "    </tr>\n",
       "    <tr>\n",
       "      <th>9989</th>\n",
       "      <td>3.0</td>\n",
       "      <td>1997-07-30</td>\n",
       "    </tr>\n",
       "    <tr>\n",
       "      <th>9990</th>\n",
       "      <td>14.0</td>\n",
       "      <td>1999-01-12</td>\n",
       "    </tr>\n",
       "    <tr>\n",
       "      <th>9991</th>\n",
       "      <td>NaN</td>\n",
       "      <td>2001-05-14</td>\n",
       "    </tr>\n",
       "    <tr>\n",
       "      <th>9992</th>\n",
       "      <td>13.0</td>\n",
       "      <td>2007-01-24</td>\n",
       "    </tr>\n",
       "    <tr>\n",
       "      <th>9993</th>\n",
       "      <td>NaN</td>\n",
       "      <td>1992-10-27</td>\n",
       "    </tr>\n",
       "    <tr>\n",
       "      <th>9994</th>\n",
       "      <td>NaN</td>\n",
       "      <td>2010-01-16</td>\n",
       "    </tr>\n",
       "    <tr>\n",
       "      <th>9995</th>\n",
       "      <td>NaN</td>\n",
       "      <td>2015-03-23</td>\n",
       "    </tr>\n",
       "    <tr>\n",
       "      <th>9996</th>\n",
       "      <td>8.0</td>\n",
       "      <td>1998-03-19</td>\n",
       "    </tr>\n",
       "    <tr>\n",
       "      <th>9997</th>\n",
       "      <td>5.0</td>\n",
       "      <td>2006-08-07</td>\n",
       "    </tr>\n",
       "    <tr>\n",
       "      <th>9998</th>\n",
       "      <td>8.0</td>\n",
       "      <td>1998-02-07</td>\n",
       "    </tr>\n",
       "    <tr>\n",
       "      <th>9999</th>\n",
       "      <td>NaN</td>\n",
       "      <td>2014-04-05</td>\n",
       "    </tr>\n",
       "  </tbody>\n",
       "</table>\n",
       "<p>10000 rows × 2 columns</p>\n",
       "</div>"
      ],
      "text/plain": [
       "       aqi date_local\n",
       "0     17.0 2002-09-09\n",
       "1      NaN 2001-01-26\n",
       "2     13.0 1999-01-31\n",
       "3      NaN 2002-02-19\n",
       "4      8.0 2005-07-15\n",
       "5      NaN 1992-09-28\n",
       "6      9.0 2003-07-15\n",
       "7     23.0 1990-09-23\n",
       "8      NaN 1997-08-12\n",
       "9     10.0 1999-06-25\n",
       "10     NaN 1999-08-31\n",
       "11    35.0 1991-01-07\n",
       "12    15.0 1996-11-17\n",
       "13     NaN 2005-08-17\n",
       "14     NaN 2003-03-14\n",
       "15     NaN 1992-04-20\n",
       "16     NaN 2002-02-02\n",
       "17    26.0 2000-01-06\n",
       "18     NaN 1993-11-21\n",
       "19     NaN 1997-01-10\n",
       "20     NaN 1993-08-19\n",
       "21     NaN 2001-02-28\n",
       "22     NaN 1993-11-14\n",
       "23    10.0 1998-07-03\n",
       "24    23.0 1995-03-01\n",
       "25     7.0 2005-07-26\n",
       "26     NaN 2002-08-06\n",
       "27     NaN 2001-10-04\n",
       "28    13.0 1996-06-20\n",
       "29     NaN 1991-06-09\n",
       "...    ...        ...\n",
       "9970  11.0 1991-07-08\n",
       "9971   7.0 2012-11-26\n",
       "9972   NaN 1993-05-07\n",
       "9973   2.0 2010-09-23\n",
       "9974   6.0 2003-09-15\n",
       "9975  24.0 1996-10-15\n",
       "9976   NaN 2016-04-26\n",
       "9977   NaN 2004-08-18\n",
       "9978  14.0 1995-10-09\n",
       "9979   5.0 1998-07-22\n",
       "9980   NaN 2007-10-16\n",
       "9981   NaN 1998-02-05\n",
       "9982   NaN 1991-09-17\n",
       "9983   NaN 1998-05-17\n",
       "9984  15.0 1994-11-04\n",
       "9985   NaN 1991-04-04\n",
       "9986   NaN 1994-03-16\n",
       "9987  11.0 1990-02-06\n",
       "9988   5.0 2015-09-12\n",
       "9989   3.0 1997-07-30\n",
       "9990  14.0 1999-01-12\n",
       "9991   NaN 2001-05-14\n",
       "9992  13.0 2007-01-24\n",
       "9993   NaN 1992-10-27\n",
       "9994   NaN 2010-01-16\n",
       "9995   NaN 2015-03-23\n",
       "9996   8.0 1998-03-19\n",
       "9997   5.0 2006-08-07\n",
       "9998   8.0 1998-02-07\n",
       "9999   NaN 2014-04-05\n",
       "\n",
       "[10000 rows x 2 columns]"
      ]
     },
     "execution_count": 28,
     "metadata": {},
     "output_type": "execute_result"
    }
   ],
   "source": [
    "df_co_new= df_co[['aqi', 'date_local']]\n",
    "df_co_new\n",
    "#df_co_subset = df_co[['date_local','arithmetic_mean']]\n",
    "#df_co_subset\n",
    "#df_co_subset = df_co_subset.groupby([df_co_subset['date_local'].dt.year.rename('year'), df_co_subset['date_local'].dt.month.rename('month')]).mean().reset_index()\n",
    "#df_co_subset.head()\n"
   ]
  },
  {
   "cell_type": "code",
   "execution_count": 41,
   "metadata": {
    "collapsed": false
   },
   "outputs": [
    {
     "data": {
      "text/html": [
       "<div>\n",
       "<table border=\"1\" class=\"dataframe\">\n",
       "  <thead>\n",
       "    <tr style=\"text-align: right;\">\n",
       "      <th></th>\n",
       "      <th>year</th>\n",
       "      <th>month</th>\n",
       "      <th>arithmetic_mean</th>\n",
       "      <th>Count</th>\n",
       "    </tr>\n",
       "  </thead>\n",
       "  <tbody>\n",
       "    <tr>\n",
       "      <th>0</th>\n",
       "      <td>2003</td>\n",
       "      <td>1</td>\n",
       "      <td>0.865485</td>\n",
       "      <td>53</td>\n",
       "    </tr>\n",
       "    <tr>\n",
       "      <th>1</th>\n",
       "      <td>2003</td>\n",
       "      <td>2</td>\n",
       "      <td>0.760733</td>\n",
       "      <td>46</td>\n",
       "    </tr>\n",
       "    <tr>\n",
       "      <th>2</th>\n",
       "      <td>2003</td>\n",
       "      <td>3</td>\n",
       "      <td>0.640547</td>\n",
       "      <td>79</td>\n",
       "    </tr>\n",
       "    <tr>\n",
       "      <th>3</th>\n",
       "      <td>2003</td>\n",
       "      <td>4</td>\n",
       "      <td>0.649492</td>\n",
       "      <td>72</td>\n",
       "    </tr>\n",
       "    <tr>\n",
       "      <th>4</th>\n",
       "      <td>2003</td>\n",
       "      <td>5</td>\n",
       "      <td>0.570179</td>\n",
       "      <td>60</td>\n",
       "    </tr>\n",
       "  </tbody>\n",
       "</table>\n",
       "</div>"
      ],
      "text/plain": [
       "   year  month  arithmetic_mean  Count\n",
       "0  2003      1         0.865485     53\n",
       "1  2003      2         0.760733     46\n",
       "2  2003      3         0.640547     79\n",
       "3  2003      4         0.649492     72\n",
       "4  2003      5         0.570179     60"
      ]
     },
     "execution_count": 41,
     "metadata": {},
     "output_type": "execute_result"
    }
   ],
   "source": [
    "df_merged = pd.merge(df_co_subset, df, on=['year','month'], left_index=True)\n",
    "df_merged.head()"
   ]
  },
  {
   "cell_type": "code",
   "execution_count": 42,
   "metadata": {
    "collapsed": false
   },
   "outputs": [
    {
     "data": {
      "image/png": "[encoded data removed]",
      "text/plain": [
       "<matplotlib.figure.Figure at 0x7f50623200d0>"
      ]
     },
     "metadata": {},
     "output_type": "display_data"
    }
   ],
   "source": [
    "plt.plot(df_merged['arithmetic_mean'], df_merged['Count'])\n",
    "plt.xlabel('Arithmetic_Mean')\n",
    "plt.ylabel('Count of Crimes')\n",
    "\n",
    "plt.show()"
   ]
  },
  {
   "cell_type": "code",
   "execution_count": 45,
   "metadata": {
    "collapsed": false
   },
   "outputs": [],
   "source": [
    "#Correlation=data.corr(method='pearson')\n",
    "#sns.heatmap(df_merged['Count'],df_merged['arithmetic_mean'] ,cmap='Blues',cbar=False)\n",
    "#plt.show()"
   ]
  },
  {
   "cell_type": "code",
   "execution_count": 97,
   "metadata": {
    "collapsed": false
   },
   "outputs": [],
   "source": [
    "from sklearn.model_selection import KFold\n",
    "from sklearn.model_selection import train_test_split\n"
   ]
  },
  {
   "cell_type": "code",
   "execution_count": 98,
   "metadata": {
    "collapsed": false
   },
   "outputs": [],
   "source": [
    "from sklearn.metrics import accuracy_score\n",
    "from sklearn.metrics import f1_score"
   ]
  },
  {
   "cell_type": "code",
   "execution_count": 99,
   "metadata": {
    "collapsed": true
   },
   "outputs": [],
   "source": [
    "X_train, X_test, y_train, y_test = train_test_split(df_merged[['year','arithmetic_mean']], df_merged['Count'].values, test_size=0.33, random_state=42)"
   ]
  },
  {
   "cell_type": "code",
   "execution_count": 100,
   "metadata": {
    "collapsed": false
   },
   "outputs": [
    {
     "data": {
      "text/plain": [
       "array([ 6, 57, 57, 62, 58,  8, 56, 48, 68, 64, 57, 47, 54, 53, 60, 50, 55,\n",
       "       59, 46, 65, 54, 77, 53, 75, 48, 53, 50, 62, 43, 55, 64, 52, 42, 63,\n",
       "       72, 58, 50, 64, 50, 59, 41, 46,  5,  7, 48, 49, 49, 10, 44, 44, 55,\n",
       "       70, 98, 79, 47,  4, 49, 58, 53, 39, 59,  3, 72,  7, 39, 46, 52, 44,\n",
       "       56, 48, 79, 60, 47, 12,  3, 36, 62, 61, 49,  6, 44, 36, 57,  3, 74,\n",
       "       57, 10, 55, 47, 40, 51,  7, 49, 54, 44, 50, 41,  4, 56, 48,  5,  6,\n",
       "       46, 47, 63, 41, 74, 36, 53, 46, 49, 58, 36,  5, 60, 45, 44, 58, 42,\n",
       "       31])"
      ]
     },
     "execution_count": 100,
     "metadata": {},
     "output_type": "execute_result"
    }
   ],
   "source": [
    "y_train\n"
   ]
  },
  {
   "cell_type": "code",
   "execution_count": 101,
   "metadata": {
    "collapsed": false
   },
   "outputs": [],
   "source": [
    "from sklearn.linear_model import LogisticRegression\n",
    "\n",
    "Model_LR=LogisticRegression()\n",
    "Model_LR.fit(X_train,y_train)\n",
    "y_predict=Model_LR.predict(X_test)"
   ]
  },
  {
   "cell_type": "code",
   "execution_count": 29,
   "metadata": {
    "collapsed": false
   },
   "outputs": [],
   "source": [
    "#print('Accuracy :', accuracy_score(y_test,y_predict))"
   ]
  },
  {
   "cell_type": "code",
   "execution_count": 103,
   "metadata": {
    "collapsed": false
   },
   "outputs": [
    {
     "name": "stdout",
     "output_type": "stream",
     "text": [
      "('Confusion Matrix: ', array([[0, 0, 0, ..., 0, 0, 0],\n",
      "       [0, 0, 0, ..., 0, 0, 0],\n",
      "       [0, 0, 0, ..., 0, 0, 0],\n",
      "       ..., \n",
      "       [0, 0, 0, ..., 0, 0, 0],\n",
      "       [0, 0, 0, ..., 0, 0, 0],\n",
      "       [0, 0, 0, ..., 0, 0, 0]]))\n"
     ]
    }
   ],
   "source": [
    "from sklearn.metrics import confusion_matrix\n",
    "\n",
    "print('Confusion Matrix: ', confusion_matrix(y_test,y_predict))"
   ]
  },
  {
   "cell_type": "code",
   "execution_count": 104,
   "metadata": {
    "collapsed": false
   },
   "outputs": [],
   "source": [
    "#from sklearn.metrics import roc_auc_score, roc_curve, auc, precision_recall_curve\n",
    "\n",
    "#precision, recall, thresholds = precision_recall_curve(y_test, Model_LR.predict_proba(X_test)[:,1])"
   ]
  },
  {
   "cell_type": "code",
   "execution_count": 30,
   "metadata": {
    "collapsed": false
   },
   "outputs": [],
   "source": [
    "from sklearn.metrics import classification_report\n",
    "\n",
    "#print(classification_report(y_test,y_predict))"
   ]
  },
  {
   "cell_type": "code",
   "execution_count": 31,
   "metadata": {
    "collapsed": false
   },
   "outputs": [],
   "source": [
    "#print('f1 :', f1_score(y_test,y_predict, average=None))"
   ]
  },
  {
   "cell_type": "code",
   "execution_count": 107,
   "metadata": {
    "collapsed": true
   },
   "outputs": [],
   "source": [
    "from sklearn.model_selection import cross_val_score\n",
    "from sklearn.tree import DecisionTreeRegressor"
   ]
  },
  {
   "cell_type": "code",
   "execution_count": 108,
   "metadata": {
    "collapsed": true
   },
   "outputs": [],
   "source": [
    "regressor = DecisionTreeRegressor(random_state=0)"
   ]
  },
  {
   "cell_type": "code",
   "execution_count": 109,
   "metadata": {
    "collapsed": false
   },
   "outputs": [],
   "source": [
    "#cross_val_score(regressor, y_predict, y_test, cv=10)"
   ]
  },
  {
   "cell_type": "code",
   "execution_count": null,
   "metadata": {
    "collapsed": true
   },
   "outputs": [],
   "source": []
  }
 ],
 "metadata": {
  "kernelspec": {
   "display_name": "Python 2",
   "language": "python",
   "name": "python2"
  },
  "language_info": {
   "codemirror_mode": {
    "name": "ipython",
    "version": 2
   },
   "file_extension": ".py",
   "mimetype": "text/x-python",
   "name": "python",
   "nbconvert_exporter": "python",
   "pygments_lexer": "ipython2",
   "version": "2.7.13"
  }
 },
 "nbformat": 4,
 "nbformat_minor": 2
}
