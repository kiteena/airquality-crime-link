{
 "cells": [
  {
   "cell_type": "code",
   "execution_count": 2,
   "metadata": {
    "collapsed": true
   },
   "outputs": [],
   "source": [
    "import pandas as pd\n",
    "\n",
    "def merge_data(pollution, crime):\n",
    "    return pd.merge(pollution, crime, on=['date'], left_index=True)\n",
    "\n",
    "\n",
    "def per_capita(crime, census):\n",
    "    for i in range(len(census)):\n",
    "        crime.loc[list((crime[crime['date'].str.contains(str(census.loc[i,'year']))]).index.values), 'per_capita'] = crime[crime['date'].str.contains(str(census.loc[i,'year']))]['crimes']/census.loc[i,'pop']\n",
    "\n"
   ]
  },
  {
   "cell_type": "code",
   "execution_count": null,
   "metadata": {
    "collapsed": true
   },
   "outputs": [],
   "source": []
  }
 ],
 "metadata": {
  "kernelspec": {
   "display_name": "Python 2",
   "language": "python",
   "name": "python2"
  },
  "language_info": {
   "codemirror_mode": {
    "name": "ipython",
    "version": 2
   },
   "file_extension": ".py",
   "mimetype": "text/x-python",
   "name": "python",
   "nbconvert_exporter": "python",
   "pygments_lexer": "ipython2",
   "version": "2.7.13"
  }
 },
 "nbformat": 4,
 "nbformat_minor": 2
}
