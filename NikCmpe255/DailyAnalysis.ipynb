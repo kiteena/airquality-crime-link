{
 "cells": [
  {
   "cell_type": "code",
   "execution_count": 1,
   "metadata": {
    "scrolled": false
   },
   "outputs": [],
   "source": [
    "import numpy as np\n",
    "import pandas as pd\n",
    "# matplotlib for plotting\n",
    "import matplotlib.pyplot as plt\n",
    "import seaborn as sns\n",
    "plt.style.use('fivethirtyeight')\n",
    "from google.cloud import bigquery\n",
    "from bq_helper import BigQueryHelper\n",
    "%load_ext google.cloud.bigquery\n",
    "import os\n",
    "%matplotlib inline\n",
    "\n",
    "\n",
    "# For visualization\n",
    "from bokeh.plotting import figure, output_file, show\n",
    "from bokeh.models import ColumnDataSource, HoverTool\n",
    "from bokeh.palettes import Spectral6, brewer\n",
    "from bokeh.transform import factor_cmap\n",
    "\n",
    "os.environ[\"GOOGLE_APPLICATION_CREDENTIALS\"]=\"My Project-bbdce7b1712b.json\"\n",
    "\n",
    "bq_assistant = BigQueryHelper(\"bigquery-public-data\", \"epa_historical_air_quality\")\n"
   ]
  },
  {
   "cell_type": "markdown",
   "metadata": {},
   "source": [
    "# ANALYZE ONLY FROM JAN 2003 TO DEC 2017"
   ]
  },
  {
   "cell_type": "markdown",
   "metadata": {},
   "source": [
    "# Analyze CO Daily"
   ]
  },
  {
   "cell_type": "code",
   "execution_count": 2,
   "metadata": {},
   "outputs": [],
   "source": [
    "\n",
    "query=\"\"\"\n",
    "SELECT\n",
    "        date_local,\n",
    "        round(avg(aqi),2) as avg_aqi_CO\n",
    "    FROM\n",
    "      `bigquery-public-data.epa_historical_air_quality.co_daily_summary`\n",
    "    WHERE\n",
    "       state_name =\"California\" AND city_name=\"San Francisco\"\n",
    "    GROUP BY date_local\n",
    "    ORDER BY date_local ASC\n",
    "\n",
    "\"\"\"\n",
    "\n",
    "df_co_Daily=bq_assistant.query_to_pandas(query)"
   ]
  },
  {
   "cell_type": "code",
   "execution_count": 3,
   "metadata": {},
   "outputs": [],
   "source": [
    "## Reference https://stackoverflow.com/questions/26763344/convert-pandas-column-to-datetime\n",
    "df_co_Daily['date_local'] =  pd.to_datetime(df_co_Daily['date_local'], format='%Y-%m-%d')\n",
    "##df['Date'].dt.strftime('%Y%m%d')\n"
   ]
  },
  {
   "cell_type": "code",
   "execution_count": 4,
   "metadata": {},
   "outputs": [],
   "source": [
    "df_co_Daily=df_co_Daily[df_co_Daily['date_local']>='2003-01-01']"
   ]
  },
  {
   "cell_type": "code",
   "execution_count": 5,
   "metadata": {},
   "outputs": [],
   "source": [
    "df_co_Daily.set_index('date_local',inplace=True)"
   ]
  },
  {
   "cell_type": "code",
   "execution_count": 6,
   "metadata": {},
   "outputs": [
    {
     "data": {
      "text/plain": [
       "<matplotlib.axes._subplots.AxesSubplot at 0x1a0f0ffef0>"
      ]
     },
     "execution_count": 6,
     "metadata": {},
     "output_type": "execute_result"
    },
    {
     "data": {
      "image/png": "[encoded data removed]",
      "text/plain": [
       "<Figure size 432x288 with 1 Axes>"
      ]
     },
     "metadata": {},
     "output_type": "display_data"
    }
   ],
   "source": [
    "from matplotlib import style\n",
    "style.use('ggplot')\n",
    "\n",
    "df_co_Daily['avg_aqi_CO'].plot()"
   ]
  },
  {
   "cell_type": "code",
   "execution_count": 7,
   "metadata": {},
   "outputs": [
    {
     "data": {
      "text/html": [
       "<div>\n",
       "<style scoped>\n",
       "    .dataframe tbody tr th:only-of-type {\n",
       "        vertical-align: middle;\n",
       "    }\n",
       "\n",
       "    .dataframe tbody tr th {\n",
       "        vertical-align: top;\n",
       "    }\n",
       "\n",
       "    .dataframe thead th {\n",
       "        text-align: right;\n",
       "    }\n",
       "</style>\n",
       "<table border=\"1\" class=\"dataframe\">\n",
       "  <thead>\n",
       "    <tr style=\"text-align: right;\">\n",
       "      <th></th>\n",
       "      <th>avg_aqi_CO</th>\n",
       "      <th>100ma_for_CO</th>\n",
       "    </tr>\n",
       "    <tr>\n",
       "      <th>date_local</th>\n",
       "      <th></th>\n",
       "      <th></th>\n",
       "    </tr>\n",
       "  </thead>\n",
       "  <tbody>\n",
       "    <tr>\n",
       "      <th>2003-01-01</th>\n",
       "      <td>21.0</td>\n",
       "      <td>21.000000</td>\n",
       "    </tr>\n",
       "    <tr>\n",
       "      <th>2003-01-02</th>\n",
       "      <td>12.5</td>\n",
       "      <td>16.750000</td>\n",
       "    </tr>\n",
       "    <tr>\n",
       "      <th>2003-01-03</th>\n",
       "      <td>16.5</td>\n",
       "      <td>16.666667</td>\n",
       "    </tr>\n",
       "    <tr>\n",
       "      <th>2003-01-04</th>\n",
       "      <td>17.0</td>\n",
       "      <td>16.750000</td>\n",
       "    </tr>\n",
       "    <tr>\n",
       "      <th>2003-01-05</th>\n",
       "      <td>17.5</td>\n",
       "      <td>16.900000</td>\n",
       "    </tr>\n",
       "  </tbody>\n",
       "</table>\n",
       "</div>"
      ],
      "text/plain": [
       "            avg_aqi_CO  100ma_for_CO\n",
       "date_local                          \n",
       "2003-01-01        21.0     21.000000\n",
       "2003-01-02        12.5     16.750000\n",
       "2003-01-03        16.5     16.666667\n",
       "2003-01-04        17.0     16.750000\n",
       "2003-01-05        17.5     16.900000"
      ]
     },
     "execution_count": 7,
     "metadata": {},
     "output_type": "execute_result"
    }
   ],
   "source": [
    "## Reference https://pythonprogramming.net/stock-data-manipulation-python-programming-for-finance/\n",
    "df_co_Daily['100ma_for_CO'] = df_co_Daily['avg_aqi_CO'].rolling(window=100,min_periods=0).mean()\n",
    "df_co_Daily.round(2)\n",
    "\n",
    "df_co_Daily.head(5)"
   ]
  },
  {
   "cell_type": "code",
   "execution_count": 8,
   "metadata": {},
   "outputs": [],
   "source": [
    "# ax1 = plt.subplot2grid((6,1), (0,0), rowspan=5, colspan=1,)\n",
    "# ax2 = plt.subplot2grid((6,1), (5,0), rowspan=1, colspan=1, sharex=ax1)\n",
    "\n",
    "# ax1.plot(df_co_Daily.index, df_co_Daily['avg_aqi_CO'])\n",
    "# ax1.plot(df_co_Daily.index, df_co_Daily['100ma'])\n",
    "\n",
    "# plt.show()"
   ]
  },
  {
   "cell_type": "markdown",
   "metadata": {},
   "source": [
    "# Analyze Ozone Daily"
   ]
  },
  {
   "cell_type": "code",
   "execution_count": 9,
   "metadata": {},
   "outputs": [],
   "source": [
    "\n",
    "query=\"\"\"\n",
    "SELECT\n",
    "        date_local,\n",
    "        round(avg(aqi),2) as avg_aqi_O3\n",
    "    FROM\n",
    "      `bigquery-public-data.epa_historical_air_quality.o3_daily_summary`\n",
    "    WHERE\n",
    "       state_name =\"California\" AND city_name=\"San Francisco\"\n",
    "    GROUP BY date_local\n",
    "    ORDER BY date_local ASC\n",
    "\n",
    "\"\"\"\n",
    "\n",
    "df_o3_Daily=bq_assistant.query_to_pandas(query)\n",
    "df_o3_Daily['date_local'] =  pd.to_datetime(df_o3_Daily['date_local'], format='%Y-%m-%d')\n",
    "## filter after 2003\n",
    "df_o3_Daily=df_o3_Daily[df_o3_Daily['date_local']>='2003-01-01']\n",
    "\n",
    "df_o3_Daily.set_index('date_local',inplace=True)"
   ]
  },
  {
   "cell_type": "code",
   "execution_count": 10,
   "metadata": {},
   "outputs": [
    {
     "data": {
      "text/plain": [
       "<matplotlib.axes._subplots.AxesSubplot at 0x1a1049bcf8>"
      ]
     },
     "execution_count": 10,
     "metadata": {},
     "output_type": "execute_result"
    },
    {
     "data": {
      "image/png": "[encoded data removed]",
      "text/plain": [
       "<Figure size 432x288 with 1 Axes>"
      ]
     },
     "metadata": {},
     "output_type": "display_data"
    }
   ],
   "source": [
    "from matplotlib import style\n",
    "style.use('ggplot')\n",
    "\n",
    "df_o3_Daily['avg_aqi_O3'].plot()"
   ]
  },
  {
   "cell_type": "code",
   "execution_count": 11,
   "metadata": {},
   "outputs": [
    {
     "data": {
      "text/html": [
       "<div>\n",
       "<style scoped>\n",
       "    .dataframe tbody tr th:only-of-type {\n",
       "        vertical-align: middle;\n",
       "    }\n",
       "\n",
       "    .dataframe tbody tr th {\n",
       "        vertical-align: top;\n",
       "    }\n",
       "\n",
       "    .dataframe thead th {\n",
       "        text-align: right;\n",
       "    }\n",
       "</style>\n",
       "<table border=\"1\" class=\"dataframe\">\n",
       "  <thead>\n",
       "    <tr style=\"text-align: right;\">\n",
       "      <th></th>\n",
       "      <th>avg_aqi_O3</th>\n",
       "      <th>100ma_for_Ozone</th>\n",
       "    </tr>\n",
       "    <tr>\n",
       "      <th>date_local</th>\n",
       "      <th></th>\n",
       "      <th></th>\n",
       "    </tr>\n",
       "  </thead>\n",
       "  <tbody>\n",
       "    <tr>\n",
       "      <th>2003-01-01</th>\n",
       "      <td>14.0</td>\n",
       "      <td>14.000000</td>\n",
       "    </tr>\n",
       "    <tr>\n",
       "      <th>2003-01-02</th>\n",
       "      <td>3.0</td>\n",
       "      <td>8.500000</td>\n",
       "    </tr>\n",
       "    <tr>\n",
       "      <th>2003-01-03</th>\n",
       "      <td>5.0</td>\n",
       "      <td>7.333333</td>\n",
       "    </tr>\n",
       "    <tr>\n",
       "      <th>2003-01-04</th>\n",
       "      <td>8.0</td>\n",
       "      <td>7.500000</td>\n",
       "    </tr>\n",
       "    <tr>\n",
       "      <th>2003-01-05</th>\n",
       "      <td>13.0</td>\n",
       "      <td>8.600000</td>\n",
       "    </tr>\n",
       "  </tbody>\n",
       "</table>\n",
       "</div>"
      ],
      "text/plain": [
       "            avg_aqi_O3  100ma_for_Ozone\n",
       "date_local                             \n",
       "2003-01-01        14.0        14.000000\n",
       "2003-01-02         3.0         8.500000\n",
       "2003-01-03         5.0         7.333333\n",
       "2003-01-04         8.0         7.500000\n",
       "2003-01-05        13.0         8.600000"
      ]
     },
     "execution_count": 11,
     "metadata": {},
     "output_type": "execute_result"
    }
   ],
   "source": [
    "## Reference https://pythonprogramming.net/stock-data-manipulation-python-programming-for-finance/\n",
    "df_o3_Daily['100ma_for_Ozone'] = df_o3_Daily['avg_aqi_O3'].rolling(window=100,min_periods=0).mean()\n",
    "df_o3_Daily.round(2)\n",
    "\n",
    "df_o3_Daily.head()"
   ]
  },
  {
   "cell_type": "markdown",
   "metadata": {},
   "source": [
    "# Analyze Nitrogen Dioxide Daily\n"
   ]
  },
  {
   "cell_type": "code",
   "execution_count": 12,
   "metadata": {},
   "outputs": [],
   "source": [
    "\n",
    "\n",
    "query=\"\"\"\n",
    "SELECT\n",
    "        date_local,\n",
    "        round(avg(aqi),2) as avg_aqi_NO2\n",
    "    FROM\n",
    "      `bigquery-public-data.epa_historical_air_quality.no2_daily_summary`\n",
    "    WHERE\n",
    "       state_name =\"California\" AND city_name=\"San Francisco\"\n",
    "    GROUP BY date_local\n",
    "    ORDER BY date_local ASC\n",
    "\n",
    "\"\"\"\n",
    "\n",
    "df_no2_Daily=bq_assistant.query_to_pandas(query)\n",
    "df_no2_Daily['date_local'] =  pd.to_datetime(df_no2_Daily['date_local'], format='%Y-%m-%d')\n",
    "## filter after 2003\n",
    "df_no2_Daily=df_no2_Daily[df_no2_Daily['date_local']>='2003-01-01']\n",
    "\n",
    "df_no2_Daily.set_index('date_local',inplace=True)"
   ]
  },
  {
   "cell_type": "code",
   "execution_count": 13,
   "metadata": {},
   "outputs": [
    {
     "data": {
      "text/plain": [
       "<matplotlib.axes._subplots.AxesSubplot at 0x1a1049b1d0>"
      ]
     },
     "execution_count": 13,
     "metadata": {},
     "output_type": "execute_result"
    },
    {
     "data": {
      "image/png": "[encoded data removed]",
      "text/plain": [
       "<Figure size 432x288 with 1 Axes>"
      ]
     },
     "metadata": {},
     "output_type": "display_data"
    }
   ],
   "source": [
    "from matplotlib import style\n",
    "style.use('ggplot')\n",
    "\n",
    "df_no2_Daily['avg_aqi_NO2'].plot()"
   ]
  },
  {
   "cell_type": "code",
   "execution_count": 14,
   "metadata": {},
   "outputs": [
    {
     "data": {
      "text/html": [
       "<div>\n",
       "<style scoped>\n",
       "    .dataframe tbody tr th:only-of-type {\n",
       "        vertical-align: middle;\n",
       "    }\n",
       "\n",
       "    .dataframe tbody tr th {\n",
       "        vertical-align: top;\n",
       "    }\n",
       "\n",
       "    .dataframe thead th {\n",
       "        text-align: right;\n",
       "    }\n",
       "</style>\n",
       "<table border=\"1\" class=\"dataframe\">\n",
       "  <thead>\n",
       "    <tr style=\"text-align: right;\">\n",
       "      <th></th>\n",
       "      <th>avg_aqi_NO2</th>\n",
       "      <th>100ma_for_Nitrogen_Dioxide</th>\n",
       "    </tr>\n",
       "    <tr>\n",
       "      <th>date_local</th>\n",
       "      <th></th>\n",
       "      <th></th>\n",
       "    </tr>\n",
       "  </thead>\n",
       "  <tbody>\n",
       "    <tr>\n",
       "      <th>2003-01-01</th>\n",
       "      <td>35.0</td>\n",
       "      <td>35.000000</td>\n",
       "    </tr>\n",
       "    <tr>\n",
       "      <th>2003-01-02</th>\n",
       "      <td>32.0</td>\n",
       "      <td>33.500000</td>\n",
       "    </tr>\n",
       "    <tr>\n",
       "      <th>2003-01-03</th>\n",
       "      <td>37.0</td>\n",
       "      <td>34.666667</td>\n",
       "    </tr>\n",
       "    <tr>\n",
       "      <th>2003-01-04</th>\n",
       "      <td>38.0</td>\n",
       "      <td>35.500000</td>\n",
       "    </tr>\n",
       "    <tr>\n",
       "      <th>2003-01-05</th>\n",
       "      <td>33.0</td>\n",
       "      <td>35.000000</td>\n",
       "    </tr>\n",
       "  </tbody>\n",
       "</table>\n",
       "</div>"
      ],
      "text/plain": [
       "            avg_aqi_NO2  100ma_for_Nitrogen_Dioxide\n",
       "date_local                                         \n",
       "2003-01-01         35.0                   35.000000\n",
       "2003-01-02         32.0                   33.500000\n",
       "2003-01-03         37.0                   34.666667\n",
       "2003-01-04         38.0                   35.500000\n",
       "2003-01-05         33.0                   35.000000"
      ]
     },
     "execution_count": 14,
     "metadata": {},
     "output_type": "execute_result"
    }
   ],
   "source": [
    "## Reference https://pythonprogramming.net/stock-data-manipulation-python-programming-for-finance/\n",
    "df_no2_Daily['100ma_for_Nitrogen_Dioxide'] = df_no2_Daily['avg_aqi_NO2'].rolling(window=100,min_periods=0).mean()\n",
    "df_no2_Daily.round(2)\n",
    "\n",
    "df_no2_Daily.head(5)"
   ]
  },
  {
   "cell_type": "markdown",
   "metadata": {},
   "source": [
    "# Analyze Sulphur Dioxide Daily"
   ]
  },
  {
   "cell_type": "code",
   "execution_count": 15,
   "metadata": {},
   "outputs": [
    {
     "data": {
      "text/html": [
       "<div>\n",
       "<style scoped>\n",
       "    .dataframe tbody tr th:only-of-type {\n",
       "        vertical-align: middle;\n",
       "    }\n",
       "\n",
       "    .dataframe tbody tr th {\n",
       "        vertical-align: top;\n",
       "    }\n",
       "\n",
       "    .dataframe thead th {\n",
       "        text-align: right;\n",
       "    }\n",
       "</style>\n",
       "<table border=\"1\" class=\"dataframe\">\n",
       "  <thead>\n",
       "    <tr style=\"text-align: right;\">\n",
       "      <th></th>\n",
       "      <th>avg_aqi_SO2</th>\n",
       "      <th>100ma_for_Sulphur_Dioxide</th>\n",
       "    </tr>\n",
       "    <tr>\n",
       "      <th>date_local</th>\n",
       "      <th></th>\n",
       "      <th></th>\n",
       "    </tr>\n",
       "  </thead>\n",
       "  <tbody>\n",
       "    <tr>\n",
       "      <th>2003-01-01</th>\n",
       "      <td>6.0</td>\n",
       "      <td>6.0</td>\n",
       "    </tr>\n",
       "    <tr>\n",
       "      <th>2003-01-02</th>\n",
       "      <td>10.0</td>\n",
       "      <td>8.0</td>\n",
       "    </tr>\n",
       "    <tr>\n",
       "      <th>2003-01-03</th>\n",
       "      <td>11.0</td>\n",
       "      <td>9.0</td>\n",
       "    </tr>\n",
       "    <tr>\n",
       "      <th>2003-01-04</th>\n",
       "      <td>9.0</td>\n",
       "      <td>9.0</td>\n",
       "    </tr>\n",
       "    <tr>\n",
       "      <th>2003-01-05</th>\n",
       "      <td>14.0</td>\n",
       "      <td>10.0</td>\n",
       "    </tr>\n",
       "  </tbody>\n",
       "</table>\n",
       "</div>"
      ],
      "text/plain": [
       "            avg_aqi_SO2  100ma_for_Sulphur_Dioxide\n",
       "date_local                                        \n",
       "2003-01-01          6.0                        6.0\n",
       "2003-01-02         10.0                        8.0\n",
       "2003-01-03         11.0                        9.0\n",
       "2003-01-04          9.0                        9.0\n",
       "2003-01-05         14.0                       10.0"
      ]
     },
     "execution_count": 15,
     "metadata": {},
     "output_type": "execute_result"
    },
    {
     "data": {
      "image/png": "[encoded data removed]",
      "text/plain": [
       "<Figure size 432x288 with 1 Axes>"
      ]
     },
     "metadata": {},
     "output_type": "display_data"
    }
   ],
   "source": [
    "# Analyze Sulphur Dioxide Daily\n",
    "\n",
    "query=\"\"\"\n",
    "SELECT\n",
    "        date_local,\n",
    "        round(avg(aqi),2) as avg_aqi_SO2\n",
    "    FROM\n",
    "      `bigquery-public-data.epa_historical_air_quality.so2_daily_summary`\n",
    "    WHERE\n",
    "       state_name =\"California\" AND city_name=\"San Francisco\"\n",
    "    GROUP BY date_local\n",
    "    ORDER BY date_local ASC\n",
    "\n",
    "\"\"\"\n",
    "\n",
    "df_so2_Daily=bq_assistant.query_to_pandas(query)\n",
    "df_so2_Daily['date_local'] =  pd.to_datetime(df_so2_Daily['date_local'], format='%Y-%m-%d')\n",
    "## filter after 2003\n",
    "df_so2_Daily=df_so2_Daily[df_so2_Daily['date_local']>='2003-01-01']\n",
    "df_so2_Daily.set_index('date_local',inplace=True)\n",
    "\n",
    "from matplotlib import style\n",
    "style.use('ggplot')\n",
    "\n",
    "df_so2_Daily['avg_aqi_SO2'].plot()\n",
    "\n",
    "## Reference https://pythonprogramming.net/stock-data-manipulation-python-programming-for-finance/\n",
    "df_so2_Daily['100ma_for_Sulphur_Dioxide'] = df_so2_Daily['avg_aqi_SO2'].rolling(window=100,min_periods=0).mean()\n",
    "df_so2_Daily.round(2)\n",
    "\n",
    "df_so2_Daily.head()"
   ]
  },
  {
   "cell_type": "markdown",
   "metadata": {},
   "source": [
    "# Analyze Particulate Matter Daily"
   ]
  },
  {
   "cell_type": "code",
   "execution_count": 16,
   "metadata": {},
   "outputs": [
    {
     "data": {
      "text/html": [
       "<div>\n",
       "<style scoped>\n",
       "    .dataframe tbody tr th:only-of-type {\n",
       "        vertical-align: middle;\n",
       "    }\n",
       "\n",
       "    .dataframe tbody tr th {\n",
       "        vertical-align: top;\n",
       "    }\n",
       "\n",
       "    .dataframe thead th {\n",
       "        text-align: right;\n",
       "    }\n",
       "</style>\n",
       "<table border=\"1\" class=\"dataframe\">\n",
       "  <thead>\n",
       "    <tr style=\"text-align: right;\">\n",
       "      <th></th>\n",
       "      <th>avg_aqi_pm25</th>\n",
       "      <th>100ma_for_PM25</th>\n",
       "    </tr>\n",
       "    <tr>\n",
       "      <th>date_local</th>\n",
       "      <th></th>\n",
       "      <th></th>\n",
       "    </tr>\n",
       "  </thead>\n",
       "  <tbody>\n",
       "    <tr>\n",
       "      <th>2003-01-01</th>\n",
       "      <td>65.0</td>\n",
       "      <td>65.000000</td>\n",
       "    </tr>\n",
       "    <tr>\n",
       "      <th>2003-01-02</th>\n",
       "      <td>64.0</td>\n",
       "      <td>64.500000</td>\n",
       "    </tr>\n",
       "    <tr>\n",
       "      <th>2003-01-03</th>\n",
       "      <td>61.0</td>\n",
       "      <td>63.333333</td>\n",
       "    </tr>\n",
       "    <tr>\n",
       "      <th>2003-01-04</th>\n",
       "      <td>60.0</td>\n",
       "      <td>62.500000</td>\n",
       "    </tr>\n",
       "    <tr>\n",
       "      <th>2003-01-05</th>\n",
       "      <td>70.0</td>\n",
       "      <td>64.000000</td>\n",
       "    </tr>\n",
       "  </tbody>\n",
       "</table>\n",
       "</div>"
      ],
      "text/plain": [
       "            avg_aqi_pm25  100ma_for_PM25\n",
       "date_local                              \n",
       "2003-01-01          65.0       65.000000\n",
       "2003-01-02          64.0       64.500000\n",
       "2003-01-03          61.0       63.333333\n",
       "2003-01-04          60.0       62.500000\n",
       "2003-01-05          70.0       64.000000"
      ]
     },
     "execution_count": 16,
     "metadata": {},
     "output_type": "execute_result"
    },
    {
     "data": {
      "image/png": "[encoded data removed]",
      "text/plain": [
       "<Figure size 432x288 with 1 Axes>"
      ]
     },
     "metadata": {},
     "output_type": "display_data"
    }
   ],
   "source": [
    "# Analyze Sulphur Dioxide Daily\n",
    "\n",
    "query=\"\"\"\n",
    "SELECT\n",
    "        date_local,\n",
    "        round(avg(aqi),2) as avg_aqi_pm25\n",
    "    FROM\n",
    "      `bigquery-public-data.epa_historical_air_quality.pm25_frm_daily_summary`\n",
    "    WHERE\n",
    "       state_name =\"California\" AND city_name=\"San Francisco\"\n",
    "    GROUP BY date_local\n",
    "    ORDER BY date_local ASC\n",
    "\n",
    "\"\"\"\n",
    "\n",
    "df_pm25_Daily=bq_assistant.query_to_pandas(query)\n",
    "df_pm25_Daily['date_local'] =  pd.to_datetime(df_pm25_Daily['date_local'], format='%Y-%m-%d')\n",
    "## filter after 2003\n",
    "df_pm25_Daily=df_pm25_Daily[df_pm25_Daily['date_local']>='2003-01-01']\n",
    "df_pm25_Daily.set_index('date_local',inplace=True)\n",
    "\n",
    "from matplotlib import style\n",
    "style.use('ggplot')\n",
    "\n",
    "df_pm25_Daily['avg_aqi_pm25'].plot()\n",
    "\n",
    "## Reference https://pythonprogramming.net/stock-data-manipulation-python-programming-for-finance/\n",
    "df_pm25_Daily['100ma_for_PM25'] = df_pm25_Daily['avg_aqi_pm25'].rolling(window=100,min_periods=0).mean()\n",
    "df_pm25_Daily.round(2)\n",
    "df_pm25_Daily.head()"
   ]
  },
  {
   "cell_type": "markdown",
   "metadata": {},
   "source": [
    "# Analyze SF Crime Daily"
   ]
  },
  {
   "cell_type": "code",
   "execution_count": 17,
   "metadata": {},
   "outputs": [],
   "source": [
    "# Analyze Sulphur Dioxide Daily\n",
    "\n",
    "query=\"\"\"\n",
    "SELECT CAST(timestamp AS DATE) as date_local,count(distinct unique_key) as no_of_incidents\n",
    "FROM `bigquery-public-data.san_francisco.sfpd_incidents`\n",
    "group by date_local\n",
    "order by date_local asc\n",
    "\"\"\"\n",
    "\n",
    "df_sfcrimes_Daily=bq_assistant.query_to_pandas(query)\n"
   ]
  },
  {
   "cell_type": "code",
   "execution_count": null,
   "metadata": {},
   "outputs": [],
   "source": []
  },
  {
   "cell_type": "code",
   "execution_count": 18,
   "metadata": {},
   "outputs": [],
   "source": [
    "df_sfcrimes_Daily['date_local'] =  pd.to_datetime(df_sfcrimes_Daily['date_local'], format='%Y-%m-%d')\n",
    "df_sfcrimes_Daily=df_sfcrimes_Daily[df_sfcrimes_Daily['date_local']<='2017-12-31']\n"
   ]
  },
  {
   "cell_type": "code",
   "execution_count": 19,
   "metadata": {},
   "outputs": [
    {
     "data": {
      "text/plain": [
       "<matplotlib.axes._subplots.AxesSubplot at 0x1a1b979da0>"
      ]
     },
     "execution_count": 19,
     "metadata": {},
     "output_type": "execute_result"
    },
    {
     "data": {
      "image/png": "[encoded data removed]",
      "text/plain": [
       "<Figure size 432x288 with 1 Axes>"
      ]
     },
     "metadata": {},
     "output_type": "display_data"
    }
   ],
   "source": [
    "df_sfcrimes_Daily.set_index('date_local',inplace=True)\n",
    "\n",
    "from matplotlib import style\n",
    "style.use('ggplot')\n",
    "\n",
    "df_sfcrimes_Daily['no_of_incidents'].plot()\n",
    "\n",
    "## Reference https://pythonprogramming.net/stock-data-manipulation-python-programming-for-finance/\n",
    "# df_sfcrimes_Daily['100ma_for_No_of_Incidents'] = df_sfcrimes_Daily['no_of_incidents'].rolling(window=100,min_periods=0).mean()\n",
    "# df_sfcrimes_Daily.round(2)"
   ]
  },
  {
   "cell_type": "code",
   "execution_count": 20,
   "metadata": {},
   "outputs": [
    {
     "data": {
      "text/html": [
       "<div>\n",
       "<style scoped>\n",
       "    .dataframe tbody tr th:only-of-type {\n",
       "        vertical-align: middle;\n",
       "    }\n",
       "\n",
       "    .dataframe tbody tr th {\n",
       "        vertical-align: top;\n",
       "    }\n",
       "\n",
       "    .dataframe thead th {\n",
       "        text-align: right;\n",
       "    }\n",
       "</style>\n",
       "<table border=\"1\" class=\"dataframe\">\n",
       "  <thead>\n",
       "    <tr style=\"text-align: right;\">\n",
       "      <th></th>\n",
       "      <th>no_of_incidents</th>\n",
       "    </tr>\n",
       "    <tr>\n",
       "      <th>date_local</th>\n",
       "      <th></th>\n",
       "    </tr>\n",
       "  </thead>\n",
       "  <tbody>\n",
       "    <tr>\n",
       "      <th>2003-01-01</th>\n",
       "      <td>511</td>\n",
       "    </tr>\n",
       "    <tr>\n",
       "      <th>2003-01-02</th>\n",
       "      <td>321</td>\n",
       "    </tr>\n",
       "    <tr>\n",
       "      <th>2003-01-03</th>\n",
       "      <td>368</td>\n",
       "    </tr>\n",
       "    <tr>\n",
       "      <th>2003-01-04</th>\n",
       "      <td>276</td>\n",
       "    </tr>\n",
       "    <tr>\n",
       "      <th>2003-01-05</th>\n",
       "      <td>290</td>\n",
       "    </tr>\n",
       "  </tbody>\n",
       "</table>\n",
       "</div>"
      ],
      "text/plain": [
       "            no_of_incidents\n",
       "date_local                 \n",
       "2003-01-01              511\n",
       "2003-01-02              321\n",
       "2003-01-03              368\n",
       "2003-01-04              276\n",
       "2003-01-05              290"
      ]
     },
     "execution_count": 20,
     "metadata": {},
     "output_type": "execute_result"
    }
   ],
   "source": [
    "df_sfcrimes_Daily.head()"
   ]
  },
  {
   "cell_type": "code",
   "execution_count": 21,
   "metadata": {},
   "outputs": [
    {
     "data": {
      "text/plain": [
       "(5476, 2)"
      ]
     },
     "execution_count": 21,
     "metadata": {},
     "output_type": "execute_result"
    }
   ],
   "source": [
    "df_co_Daily.shape"
   ]
  },
  {
   "cell_type": "code",
   "execution_count": 22,
   "metadata": {},
   "outputs": [
    {
     "data": {
      "text/plain": [
       "(5472, 2)"
      ]
     },
     "execution_count": 22,
     "metadata": {},
     "output_type": "execute_result"
    }
   ],
   "source": [
    "df_o3_Daily.shape"
   ]
  },
  {
   "cell_type": "code",
   "execution_count": 23,
   "metadata": {},
   "outputs": [
    {
     "data": {
      "text/plain": [
       "(5465, 2)"
      ]
     },
     "execution_count": 23,
     "metadata": {},
     "output_type": "execute_result"
    }
   ],
   "source": [
    "df_no2_Daily.shape"
   ]
  },
  {
   "cell_type": "code",
   "execution_count": 24,
   "metadata": {},
   "outputs": [
    {
     "data": {
      "text/plain": [
       "(4153, 2)"
      ]
     },
     "execution_count": 24,
     "metadata": {},
     "output_type": "execute_result"
    }
   ],
   "source": [
    "df_pm25_Daily.shape"
   ]
  },
  {
   "cell_type": "code",
   "execution_count": 25,
   "metadata": {},
   "outputs": [
    {
     "data": {
      "text/plain": [
       "(5478, 1)"
      ]
     },
     "execution_count": 25,
     "metadata": {},
     "output_type": "execute_result"
    }
   ],
   "source": [
    "df_sfcrimes_Daily.shape"
   ]
  },
  {
   "cell_type": "code",
   "execution_count": 26,
   "metadata": {},
   "outputs": [],
   "source": [
    "## Combine the dataframes ie all\n",
    "from functools import reduce\n",
    "\n",
    "df_co_Daily.reset_index(inplace=True)\n",
    "df_o3_Daily.reset_index(inplace=True)\n",
    "df_no2_Daily.reset_index(inplace=True)\n",
    "df_pm25_Daily.reset_index(inplace=True)\n",
    "df_sfcrimes_Daily.reset_index(inplace=True)\n",
    "\n",
    "## Reference: https://stackoverflow.com/questions/23668427/pandas-three-way-joining-multiple-dataframes-on-columns\n",
    "frames=[df_co_Daily,df_o3_Daily,df_no2_Daily,df_sfcrimes_Daily,df_pm25_Daily]\n",
    "df_final = reduce(lambda left,right: pd.merge(left,right,on='date_local'), frames)\n"
   ]
  },
  {
   "cell_type": "code",
   "execution_count": 27,
   "metadata": {
    "scrolled": false
   },
   "outputs": [
    {
     "data": {
      "text/plain": [
       "Index(['date_local', 'avg_aqi_CO', '100ma_for_CO', 'avg_aqi_O3',\n",
       "       '100ma_for_Ozone', 'avg_aqi_NO2', '100ma_for_Nitrogen_Dioxide',\n",
       "       'no_of_incidents', 'avg_aqi_pm25', '100ma_for_PM25'],\n",
       "      dtype='object')"
      ]
     },
     "execution_count": 27,
     "metadata": {},
     "output_type": "execute_result"
    }
   ],
   "source": [
    "df_final.columns"
   ]
  },
  {
   "cell_type": "code",
   "execution_count": 28,
   "metadata": {},
   "outputs": [
    {
     "data": {
      "text/html": [
       "<div>\n",
       "<style scoped>\n",
       "    .dataframe tbody tr th:only-of-type {\n",
       "        vertical-align: middle;\n",
       "    }\n",
       "\n",
       "    .dataframe tbody tr th {\n",
       "        vertical-align: top;\n",
       "    }\n",
       "\n",
       "    .dataframe thead th {\n",
       "        text-align: right;\n",
       "    }\n",
       "</style>\n",
       "<table border=\"1\" class=\"dataframe\">\n",
       "  <thead>\n",
       "    <tr style=\"text-align: right;\">\n",
       "      <th></th>\n",
       "      <th>date_local</th>\n",
       "      <th>avg_aqi_CO</th>\n",
       "      <th>100ma_for_CO</th>\n",
       "      <th>avg_aqi_O3</th>\n",
       "      <th>100ma_for_Ozone</th>\n",
       "      <th>avg_aqi_NO2</th>\n",
       "      <th>100ma_for_Nitrogen_Dioxide</th>\n",
       "      <th>no_of_incidents</th>\n",
       "      <th>avg_aqi_pm25</th>\n",
       "      <th>100ma_for_PM25</th>\n",
       "    </tr>\n",
       "  </thead>\n",
       "  <tbody>\n",
       "    <tr>\n",
       "      <th>0</th>\n",
       "      <td>2003-01-01</td>\n",
       "      <td>21.0</td>\n",
       "      <td>21.000000</td>\n",
       "      <td>14.0</td>\n",
       "      <td>14.000000</td>\n",
       "      <td>35.0</td>\n",
       "      <td>35.000000</td>\n",
       "      <td>511</td>\n",
       "      <td>65.0</td>\n",
       "      <td>65.000000</td>\n",
       "    </tr>\n",
       "    <tr>\n",
       "      <th>1</th>\n",
       "      <td>2003-01-02</td>\n",
       "      <td>12.5</td>\n",
       "      <td>16.750000</td>\n",
       "      <td>3.0</td>\n",
       "      <td>8.500000</td>\n",
       "      <td>32.0</td>\n",
       "      <td>33.500000</td>\n",
       "      <td>321</td>\n",
       "      <td>64.0</td>\n",
       "      <td>64.500000</td>\n",
       "    </tr>\n",
       "    <tr>\n",
       "      <th>2</th>\n",
       "      <td>2003-01-03</td>\n",
       "      <td>16.5</td>\n",
       "      <td>16.666667</td>\n",
       "      <td>5.0</td>\n",
       "      <td>7.333333</td>\n",
       "      <td>37.0</td>\n",
       "      <td>34.666667</td>\n",
       "      <td>368</td>\n",
       "      <td>61.0</td>\n",
       "      <td>63.333333</td>\n",
       "    </tr>\n",
       "    <tr>\n",
       "      <th>3</th>\n",
       "      <td>2003-01-04</td>\n",
       "      <td>17.0</td>\n",
       "      <td>16.750000</td>\n",
       "      <td>8.0</td>\n",
       "      <td>7.500000</td>\n",
       "      <td>38.0</td>\n",
       "      <td>35.500000</td>\n",
       "      <td>276</td>\n",
       "      <td>60.0</td>\n",
       "      <td>62.500000</td>\n",
       "    </tr>\n",
       "    <tr>\n",
       "      <th>4</th>\n",
       "      <td>2003-01-05</td>\n",
       "      <td>17.5</td>\n",
       "      <td>16.900000</td>\n",
       "      <td>13.0</td>\n",
       "      <td>8.600000</td>\n",
       "      <td>33.0</td>\n",
       "      <td>35.000000</td>\n",
       "      <td>290</td>\n",
       "      <td>70.0</td>\n",
       "      <td>64.000000</td>\n",
       "    </tr>\n",
       "  </tbody>\n",
       "</table>\n",
       "</div>"
      ],
      "text/plain": [
       "  date_local  avg_aqi_CO  100ma_for_CO  avg_aqi_O3  100ma_for_Ozone  \\\n",
       "0 2003-01-01        21.0     21.000000        14.0        14.000000   \n",
       "1 2003-01-02        12.5     16.750000         3.0         8.500000   \n",
       "2 2003-01-03        16.5     16.666667         5.0         7.333333   \n",
       "3 2003-01-04        17.0     16.750000         8.0         7.500000   \n",
       "4 2003-01-05        17.5     16.900000        13.0         8.600000   \n",
       "\n",
       "   avg_aqi_NO2  100ma_for_Nitrogen_Dioxide  no_of_incidents  avg_aqi_pm25  \\\n",
       "0         35.0                   35.000000              511          65.0   \n",
       "1         32.0                   33.500000              321          64.0   \n",
       "2         37.0                   34.666667              368          61.0   \n",
       "3         38.0                   35.500000              276          60.0   \n",
       "4         33.0                   35.000000              290          70.0   \n",
       "\n",
       "   100ma_for_PM25  \n",
       "0       65.000000  \n",
       "1       64.500000  \n",
       "2       63.333333  \n",
       "3       62.500000  \n",
       "4       64.000000  "
      ]
     },
     "execution_count": 28,
     "metadata": {},
     "output_type": "execute_result"
    }
   ],
   "source": [
    "df_final.head()"
   ]
  },
  {
   "cell_type": "code",
   "execution_count": 29,
   "metadata": {},
   "outputs": [],
   "source": [
    "from sklearn.preprocessing import Imputer\n",
    "\n",
    "imp=Imputer(missing_values='NaN',strategy='mean')\n",
    "df_final[\"avg_aqi_pm25\"]=imp.fit_transform(df_final[[\"avg_aqi_pm25\"]]).ravel()"
   ]
  },
  {
   "cell_type": "code",
   "execution_count": 30,
   "metadata": {},
   "outputs": [],
   "source": [
    "## Optional MinMax Scaling\n",
    "from sklearn.preprocessing import MinMaxScaler\n",
    "df_final[['avg_aqi_CO','avg_aqi_O3','avg_aqi_pm25','avg_aqi_NO2']] = MinMaxScaler().fit_transform(df_final[['avg_aqi_CO','avg_aqi_O3','avg_aqi_pm25','avg_aqi_NO2']])\n"
   ]
  },
  {
   "cell_type": "code",
   "execution_count": 31,
   "metadata": {
    "scrolled": true
   },
   "outputs": [
    {
     "data": {
      "text/plain": [
       "(4139, 10)"
      ]
     },
     "execution_count": 31,
     "metadata": {},
     "output_type": "execute_result"
    }
   ],
   "source": [
    "# ## Optional MinMax Scaling\n",
    "# from sklearn.preprocessing import StandardScaler\n",
    "# df_final[['avg_aqi_CO','avg_aqi_O3','avg_aqi_pm25','avg_aqi_NO2']] = StandardScaler().fit_transform(df_final[['avg_aqi_CO','avg_aqi_O3','avg_aqi_pm25','avg_aqi_NO2']])\n",
    "df_final.shape"
   ]
  },
  {
   "cell_type": "markdown",
   "metadata": {},
   "source": [
    "# Finding crimes per capita"
   ]
  },
  {
   "cell_type": "code",
   "execution_count": 32,
   "metadata": {},
   "outputs": [],
   "source": [
    "import pickle\n",
    "## Deserialize the pickle object to get back the data frame\n",
    "picle_in=open('population/dataframe.pickle','rb')\n",
    "df_pop_per_yr=pickle.load(picle_in)"
   ]
  },
  {
   "cell_type": "code",
   "execution_count": 33,
   "metadata": {},
   "outputs": [],
   "source": [
    "df_pop_per_yr['year'] = df_pop_per_yr['year'].astype(str).replace('\\.0', '', regex=True)"
   ]
  },
  {
   "cell_type": "code",
   "execution_count": 34,
   "metadata": {},
   "outputs": [
    {
     "data": {
      "text/plain": [
       "date_local                    datetime64[ns]\n",
       "avg_aqi_CO                           float64\n",
       "100ma_for_CO                         float64\n",
       "avg_aqi_O3                           float64\n",
       "100ma_for_Ozone                      float64\n",
       "avg_aqi_NO2                          float64\n",
       "100ma_for_Nitrogen_Dioxide           float64\n",
       "no_of_incidents                        int64\n",
       "avg_aqi_pm25                         float64\n",
       "100ma_for_PM25                       float64\n",
       "dtype: object"
      ]
     },
     "execution_count": 34,
     "metadata": {},
     "output_type": "execute_result"
    }
   ],
   "source": [
    "df_final.dtypes"
   ]
  },
  {
   "cell_type": "code",
   "execution_count": 35,
   "metadata": {},
   "outputs": [],
   "source": [
    "## Reference https://stackoverflow.com/questions/48295624/extract-year-from-date-column-in-dataframe-having-different-date-format-pyth\n",
    "df_final['year']=pd.to_datetime(df_final['date_local'], format='%Y-%m-%d').dt.year\n",
    "df_final['year']=df_final['year'].astype(str)"
   ]
  },
  {
   "cell_type": "code",
   "execution_count": 36,
   "metadata": {},
   "outputs": [],
   "source": [
    "df_daily=pd.merge(df_final, df_pop_per_yr, how='inner', on='year')"
   ]
  },
  {
   "cell_type": "code",
   "execution_count": 37,
   "metadata": {},
   "outputs": [],
   "source": [
    "df_daily['Incidents_per_population']=df_daily['no_of_incidents']/df_daily['Population']"
   ]
  },
  {
   "cell_type": "code",
   "execution_count": 38,
   "metadata": {
    "scrolled": true
   },
   "outputs": [
    {
     "data": {
      "text/html": [
       "<div>\n",
       "<style scoped>\n",
       "    .dataframe tbody tr th:only-of-type {\n",
       "        vertical-align: middle;\n",
       "    }\n",
       "\n",
       "    .dataframe tbody tr th {\n",
       "        vertical-align: top;\n",
       "    }\n",
       "\n",
       "    .dataframe thead th {\n",
       "        text-align: right;\n",
       "    }\n",
       "</style>\n",
       "<table border=\"1\" class=\"dataframe\">\n",
       "  <thead>\n",
       "    <tr style=\"text-align: right;\">\n",
       "      <th></th>\n",
       "      <th>date_local</th>\n",
       "      <th>avg_aqi_CO</th>\n",
       "      <th>100ma_for_CO</th>\n",
       "      <th>avg_aqi_O3</th>\n",
       "      <th>100ma_for_Ozone</th>\n",
       "      <th>avg_aqi_NO2</th>\n",
       "      <th>100ma_for_Nitrogen_Dioxide</th>\n",
       "      <th>no_of_incidents</th>\n",
       "      <th>avg_aqi_pm25</th>\n",
       "      <th>100ma_for_PM25</th>\n",
       "      <th>year</th>\n",
       "      <th>Population</th>\n",
       "      <th>Incidents_per_population</th>\n",
       "    </tr>\n",
       "  </thead>\n",
       "  <tbody>\n",
       "    <tr>\n",
       "      <th>0</th>\n",
       "      <td>2003-01-01</td>\n",
       "      <td>0.626866</td>\n",
       "      <td>21.000000</td>\n",
       "      <td>0.135417</td>\n",
       "      <td>14.000000</td>\n",
       "      <td>0.333333</td>\n",
       "      <td>35.000000</td>\n",
       "      <td>511</td>\n",
       "      <td>0.442177</td>\n",
       "      <td>65.000000</td>\n",
       "      <td>2003</td>\n",
       "      <td>766160.0</td>\n",
       "      <td>0.000667</td>\n",
       "    </tr>\n",
       "    <tr>\n",
       "      <th>1</th>\n",
       "      <td>2003-01-02</td>\n",
       "      <td>0.373134</td>\n",
       "      <td>16.750000</td>\n",
       "      <td>0.020833</td>\n",
       "      <td>8.500000</td>\n",
       "      <td>0.304762</td>\n",
       "      <td>33.500000</td>\n",
       "      <td>321</td>\n",
       "      <td>0.435374</td>\n",
       "      <td>64.500000</td>\n",
       "      <td>2003</td>\n",
       "      <td>766160.0</td>\n",
       "      <td>0.000419</td>\n",
       "    </tr>\n",
       "    <tr>\n",
       "      <th>2</th>\n",
       "      <td>2003-01-03</td>\n",
       "      <td>0.492537</td>\n",
       "      <td>16.666667</td>\n",
       "      <td>0.041667</td>\n",
       "      <td>7.333333</td>\n",
       "      <td>0.352381</td>\n",
       "      <td>34.666667</td>\n",
       "      <td>368</td>\n",
       "      <td>0.414966</td>\n",
       "      <td>63.333333</td>\n",
       "      <td>2003</td>\n",
       "      <td>766160.0</td>\n",
       "      <td>0.000480</td>\n",
       "    </tr>\n",
       "    <tr>\n",
       "      <th>3</th>\n",
       "      <td>2003-01-04</td>\n",
       "      <td>0.507463</td>\n",
       "      <td>16.750000</td>\n",
       "      <td>0.072917</td>\n",
       "      <td>7.500000</td>\n",
       "      <td>0.361905</td>\n",
       "      <td>35.500000</td>\n",
       "      <td>276</td>\n",
       "      <td>0.408163</td>\n",
       "      <td>62.500000</td>\n",
       "      <td>2003</td>\n",
       "      <td>766160.0</td>\n",
       "      <td>0.000360</td>\n",
       "    </tr>\n",
       "    <tr>\n",
       "      <th>4</th>\n",
       "      <td>2003-01-05</td>\n",
       "      <td>0.522388</td>\n",
       "      <td>16.900000</td>\n",
       "      <td>0.125000</td>\n",
       "      <td>8.600000</td>\n",
       "      <td>0.314286</td>\n",
       "      <td>35.000000</td>\n",
       "      <td>290</td>\n",
       "      <td>0.476190</td>\n",
       "      <td>64.000000</td>\n",
       "      <td>2003</td>\n",
       "      <td>766160.0</td>\n",
       "      <td>0.000379</td>\n",
       "    </tr>\n",
       "  </tbody>\n",
       "</table>\n",
       "</div>"
      ],
      "text/plain": [
       "  date_local  avg_aqi_CO  100ma_for_CO  avg_aqi_O3  100ma_for_Ozone  \\\n",
       "0 2003-01-01    0.626866     21.000000    0.135417        14.000000   \n",
       "1 2003-01-02    0.373134     16.750000    0.020833         8.500000   \n",
       "2 2003-01-03    0.492537     16.666667    0.041667         7.333333   \n",
       "3 2003-01-04    0.507463     16.750000    0.072917         7.500000   \n",
       "4 2003-01-05    0.522388     16.900000    0.125000         8.600000   \n",
       "\n",
       "   avg_aqi_NO2  100ma_for_Nitrogen_Dioxide  no_of_incidents  avg_aqi_pm25  \\\n",
       "0     0.333333                   35.000000              511      0.442177   \n",
       "1     0.304762                   33.500000              321      0.435374   \n",
       "2     0.352381                   34.666667              368      0.414966   \n",
       "3     0.361905                   35.500000              276      0.408163   \n",
       "4     0.314286                   35.000000              290      0.476190   \n",
       "\n",
       "   100ma_for_PM25  year  Population  Incidents_per_population  \n",
       "0       65.000000  2003    766160.0                  0.000667  \n",
       "1       64.500000  2003    766160.0                  0.000419  \n",
       "2       63.333333  2003    766160.0                  0.000480  \n",
       "3       62.500000  2003    766160.0                  0.000360  \n",
       "4       64.000000  2003    766160.0                  0.000379  "
      ]
     },
     "execution_count": 38,
     "metadata": {},
     "output_type": "execute_result"
    }
   ],
   "source": [
    "df_daily.head()"
   ]
  },
  {
   "cell_type": "code",
   "execution_count": 39,
   "metadata": {},
   "outputs": [],
   "source": [
    "df_daily[['Incidents_per_population']]=MinMaxScaler().fit_transform(df_daily[['Incidents_per_population']])\n",
    "## Both the x and ys are on same scale now\n"
   ]
  },
  {
   "cell_type": "markdown",
   "metadata": {},
   "source": [
    "# Regression"
   ]
  },
  {
   "cell_type": "code",
   "execution_count": 40,
   "metadata": {},
   "outputs": [
    {
     "data": {
      "text/plain": [
       "Index(['date_local', 'avg_aqi_CO', '100ma_for_CO', 'avg_aqi_O3',\n",
       "       '100ma_for_Ozone', 'avg_aqi_NO2', '100ma_for_Nitrogen_Dioxide',\n",
       "       'no_of_incidents', 'avg_aqi_pm25', '100ma_for_PM25', 'year',\n",
       "       'Population', 'Incidents_per_population'],\n",
       "      dtype='object')"
      ]
     },
     "execution_count": 40,
     "metadata": {},
     "output_type": "execute_result"
    }
   ],
   "source": [
    "# # Log transform the target for official scoring\n",
    "# # REFER https://www.kaggle.com/juliencs/a-study-on-regression-applied-to-the-ames-dataset\n",
    "# df_final.no_of_incidents = np.log1p(df_final.no_of_incidents)\n",
    "df_daily.columns"
   ]
  },
  {
   "cell_type": "code",
   "execution_count": 41,
   "metadata": {},
   "outputs": [],
   "source": [
    "X=df_daily[['avg_aqi_CO','avg_aqi_O3','avg_aqi_pm25','avg_aqi_NO2']]"
   ]
  },
  {
   "cell_type": "code",
   "execution_count": 42,
   "metadata": {},
   "outputs": [],
   "source": [
    "Y=df_daily['Incidents_per_population']"
   ]
  },
  {
   "cell_type": "code",
   "execution_count": 43,
   "metadata": {
    "scrolled": true
   },
   "outputs": [
    {
     "data": {
      "text/plain": [
       "0    0.947425\n",
       "1    0.593792\n",
       "2    0.681269\n",
       "3    0.510036\n",
       "4    0.536094\n",
       "Name: Incidents_per_population, dtype: float64"
      ]
     },
     "execution_count": 43,
     "metadata": {},
     "output_type": "execute_result"
    }
   ],
   "source": [
    "Y.head()"
   ]
  },
  {
   "cell_type": "code",
   "execution_count": 44,
   "metadata": {},
   "outputs": [
    {
     "data": {
      "text/html": [
       "<div>\n",
       "<style scoped>\n",
       "    .dataframe tbody tr th:only-of-type {\n",
       "        vertical-align: middle;\n",
       "    }\n",
       "\n",
       "    .dataframe tbody tr th {\n",
       "        vertical-align: top;\n",
       "    }\n",
       "\n",
       "    .dataframe thead th {\n",
       "        text-align: right;\n",
       "    }\n",
       "</style>\n",
       "<table border=\"1\" class=\"dataframe\">\n",
       "  <thead>\n",
       "    <tr style=\"text-align: right;\">\n",
       "      <th></th>\n",
       "      <th>avg_aqi_CO</th>\n",
       "      <th>avg_aqi_O3</th>\n",
       "      <th>avg_aqi_pm25</th>\n",
       "      <th>avg_aqi_NO2</th>\n",
       "    </tr>\n",
       "  </thead>\n",
       "  <tbody>\n",
       "    <tr>\n",
       "      <th>0</th>\n",
       "      <td>0.626866</td>\n",
       "      <td>0.135417</td>\n",
       "      <td>0.442177</td>\n",
       "      <td>0.333333</td>\n",
       "    </tr>\n",
       "    <tr>\n",
       "      <th>1</th>\n",
       "      <td>0.373134</td>\n",
       "      <td>0.020833</td>\n",
       "      <td>0.435374</td>\n",
       "      <td>0.304762</td>\n",
       "    </tr>\n",
       "    <tr>\n",
       "      <th>2</th>\n",
       "      <td>0.492537</td>\n",
       "      <td>0.041667</td>\n",
       "      <td>0.414966</td>\n",
       "      <td>0.352381</td>\n",
       "    </tr>\n",
       "    <tr>\n",
       "      <th>3</th>\n",
       "      <td>0.507463</td>\n",
       "      <td>0.072917</td>\n",
       "      <td>0.408163</td>\n",
       "      <td>0.361905</td>\n",
       "    </tr>\n",
       "    <tr>\n",
       "      <th>4</th>\n",
       "      <td>0.522388</td>\n",
       "      <td>0.125000</td>\n",
       "      <td>0.476190</td>\n",
       "      <td>0.314286</td>\n",
       "    </tr>\n",
       "  </tbody>\n",
       "</table>\n",
       "</div>"
      ],
      "text/plain": [
       "   avg_aqi_CO  avg_aqi_O3  avg_aqi_pm25  avg_aqi_NO2\n",
       "0    0.626866    0.135417      0.442177     0.333333\n",
       "1    0.373134    0.020833      0.435374     0.304762\n",
       "2    0.492537    0.041667      0.414966     0.352381\n",
       "3    0.507463    0.072917      0.408163     0.361905\n",
       "4    0.522388    0.125000      0.476190     0.314286"
      ]
     },
     "execution_count": 44,
     "metadata": {},
     "output_type": "execute_result"
    }
   ],
   "source": [
    "X.head()"
   ]
  },
  {
   "cell_type": "code",
   "execution_count": 45,
   "metadata": {},
   "outputs": [
    {
     "data": {
      "text/html": [
       "<table class=\"simpletable\">\n",
       "<caption>OLS Regression Results</caption>\n",
       "<tr>\n",
       "  <th>Dep. Variable:</th>    <td>Incidents_per_population</td> <th>  R-squared:         </th> <td>   0.940</td> \n",
       "</tr>\n",
       "<tr>\n",
       "  <th>Model:</th>                       <td>OLS</td>           <th>  Adj. R-squared:    </th> <td>   0.940</td> \n",
       "</tr>\n",
       "<tr>\n",
       "  <th>Method:</th>                 <td>Least Squares</td>      <th>  F-statistic:       </th> <td>1.610e+04</td>\n",
       "</tr>\n",
       "<tr>\n",
       "  <th>Date:</th>                 <td>Mon, 03 Dec 2018</td>     <th>  Prob (F-statistic):</th>  <td>  0.00</td>  \n",
       "</tr>\n",
       "<tr>\n",
       "  <th>Time:</th>                     <td>02:37:59</td>         <th>  Log-Likelihood:    </th> <td>  2485.2</td> \n",
       "</tr>\n",
       "<tr>\n",
       "  <th>No. Observations:</th>          <td>  4139</td>          <th>  AIC:               </th> <td>  -4962.</td> \n",
       "</tr>\n",
       "<tr>\n",
       "  <th>Df Residuals:</th>              <td>  4135</td>          <th>  BIC:               </th> <td>  -4937.</td> \n",
       "</tr>\n",
       "<tr>\n",
       "  <th>Df Model:</th>                  <td>     4</td>          <th>                     </th>     <td> </td>    \n",
       "</tr>\n",
       "<tr>\n",
       "  <th>Covariance Type:</th>          <td>nonrobust</td>        <th>                     </th>     <td> </td>    \n",
       "</tr>\n",
       "</table>\n",
       "<table class=\"simpletable\">\n",
       "<tr>\n",
       "        <td></td>          <th>coef</th>     <th>std err</th>      <th>t</th>      <th>P>|t|</th>  <th>[0.025</th>    <th>0.975]</th>  \n",
       "</tr>\n",
       "<tr>\n",
       "  <th>avg_aqi_CO</th>   <td>    0.6422</td> <td>    0.024</td> <td>   26.298</td> <td> 0.000</td> <td>    0.594</td> <td>    0.690</td>\n",
       "</tr>\n",
       "<tr>\n",
       "  <th>avg_aqi_O3</th>   <td>    1.1953</td> <td>    0.014</td> <td>   88.055</td> <td> 0.000</td> <td>    1.169</td> <td>    1.222</td>\n",
       "</tr>\n",
       "<tr>\n",
       "  <th>avg_aqi_pm25</th> <td>    0.3499</td> <td>    0.016</td> <td>   21.441</td> <td> 0.000</td> <td>    0.318</td> <td>    0.382</td>\n",
       "</tr>\n",
       "<tr>\n",
       "  <th>avg_aqi_NO2</th>  <td>    0.0473</td> <td>    0.020</td> <td>    2.401</td> <td> 0.016</td> <td>    0.009</td> <td>    0.086</td>\n",
       "</tr>\n",
       "</table>\n",
       "<table class=\"simpletable\">\n",
       "<tr>\n",
       "  <th>Omnibus:</th>       <td>350.129</td> <th>  Durbin-Watson:     </th> <td>   0.890</td> \n",
       "</tr>\n",
       "<tr>\n",
       "  <th>Prob(Omnibus):</th> <td> 0.000</td>  <th>  Jarque-Bera (JB):  </th> <td> 986.247</td> \n",
       "</tr>\n",
       "<tr>\n",
       "  <th>Skew:</th>          <td>-0.460</td>  <th>  Prob(JB):          </th> <td>6.91e-215</td>\n",
       "</tr>\n",
       "<tr>\n",
       "  <th>Kurtosis:</th>      <td> 5.208</td>  <th>  Cond. No.          </th> <td>    6.74</td> \n",
       "</tr>\n",
       "</table><br/><br/>Warnings:<br/>[1] Standard Errors assume that the covariance matrix of the errors is correctly specified."
      ],
      "text/plain": [
       "<class 'statsmodels.iolib.summary.Summary'>\n",
       "\"\"\"\n",
       "                               OLS Regression Results                               \n",
       "====================================================================================\n",
       "Dep. Variable:     Incidents_per_population   R-squared:                       0.940\n",
       "Model:                                  OLS   Adj. R-squared:                  0.940\n",
       "Method:                       Least Squares   F-statistic:                 1.610e+04\n",
       "Date:                      Mon, 03 Dec 2018   Prob (F-statistic):               0.00\n",
       "Time:                              02:37:59   Log-Likelihood:                 2485.2\n",
       "No. Observations:                      4139   AIC:                            -4962.\n",
       "Df Residuals:                          4135   BIC:                            -4937.\n",
       "Df Model:                                 4                                         \n",
       "Covariance Type:                  nonrobust                                         \n",
       "================================================================================\n",
       "                   coef    std err          t      P>|t|      [0.025      0.975]\n",
       "--------------------------------------------------------------------------------\n",
       "avg_aqi_CO       0.6422      0.024     26.298      0.000       0.594       0.690\n",
       "avg_aqi_O3       1.1953      0.014     88.055      0.000       1.169       1.222\n",
       "avg_aqi_pm25     0.3499      0.016     21.441      0.000       0.318       0.382\n",
       "avg_aqi_NO2      0.0473      0.020      2.401      0.016       0.009       0.086\n",
       "==============================================================================\n",
       "Omnibus:                      350.129   Durbin-Watson:                   0.890\n",
       "Prob(Omnibus):                  0.000   Jarque-Bera (JB):              986.247\n",
       "Skew:                          -0.460   Prob(JB):                    6.91e-215\n",
       "Kurtosis:                       5.208   Cond. No.                         6.74\n",
       "==============================================================================\n",
       "\n",
       "Warnings:\n",
       "[1] Standard Errors assume that the covariance matrix of the errors is correctly specified.\n",
       "\"\"\""
      ]
     },
     "execution_count": 45,
     "metadata": {},
     "output_type": "execute_result"
    }
   ],
   "source": [
    "import statsmodels.api as sm\n",
    "\n",
    "\n",
    "# Note the difference in argument order\n",
    "model = sm.OLS(Y, X).fit()\n",
    "predictions = model.predict(X) # make the predictions by the model\n",
    "\n",
    "# Print out the statistics\n",
    "model.summary()"
   ]
  },
  {
   "cell_type": "code",
   "execution_count": 46,
   "metadata": {
    "scrolled": true
   },
   "outputs": [
    {
     "name": "stdout",
     "output_type": "stream",
     "text": [
      "Accuracy of model= 0.09720887577779214\n"
     ]
    }
   ],
   "source": [
    "from sklearn import linear_model\n",
    "\n",
    "lm = linear_model.LinearRegression()\n",
    "model = lm.fit(X,Y)\n",
    "\n",
    "predictions = lm.predict(X)\n",
    "print('Accuracy of model=',lm.score(X,Y))\n"
   ]
  },
  {
   "cell_type": "markdown",
   "metadata": {},
   "source": [
    "# Split the Training and Test Set"
   ]
  },
  {
   "cell_type": "code",
   "execution_count": 47,
   "metadata": {},
   "outputs": [
    {
     "name": "stdout",
     "output_type": "stream",
     "text": [
      "(2897, 4) (2897,)\n",
      "(1242, 4) (1242,)\n"
     ]
    }
   ],
   "source": [
    "import pandas as pd\n",
    "from sklearn import datasets, linear_model\n",
    "from sklearn.model_selection import train_test_split\n",
    "\n",
    "X_train, X_test, y_train, y_test = train_test_split(X, Y, test_size=0.3)\n",
    "print (X_train.shape, y_train.shape)\n",
    "print (X_test.shape, y_test.shape)\n"
   ]
  },
  {
   "cell_type": "markdown",
   "metadata": {},
   "source": [
    "# Linear Models"
   ]
  },
  {
   "cell_type": "markdown",
   "metadata": {},
   "source": [
    "## 1. Linear Regression"
   ]
  },
  {
   "cell_type": "code",
   "execution_count": 48,
   "metadata": {},
   "outputs": [
    {
     "name": "stdout",
     "output_type": "stream",
     "text": [
      "0.0660227337367525\n"
     ]
    }
   ],
   "source": [
    "# Linear Models\n",
    "\n",
    "## 1. Linear Regression\n",
    "\n",
    "# fit a model\n",
    "lm = linear_model.LinearRegression()\n",
    "model = lm.fit(X_train, y_train)\n",
    "predictions = lm.predict(X_test)\n",
    "\n",
    "from sklearn import metrics\n",
    "                               \n",
    "print(np.sqrt(metrics.mean_squared_error(y_test, predictions)))\n",
    "\n",
    "\n",
    "mods=['Linear_Regression']\n",
    "vals=[]\n",
    "## Vals contains rmse for test set\n",
    "vals.append(np.sqrt(metrics.mean_squared_error(y_test, predictions)))"
   ]
  },
  {
   "cell_type": "code",
   "execution_count": 49,
   "metadata": {},
   "outputs": [
    {
     "data": {
      "image/png": "[encoded data removed]",
      "text/plain": [
       "<Figure size 432x288 with 1 Axes>"
      ]
     },
     "metadata": {},
     "output_type": "display_data"
    }
   ],
   "source": [
    "## The line / model\n",
    "plt.scatter(y_test, predictions)\n",
    "plt.xlabel('True Values')\n",
    "plt.ylabel('Predictions')\n",
    "\n",
    "## R2 score Evaluation\n",
    "y_train_pred=model.predict(X_train)\n",
    "y_test_pred=model.predict(X_test)\n"
   ]
  },
  {
   "cell_type": "code",
   "execution_count": 50,
   "metadata": {},
   "outputs": [
    {
     "name": "stdout",
     "output_type": "stream",
     "text": [
      "r2 train: 0.101, test : 0.084\n",
      "Rmse VAlue is:\n",
      "0.0660227337367525\n"
     ]
    }
   ],
   "source": [
    "\n",
    "from sklearn.metrics import r2_score\n",
    "from sklearn import metrics\n",
    "\n",
    "print(\"r2 train: %.3f, test : %.3f\" %(r2_score(y_train,y_train_pred),r2_score(y_test,y_test_pred) ))\n",
    "\n",
    "print('Rmse VAlue is:')\n",
    "print(np.sqrt(metrics.mean_squared_error(y_test, y_test_pred)))\n"
   ]
  },
  {
   "cell_type": "markdown",
   "metadata": {},
   "source": [
    "## Feature Importance in Linear Regression\n"
   ]
  },
  {
   "cell_type": "code",
   "execution_count": 51,
   "metadata": {},
   "outputs": [
    {
     "data": {
      "image/png": "[encoded data removed]",
      "text/plain": [
       "<Figure size 432x288 with 1 Axes>"
      ]
     },
     "metadata": {},
     "output_type": "display_data"
    }
   ],
   "source": [
    "coefs = pd.Series(model.coef_, index = X_train.columns)\n",
    "imp_coefs = coefs.sort_values().head(10)\n",
    "imp_coefs.plot(kind = \"barh\")\n",
    "plt.title(\"Coefficients in the Linear Regression Model\")\n",
    "plt.show()\n"
   ]
  },
  {
   "cell_type": "markdown",
   "metadata": {},
   "source": [
    "# 2. Decision Tree Regressor"
   ]
  },
  {
   "cell_type": "code",
   "execution_count": 52,
   "metadata": {
    "scrolled": true
   },
   "outputs": [
    {
     "name": "stdout",
     "output_type": "stream",
     "text": [
      "0.09010942445362473\n",
      "r2 train: 0.938, test : -0.706\n"
     ]
    },
    {
     "data": {
      "image/png": "[encoded data removed]",
      "text/plain": [
       "<Figure size 432x288 with 1 Axes>"
      ]
     },
     "metadata": {},
     "output_type": "display_data"
    }
   ],
   "source": [
    "\n",
    "from sklearn.tree import DecisionTreeRegressor\n",
    "\n",
    "# X_train, X_test, y_train, y_test = train_test_split(X, Y, test_size=0.3, random_state=324)\n",
    "\n",
    "regressor = DecisionTreeRegressor(max_depth=20)\n",
    "regressor.fit(X_train, y_train)\n",
    "\n",
    "# make predictions on the testing set\n",
    "y_pred = regressor.predict(X_test)\n",
    "\n",
    "# compute the RMSE of our predictions\n",
    "print(np.sqrt(metrics.mean_squared_error(y_test, y_pred)))\n",
    "\n",
    "## R2 score Evaluation\n",
    "y_train_pred=regressor.predict(X_train)\n",
    "y_test_pred=regressor.predict(X_test)\n",
    "\n",
    "from sklearn.metrics import r2_score\n",
    "\n",
    "print(\"r2 train: %.3f, test : %.3f\" %(r2_score(y_train,y_train_pred),r2_score(y_test,y_test_pred) ))\n",
    "\n",
    "mods.append('Decision_Tree_Regressor')\n",
    "vals.append(np.sqrt(metrics.mean_squared_error(y_test, y_pred))) \n",
    "\n",
    "coefs = pd.Series(regressor.feature_importances_, index = X_train.columns)\n",
    "imp_coefs = coefs.sort_values().head(10)\n",
    "\n",
    "imp_coefs.plot(kind = \"barh\")\n",
    "plt.title(\"Coefficients in the Decision Tree Regression Model\")\n",
    "plt.show()\n",
    "\n",
    "## Reference https://www.kaggle.com/apapiu/regularized-linear-models\n",
    "\n",
    "from sklearn.linear_model import Ridge, RidgeCV, ElasticNet, LassoCV, LassoLarsCV,Lasso\n",
    "from sklearn.model_selection import cross_val_score\n",
    "\n",
    "def rmse_cv_train(model):\n",
    "    rmse= np.sqrt(-cross_val_score(model, X_train, y_train, scoring=\"neg_mean_squared_error\", cv = 5))\n",
    "    return(rmse)\n",
    "\n",
    "def rmse_cv_test(model):\n",
    "    rmse= np.sqrt(-cross_val_score(model, X_test, y_test, scoring=\"neg_mean_squared_error\", cv = 5))\n",
    "    return(rmse)\n"
   ]
  },
  {
   "cell_type": "markdown",
   "metadata": {},
   "source": [
    "# 3. Random Forest Regressor\n"
   ]
  },
  {
   "cell_type": "code",
   "execution_count": 53,
   "metadata": {},
   "outputs": [
    {
     "name": "stdout",
     "output_type": "stream",
     "text": [
      "0.0695418557446317\n",
      "r2 train: 0.869, test : -0.016\n"
     ]
    }
   ],
   "source": [
    "\n",
    "from sklearn.ensemble import RandomForestRegressor\n",
    "\n",
    "# X_train, X_test, y_train, y_test = train_test_split(X, Y, test_size=0.3, random_state=1)\n",
    "\n",
    "forest=RandomForestRegressor(n_estimators=1000,criterion='mse',random_state=1,n_jobs=-1)\n",
    "forest.fit(X_train,y_train)\n",
    "\n",
    "# make predictions on the testing set\n",
    "y_pred = forest.predict(X_test)\n",
    "\n",
    "# compute the RMSE of our predictions\n",
    "print(np.sqrt(metrics.mean_squared_error(y_test, y_pred)))\n",
    "\n",
    "\n",
    "## R2 score Evaluation\n",
    "y_train_pred=forest.predict(X_train)\n",
    "y_test_pred=forest.predict(X_test)\n",
    "\n",
    "from sklearn.metrics import r2_score\n",
    "\n",
    "print(\"r2 train: %.3f, test : %.3f\" %(r2_score(y_train,y_train_pred),r2_score(y_test,y_test_pred) ))\n",
    "\n",
    "mods.append('Random Forest Regressor')\n",
    "vals.append(np.sqrt(metrics.mean_squared_error(y_test, y_pred)))\n",
    "\n"
   ]
  },
  {
   "cell_type": "code",
   "execution_count": 54,
   "metadata": {
    "scrolled": true
   },
   "outputs": [
    {
     "data": {
      "image/png": "[encoded data removed]",
      "text/plain": [
       "<Figure size 432x288 with 1 Axes>"
      ]
     },
     "metadata": {},
     "output_type": "display_data"
    }
   ],
   "source": [
    "coefs = pd.Series(forest.feature_importances_, index = X_train.columns)\n",
    "imp_coefs = coefs.sort_values().head(10)\n",
    "\n",
    "imp_coefs.plot(kind = \"barh\")\n",
    "plt.title(\"Coefficients in the Random Forest Regression Model\")\n",
    "plt.show()\n"
   ]
  },
  {
   "cell_type": "markdown",
   "metadata": {},
   "source": [
    "# Regularized Linear Models\n"
   ]
  },
  {
   "cell_type": "code",
   "execution_count": 55,
   "metadata": {},
   "outputs": [],
   "source": [
    "from sklearn.linear_model import ElasticNet, Lasso,  BayesianRidge, LassoLarsIC,ElasticNetCV\n",
    "from sklearn.ensemble import RandomForestRegressor,  GradientBoostingRegressor\n",
    "from xgboost import XGBRegressor\n",
    "from sklearn.kernel_ridge import KernelRidge\n",
    "from sklearn.pipeline import make_pipeline\n",
    "from sklearn.preprocessing import RobustScaler\n",
    "from sklearn.base import BaseEstimator, TransformerMixin, RegressorMixin, clone\n",
    "from sklearn.model_selection import KFold, cross_val_score, train_test_split\n",
    "from sklearn.metrics import mean_squared_error\n",
    "import xgboost as xgb\n",
    "from sklearn.model_selection import GridSearchCV\n"
   ]
  },
  {
   "cell_type": "markdown",
   "metadata": {},
   "source": [
    "# 1. Ridge Regression\n"
   ]
  },
  {
   "cell_type": "code",
   "execution_count": 56,
   "metadata": {},
   "outputs": [],
   "source": [
    "#Validation function\n",
    "n_folds = 3\n",
    "\n",
    "def rmsle_cv(model):\n",
    "    kf = KFold(n_folds, shuffle=True, random_state=42).get_n_splits(X.values)\n",
    "    rmse= np.sqrt(-cross_val_score(model, X.values, Y, scoring=\"neg_mean_squared_error\", cv = kf))\n",
    "    return(rmse)"
   ]
  },
  {
   "cell_type": "code",
   "execution_count": 57,
   "metadata": {
    "scrolled": true
   },
   "outputs": [
    {
     "name": "stdout",
     "output_type": "stream",
     "text": [
      "0.07047048423958738\n"
     ]
    },
    {
     "data": {
      "image/png": "[encoded data removed]",
      "text/plain": [
       "<Figure size 432x288 with 1 Axes>"
      ]
     },
     "metadata": {},
     "output_type": "display_data"
    }
   ],
   "source": [
    "model_ridge = Ridge()\n",
    "alphas = [0.001,0.005,0.05, 0.1, 0.3, 1, 3, 5, 10, 15, 30, 50, 75]\n",
    "cv_ridge = [rmsle_cv(Ridge(alpha = alpha)).mean() \n",
    "            for alpha in alphas]\n",
    "\n",
    "cv_ridge = pd.Series(cv_ridge, index = alphas)\n",
    "cv_ridge.plot(title = \"Validation - Just Do It\")\n",
    "plt.xlabel(\"alpha\")\n",
    "plt.ylabel(\"rmse\")\n",
    "\n",
    "print(cv_ridge.min())\n"
   ]
  },
  {
   "cell_type": "code",
   "execution_count": 58,
   "metadata": {
    "scrolled": true
   },
   "outputs": [
    {
     "name": "stdout",
     "output_type": "stream",
     "text": [
      "0.06602264635108542\n"
     ]
    },
    {
     "data": {
      "text/plain": [
       "Text(0.5,1,'Coefficients in the Ridge Model')"
      ]
     },
     "execution_count": 58,
     "metadata": {},
     "output_type": "execute_result"
    },
    {
     "data": {
      "image/png": "[encoded data removed]",
      "text/plain": [
       "<Figure size 576x720 with 1 Axes>"
      ]
     },
     "metadata": {},
     "output_type": "display_data"
    }
   ],
   "source": [
    "import matplotlib\n",
    "import matplotlib.pyplot as plt\n",
    "%matplotlib inline\n",
    "\n",
    "## use min alpha\n",
    "model_ridge=Ridge(alpha=cv_ridge.idxmin())\n",
    "model_ridge.fit(X_train, y_train)\n",
    "\n",
    "# make predictions on the testing set\n",
    "y_pred = model_ridge.predict(X_test)\n",
    "\n",
    "# compute the RMSE of our predictions\n",
    "print(np.sqrt(metrics.mean_squared_error(y_test, y_pred)))\n",
    "\n",
    "mods.append('Ridge Regressor')\n",
    "vals.append(np.sqrt(metrics.mean_squared_error(y_test, y_pred)))\n",
    "\n",
    "coef = pd.Series(model_ridge.coef_, index = X_train.columns)\n",
    "imp_coef = coef.sort_values().head(10)\n",
    "\n",
    "matplotlib.rcParams['figure.figsize'] = (8.0, 10.0)\n",
    "imp_coef.plot(kind = \"barh\")\n",
    "plt.title(\"Coefficients in the Ridge Model\")"
   ]
  },
  {
   "cell_type": "code",
   "execution_count": 59,
   "metadata": {},
   "outputs": [
    {
     "data": {
      "text/plain": [
       "array([ 0.25872982, -0.00157181, -0.06210632, -0.05499552])"
      ]
     },
     "execution_count": 59,
     "metadata": {},
     "output_type": "execute_result"
    }
   ],
   "source": [
    "model_ridge.coef_"
   ]
  },
  {
   "cell_type": "markdown",
   "metadata": {},
   "source": [
    "# 2. Lasso Regression\n"
   ]
  },
  {
   "cell_type": "code",
   "execution_count": 60,
   "metadata": {
    "scrolled": true
   },
   "outputs": [
    {
     "data": {
      "text/plain": [
       "Text(0,0.5,'rmse')"
      ]
     },
     "execution_count": 60,
     "metadata": {},
     "output_type": "execute_result"
    },
    {
     "data": {
      "image/png": "[encoded data removed]",
      "text/plain": [
       "<Figure size 576x720 with 1 Axes>"
      ]
     },
     "metadata": {},
     "output_type": "display_data"
    }
   ],
   "source": [
    "\n",
    "model_lasso = LassoCV()\n",
    "alphas = [0.001,0.005,0.05, 0.1, 0.3, 1, 3, 5, 10, 15, 30, 50, 75]\n",
    "cv_lasso = [rmsle_cv(Lasso(alpha = alpha)).mean() \n",
    "            for alpha in alphas]\n",
    "\n",
    "cv_lasso = pd.Series(cv_lasso, index = alphas)\n",
    "cv_lasso.plot(title = \"Validation - Just Do It\")\n",
    "plt.xlabel(\"alpha\")\n",
    "plt.ylabel(\"rmse\")"
   ]
  },
  {
   "cell_type": "code",
   "execution_count": 61,
   "metadata": {
    "scrolled": true
   },
   "outputs": [
    {
     "name": "stdout",
     "output_type": "stream",
     "text": [
      "0.06676921910579979\n"
     ]
    },
    {
     "data": {
      "text/plain": [
       "Text(0.5,1,'Coefficients in the Lasso Model')"
      ]
     },
     "execution_count": 61,
     "metadata": {},
     "output_type": "execute_result"
    },
    {
     "data": {
      "image/png": "[encoded data removed]",
      "text/plain": [
       "<Figure size 576x720 with 1 Axes>"
      ]
     },
     "metadata": {},
     "output_type": "display_data"
    }
   ],
   "source": [
    "\n",
    "import matplotlib\n",
    "import matplotlib.pyplot as plt\n",
    "%matplotlib inline\n",
    "\n",
    "model_lasso=Lasso(alpha=cv_lasso.idxmin())\n",
    "model_lasso.fit(X_train, y_train)\n",
    "##rmsle_cv(model_lasso).min()\n",
    "\n",
    "# make predictions on the testing set\n",
    "y_pred = model_lasso.predict(X_test)\n",
    "\n",
    "# compute the RMSE of our predictions\n",
    "print(np.sqrt(metrics.mean_squared_error(y_test, y_pred)))\n",
    "\n",
    "mods.append('Lasso Regressor')\n",
    "vals.append(np.sqrt(metrics.mean_squared_error(y_test, y_pred)))\n",
    "\n",
    "coef = pd.Series(model_lasso.coef_, index = X_train.columns)\n",
    "imp_coef = coef.sort_values().head(10)\n",
    "                     \n",
    "matplotlib.rcParams['figure.figsize'] = (8.0, 10.0)\n",
    "imp_coef.plot(kind = \"barh\")\n",
    "plt.title(\"Coefficients in the Lasso Model\")\n"
   ]
  },
  {
   "cell_type": "markdown",
   "metadata": {},
   "source": [
    "# 3. ElasticNet Regression"
   ]
  },
  {
   "cell_type": "code",
   "execution_count": null,
   "metadata": {},
   "outputs": [
    {
     "name": "stderr",
     "output_type": "stream",
     "text": [
      "/Users/nikhileshchaudhary/anaconda3/lib/python3.6/site-packages/sklearn/linear_model/coordinate_descent.py:491: ConvergenceWarning: Objective did not converge. You might want to increase the number of iterations. Fitting data with very small alpha may cause precision problems.\n",
      "  ConvergenceWarning)\n",
      "/Users/nikhileshchaudhary/anaconda3/lib/python3.6/site-packages/sklearn/linear_model/coordinate_descent.py:491: ConvergenceWarning: Objective did not converge. You might want to increase the number of iterations. Fitting data with very small alpha may cause precision problems.\n",
      "  ConvergenceWarning)\n",
      "/Users/nikhileshchaudhary/anaconda3/lib/python3.6/site-packages/sklearn/linear_model/coordinate_descent.py:491: ConvergenceWarning: Objective did not converge. You might want to increase the number of iterations. Fitting data with very small alpha may cause precision problems.\n",
      "  ConvergenceWarning)\n",
      "/Users/nikhileshchaudhary/anaconda3/lib/python3.6/site-packages/sklearn/linear_model/coordinate_descent.py:491: ConvergenceWarning: Objective did not converge. You might want to increase the number of iterations. Fitting data with very small alpha may cause precision problems.\n",
      "  ConvergenceWarning)\n",
      "/Users/nikhileshchaudhary/anaconda3/lib/python3.6/site-packages/sklearn/linear_model/coordinate_descent.py:491: ConvergenceWarning: Objective did not converge. You might want to increase the number of iterations. Fitting data with very small alpha may cause precision problems.\n",
      "  ConvergenceWarning)\n",
      "/Users/nikhileshchaudhary/anaconda3/lib/python3.6/site-packages/sklearn/linear_model/coordinate_descent.py:491: ConvergenceWarning: Objective did not converge. You might want to increase the number of iterations. Fitting data with very small alpha may cause precision problems.\n",
      "  ConvergenceWarning)\n",
      "/Users/nikhileshchaudhary/anaconda3/lib/python3.6/site-packages/sklearn/linear_model/coordinate_descent.py:491: ConvergenceWarning: Objective did not converge. You might want to increase the number of iterations. Fitting data with very small alpha may cause precision problems.\n",
      "  ConvergenceWarning)\n",
      "/Users/nikhileshchaudhary/anaconda3/lib/python3.6/site-packages/sklearn/linear_model/coordinate_descent.py:491: ConvergenceWarning: Objective did not converge. You might want to increase the number of iterations. Fitting data with very small alpha may cause precision problems.\n",
      "  ConvergenceWarning)\n",
      "/Users/nikhileshchaudhary/anaconda3/lib/python3.6/site-packages/sklearn/linear_model/coordinate_descent.py:491: ConvergenceWarning: Objective did not converge. You might want to increase the number of iterations. Fitting data with very small alpha may cause precision problems.\n",
      "  ConvergenceWarning)\n",
      "/Users/nikhileshchaudhary/anaconda3/lib/python3.6/site-packages/sklearn/linear_model/coordinate_descent.py:491: ConvergenceWarning: Objective did not converge. You might want to increase the number of iterations. Fitting data with very small alpha may cause precision problems.\n",
      "  ConvergenceWarning)\n",
      "/Users/nikhileshchaudhary/anaconda3/lib/python3.6/site-packages/sklearn/linear_model/coordinate_descent.py:491: ConvergenceWarning: Objective did not converge. You might want to increase the number of iterations. Fitting data with very small alpha may cause precision problems.\n",
      "  ConvergenceWarning)\n",
      "/Users/nikhileshchaudhary/anaconda3/lib/python3.6/site-packages/sklearn/linear_model/coordinate_descent.py:491: ConvergenceWarning: Objective did not converge. You might want to increase the number of iterations. Fitting data with very small alpha may cause precision problems.\n",
      "  ConvergenceWarning)\n",
      "/Users/nikhileshchaudhary/anaconda3/lib/python3.6/site-packages/sklearn/linear_model/coordinate_descent.py:491: ConvergenceWarning: Objective did not converge. You might want to increase the number of iterations. Fitting data with very small alpha may cause precision problems.\n",
      "  ConvergenceWarning)\n",
      "/Users/nikhileshchaudhary/anaconda3/lib/python3.6/site-packages/sklearn/linear_model/coordinate_descent.py:491: ConvergenceWarning: Objective did not converge. You might want to increase the number of iterations. Fitting data with very small alpha may cause precision problems.\n",
      "  ConvergenceWarning)\n",
      "/Users/nikhileshchaudhary/anaconda3/lib/python3.6/site-packages/sklearn/linear_model/coordinate_descent.py:491: ConvergenceWarning: Objective did not converge. You might want to increase the number of iterations. Fitting data with very small alpha may cause precision problems.\n",
      "  ConvergenceWarning)\n",
      "/Users/nikhileshchaudhary/anaconda3/lib/python3.6/site-packages/sklearn/linear_model/coordinate_descent.py:491: ConvergenceWarning: Objective did not converge. You might want to increase the number of iterations. Fitting data with very small alpha may cause precision problems.\n",
      "  ConvergenceWarning)\n",
      "/Users/nikhileshchaudhary/anaconda3/lib/python3.6/site-packages/sklearn/linear_model/coordinate_descent.py:491: ConvergenceWarning: Objective did not converge. You might want to increase the number of iterations. Fitting data with very small alpha may cause precision problems.\n",
      "  ConvergenceWarning)\n",
      "/Users/nikhileshchaudhary/anaconda3/lib/python3.6/site-packages/sklearn/linear_model/coordinate_descent.py:491: ConvergenceWarning: Objective did not converge. You might want to increase the number of iterations. Fitting data with very small alpha may cause precision problems.\n",
      "  ConvergenceWarning)\n",
      "/Users/nikhileshchaudhary/anaconda3/lib/python3.6/site-packages/sklearn/linear_model/coordinate_descent.py:491: ConvergenceWarning: Objective did not converge. You might want to increase the number of iterations. Fitting data with very small alpha may cause precision problems.\n",
      "  ConvergenceWarning)\n",
      "/Users/nikhileshchaudhary/anaconda3/lib/python3.6/site-packages/sklearn/linear_model/coordinate_descent.py:491: ConvergenceWarning: Objective did not converge. You might want to increase the number of iterations. Fitting data with very small alpha may cause precision problems.\n",
      "  ConvergenceWarning)\n",
      "/Users/nikhileshchaudhary/anaconda3/lib/python3.6/site-packages/sklearn/linear_model/coordinate_descent.py:491: ConvergenceWarning: Objective did not converge. You might want to increase the number of iterations. Fitting data with very small alpha may cause precision problems.\n",
      "  ConvergenceWarning)\n",
      "/Users/nikhileshchaudhary/anaconda3/lib/python3.6/site-packages/sklearn/linear_model/coordinate_descent.py:491: ConvergenceWarning: Objective did not converge. You might want to increase the number of iterations. Fitting data with very small alpha may cause precision problems.\n",
      "  ConvergenceWarning)\n",
      "/Users/nikhileshchaudhary/anaconda3/lib/python3.6/site-packages/sklearn/linear_model/coordinate_descent.py:491: ConvergenceWarning: Objective did not converge. You might want to increase the number of iterations. Fitting data with very small alpha may cause precision problems.\n",
      "  ConvergenceWarning)\n",
      "/Users/nikhileshchaudhary/anaconda3/lib/python3.6/site-packages/sklearn/linear_model/coordinate_descent.py:491: ConvergenceWarning: Objective did not converge. You might want to increase the number of iterations. Fitting data with very small alpha may cause precision problems.\n",
      "  ConvergenceWarning)\n",
      "/Users/nikhileshchaudhary/anaconda3/lib/python3.6/site-packages/sklearn/linear_model/coordinate_descent.py:491: ConvergenceWarning: Objective did not converge. You might want to increase the number of iterations. Fitting data with very small alpha may cause precision problems.\n",
      "  ConvergenceWarning)\n",
      "/Users/nikhileshchaudhary/anaconda3/lib/python3.6/site-packages/sklearn/linear_model/coordinate_descent.py:491: ConvergenceWarning: Objective did not converge. You might want to increase the number of iterations. Fitting data with very small alpha may cause precision problems.\n",
      "  ConvergenceWarning)\n",
      "/Users/nikhileshchaudhary/anaconda3/lib/python3.6/site-packages/sklearn/linear_model/coordinate_descent.py:491: ConvergenceWarning: Objective did not converge. You might want to increase the number of iterations. Fitting data with very small alpha may cause precision problems.\n",
      "  ConvergenceWarning)\n",
      "/Users/nikhileshchaudhary/anaconda3/lib/python3.6/site-packages/sklearn/linear_model/coordinate_descent.py:491: ConvergenceWarning: Objective did not converge. You might want to increase the number of iterations. Fitting data with very small alpha may cause precision problems.\n",
      "  ConvergenceWarning)\n",
      "/Users/nikhileshchaudhary/anaconda3/lib/python3.6/site-packages/sklearn/linear_model/coordinate_descent.py:491: ConvergenceWarning: Objective did not converge. You might want to increase the number of iterations. Fitting data with very small alpha may cause precision problems.\n",
      "  ConvergenceWarning)\n",
      "/Users/nikhileshchaudhary/anaconda3/lib/python3.6/site-packages/sklearn/linear_model/coordinate_descent.py:491: ConvergenceWarning: Objective did not converge. You might want to increase the number of iterations. Fitting data with very small alpha may cause precision problems.\n",
      "  ConvergenceWarning)\n",
      "/Users/nikhileshchaudhary/anaconda3/lib/python3.6/site-packages/sklearn/linear_model/coordinate_descent.py:491: ConvergenceWarning: Objective did not converge. You might want to increase the number of iterations. Fitting data with very small alpha may cause precision problems.\n",
      "  ConvergenceWarning)\n",
      "/Users/nikhileshchaudhary/anaconda3/lib/python3.6/site-packages/sklearn/linear_model/coordinate_descent.py:491: ConvergenceWarning: Objective did not converge. You might want to increase the number of iterations. Fitting data with very small alpha may cause precision problems.\n",
      "  ConvergenceWarning)\n",
      "/Users/nikhileshchaudhary/anaconda3/lib/python3.6/site-packages/sklearn/linear_model/coordinate_descent.py:491: ConvergenceWarning: Objective did not converge. You might want to increase the number of iterations. Fitting data with very small alpha may cause precision problems.\n",
      "  ConvergenceWarning)\n",
      "/Users/nikhileshchaudhary/anaconda3/lib/python3.6/site-packages/sklearn/linear_model/coordinate_descent.py:491: ConvergenceWarning: Objective did not converge. You might want to increase the number of iterations. Fitting data with very small alpha may cause precision problems.\n",
      "  ConvergenceWarning)\n",
      "/Users/nikhileshchaudhary/anaconda3/lib/python3.6/site-packages/sklearn/linear_model/coordinate_descent.py:491: ConvergenceWarning: Objective did not converge. You might want to increase the number of iterations. Fitting data with very small alpha may cause precision problems.\n",
      "  ConvergenceWarning)\n",
      "/Users/nikhileshchaudhary/anaconda3/lib/python3.6/site-packages/sklearn/linear_model/coordinate_descent.py:491: ConvergenceWarning: Objective did not converge. You might want to increase the number of iterations. Fitting data with very small alpha may cause precision problems.\n",
      "  ConvergenceWarning)\n",
      "/Users/nikhileshchaudhary/anaconda3/lib/python3.6/site-packages/sklearn/linear_model/coordinate_descent.py:491: ConvergenceWarning: Objective did not converge. You might want to increase the number of iterations. Fitting data with very small alpha may cause precision problems.\n",
      "  ConvergenceWarning)\n",
      "/Users/nikhileshchaudhary/anaconda3/lib/python3.6/site-packages/sklearn/linear_model/coordinate_descent.py:491: ConvergenceWarning: Objective did not converge. You might want to increase the number of iterations. Fitting data with very small alpha may cause precision problems.\n",
      "  ConvergenceWarning)\n",
      "/Users/nikhileshchaudhary/anaconda3/lib/python3.6/site-packages/sklearn/linear_model/coordinate_descent.py:491: ConvergenceWarning: Objective did not converge. You might want to increase the number of iterations. Fitting data with very small alpha may cause precision problems.\n",
      "  ConvergenceWarning)\n",
      "/Users/nikhileshchaudhary/anaconda3/lib/python3.6/site-packages/sklearn/linear_model/coordinate_descent.py:491: ConvergenceWarning: Objective did not converge. You might want to increase the number of iterations. Fitting data with very small alpha may cause precision problems.\n",
      "  ConvergenceWarning)\n",
      "/Users/nikhileshchaudhary/anaconda3/lib/python3.6/site-packages/sklearn/linear_model/coordinate_descent.py:491: ConvergenceWarning: Objective did not converge. You might want to increase the number of iterations. Fitting data with very small alpha may cause precision problems.\n",
      "  ConvergenceWarning)\n",
      "/Users/nikhileshchaudhary/anaconda3/lib/python3.6/site-packages/sklearn/linear_model/coordinate_descent.py:491: ConvergenceWarning: Objective did not converge. You might want to increase the number of iterations. Fitting data with very small alpha may cause precision problems.\n",
      "  ConvergenceWarning)\n",
      "/Users/nikhileshchaudhary/anaconda3/lib/python3.6/site-packages/sklearn/linear_model/coordinate_descent.py:491: ConvergenceWarning: Objective did not converge. You might want to increase the number of iterations. Fitting data with very small alpha may cause precision problems.\n",
      "  ConvergenceWarning)\n",
      "/Users/nikhileshchaudhary/anaconda3/lib/python3.6/site-packages/sklearn/linear_model/coordinate_descent.py:491: ConvergenceWarning: Objective did not converge. You might want to increase the number of iterations. Fitting data with very small alpha may cause precision problems.\n",
      "  ConvergenceWarning)\n",
      "/Users/nikhileshchaudhary/anaconda3/lib/python3.6/site-packages/sklearn/linear_model/coordinate_descent.py:491: ConvergenceWarning: Objective did not converge. You might want to increase the number of iterations. Fitting data with very small alpha may cause precision problems.\n",
      "  ConvergenceWarning)\n",
      "/Users/nikhileshchaudhary/anaconda3/lib/python3.6/site-packages/sklearn/linear_model/coordinate_descent.py:491: ConvergenceWarning: Objective did not converge. You might want to increase the number of iterations. Fitting data with very small alpha may cause precision problems.\n",
      "  ConvergenceWarning)\n",
      "/Users/nikhileshchaudhary/anaconda3/lib/python3.6/site-packages/sklearn/linear_model/coordinate_descent.py:491: ConvergenceWarning: Objective did not converge. You might want to increase the number of iterations. Fitting data with very small alpha may cause precision problems.\n",
      "  ConvergenceWarning)\n",
      "/Users/nikhileshchaudhary/anaconda3/lib/python3.6/site-packages/sklearn/linear_model/coordinate_descent.py:491: ConvergenceWarning: Objective did not converge. You might want to increase the number of iterations. Fitting data with very small alpha may cause precision problems.\n",
      "  ConvergenceWarning)\n",
      "/Users/nikhileshchaudhary/anaconda3/lib/python3.6/site-packages/sklearn/linear_model/coordinate_descent.py:491: ConvergenceWarning: Objective did not converge. You might want to increase the number of iterations. Fitting data with very small alpha may cause precision problems.\n",
      "  ConvergenceWarning)\n",
      "/Users/nikhileshchaudhary/anaconda3/lib/python3.6/site-packages/sklearn/linear_model/coordinate_descent.py:491: ConvergenceWarning: Objective did not converge. You might want to increase the number of iterations. Fitting data with very small alpha may cause precision problems.\n",
      "  ConvergenceWarning)\n"
     ]
    },
    {
     "name": "stderr",
     "output_type": "stream",
     "text": [
      "/Users/nikhileshchaudhary/anaconda3/lib/python3.6/site-packages/sklearn/linear_model/coordinate_descent.py:491: ConvergenceWarning: Objective did not converge. You might want to increase the number of iterations. Fitting data with very small alpha may cause precision problems.\n",
      "  ConvergenceWarning)\n",
      "/Users/nikhileshchaudhary/anaconda3/lib/python3.6/site-packages/sklearn/linear_model/coordinate_descent.py:491: ConvergenceWarning: Objective did not converge. You might want to increase the number of iterations. Fitting data with very small alpha may cause precision problems.\n",
      "  ConvergenceWarning)\n",
      "/Users/nikhileshchaudhary/anaconda3/lib/python3.6/site-packages/sklearn/linear_model/coordinate_descent.py:491: ConvergenceWarning: Objective did not converge. You might want to increase the number of iterations. Fitting data with very small alpha may cause precision problems.\n",
      "  ConvergenceWarning)\n",
      "/Users/nikhileshchaudhary/anaconda3/lib/python3.6/site-packages/sklearn/linear_model/coordinate_descent.py:491: ConvergenceWarning: Objective did not converge. You might want to increase the number of iterations. Fitting data with very small alpha may cause precision problems.\n",
      "  ConvergenceWarning)\n",
      "/Users/nikhileshchaudhary/anaconda3/lib/python3.6/site-packages/sklearn/linear_model/coordinate_descent.py:491: ConvergenceWarning: Objective did not converge. You might want to increase the number of iterations. Fitting data with very small alpha may cause precision problems.\n",
      "  ConvergenceWarning)\n",
      "/Users/nikhileshchaudhary/anaconda3/lib/python3.6/site-packages/sklearn/linear_model/coordinate_descent.py:491: ConvergenceWarning: Objective did not converge. You might want to increase the number of iterations. Fitting data with very small alpha may cause precision problems.\n",
      "  ConvergenceWarning)\n",
      "/Users/nikhileshchaudhary/anaconda3/lib/python3.6/site-packages/sklearn/linear_model/coordinate_descent.py:491: ConvergenceWarning: Objective did not converge. You might want to increase the number of iterations. Fitting data with very small alpha may cause precision problems.\n",
      "  ConvergenceWarning)\n",
      "/Users/nikhileshchaudhary/anaconda3/lib/python3.6/site-packages/sklearn/linear_model/coordinate_descent.py:491: ConvergenceWarning: Objective did not converge. You might want to increase the number of iterations. Fitting data with very small alpha may cause precision problems.\n",
      "  ConvergenceWarning)\n",
      "/Users/nikhileshchaudhary/anaconda3/lib/python3.6/site-packages/sklearn/linear_model/coordinate_descent.py:491: ConvergenceWarning: Objective did not converge. You might want to increase the number of iterations. Fitting data with very small alpha may cause precision problems.\n",
      "  ConvergenceWarning)\n",
      "/Users/nikhileshchaudhary/anaconda3/lib/python3.6/site-packages/sklearn/linear_model/coordinate_descent.py:491: ConvergenceWarning: Objective did not converge. You might want to increase the number of iterations. Fitting data with very small alpha may cause precision problems.\n",
      "  ConvergenceWarning)\n",
      "/Users/nikhileshchaudhary/anaconda3/lib/python3.6/site-packages/sklearn/linear_model/coordinate_descent.py:491: ConvergenceWarning: Objective did not converge. You might want to increase the number of iterations. Fitting data with very small alpha may cause precision problems.\n",
      "  ConvergenceWarning)\n",
      "/Users/nikhileshchaudhary/anaconda3/lib/python3.6/site-packages/sklearn/linear_model/coordinate_descent.py:491: ConvergenceWarning: Objective did not converge. You might want to increase the number of iterations. Fitting data with very small alpha may cause precision problems.\n",
      "  ConvergenceWarning)\n",
      "/Users/nikhileshchaudhary/anaconda3/lib/python3.6/site-packages/sklearn/linear_model/coordinate_descent.py:491: ConvergenceWarning: Objective did not converge. You might want to increase the number of iterations. Fitting data with very small alpha may cause precision problems.\n",
      "  ConvergenceWarning)\n",
      "/Users/nikhileshchaudhary/anaconda3/lib/python3.6/site-packages/sklearn/linear_model/coordinate_descent.py:491: ConvergenceWarning: Objective did not converge. You might want to increase the number of iterations. Fitting data with very small alpha may cause precision problems.\n",
      "  ConvergenceWarning)\n"
     ]
    }
   ],
   "source": [
    "model_elastic_net=ElasticNet()\n",
    "parametersGrid = {\"max_iter\": [1, 5, 10,100,1000,10000],\n",
    "                      \"alpha\": [0.0001, 0.001, 0.01, 0.1, 1, 10, 100],\n",
    "                      \"l1_ratio\": np.arange(0.0, 1.0, 0.1)}\n",
    "\n",
    "grid = GridSearchCV(estimator=model_elastic_net,param_grid=parametersGrid,cv=3,scoring='neg_mean_absolute_error')\n",
    "grid.fit(X, Y)\n",
    "print (\"best grid params: \", grid.best_params_)\n"
   ]
  },
  {
   "cell_type": "code",
   "execution_count": null,
   "metadata": {},
   "outputs": [],
   "source": [
    "grid.best_estimator_"
   ]
  },
  {
   "cell_type": "code",
   "execution_count": null,
   "metadata": {
    "scrolled": false
   },
   "outputs": [],
   "source": [
    "\n",
    "ENet=grid.best_estimator_\n",
    "ENet.fit(X_train, y_train)\n",
    "# rmsle_cv(model_lasso).min()\n",
    "# make predictions on the testing set\n",
    "y_pred = ENet.predict(X_test)\n",
    "\n",
    "# compute the RMSE of our predictions\n",
    "print(np.sqrt(metrics.mean_squared_error(y_test, y_pred)))\n",
    "\n",
    "mods.append('ElasticNet Regressor')\n",
    "vals.append(np.sqrt(metrics.mean_squared_error(y_test, y_pred)))\n",
    "\n",
    "coef = pd.Series(ENet.coef_, index = X_train.columns)\n",
    "imp_coef = coef.sort_values().head(10)\n",
    "                     \n",
    "matplotlib.rcParams['figure.figsize'] = (8.0, 10.0)\n",
    "imp_coef.plot(kind = \"barh\")\n",
    "plt.title(\"Coefficients in the ElasticNet Model\")\n",
    "\n",
    "# \n",
    "# print(\"\\nLasso score: {:.4f} ({:.4f})\\n\".format(score.mean(), score.std()))\n"
   ]
  },
  {
   "cell_type": "markdown",
   "metadata": {},
   "source": [
    "# XgBoost Regression"
   ]
  },
  {
   "cell_type": "code",
   "execution_count": null,
   "metadata": {},
   "outputs": [],
   "source": [
    "\n",
    "# A parameter grid for XGBoost\n",
    "params = {'min_child_weight':[4,5], 'gamma':[i/10.0 for i in range(3,6)], \n",
    "        'max_depth': [2,3,4],'n_estimators':[100,300,1000, 2000,3000],\n",
    "        'learning_rate': [0.01, 0.1, 1.0]}\n",
    "\n"
   ]
  },
  {
   "cell_type": "code",
   "execution_count": null,
   "metadata": {},
   "outputs": [],
   "source": [
    "# # Initialize XGB and GridSearch\n",
    "# xgb = XGBRegressor(nthread=-1,objective='reg:linear',booster='gblinear') \n",
    "\n",
    "# grid = GridSearchCV(xgb, params,cv=3,scoring='neg_mean_absolute_error')\n",
    "# grid.fit(X, Y)\n",
    "\n",
    "# print (\"best grid params: \", grid.best_params_)\n"
   ]
  },
  {
   "cell_type": "code",
   "execution_count": null,
   "metadata": {},
   "outputs": [],
   "source": [
    "# grid.best_estimator_\n",
    "\n",
    "# ## XGBRegressor(\n",
    "#         base_score=0.5, booster='gblinear', colsample_bylevel=1,\n",
    "#        colsample_bytree=1, gamma=0.3, learning_rate=0.01, max_delta_step=0,\n",
    "#        max_depth=2, min_child_weight=4, missing=None, n_estimators=100,\n",
    "#        n_jobs=1, nthread=-1, objective='reg:linear', random_state=0,\n",
    "#        reg_alpha=0, reg_lambda=1, scale_pos_weight=1, seed=None,\n",
    "#        silent=True, subsample=1,objective='reg:linear',booster='gblinear')"
   ]
  },
  {
   "cell_type": "code",
   "execution_count": null,
   "metadata": {
    "scrolled": true
   },
   "outputs": [],
   "source": [
    "\n",
    "xg_model=XGBRegressor(base_score=0.5, booster='gblinear', colsample_bylevel=1,\n",
    "       colsample_bytree=1, gamma=0.3, learning_rate=0.01, max_delta_step=0,\n",
    "       max_depth=2, min_child_weight=4, missing=None, n_estimators=100,\n",
    "       n_jobs=1, nthread=-1, objective='reg:linear', random_state=0,\n",
    "       reg_alpha=0, reg_lambda=1, scale_pos_weight=1, seed=None,\n",
    "       silent=True, subsample=1)\n",
    "\n",
    "\n",
    "xg_model.fit(X_train, y_train)\n",
    "# rmsle_cv(model_lasso).min()\n",
    "# make predictions on the testing set\n",
    "y_pred = xg_model.predict(X_test)\n",
    "\n",
    "# compute the RMSE of our predictions\n",
    "print(np.sqrt(metrics.mean_squared_error(y_test, y_pred)))\n",
    "\n",
    "mods.append('XgBoost Regressor')\n",
    "vals.append(np.sqrt(metrics.mean_squared_error(y_test, y_pred)))\n",
    "\n",
    "coef = pd.Series(xg_model.coef_, index = X_train.columns)\n",
    "imp_coef = coef.sort_values().head(10)\n",
    "                     \n",
    "matplotlib.rcParams['figure.figsize'] = (8.0, 10.0)\n",
    "imp_coef.plot(kind = \"barh\")\n",
    "plt.title(\"Coefficients in the XgBoost Regression Model\")\n",
    "\n",
    "# \n",
    "# print(\"\\nLasso score: {:.4f} ({:.4f})\\n\".format(score.mean(), score.std()))\n"
   ]
  },
  {
   "cell_type": "code",
   "execution_count": null,
   "metadata": {},
   "outputs": [],
   "source": []
  },
  {
   "cell_type": "markdown",
   "metadata": {},
   "source": [
    "# Compare RMSE of all the 6 models"
   ]
  },
  {
   "cell_type": "code",
   "execution_count": null,
   "metadata": {},
   "outputs": [],
   "source": [
    "\n",
    "ser_df=pd.DataFrame({'Model': mods, 'Accuracy_Value': vals})\n",
    "ser_df.sort_values(by='Accuracy_Value', ascending=True,inplace=True)\n",
    "source = ColumnDataSource(ser_df)\n",
    "\n",
    "label_type = source.data['Model'].tolist()\n",
    "\n",
    "p = figure(x_range=label_type, plot_width=1100, plot_height=700)\n",
    "color_map = factor_cmap(field_name='Model', palette=Spectral6, factors=mods)\n",
    "p.vbar(x='Model', top='Accuracy_Value', source=source, width=0.70, color=color_map)\n",
    "\n",
    "p.title.text ='Comparison of Models'\n",
    "p.xaxis.axis_label = 'Model Types'\n",
    "p.yaxis.axis_label = \"RMSE value of different models On Test Set\"\n",
    "\n",
    "show(p)"
   ]
  },
  {
   "cell_type": "code",
   "execution_count": null,
   "metadata": {},
   "outputs": [],
   "source": [
    "# # Reference https://www.kaggle.com/jasonbenner/ridge-regression-cv-tutorial\n",
    "# # https://www.kaggle.com/jsaadani/simple-ridge-regression-in-python\n",
    "# from sklearn.model_selection import GridSearchCV\n",
    "\n",
    "# solverOptions = (['svd', 'cholesky', 'sparse_cg', 'sag'])\n",
    "# fit_interceptOptions = ([True, False])\n",
    "# alphas = np.linspace(0,1,30)\n",
    "# model = Ridge(normalize=True)\n",
    "\n",
    "# grid = GridSearchCV(estimator=model,param_grid=dict(alpha=alphas,fit_intercept=fit_interceptOptions,\n",
    "#                                               solver=solverOptions),cv=3,scoring='neg_mean_absolute_error')\n",
    "# grid.fit(X_train, y_train)\n",
    "\n",
    "# print (\"best grid params: \", grid.best_params_)\n",
    "\n"
   ]
  },
  {
   "cell_type": "code",
   "execution_count": null,
   "metadata": {},
   "outputs": [],
   "source": [
    "# print('Best score: ',grid.best_score_)"
   ]
  },
  {
   "cell_type": "code",
   "execution_count": null,
   "metadata": {},
   "outputs": [],
   "source": [
    "ser_df"
   ]
  },
  {
   "cell_type": "code",
   "execution_count": null,
   "metadata": {},
   "outputs": [],
   "source": []
  }
 ],
 "metadata": {
  "kernelspec": {
   "display_name": "Python 3",
   "language": "python",
   "name": "python3"
  },
  "language_info": {
   "codemirror_mode": {
    "name": "ipython",
    "version": 3
   },
   "file_extension": ".py",
   "mimetype": "text/x-python",
   "name": "python",
   "nbconvert_exporter": "python",
   "pygments_lexer": "ipython3",
   "version": "3.6.5"
  }
 },
 "nbformat": 4,
 "nbformat_minor": 2
}
