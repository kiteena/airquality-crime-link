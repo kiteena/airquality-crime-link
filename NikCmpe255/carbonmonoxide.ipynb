{
 "cells": [
  {
   "cell_type": "code",
   "execution_count": 461,
   "metadata": {},
   "outputs": [
    {
     "name": "stdout",
     "output_type": "stream",
     "text": [
      "The google.cloud.bigquery extension is already loaded. To reload it, use:\n",
      "  %reload_ext google.cloud.bigquery\n"
     ]
    }
   ],
   "source": [
    "import numpy as np\n",
    "import pandas as pd\n",
    "# matplotlib for plotting\n",
    "import matplotlib.pyplot as plt\n",
    "import seaborn as sns\n",
    "plt.style.use('fivethirtyeight')\n",
    "from google.cloud import bigquery\n",
    "from bq_helper import BigQueryHelper\n",
    "%load_ext google.cloud.bigquery\n",
    "import os\n",
    "\n",
    "os.environ[\"GOOGLE_APPLICATION_CREDENTIALS\"]=\"My Project-bbdce7b1712b.json\"\n"
   ]
  },
  {
   "cell_type": "code",
   "execution_count": 462,
   "metadata": {},
   "outputs": [],
   "source": [
    "bq_assistant = BigQueryHelper(\"bigquery-public-data\", \"epa_historical_air_quality\")\n",
    "\n",
    "## We are only looking at SF Data\n",
    "query=\"\"\"\n",
    "SELECT * FROM `bigquery-public-data.epa_historical_air_quality.co_daily_summary`\n",
    "where state_name =\"California\" AND city_name=\"San Francisco\"\n",
    "\"\"\"\n",
    "\n",
    "df = bq_assistant.query_to_pandas(query)\n",
    "##df=pd.read_csv('carbon-monoxide-results-20181007-145932.csv')"
   ]
  },
  {
   "cell_type": "code",
   "execution_count": 463,
   "metadata": {},
   "outputs": [
    {
     "data": {
      "text/plain": [
       "(32794, 29)"
      ]
     },
     "execution_count": 463,
     "metadata": {},
     "output_type": "execute_result"
    }
   ],
   "source": [
    "df.shape"
   ]
  },
  {
   "cell_type": "markdown",
   "metadata": {},
   "source": [
    "Check the no of missing values in each column"
   ]
  },
  {
   "cell_type": "code",
   "execution_count": 464,
   "metadata": {},
   "outputs": [
    {
     "data": {
      "text/plain": [
       "state_code                 0\n",
       "county_code                0\n",
       "site_num                   0\n",
       "parameter_code             0\n",
       "poc                        0\n",
       "latitude                   0\n",
       "longitude                  0\n",
       "datum                      0\n",
       "parameter_name             0\n",
       "sample_duration            0\n",
       "pollutant_standard         0\n",
       "date_local                 0\n",
       "units_of_measure           0\n",
       "event_type                 0\n",
       "observation_count          0\n",
       "observation_percent        0\n",
       "arithmetic_mean            0\n",
       "first_max_value            0\n",
       "first_max_hour             0\n",
       "aqi                    16396\n",
       "method_code            16398\n",
       "method_name                0\n",
       "local_site_name            0\n",
       "address                    0\n",
       "state_name                 0\n",
       "county_name                0\n",
       "city_name                  0\n",
       "cbsa_name                  0\n",
       "date_of_last_change        0\n",
       "dtype: int64"
      ]
     },
     "execution_count": 464,
     "metadata": {},
     "output_type": "execute_result"
    }
   ],
   "source": [
    "df.isna().sum()"
   ]
  },
  {
   "cell_type": "markdown",
   "metadata": {},
   "source": [
    "# Data Preprocessing"
   ]
  },
  {
   "cell_type": "markdown",
   "metadata": {},
   "source": [
    "Remove Missing values in aqi ( Dont Uncomment this)"
   ]
  },
  {
   "cell_type": "code",
   "execution_count": 465,
   "metadata": {},
   "outputs": [],
   "source": [
    "# from sklearn.preprocessing import Imputer\n",
    "\n",
    "# imp=Imputer(missing_values='NaN',strategy='mean')\n",
    "\n",
    "# ## replace missing values in aqi and method code with mean\n",
    "# df[\"aqi\"]=imp.fit_transform(df[[\"aqi\"]]).ravel()\n",
    "# df[\"method_code\"]=imp.fit_transform(df[[\"method_code\"]]).ravel()\n"
   ]
  },
  {
   "cell_type": "markdown",
   "metadata": {},
   "source": [
    "## Data Visualization ( for different years 1990-2017)\n",
    "\n",
    "We will measure average aqi for different gases (CO,O3,NO2,SO2)"
   ]
  },
  {
   "cell_type": "markdown",
   "metadata": {},
   "source": [
    "# Bar Graph for the average AQI over the years for the 4 gases"
   ]
  },
  {
   "cell_type": "code",
   "execution_count": 466,
   "metadata": {},
   "outputs": [],
   "source": [
    "# For visualization\n",
    "from bokeh.plotting import figure, output_file, show\n",
    "from bokeh.models import ColumnDataSource, HoverTool\n",
    "from bokeh.palettes import Spectral6, brewer\n",
    "from bokeh.transform import factor_cmap\n"
   ]
  },
  {
   "cell_type": "markdown",
   "metadata": {},
   "source": [
    "Avg Air Quality Index for CO over the years in San Francisco"
   ]
  },
  {
   "cell_type": "code",
   "execution_count": 467,
   "metadata": {},
   "outputs": [],
   "source": [
    "QUERY = \"\"\"\n",
    "    SELECT\n",
    "        EXTRACT(YEAR FROM date_local) as year,\n",
    "        avg(aqi) as avg_aqi\n",
    "    FROM\n",
    "      `bigquery-public-data.epa_historical_air_quality.co_daily_summary`\n",
    "    WHERE\n",
    "       state_name =\"California\" AND city_name=\"San Francisco\"\n",
    "    GROUP BY year\n",
    "    ORDER BY year ASC\n",
    "        \"\"\"\n",
    "df_co = bq_assistant.query_to_pandas(QUERY)"
   ]
  },
  {
   "cell_type": "code",
   "execution_count": 468,
   "metadata": {},
   "outputs": [],
   "source": [
    "df_co.year = df_co.year.astype(str)"
   ]
  },
  {
   "cell_type": "code",
   "execution_count": 469,
   "metadata": {},
   "outputs": [
    {
     "name": "stderr",
     "output_type": "stream",
     "text": [
      "/Users/nikhileshchaudhary/anaconda3/lib/python3.6/site-packages/bokeh/models/mappers.py:82: UserWarning: Palette length does not match number of factors. ['1996', '1997', '1998', '1999', '2000', '2001', '2002', '2003', '2004', '2005', '2006', '2007', '2008', '2009', '2010', '2011', '2012', '2013', '2014', '2015', '2016', '2017'] will be assigned to `nan_color` gray\n",
      "  warnings.warn(\"Palette length does not match number of factors. %s will be assigned to `nan_color` %s\" % (extra_factors, self.nan_color))\n"
     ]
    }
   ],
   "source": [
    "## Reference https://bokeh.pydata.org/en/latest/docs/user_guide/categorical.html\n",
    "## Bar graph\n",
    "output_file('average_aqi_CO_over_the_years.html')\n",
    "\n",
    "source = ColumnDataSource(df_co)\n",
    "years = source.data['year'].tolist()\n",
    "p = figure(x_range=years, plot_width=1200, plot_height=800)\n",
    "\n",
    "color_map = factor_cmap(field_name='year', palette=Spectral6, factors=years)\n",
    "\n",
    "p.vbar(x='year', top='avg_aqi', source=source, width=0.90)\n",
    "\n",
    "p.title.text ='Average AQI of Carbon monoxide in different years'\n",
    "p.xaxis.axis_label = 'Years'\n",
    "p.yaxis.axis_label = \"Average AQI of Carbon monoxide\"\n",
    "\n",
    "show(p)\n"
   ]
  },
  {
   "cell_type": "markdown",
   "metadata": {},
   "source": [
    "Avg Air Quality Index for O3 over the years in San Francisco"
   ]
  },
  {
   "cell_type": "code",
   "execution_count": 470,
   "metadata": {},
   "outputs": [],
   "source": [
    "QUERY = \"\"\"\n",
    "    SELECT\n",
    "        EXTRACT(YEAR FROM date_local) as year,\n",
    "        avg(aqi) as avg_aqi\n",
    "    FROM\n",
    "      `bigquery-public-data.epa_historical_air_quality.o3_daily_summary`\n",
    "    WHERE\n",
    "       state_name =\"California\" AND city_name=\"San Francisco\"\n",
    "    GROUP BY year\n",
    "    ORDER BY year ASC\n",
    "        \"\"\"\n",
    "df_o3 = bq_assistant.query_to_pandas(QUERY)\n",
    "\n"
   ]
  },
  {
   "cell_type": "code",
   "execution_count": 471,
   "metadata": {},
   "outputs": [],
   "source": [
    "df_o3.year = df_o3.year.astype(str)"
   ]
  },
  {
   "cell_type": "code",
   "execution_count": 472,
   "metadata": {},
   "outputs": [
    {
     "name": "stderr",
     "output_type": "stream",
     "text": [
      "/Users/nikhileshchaudhary/anaconda3/lib/python3.6/site-packages/bokeh/models/mappers.py:82: UserWarning: Palette length does not match number of factors. ['1996', '1997', '1998', '1999', '2000', '2001', '2002', '2003', '2004', '2005', '2006', '2007', '2008', '2009', '2010', '2011', '2012', '2013', '2014', '2015', '2016', '2017'] will be assigned to `nan_color` gray\n",
      "  warnings.warn(\"Palette length does not match number of factors. %s will be assigned to `nan_color` %s\" % (extra_factors, self.nan_color))\n"
     ]
    }
   ],
   "source": [
    "## Reference https://bokeh.pydata.org/en/latest/docs/user_guide/categorical.html\n",
    "## Bar graph\n",
    "output_file('average_aqi_O3_over_the_years.html')\n",
    "\n",
    "source = ColumnDataSource(df_o3)\n",
    "years = source.data['year'].tolist()\n",
    "p = figure(x_range=years, plot_width=1200, plot_height=800)\n",
    "\n",
    "color_map = factor_cmap(field_name='year', palette=Spectral6, factors=years)\n",
    "\n",
    "p.vbar(x='year', top='avg_aqi', source=source, width=0.90)\n",
    "\n",
    "p.title.text ='Average AQI of Ozone in different years'\n",
    "p.xaxis.axis_label = 'Years'\n",
    "p.yaxis.axis_label = \"Average AQI of Ozone\"\n",
    "\n",
    "show(p)\n"
   ]
  },
  {
   "cell_type": "markdown",
   "metadata": {},
   "source": [
    "Avg Air Quality Index for NO2 over the years in San Francisco"
   ]
  },
  {
   "cell_type": "code",
   "execution_count": 473,
   "metadata": {},
   "outputs": [],
   "source": [
    "QUERY = \"\"\"\n",
    "    SELECT\n",
    "        EXTRACT(YEAR FROM date_local) as year,\n",
    "        avg(aqi) as avg_aqi\n",
    "    FROM\n",
    "      `bigquery-public-data.epa_historical_air_quality.no2_daily_summary`\n",
    "    WHERE\n",
    "       state_name =\"California\" AND city_name=\"San Francisco\"\n",
    "    GROUP BY year\n",
    "    ORDER BY year ASC\n",
    "        \"\"\"\n",
    "df_no2 = bq_assistant.query_to_pandas(QUERY)\n",
    "\n"
   ]
  },
  {
   "cell_type": "code",
   "execution_count": 474,
   "metadata": {},
   "outputs": [],
   "source": [
    "df_no2.year = df_no2.year.astype(str)"
   ]
  },
  {
   "cell_type": "code",
   "execution_count": 475,
   "metadata": {},
   "outputs": [
    {
     "name": "stderr",
     "output_type": "stream",
     "text": [
      "/Users/nikhileshchaudhary/anaconda3/lib/python3.6/site-packages/bokeh/models/mappers.py:82: UserWarning: Palette length does not match number of factors. ['1996', '1997', '1998', '1999', '2000', '2001', '2002', '2003', '2004', '2005', '2006', '2007', '2008', '2009', '2010', '2011', '2012', '2013', '2014', '2015', '2016', '2017'] will be assigned to `nan_color` gray\n",
      "  warnings.warn(\"Palette length does not match number of factors. %s will be assigned to `nan_color` %s\" % (extra_factors, self.nan_color))\n"
     ]
    }
   ],
   "source": [
    "## Reference https://bokeh.pydata.org/en/latest/docs/user_guide/categorical.html\n",
    "## Bar graph\n",
    "output_file('average_aqi_no2_over_the_years.html')\n",
    "\n",
    "source = ColumnDataSource(df_no2)\n",
    "years = source.data['year'].tolist()\n",
    "p = figure(x_range=years, plot_width=1200, plot_height=800)\n",
    "\n",
    "color_map = factor_cmap(field_name='year', palette=Spectral6, factors=years)\n",
    "\n",
    "p.vbar(x='year', top='avg_aqi', source=source, width=0.90)\n",
    "\n",
    "p.title.text ='Average AQI of Nitrogen dioxide  in different years'\n",
    "p.xaxis.axis_label = 'Years'\n",
    "p.yaxis.axis_label = \"Average AQI of Nitrogen dioxide \"\n",
    "\n",
    "show(p)\n"
   ]
  },
  {
   "cell_type": "code",
   "execution_count": 476,
   "metadata": {},
   "outputs": [
    {
     "name": "stderr",
     "output_type": "stream",
     "text": [
      "/Users/nikhileshchaudhary/anaconda3/lib/python3.6/site-packages/bokeh/models/mappers.py:82: UserWarning: Palette length does not match number of factors. ['1996', '1997', '1998', '1999', '2000', '2001', '2002', '2003', '2004', '2005', '2006', '2007', '2008'] will be assigned to `nan_color` gray\n",
      "  warnings.warn(\"Palette length does not match number of factors. %s will be assigned to `nan_color` %s\" % (extra_factors, self.nan_color))\n"
     ]
    }
   ],
   "source": [
    "##Avg Air Quality Index for SO2 over the years in San Francisco\n",
    "\n",
    "QUERY = \"\"\"\n",
    "    SELECT\n",
    "        EXTRACT(YEAR FROM date_local) as year,\n",
    "        avg(aqi) as avg_aqi\n",
    "    FROM\n",
    "      `bigquery-public-data.epa_historical_air_quality.so2_daily_summary`\n",
    "    WHERE\n",
    "       state_name =\"California\" AND city_name=\"San Francisco\"\n",
    "    GROUP BY year\n",
    "    ORDER BY year ASC\n",
    "        \"\"\"\n",
    "df_so2 = bq_assistant.query_to_pandas(QUERY)\n",
    "\n",
    "df_so2.year = df_so2.year.astype(str)\n",
    "\n",
    "## Reference https://bokeh.pydata.org/en/latest/docs/user_guide/categorical.html\n",
    "## Bar graph\n",
    "output_file('average_aqi_so2_over_the_years.html')\n",
    "\n",
    "source = ColumnDataSource(df_so2)\n",
    "years = source.data['year'].tolist()\n",
    "p = figure(x_range=years, plot_width=1200, plot_height=800)\n",
    "\n",
    "color_map = factor_cmap(field_name='year', palette=Spectral6, factors=years)\n",
    "\n",
    "p.vbar(x='year', top='avg_aqi', source=source, width=0.90)\n",
    "\n",
    "p.title.text ='Average AQI of Sulphur dioxide  in different years'\n",
    "p.xaxis.axis_label = 'Years'\n",
    "p.yaxis.axis_label = \"Average AQI of Sulphur dioxide \"\n",
    "\n",
    "show(p)\n"
   ]
  },
  {
   "cell_type": "markdown",
   "metadata": {},
   "source": [
    "Avg Air Quality Index for Particulate Matter over the years in San Francisco"
   ]
  },
  {
   "cell_type": "code",
   "execution_count": 477,
   "metadata": {
    "scrolled": true
   },
   "outputs": [
    {
     "name": "stderr",
     "output_type": "stream",
     "text": [
      "/Users/nikhileshchaudhary/anaconda3/lib/python3.6/site-packages/bokeh/models/mappers.py:82: UserWarning: Palette length does not match number of factors. ['2005', '2006', '2007', '2008', '2009', '2010', '2011', '2012', '2013', '2014', '2015', '2016', '2017'] will be assigned to `nan_color` gray\n",
      "  warnings.warn(\"Palette length does not match number of factors. %s will be assigned to `nan_color` %s\" % (extra_factors, self.nan_color))\n"
     ]
    }
   ],
   "source": [
    "##Avg Air Quality Index for Particulate Matter over the years in San Francisco\n",
    "\n",
    "QUERY = \"\"\"\n",
    "    SELECT\n",
    "        EXTRACT(YEAR FROM date_local) as year,\n",
    "        avg(aqi) as avg_aqi\n",
    "    FROM\n",
    "      `bigquery-public-data.epa_historical_air_quality.pm25_frm_daily_summary`\n",
    "    WHERE\n",
    "       state_name =\"California\" AND city_name=\"San Francisco\"\n",
    "    GROUP BY year\n",
    "    ORDER BY year ASC\n",
    "        \"\"\"\n",
    "df_pm25 = bq_assistant.query_to_pandas(QUERY)\n",
    "\n",
    "df_pm25.year = df_pm25.year.astype(str)\n",
    "\n",
    "## Reference https://bokeh.pydata.org/en/latest/docs/user_guide/categorical.html\n",
    "## Bar graph\n",
    "output_file('average_aqi_pm25_over_the_years.html')\n",
    "\n",
    "source = ColumnDataSource(df_pm25)\n",
    "years = source.data['year'].tolist()\n",
    "p = figure(x_range=years, plot_width=1200, plot_height=800)\n",
    "\n",
    "color_map = factor_cmap(field_name='year', palette=Spectral6, factors=years)\n",
    "\n",
    "p.vbar(x='year', top='avg_aqi', source=source, width=0.90)\n",
    "\n",
    "p.title.text ='Average AQI of Particulate Matter in different years'\n",
    "p.xaxis.axis_label = 'Years'\n",
    "p.yaxis.axis_label = \"Average AQI of Particulate Matter\"\n",
    "\n",
    "show(p)\n"
   ]
  },
  {
   "cell_type": "code",
   "execution_count": null,
   "metadata": {},
   "outputs": [],
   "source": []
  },
  {
   "cell_type": "code",
   "execution_count": 478,
   "metadata": {},
   "outputs": [],
   "source": [
    "## RENAME THE COLUMNS OF THE 4 DFS \n",
    "## https://stackoverflow.com/questions/11346283/renaming-columns-in-pandas\n",
    "df_co.rename(columns={'avg_aqi': 'avg_aqi_CO'},inplace=True)\n",
    "df_no2.rename(columns={'avg_aqi': 'avg_aqi_NO2'},inplace=True)\n",
    "df_o3.rename(columns={'avg_aqi': 'avg_aqi_O3'},inplace=True)\n",
    "df_so2.rename(columns={'avg_aqi': 'avg_aqi_SO2'},inplace=True)\n",
    "df_pm25.rename(columns={'avg_aqi': 'avg_aqi_PM25'},inplace=True)"
   ]
  },
  {
   "cell_type": "markdown",
   "metadata": {},
   "source": [
    "# Compare the Time Series Graphs of all the 5  "
   ]
  },
  {
   "cell_type": "code",
   "execution_count": 479,
   "metadata": {},
   "outputs": [],
   "source": [
    "## Combine the dataframes ie all 3\n",
    "from functools import reduce\n",
    "\n",
    "## Reference: https://stackoverflow.com/questions/23668427/pandas-three-way-joining-multiple-dataframes-on-columns\n",
    "frames=[df_co,df_no2,df_o3]\n",
    "df_final = reduce(lambda left,right: pd.merge(left,right,on='year'), frames)\n"
   ]
  },
  {
   "cell_type": "code",
   "execution_count": 480,
   "metadata": {},
   "outputs": [
    {
     "data": {
      "text/html": [
       "<div>\n",
       "<style scoped>\n",
       "    .dataframe tbody tr th:only-of-type {\n",
       "        vertical-align: middle;\n",
       "    }\n",
       "\n",
       "    .dataframe tbody tr th {\n",
       "        vertical-align: top;\n",
       "    }\n",
       "\n",
       "    .dataframe thead th {\n",
       "        text-align: right;\n",
       "    }\n",
       "</style>\n",
       "<table border=\"1\" class=\"dataframe\">\n",
       "  <thead>\n",
       "    <tr style=\"text-align: right;\">\n",
       "      <th></th>\n",
       "      <th>year</th>\n",
       "      <th>avg_aqi_CO</th>\n",
       "      <th>avg_aqi_NO2</th>\n",
       "      <th>avg_aqi_O3</th>\n",
       "    </tr>\n",
       "  </thead>\n",
       "  <tbody>\n",
       "    <tr>\n",
       "      <th>0</th>\n",
       "      <td>1990</td>\n",
       "      <td>26.142462</td>\n",
       "      <td>33.198795</td>\n",
       "      <td>16.027473</td>\n",
       "    </tr>\n",
       "    <tr>\n",
       "      <th>1</th>\n",
       "      <td>1991</td>\n",
       "      <td>25.517808</td>\n",
       "      <td>36.589041</td>\n",
       "      <td>16.876033</td>\n",
       "    </tr>\n",
       "    <tr>\n",
       "      <th>2</th>\n",
       "      <td>1992</td>\n",
       "      <td>23.959016</td>\n",
       "      <td>32.331507</td>\n",
       "      <td>17.707521</td>\n",
       "    </tr>\n",
       "    <tr>\n",
       "      <th>3</th>\n",
       "      <td>1993</td>\n",
       "      <td>21.395890</td>\n",
       "      <td>34.211594</td>\n",
       "      <td>17.424658</td>\n",
       "    </tr>\n",
       "    <tr>\n",
       "      <th>4</th>\n",
       "      <td>1994</td>\n",
       "      <td>17.242678</td>\n",
       "      <td>32.905292</td>\n",
       "      <td>17.675978</td>\n",
       "    </tr>\n",
       "    <tr>\n",
       "      <th>5</th>\n",
       "      <td>1995</td>\n",
       "      <td>16.334247</td>\n",
       "      <td>32.299451</td>\n",
       "      <td>22.506849</td>\n",
       "    </tr>\n",
       "    <tr>\n",
       "      <th>6</th>\n",
       "      <td>1996</td>\n",
       "      <td>15.553279</td>\n",
       "      <td>32.713115</td>\n",
       "      <td>22.308743</td>\n",
       "    </tr>\n",
       "    <tr>\n",
       "      <th>7</th>\n",
       "      <td>1997</td>\n",
       "      <td>13.957534</td>\n",
       "      <td>30.379501</td>\n",
       "      <td>20.465753</td>\n",
       "    </tr>\n",
       "    <tr>\n",
       "      <th>8</th>\n",
       "      <td>1998</td>\n",
       "      <td>13.384615</td>\n",
       "      <td>29.945205</td>\n",
       "      <td>21.254795</td>\n",
       "    </tr>\n",
       "    <tr>\n",
       "      <th>9</th>\n",
       "      <td>1999</td>\n",
       "      <td>13.869863</td>\n",
       "      <td>32.112329</td>\n",
       "      <td>22.156164</td>\n",
       "    </tr>\n",
       "    <tr>\n",
       "      <th>10</th>\n",
       "      <td>2000</td>\n",
       "      <td>12.170096</td>\n",
       "      <td>30.336986</td>\n",
       "      <td>19.504110</td>\n",
       "    </tr>\n",
       "    <tr>\n",
       "      <th>11</th>\n",
       "      <td>2001</td>\n",
       "      <td>11.941096</td>\n",
       "      <td>29.638356</td>\n",
       "      <td>21.505495</td>\n",
       "    </tr>\n",
       "    <tr>\n",
       "      <th>12</th>\n",
       "      <td>2002</td>\n",
       "      <td>11.082873</td>\n",
       "      <td>28.371901</td>\n",
       "      <td>22.585165</td>\n",
       "    </tr>\n",
       "    <tr>\n",
       "      <th>13</th>\n",
       "      <td>2003</td>\n",
       "      <td>10.524138</td>\n",
       "      <td>28.526027</td>\n",
       "      <td>22.586301</td>\n",
       "    </tr>\n",
       "    <tr>\n",
       "      <th>14</th>\n",
       "      <td>2004</td>\n",
       "      <td>8.167382</td>\n",
       "      <td>24.888686</td>\n",
       "      <td>22.873016</td>\n",
       "    </tr>\n",
       "    <tr>\n",
       "      <th>15</th>\n",
       "      <td>2005</td>\n",
       "      <td>7.437500</td>\n",
       "      <td>23.783019</td>\n",
       "      <td>23.364151</td>\n",
       "    </tr>\n",
       "    <tr>\n",
       "      <th>16</th>\n",
       "      <td>2006</td>\n",
       "      <td>7.835616</td>\n",
       "      <td>27.934247</td>\n",
       "      <td>23.583562</td>\n",
       "    </tr>\n",
       "    <tr>\n",
       "      <th>17</th>\n",
       "      <td>2007</td>\n",
       "      <td>6.742466</td>\n",
       "      <td>26.452055</td>\n",
       "      <td>22.914835</td>\n",
       "    </tr>\n",
       "    <tr>\n",
       "      <th>18</th>\n",
       "      <td>2008</td>\n",
       "      <td>6.595628</td>\n",
       "      <td>27.021858</td>\n",
       "      <td>24.330601</td>\n",
       "    </tr>\n",
       "    <tr>\n",
       "      <th>19</th>\n",
       "      <td>2009</td>\n",
       "      <td>5.065753</td>\n",
       "      <td>25.843836</td>\n",
       "      <td>24.761644</td>\n",
       "    </tr>\n",
       "    <tr>\n",
       "      <th>20</th>\n",
       "      <td>2010</td>\n",
       "      <td>3.487671</td>\n",
       "      <td>25.469613</td>\n",
       "      <td>24.076712</td>\n",
       "    </tr>\n",
       "    <tr>\n",
       "      <th>21</th>\n",
       "      <td>2011</td>\n",
       "      <td>4.065753</td>\n",
       "      <td>28.684211</td>\n",
       "      <td>23.632877</td>\n",
       "    </tr>\n",
       "    <tr>\n",
       "      <th>22</th>\n",
       "      <td>2012</td>\n",
       "      <td>5.782967</td>\n",
       "      <td>24.060440</td>\n",
       "      <td>26.641873</td>\n",
       "    </tr>\n",
       "    <tr>\n",
       "      <th>23</th>\n",
       "      <td>2013</td>\n",
       "      <td>5.767123</td>\n",
       "      <td>24.821918</td>\n",
       "      <td>24.287671</td>\n",
       "    </tr>\n",
       "    <tr>\n",
       "      <th>24</th>\n",
       "      <td>2014</td>\n",
       "      <td>5.421918</td>\n",
       "      <td>22.528767</td>\n",
       "      <td>25.887671</td>\n",
       "    </tr>\n",
       "    <tr>\n",
       "      <th>25</th>\n",
       "      <td>2015</td>\n",
       "      <td>5.841096</td>\n",
       "      <td>22.435616</td>\n",
       "      <td>26.541209</td>\n",
       "    </tr>\n",
       "    <tr>\n",
       "      <th>26</th>\n",
       "      <td>2016</td>\n",
       "      <td>5.581967</td>\n",
       "      <td>19.991781</td>\n",
       "      <td>26.358904</td>\n",
       "    </tr>\n",
       "    <tr>\n",
       "      <th>27</th>\n",
       "      <td>2017</td>\n",
       "      <td>5.771978</td>\n",
       "      <td>22.120548</td>\n",
       "      <td>26.582418</td>\n",
       "    </tr>\n",
       "  </tbody>\n",
       "</table>\n",
       "</div>"
      ],
      "text/plain": [
       "    year  avg_aqi_CO  avg_aqi_NO2  avg_aqi_O3\n",
       "0   1990   26.142462    33.198795   16.027473\n",
       "1   1991   25.517808    36.589041   16.876033\n",
       "2   1992   23.959016    32.331507   17.707521\n",
       "3   1993   21.395890    34.211594   17.424658\n",
       "4   1994   17.242678    32.905292   17.675978\n",
       "5   1995   16.334247    32.299451   22.506849\n",
       "6   1996   15.553279    32.713115   22.308743\n",
       "7   1997   13.957534    30.379501   20.465753\n",
       "8   1998   13.384615    29.945205   21.254795\n",
       "9   1999   13.869863    32.112329   22.156164\n",
       "10  2000   12.170096    30.336986   19.504110\n",
       "11  2001   11.941096    29.638356   21.505495\n",
       "12  2002   11.082873    28.371901   22.585165\n",
       "13  2003   10.524138    28.526027   22.586301\n",
       "14  2004    8.167382    24.888686   22.873016\n",
       "15  2005    7.437500    23.783019   23.364151\n",
       "16  2006    7.835616    27.934247   23.583562\n",
       "17  2007    6.742466    26.452055   22.914835\n",
       "18  2008    6.595628    27.021858   24.330601\n",
       "19  2009    5.065753    25.843836   24.761644\n",
       "20  2010    3.487671    25.469613   24.076712\n",
       "21  2011    4.065753    28.684211   23.632877\n",
       "22  2012    5.782967    24.060440   26.641873\n",
       "23  2013    5.767123    24.821918   24.287671\n",
       "24  2014    5.421918    22.528767   25.887671\n",
       "25  2015    5.841096    22.435616   26.541209\n",
       "26  2016    5.581967    19.991781   26.358904\n",
       "27  2017    5.771978    22.120548   26.582418"
      ]
     },
     "execution_count": 480,
     "metadata": {},
     "output_type": "execute_result"
    }
   ],
   "source": [
    "df_final"
   ]
  },
  {
   "cell_type": "code",
   "execution_count": 481,
   "metadata": {},
   "outputs": [],
   "source": [
    "colors = ['red', 'blue', 'green']\n",
    "labels=['CARBON MONOXIDE','NITROGEN DIOXIDE','OZONE']\n",
    "\n",
    "cols=df_final.columns.tolist()\n",
    "cols.remove('year')"
   ]
  },
  {
   "cell_type": "code",
   "execution_count": 482,
   "metadata": {},
   "outputs": [],
   "source": [
    "output_file('COMPARISON_AQI.html')\n",
    "\n",
    "##https://www.geeksforgeeks.org/python-iterate-multiple-lists-simultaneously/\n",
    "l = figure(title=\"COMPARISON OF AQI OF DIFFERENT GASES FROM 1990 TO 2017\", logo=None,width=1000, height=500)\n",
    "\n",
    "for color,label,col in zip(colors, labels, cols):\n",
    "    source = ColumnDataSource(data=dict(x=df_final['year'].tolist(), y=df_final[col].tolist())) \n",
    "    l.line(x='x',y='y',source=source, legend=label, color=color,line_width=5)\n",
    "\n",
    "source = ColumnDataSource(data=dict(x=df_so2['year'].tolist(), y=df_so2['avg_aqi_SO2'].tolist()))\n",
    "l.line(x='x',y='y',source=source, legend='SULPHUR DIOXIDE', color=\"magenta\",line_width=5)\n",
    "\n",
    "source = ColumnDataSource(data=dict(x=df_pm25['year'].tolist(), y=df_pm25['avg_aqi_PM25'].tolist()))\n",
    "l.line(x='x',y='y',source=source, legend='PARTICULATE MATTER', color=\"indigo\",line_width=5)\n",
    "\n",
    "l.xaxis.axis_label = 'YEAR'\n",
    "l.yaxis.axis_label = \"AVERAGE AQI\"\n",
    "l.title.text ='Comparison of AQI of CO,O3,NO2,SO2 AND PM'\n",
    "\n",
    "l.legend.location = \"top_right\"\n",
    "l.legend.click_policy=\"hide\"\n",
    "\n",
    "show(l)"
   ]
  },
  {
   "cell_type": "markdown",
   "metadata": {},
   "source": [
    "DONT GO BEYOND THIS FOR NOW"
   ]
  },
  {
   "cell_type": "code",
   "execution_count": 483,
   "metadata": {},
   "outputs": [
    {
     "data": {
      "text/html": [
       "<div>\n",
       "<style scoped>\n",
       "    .dataframe tbody tr th:only-of-type {\n",
       "        vertical-align: middle;\n",
       "    }\n",
       "\n",
       "    .dataframe tbody tr th {\n",
       "        vertical-align: top;\n",
       "    }\n",
       "\n",
       "    .dataframe thead th {\n",
       "        text-align: right;\n",
       "    }\n",
       "</style>\n",
       "<table border=\"1\" class=\"dataframe\">\n",
       "  <thead>\n",
       "    <tr style=\"text-align: right;\">\n",
       "      <th></th>\n",
       "      <th>year</th>\n",
       "      <th>avg_aqi_CO</th>\n",
       "      <th>avg_aqi_NO2</th>\n",
       "      <th>avg_aqi_O3</th>\n",
       "      <th>avg_aqi_SO2</th>\n",
       "      <th>avg_aqi_PM25</th>\n",
       "    </tr>\n",
       "  </thead>\n",
       "  <tbody>\n",
       "    <tr>\n",
       "      <th>0</th>\n",
       "      <td>1990</td>\n",
       "      <td>26.142462</td>\n",
       "      <td>33.198795</td>\n",
       "      <td>16.027473</td>\n",
       "      <td>6.430986</td>\n",
       "      <td>NaN</td>\n",
       "    </tr>\n",
       "    <tr>\n",
       "      <th>1</th>\n",
       "      <td>1991</td>\n",
       "      <td>25.517808</td>\n",
       "      <td>36.589041</td>\n",
       "      <td>16.876033</td>\n",
       "      <td>7.328221</td>\n",
       "      <td>NaN</td>\n",
       "    </tr>\n",
       "    <tr>\n",
       "      <th>2</th>\n",
       "      <td>1992</td>\n",
       "      <td>23.959016</td>\n",
       "      <td>32.331507</td>\n",
       "      <td>17.707521</td>\n",
       "      <td>7.445355</td>\n",
       "      <td>NaN</td>\n",
       "    </tr>\n",
       "    <tr>\n",
       "      <th>3</th>\n",
       "      <td>1993</td>\n",
       "      <td>21.395890</td>\n",
       "      <td>34.211594</td>\n",
       "      <td>17.424658</td>\n",
       "      <td>6.323288</td>\n",
       "      <td>NaN</td>\n",
       "    </tr>\n",
       "    <tr>\n",
       "      <th>4</th>\n",
       "      <td>1994</td>\n",
       "      <td>17.242678</td>\n",
       "      <td>32.905292</td>\n",
       "      <td>17.675978</td>\n",
       "      <td>3.515320</td>\n",
       "      <td>NaN</td>\n",
       "    </tr>\n",
       "    <tr>\n",
       "      <th>5</th>\n",
       "      <td>1995</td>\n",
       "      <td>16.334247</td>\n",
       "      <td>32.299451</td>\n",
       "      <td>22.506849</td>\n",
       "      <td>5.591781</td>\n",
       "      <td>NaN</td>\n",
       "    </tr>\n",
       "    <tr>\n",
       "      <th>6</th>\n",
       "      <td>1996</td>\n",
       "      <td>15.553279</td>\n",
       "      <td>32.713115</td>\n",
       "      <td>22.308743</td>\n",
       "      <td>4.879781</td>\n",
       "      <td>NaN</td>\n",
       "    </tr>\n",
       "    <tr>\n",
       "      <th>7</th>\n",
       "      <td>1997</td>\n",
       "      <td>13.957534</td>\n",
       "      <td>30.379501</td>\n",
       "      <td>20.465753</td>\n",
       "      <td>4.806094</td>\n",
       "      <td>NaN</td>\n",
       "    </tr>\n",
       "    <tr>\n",
       "      <th>8</th>\n",
       "      <td>1998</td>\n",
       "      <td>13.384615</td>\n",
       "      <td>29.945205</td>\n",
       "      <td>21.254795</td>\n",
       "      <td>4.076712</td>\n",
       "      <td>NaN</td>\n",
       "    </tr>\n",
       "    <tr>\n",
       "      <th>9</th>\n",
       "      <td>1999</td>\n",
       "      <td>13.869863</td>\n",
       "      <td>32.112329</td>\n",
       "      <td>22.156164</td>\n",
       "      <td>6.038356</td>\n",
       "      <td>55.623529</td>\n",
       "    </tr>\n",
       "    <tr>\n",
       "      <th>10</th>\n",
       "      <td>2000</td>\n",
       "      <td>12.170096</td>\n",
       "      <td>30.336986</td>\n",
       "      <td>19.504110</td>\n",
       "      <td>6.046448</td>\n",
       "      <td>47.931579</td>\n",
       "    </tr>\n",
       "    <tr>\n",
       "      <th>11</th>\n",
       "      <td>2001</td>\n",
       "      <td>11.941096</td>\n",
       "      <td>29.638356</td>\n",
       "      <td>21.505495</td>\n",
       "      <td>5.731507</td>\n",
       "      <td>46.364103</td>\n",
       "    </tr>\n",
       "    <tr>\n",
       "      <th>12</th>\n",
       "      <td>2002</td>\n",
       "      <td>11.082873</td>\n",
       "      <td>28.371901</td>\n",
       "      <td>22.585165</td>\n",
       "      <td>5.860274</td>\n",
       "      <td>51.683673</td>\n",
       "    </tr>\n",
       "    <tr>\n",
       "      <th>13</th>\n",
       "      <td>2003</td>\n",
       "      <td>10.524138</td>\n",
       "      <td>28.526027</td>\n",
       "      <td>22.586301</td>\n",
       "      <td>6.060274</td>\n",
       "      <td>41.767677</td>\n",
       "    </tr>\n",
       "    <tr>\n",
       "      <th>14</th>\n",
       "      <td>2004</td>\n",
       "      <td>8.167382</td>\n",
       "      <td>24.888686</td>\n",
       "      <td>22.873016</td>\n",
       "      <td>6.354093</td>\n",
       "      <td>42.447761</td>\n",
       "    </tr>\n",
       "    <tr>\n",
       "      <th>15</th>\n",
       "      <td>2005</td>\n",
       "      <td>7.437500</td>\n",
       "      <td>23.783019</td>\n",
       "      <td>23.364151</td>\n",
       "      <td>4.468809</td>\n",
       "      <td>40.504950</td>\n",
       "    </tr>\n",
       "    <tr>\n",
       "      <th>16</th>\n",
       "      <td>2006</td>\n",
       "      <td>7.835616</td>\n",
       "      <td>27.934247</td>\n",
       "      <td>23.583562</td>\n",
       "      <td>5.246575</td>\n",
       "      <td>39.531401</td>\n",
       "    </tr>\n",
       "    <tr>\n",
       "      <th>17</th>\n",
       "      <td>2007</td>\n",
       "      <td>6.742466</td>\n",
       "      <td>26.452055</td>\n",
       "      <td>22.914835</td>\n",
       "      <td>3.778082</td>\n",
       "      <td>37.655814</td>\n",
       "    </tr>\n",
       "    <tr>\n",
       "      <th>18</th>\n",
       "      <td>2008</td>\n",
       "      <td>6.595628</td>\n",
       "      <td>27.021858</td>\n",
       "      <td>24.330601</td>\n",
       "      <td>4.030137</td>\n",
       "      <td>38.510000</td>\n",
       "    </tr>\n",
       "    <tr>\n",
       "      <th>19</th>\n",
       "      <td>2009</td>\n",
       "      <td>5.065753</td>\n",
       "      <td>25.843836</td>\n",
       "      <td>24.761644</td>\n",
       "      <td>NaN</td>\n",
       "      <td>44.125828</td>\n",
       "    </tr>\n",
       "    <tr>\n",
       "      <th>20</th>\n",
       "      <td>2010</td>\n",
       "      <td>3.487671</td>\n",
       "      <td>25.469613</td>\n",
       "      <td>24.076712</td>\n",
       "      <td>NaN</td>\n",
       "      <td>40.602817</td>\n",
       "    </tr>\n",
       "    <tr>\n",
       "      <th>21</th>\n",
       "      <td>2011</td>\n",
       "      <td>4.065753</td>\n",
       "      <td>28.684211</td>\n",
       "      <td>23.632877</td>\n",
       "      <td>NaN</td>\n",
       "      <td>36.675000</td>\n",
       "    </tr>\n",
       "    <tr>\n",
       "      <th>22</th>\n",
       "      <td>2012</td>\n",
       "      <td>5.782967</td>\n",
       "      <td>24.060440</td>\n",
       "      <td>26.641873</td>\n",
       "      <td>NaN</td>\n",
       "      <td>32.385965</td>\n",
       "    </tr>\n",
       "    <tr>\n",
       "      <th>23</th>\n",
       "      <td>2013</td>\n",
       "      <td>5.767123</td>\n",
       "      <td>24.821918</td>\n",
       "      <td>24.287671</td>\n",
       "      <td>NaN</td>\n",
       "      <td>38.773371</td>\n",
       "    </tr>\n",
       "    <tr>\n",
       "      <th>24</th>\n",
       "      <td>2014</td>\n",
       "      <td>5.421918</td>\n",
       "      <td>22.528767</td>\n",
       "      <td>25.887671</td>\n",
       "      <td>NaN</td>\n",
       "      <td>30.768802</td>\n",
       "    </tr>\n",
       "    <tr>\n",
       "      <th>25</th>\n",
       "      <td>2015</td>\n",
       "      <td>5.841096</td>\n",
       "      <td>22.435616</td>\n",
       "      <td>26.541209</td>\n",
       "      <td>NaN</td>\n",
       "      <td>29.985994</td>\n",
       "    </tr>\n",
       "    <tr>\n",
       "      <th>26</th>\n",
       "      <td>2016</td>\n",
       "      <td>5.581967</td>\n",
       "      <td>19.991781</td>\n",
       "      <td>26.358904</td>\n",
       "      <td>NaN</td>\n",
       "      <td>31.100575</td>\n",
       "    </tr>\n",
       "    <tr>\n",
       "      <th>27</th>\n",
       "      <td>2017</td>\n",
       "      <td>5.771978</td>\n",
       "      <td>22.120548</td>\n",
       "      <td>26.582418</td>\n",
       "      <td>NaN</td>\n",
       "      <td>36.824022</td>\n",
       "    </tr>\n",
       "  </tbody>\n",
       "</table>\n",
       "</div>"
      ],
      "text/plain": [
       "    year  avg_aqi_CO  avg_aqi_NO2  avg_aqi_O3  avg_aqi_SO2  avg_aqi_PM25\n",
       "0   1990   26.142462    33.198795   16.027473     6.430986           NaN\n",
       "1   1991   25.517808    36.589041   16.876033     7.328221           NaN\n",
       "2   1992   23.959016    32.331507   17.707521     7.445355           NaN\n",
       "3   1993   21.395890    34.211594   17.424658     6.323288           NaN\n",
       "4   1994   17.242678    32.905292   17.675978     3.515320           NaN\n",
       "5   1995   16.334247    32.299451   22.506849     5.591781           NaN\n",
       "6   1996   15.553279    32.713115   22.308743     4.879781           NaN\n",
       "7   1997   13.957534    30.379501   20.465753     4.806094           NaN\n",
       "8   1998   13.384615    29.945205   21.254795     4.076712           NaN\n",
       "9   1999   13.869863    32.112329   22.156164     6.038356     55.623529\n",
       "10  2000   12.170096    30.336986   19.504110     6.046448     47.931579\n",
       "11  2001   11.941096    29.638356   21.505495     5.731507     46.364103\n",
       "12  2002   11.082873    28.371901   22.585165     5.860274     51.683673\n",
       "13  2003   10.524138    28.526027   22.586301     6.060274     41.767677\n",
       "14  2004    8.167382    24.888686   22.873016     6.354093     42.447761\n",
       "15  2005    7.437500    23.783019   23.364151     4.468809     40.504950\n",
       "16  2006    7.835616    27.934247   23.583562     5.246575     39.531401\n",
       "17  2007    6.742466    26.452055   22.914835     3.778082     37.655814\n",
       "18  2008    6.595628    27.021858   24.330601     4.030137     38.510000\n",
       "19  2009    5.065753    25.843836   24.761644          NaN     44.125828\n",
       "20  2010    3.487671    25.469613   24.076712          NaN     40.602817\n",
       "21  2011    4.065753    28.684211   23.632877          NaN     36.675000\n",
       "22  2012    5.782967    24.060440   26.641873          NaN     32.385965\n",
       "23  2013    5.767123    24.821918   24.287671          NaN     38.773371\n",
       "24  2014    5.421918    22.528767   25.887671          NaN     30.768802\n",
       "25  2015    5.841096    22.435616   26.541209          NaN     29.985994\n",
       "26  2016    5.581967    19.991781   26.358904          NaN     31.100575\n",
       "27  2017    5.771978    22.120548   26.582418          NaN     36.824022"
      ]
     },
     "execution_count": 483,
     "metadata": {},
     "output_type": "execute_result"
    }
   ],
   "source": [
    "result = pd.merge(df_final, df_so2, how='left', on='year')\n",
    "df_merged = pd.merge(result, df_pm25, how='left', on='year')\n",
    "df_merged"
   ]
  },
  {
   "cell_type": "markdown",
   "metadata": {},
   "source": [
    "Impute missing values in so2 and pm25"
   ]
  },
  {
   "cell_type": "code",
   "execution_count": 484,
   "metadata": {},
   "outputs": [],
   "source": [
    "from sklearn.preprocessing import Imputer\n",
    "\n",
    "imp=Imputer(missing_values='NaN',strategy='mean')\n",
    "\n",
    "## replace missing values in aqi and method code with mean\n",
    "df_merged[\"avg_aqi_SO2\"]=imp.fit_transform(df_merged[[\"avg_aqi_SO2\"]]).ravel()\n",
    "df_merged[\"avg_aqi_PM25\"]=imp.fit_transform(df_merged[[\"avg_aqi_PM25\"]]).ravel()\n"
   ]
  },
  {
   "cell_type": "code",
   "execution_count": 485,
   "metadata": {},
   "outputs": [
    {
     "data": {
      "text/html": [
       "<div>\n",
       "<style scoped>\n",
       "    .dataframe tbody tr th:only-of-type {\n",
       "        vertical-align: middle;\n",
       "    }\n",
       "\n",
       "    .dataframe tbody tr th {\n",
       "        vertical-align: top;\n",
       "    }\n",
       "\n",
       "    .dataframe thead th {\n",
       "        text-align: right;\n",
       "    }\n",
       "</style>\n",
       "<table border=\"1\" class=\"dataframe\">\n",
       "  <thead>\n",
       "    <tr style=\"text-align: right;\">\n",
       "      <th></th>\n",
       "      <th>year</th>\n",
       "      <th>avg_aqi_CO</th>\n",
       "      <th>avg_aqi_NO2</th>\n",
       "      <th>avg_aqi_O3</th>\n",
       "      <th>avg_aqi_SO2</th>\n",
       "      <th>avg_aqi_PM25</th>\n",
       "    </tr>\n",
       "  </thead>\n",
       "  <tbody>\n",
       "    <tr>\n",
       "      <th>0</th>\n",
       "      <td>1990</td>\n",
       "      <td>26.142462</td>\n",
       "      <td>33.198795</td>\n",
       "      <td>16.027473</td>\n",
       "      <td>6.430986</td>\n",
       "      <td>40.171730</td>\n",
       "    </tr>\n",
       "    <tr>\n",
       "      <th>1</th>\n",
       "      <td>1991</td>\n",
       "      <td>25.517808</td>\n",
       "      <td>36.589041</td>\n",
       "      <td>16.876033</td>\n",
       "      <td>7.328221</td>\n",
       "      <td>40.171730</td>\n",
       "    </tr>\n",
       "    <tr>\n",
       "      <th>2</th>\n",
       "      <td>1992</td>\n",
       "      <td>23.959016</td>\n",
       "      <td>32.331507</td>\n",
       "      <td>17.707521</td>\n",
       "      <td>7.445355</td>\n",
       "      <td>40.171730</td>\n",
       "    </tr>\n",
       "    <tr>\n",
       "      <th>3</th>\n",
       "      <td>1993</td>\n",
       "      <td>21.395890</td>\n",
       "      <td>34.211594</td>\n",
       "      <td>17.424658</td>\n",
       "      <td>6.323288</td>\n",
       "      <td>40.171730</td>\n",
       "    </tr>\n",
       "    <tr>\n",
       "      <th>4</th>\n",
       "      <td>1994</td>\n",
       "      <td>17.242678</td>\n",
       "      <td>32.905292</td>\n",
       "      <td>17.675978</td>\n",
       "      <td>3.515320</td>\n",
       "      <td>40.171730</td>\n",
       "    </tr>\n",
       "    <tr>\n",
       "      <th>5</th>\n",
       "      <td>1995</td>\n",
       "      <td>16.334247</td>\n",
       "      <td>32.299451</td>\n",
       "      <td>22.506849</td>\n",
       "      <td>5.591781</td>\n",
       "      <td>40.171730</td>\n",
       "    </tr>\n",
       "    <tr>\n",
       "      <th>6</th>\n",
       "      <td>1996</td>\n",
       "      <td>15.553279</td>\n",
       "      <td>32.713115</td>\n",
       "      <td>22.308743</td>\n",
       "      <td>4.879781</td>\n",
       "      <td>40.171730</td>\n",
       "    </tr>\n",
       "    <tr>\n",
       "      <th>7</th>\n",
       "      <td>1997</td>\n",
       "      <td>13.957534</td>\n",
       "      <td>30.379501</td>\n",
       "      <td>20.465753</td>\n",
       "      <td>4.806094</td>\n",
       "      <td>40.171730</td>\n",
       "    </tr>\n",
       "    <tr>\n",
       "      <th>8</th>\n",
       "      <td>1998</td>\n",
       "      <td>13.384615</td>\n",
       "      <td>29.945205</td>\n",
       "      <td>21.254795</td>\n",
       "      <td>4.076712</td>\n",
       "      <td>40.171730</td>\n",
       "    </tr>\n",
       "    <tr>\n",
       "      <th>9</th>\n",
       "      <td>1999</td>\n",
       "      <td>13.869863</td>\n",
       "      <td>32.112329</td>\n",
       "      <td>22.156164</td>\n",
       "      <td>6.038356</td>\n",
       "      <td>55.623529</td>\n",
       "    </tr>\n",
       "    <tr>\n",
       "      <th>10</th>\n",
       "      <td>2000</td>\n",
       "      <td>12.170096</td>\n",
       "      <td>30.336986</td>\n",
       "      <td>19.504110</td>\n",
       "      <td>6.046448</td>\n",
       "      <td>47.931579</td>\n",
       "    </tr>\n",
       "    <tr>\n",
       "      <th>11</th>\n",
       "      <td>2001</td>\n",
       "      <td>11.941096</td>\n",
       "      <td>29.638356</td>\n",
       "      <td>21.505495</td>\n",
       "      <td>5.731507</td>\n",
       "      <td>46.364103</td>\n",
       "    </tr>\n",
       "    <tr>\n",
       "      <th>12</th>\n",
       "      <td>2002</td>\n",
       "      <td>11.082873</td>\n",
       "      <td>28.371901</td>\n",
       "      <td>22.585165</td>\n",
       "      <td>5.860274</td>\n",
       "      <td>51.683673</td>\n",
       "    </tr>\n",
       "    <tr>\n",
       "      <th>13</th>\n",
       "      <td>2003</td>\n",
       "      <td>10.524138</td>\n",
       "      <td>28.526027</td>\n",
       "      <td>22.586301</td>\n",
       "      <td>6.060274</td>\n",
       "      <td>41.767677</td>\n",
       "    </tr>\n",
       "    <tr>\n",
       "      <th>14</th>\n",
       "      <td>2004</td>\n",
       "      <td>8.167382</td>\n",
       "      <td>24.888686</td>\n",
       "      <td>22.873016</td>\n",
       "      <td>6.354093</td>\n",
       "      <td>42.447761</td>\n",
       "    </tr>\n",
       "    <tr>\n",
       "      <th>15</th>\n",
       "      <td>2005</td>\n",
       "      <td>7.437500</td>\n",
       "      <td>23.783019</td>\n",
       "      <td>23.364151</td>\n",
       "      <td>4.468809</td>\n",
       "      <td>40.504950</td>\n",
       "    </tr>\n",
       "    <tr>\n",
       "      <th>16</th>\n",
       "      <td>2006</td>\n",
       "      <td>7.835616</td>\n",
       "      <td>27.934247</td>\n",
       "      <td>23.583562</td>\n",
       "      <td>5.246575</td>\n",
       "      <td>39.531401</td>\n",
       "    </tr>\n",
       "    <tr>\n",
       "      <th>17</th>\n",
       "      <td>2007</td>\n",
       "      <td>6.742466</td>\n",
       "      <td>26.452055</td>\n",
       "      <td>22.914835</td>\n",
       "      <td>3.778082</td>\n",
       "      <td>37.655814</td>\n",
       "    </tr>\n",
       "    <tr>\n",
       "      <th>18</th>\n",
       "      <td>2008</td>\n",
       "      <td>6.595628</td>\n",
       "      <td>27.021858</td>\n",
       "      <td>24.330601</td>\n",
       "      <td>4.030137</td>\n",
       "      <td>38.510000</td>\n",
       "    </tr>\n",
       "    <tr>\n",
       "      <th>19</th>\n",
       "      <td>2009</td>\n",
       "      <td>5.065753</td>\n",
       "      <td>25.843836</td>\n",
       "      <td>24.761644</td>\n",
       "      <td>5.474321</td>\n",
       "      <td>44.125828</td>\n",
       "    </tr>\n",
       "    <tr>\n",
       "      <th>20</th>\n",
       "      <td>2010</td>\n",
       "      <td>3.487671</td>\n",
       "      <td>25.469613</td>\n",
       "      <td>24.076712</td>\n",
       "      <td>5.474321</td>\n",
       "      <td>40.602817</td>\n",
       "    </tr>\n",
       "    <tr>\n",
       "      <th>21</th>\n",
       "      <td>2011</td>\n",
       "      <td>4.065753</td>\n",
       "      <td>28.684211</td>\n",
       "      <td>23.632877</td>\n",
       "      <td>5.474321</td>\n",
       "      <td>36.675000</td>\n",
       "    </tr>\n",
       "    <tr>\n",
       "      <th>22</th>\n",
       "      <td>2012</td>\n",
       "      <td>5.782967</td>\n",
       "      <td>24.060440</td>\n",
       "      <td>26.641873</td>\n",
       "      <td>5.474321</td>\n",
       "      <td>32.385965</td>\n",
       "    </tr>\n",
       "    <tr>\n",
       "      <th>23</th>\n",
       "      <td>2013</td>\n",
       "      <td>5.767123</td>\n",
       "      <td>24.821918</td>\n",
       "      <td>24.287671</td>\n",
       "      <td>5.474321</td>\n",
       "      <td>38.773371</td>\n",
       "    </tr>\n",
       "    <tr>\n",
       "      <th>24</th>\n",
       "      <td>2014</td>\n",
       "      <td>5.421918</td>\n",
       "      <td>22.528767</td>\n",
       "      <td>25.887671</td>\n",
       "      <td>5.474321</td>\n",
       "      <td>30.768802</td>\n",
       "    </tr>\n",
       "    <tr>\n",
       "      <th>25</th>\n",
       "      <td>2015</td>\n",
       "      <td>5.841096</td>\n",
       "      <td>22.435616</td>\n",
       "      <td>26.541209</td>\n",
       "      <td>5.474321</td>\n",
       "      <td>29.985994</td>\n",
       "    </tr>\n",
       "    <tr>\n",
       "      <th>26</th>\n",
       "      <td>2016</td>\n",
       "      <td>5.581967</td>\n",
       "      <td>19.991781</td>\n",
       "      <td>26.358904</td>\n",
       "      <td>5.474321</td>\n",
       "      <td>31.100575</td>\n",
       "    </tr>\n",
       "    <tr>\n",
       "      <th>27</th>\n",
       "      <td>2017</td>\n",
       "      <td>5.771978</td>\n",
       "      <td>22.120548</td>\n",
       "      <td>26.582418</td>\n",
       "      <td>5.474321</td>\n",
       "      <td>36.824022</td>\n",
       "    </tr>\n",
       "  </tbody>\n",
       "</table>\n",
       "</div>"
      ],
      "text/plain": [
       "    year  avg_aqi_CO  avg_aqi_NO2  avg_aqi_O3  avg_aqi_SO2  avg_aqi_PM25\n",
       "0   1990   26.142462    33.198795   16.027473     6.430986     40.171730\n",
       "1   1991   25.517808    36.589041   16.876033     7.328221     40.171730\n",
       "2   1992   23.959016    32.331507   17.707521     7.445355     40.171730\n",
       "3   1993   21.395890    34.211594   17.424658     6.323288     40.171730\n",
       "4   1994   17.242678    32.905292   17.675978     3.515320     40.171730\n",
       "5   1995   16.334247    32.299451   22.506849     5.591781     40.171730\n",
       "6   1996   15.553279    32.713115   22.308743     4.879781     40.171730\n",
       "7   1997   13.957534    30.379501   20.465753     4.806094     40.171730\n",
       "8   1998   13.384615    29.945205   21.254795     4.076712     40.171730\n",
       "9   1999   13.869863    32.112329   22.156164     6.038356     55.623529\n",
       "10  2000   12.170096    30.336986   19.504110     6.046448     47.931579\n",
       "11  2001   11.941096    29.638356   21.505495     5.731507     46.364103\n",
       "12  2002   11.082873    28.371901   22.585165     5.860274     51.683673\n",
       "13  2003   10.524138    28.526027   22.586301     6.060274     41.767677\n",
       "14  2004    8.167382    24.888686   22.873016     6.354093     42.447761\n",
       "15  2005    7.437500    23.783019   23.364151     4.468809     40.504950\n",
       "16  2006    7.835616    27.934247   23.583562     5.246575     39.531401\n",
       "17  2007    6.742466    26.452055   22.914835     3.778082     37.655814\n",
       "18  2008    6.595628    27.021858   24.330601     4.030137     38.510000\n",
       "19  2009    5.065753    25.843836   24.761644     5.474321     44.125828\n",
       "20  2010    3.487671    25.469613   24.076712     5.474321     40.602817\n",
       "21  2011    4.065753    28.684211   23.632877     5.474321     36.675000\n",
       "22  2012    5.782967    24.060440   26.641873     5.474321     32.385965\n",
       "23  2013    5.767123    24.821918   24.287671     5.474321     38.773371\n",
       "24  2014    5.421918    22.528767   25.887671     5.474321     30.768802\n",
       "25  2015    5.841096    22.435616   26.541209     5.474321     29.985994\n",
       "26  2016    5.581967    19.991781   26.358904     5.474321     31.100575\n",
       "27  2017    5.771978    22.120548   26.582418     5.474321     36.824022"
      ]
     },
     "execution_count": 485,
     "metadata": {},
     "output_type": "execute_result"
    }
   ],
   "source": [
    "df_merged"
   ]
  },
  {
   "cell_type": "markdown",
   "metadata": {},
   "source": [
    "SF INCIDENTS DATABASE INCIDENTS PER YEAR"
   ]
  },
  {
   "cell_type": "code",
   "execution_count": 486,
   "metadata": {},
   "outputs": [],
   "source": [
    "query_sf=\"\"\" SELECT EXTRACT(YEAR FROM timestamp) as year,count(distinct unique_key) as no_of_incidents\n",
    "FROM `bigquery-public-data.san_francisco.sfpd_incidents`\n",
    "group by year\n",
    "order by year asc \n",
    "\"\"\"\n",
    "\n",
    "df_sf_incidents = bq_assistant.query_to_pandas(query_sf)\n"
   ]
  },
  {
   "cell_type": "code",
   "execution_count": 487,
   "metadata": {},
   "outputs": [],
   "source": [
    "df_sf_incidents.year = df_sf_incidents.year.astype(str)\n",
    "df_combined = pd.merge(df_merged, df_sf_incidents, how='left', on='year')"
   ]
  },
  {
   "cell_type": "code",
   "execution_count": null,
   "metadata": {},
   "outputs": [],
   "source": []
  },
  {
   "cell_type": "code",
   "execution_count": 488,
   "metadata": {},
   "outputs": [],
   "source": [
    "df_combined[\"no_of_incidents\"]=imp.fit_transform(df_combined[[\"no_of_incidents\"]]).ravel()"
   ]
  },
  {
   "cell_type": "code",
   "execution_count": 489,
   "metadata": {},
   "outputs": [
    {
     "data": {
      "text/plain": [
       "year                object\n",
       "avg_aqi_CO         float64\n",
       "avg_aqi_NO2        float64\n",
       "avg_aqi_O3         float64\n",
       "avg_aqi_SO2        float64\n",
       "avg_aqi_PM25       float64\n",
       "no_of_incidents    float64\n",
       "dtype: object"
      ]
     },
     "execution_count": 489,
     "metadata": {},
     "output_type": "execute_result"
    }
   ],
   "source": [
    "df_combined.dtypes"
   ]
  },
  {
   "cell_type": "markdown",
   "metadata": {},
   "source": [
    "Applying Regression"
   ]
  },
  {
   "cell_type": "code",
   "execution_count": 490,
   "metadata": {},
   "outputs": [],
   "source": [
    "\n",
    "## Serialize df to a pickle object\n",
    "## Skip every line above\n",
    "import pickle\n",
    "\n",
    "picle_out=open('df_merged_frame.pickle','wb')\n",
    "pickle.dump(df_combined,picle_out)\n",
    "picle_out.close()"
   ]
  },
  {
   "cell_type": "code",
   "execution_count": 491,
   "metadata": {},
   "outputs": [],
   "source": [
    "## Deserialize the pickle object to get back the data frame\n",
    "picle_in=open('df_merged_frame.pickle','rb')\n",
    "df=pickle.load(picle_in)"
   ]
  },
  {
   "cell_type": "code",
   "execution_count": 492,
   "metadata": {},
   "outputs": [],
   "source": [
    "## Deserialize the pickle object to get back the data frame\n",
    "picle_in=open('population/dataframe.pickle','rb')\n",
    "df_pop_per_yr=pickle.load(picle_in)"
   ]
  },
  {
   "cell_type": "code",
   "execution_count": 493,
   "metadata": {},
   "outputs": [],
   "source": [
    "## Remove trailing zeroes\n",
    "df_pop_per_yr['year'] = df_pop_per_yr['year'].astype(str).replace('\\.0', '', regex=True)"
   ]
  },
  {
   "cell_type": "code",
   "execution_count": 494,
   "metadata": {},
   "outputs": [],
   "source": [
    "df_comb = pd.merge(df, df_pop_per_yr, how='inner', on='year')"
   ]
  },
  {
   "cell_type": "code",
   "execution_count": 495,
   "metadata": {},
   "outputs": [],
   "source": [
    "df_comb['Incidents_per_population']=df_comb['no_of_incidents']/df_comb['Population']"
   ]
  },
  {
   "cell_type": "code",
   "execution_count": 496,
   "metadata": {},
   "outputs": [
    {
     "data": {
      "text/plain": [
       "Index(['year', 'Population'], dtype='object')"
      ]
     },
     "execution_count": 496,
     "metadata": {},
     "output_type": "execute_result"
    }
   ],
   "source": [
    "df_pop_per_yr.columns"
   ]
  },
  {
   "cell_type": "code",
   "execution_count": 497,
   "metadata": {},
   "outputs": [],
   "source": [
    "df_comb.drop(['no_of_incidents','Population'], axis=1,inplace=True)"
   ]
  },
  {
   "cell_type": "code",
   "execution_count": 498,
   "metadata": {},
   "outputs": [],
   "source": [
    "df=df_comb"
   ]
  },
  {
   "cell_type": "code",
   "execution_count": 499,
   "metadata": {
    "scrolled": true
   },
   "outputs": [
    {
     "data": {
      "text/html": [
       "<div>\n",
       "<style scoped>\n",
       "    .dataframe tbody tr th:only-of-type {\n",
       "        vertical-align: middle;\n",
       "    }\n",
       "\n",
       "    .dataframe tbody tr th {\n",
       "        vertical-align: top;\n",
       "    }\n",
       "\n",
       "    .dataframe thead th {\n",
       "        text-align: right;\n",
       "    }\n",
       "</style>\n",
       "<table border=\"1\" class=\"dataframe\">\n",
       "  <thead>\n",
       "    <tr style=\"text-align: right;\">\n",
       "      <th></th>\n",
       "      <th>avg_aqi_CO</th>\n",
       "      <th>avg_aqi_NO2</th>\n",
       "      <th>avg_aqi_O3</th>\n",
       "      <th>avg_aqi_SO2</th>\n",
       "      <th>avg_aqi_PM25</th>\n",
       "      <th>Incidents_per_population</th>\n",
       "    </tr>\n",
       "  </thead>\n",
       "  <tbody>\n",
       "    <tr>\n",
       "      <th>avg_aqi_CO</th>\n",
       "      <td>1.000000</td>\n",
       "      <td>0.861157</td>\n",
       "      <td>-0.906490</td>\n",
       "      <td>0.438333</td>\n",
       "      <td>0.283470</td>\n",
       "      <td>0.751105</td>\n",
       "    </tr>\n",
       "    <tr>\n",
       "      <th>avg_aqi_NO2</th>\n",
       "      <td>0.861157</td>\n",
       "      <td>1.000000</td>\n",
       "      <td>-0.878104</td>\n",
       "      <td>0.267517</td>\n",
       "      <td>0.491118</td>\n",
       "      <td>0.632483</td>\n",
       "    </tr>\n",
       "    <tr>\n",
       "      <th>avg_aqi_O3</th>\n",
       "      <td>-0.906490</td>\n",
       "      <td>-0.878104</td>\n",
       "      <td>1.000000</td>\n",
       "      <td>-0.308573</td>\n",
       "      <td>-0.400634</td>\n",
       "      <td>-0.701496</td>\n",
       "    </tr>\n",
       "    <tr>\n",
       "      <th>avg_aqi_SO2</th>\n",
       "      <td>0.438333</td>\n",
       "      <td>0.267517</td>\n",
       "      <td>-0.308573</td>\n",
       "      <td>1.000000</td>\n",
       "      <td>0.200537</td>\n",
       "      <td>0.171412</td>\n",
       "    </tr>\n",
       "    <tr>\n",
       "      <th>avg_aqi_PM25</th>\n",
       "      <td>0.283470</td>\n",
       "      <td>0.491118</td>\n",
       "      <td>-0.400634</td>\n",
       "      <td>0.200537</td>\n",
       "      <td>1.000000</td>\n",
       "      <td>0.352136</td>\n",
       "    </tr>\n",
       "    <tr>\n",
       "      <th>Incidents_per_population</th>\n",
       "      <td>0.751105</td>\n",
       "      <td>0.632483</td>\n",
       "      <td>-0.701496</td>\n",
       "      <td>0.171412</td>\n",
       "      <td>0.352136</td>\n",
       "      <td>1.000000</td>\n",
       "    </tr>\n",
       "  </tbody>\n",
       "</table>\n",
       "</div>"
      ],
      "text/plain": [
       "                          avg_aqi_CO  avg_aqi_NO2  avg_aqi_O3  avg_aqi_SO2  \\\n",
       "avg_aqi_CO                  1.000000     0.861157   -0.906490     0.438333   \n",
       "avg_aqi_NO2                 0.861157     1.000000   -0.878104     0.267517   \n",
       "avg_aqi_O3                 -0.906490    -0.878104    1.000000    -0.308573   \n",
       "avg_aqi_SO2                 0.438333     0.267517   -0.308573     1.000000   \n",
       "avg_aqi_PM25                0.283470     0.491118   -0.400634     0.200537   \n",
       "Incidents_per_population    0.751105     0.632483   -0.701496     0.171412   \n",
       "\n",
       "                          avg_aqi_PM25  Incidents_per_population  \n",
       "avg_aqi_CO                    0.283470                  0.751105  \n",
       "avg_aqi_NO2                   0.491118                  0.632483  \n",
       "avg_aqi_O3                   -0.400634                 -0.701496  \n",
       "avg_aqi_SO2                   0.200537                  0.171412  \n",
       "avg_aqi_PM25                  1.000000                  0.352136  \n",
       "Incidents_per_population      0.352136                  1.000000  "
      ]
     },
     "execution_count": 499,
     "metadata": {},
     "output_type": "execute_result"
    }
   ],
   "source": [
    "df.corr()"
   ]
  },
  {
   "cell_type": "code",
   "execution_count": 500,
   "metadata": {},
   "outputs": [],
   "source": [
    "# ## Optional Standard Scaling\n",
    "# from sklearn.preprocessing import StandardScaler\n",
    "# df[['avg_aqi_CO', 'avg_aqi_NO2','avg_aqi_O3','avg_aqi_SO2','avg_aqi_PM25']] = StandardScaler().fit_transform(df[['avg_aqi_CO', 'avg_aqi_NO2','avg_aqi_O3','avg_aqi_SO2','avg_aqi_PM25']])"
   ]
  },
  {
   "cell_type": "code",
   "execution_count": 501,
   "metadata": {},
   "outputs": [],
   "source": [
    "## Optional MinMax Scaling\n",
    "from sklearn.preprocessing import MinMaxScaler\n",
    "df[['avg_aqi_CO', 'avg_aqi_NO2','avg_aqi_O3','avg_aqi_SO2','avg_aqi_PM25']] = MinMaxScaler().fit_transform(df[['avg_aqi_CO', 'avg_aqi_NO2','avg_aqi_O3','avg_aqi_SO2','avg_aqi_PM25']])"
   ]
  },
  {
   "cell_type": "code",
   "execution_count": 502,
   "metadata": {},
   "outputs": [
    {
     "data": {
      "text/html": [
       "<div>\n",
       "<style scoped>\n",
       "    .dataframe tbody tr th:only-of-type {\n",
       "        vertical-align: middle;\n",
       "    }\n",
       "\n",
       "    .dataframe tbody tr th {\n",
       "        vertical-align: top;\n",
       "    }\n",
       "\n",
       "    .dataframe thead th {\n",
       "        text-align: right;\n",
       "    }\n",
       "</style>\n",
       "<table border=\"1\" class=\"dataframe\">\n",
       "  <thead>\n",
       "    <tr style=\"text-align: right;\">\n",
       "      <th></th>\n",
       "      <th>year</th>\n",
       "      <th>avg_aqi_CO</th>\n",
       "      <th>avg_aqi_NO2</th>\n",
       "      <th>avg_aqi_O3</th>\n",
       "      <th>avg_aqi_SO2</th>\n",
       "      <th>avg_aqi_PM25</th>\n",
       "      <th>Incidents_per_population</th>\n",
       "    </tr>\n",
       "  </thead>\n",
       "  <tbody>\n",
       "    <tr>\n",
       "      <th>0</th>\n",
       "      <td>1990</td>\n",
       "      <td>1.000000</td>\n",
       "      <td>0.795735</td>\n",
       "      <td>0.000000</td>\n",
       "      <td>0.741893</td>\n",
       "      <td>0.397298</td>\n",
       "      <td>0.157640</td>\n",
       "    </tr>\n",
       "    <tr>\n",
       "      <th>1</th>\n",
       "      <td>1991</td>\n",
       "      <td>0.972427</td>\n",
       "      <td>1.000000</td>\n",
       "      <td>0.079944</td>\n",
       "      <td>0.970195</td>\n",
       "      <td>0.397298</td>\n",
       "      <td>0.156298</td>\n",
       "    </tr>\n",
       "    <tr>\n",
       "      <th>2</th>\n",
       "      <td>1992</td>\n",
       "      <td>0.903621</td>\n",
       "      <td>0.743480</td>\n",
       "      <td>0.158280</td>\n",
       "      <td>1.000000</td>\n",
       "      <td>0.397298</td>\n",
       "      <td>0.155202</td>\n",
       "    </tr>\n",
       "    <tr>\n",
       "      <th>3</th>\n",
       "      <td>1993</td>\n",
       "      <td>0.790483</td>\n",
       "      <td>0.856757</td>\n",
       "      <td>0.131631</td>\n",
       "      <td>0.714489</td>\n",
       "      <td>0.397298</td>\n",
       "      <td>0.154066</td>\n",
       "    </tr>\n",
       "    <tr>\n",
       "      <th>4</th>\n",
       "      <td>1994</td>\n",
       "      <td>0.607157</td>\n",
       "      <td>0.778051</td>\n",
       "      <td>0.155308</td>\n",
       "      <td>0.000000</td>\n",
       "      <td>0.397298</td>\n",
       "      <td>0.153643</td>\n",
       "    </tr>\n",
       "    <tr>\n",
       "      <th>5</th>\n",
       "      <td>1995</td>\n",
       "      <td>0.567058</td>\n",
       "      <td>0.741548</td>\n",
       "      <td>0.610433</td>\n",
       "      <td>0.528357</td>\n",
       "      <td>0.397298</td>\n",
       "      <td>0.152805</td>\n",
       "    </tr>\n",
       "    <tr>\n",
       "      <th>6</th>\n",
       "      <td>1996</td>\n",
       "      <td>0.532585</td>\n",
       "      <td>0.766472</td>\n",
       "      <td>0.591769</td>\n",
       "      <td>0.347188</td>\n",
       "      <td>0.397298</td>\n",
       "      <td>0.151275</td>\n",
       "    </tr>\n",
       "    <tr>\n",
       "      <th>7</th>\n",
       "      <td>1997</td>\n",
       "      <td>0.462148</td>\n",
       "      <td>0.625870</td>\n",
       "      <td>0.418138</td>\n",
       "      <td>0.328438</td>\n",
       "      <td>0.397298</td>\n",
       "      <td>0.149487</td>\n",
       "    </tr>\n",
       "    <tr>\n",
       "      <th>8</th>\n",
       "      <td>1998</td>\n",
       "      <td>0.436859</td>\n",
       "      <td>0.599703</td>\n",
       "      <td>0.492475</td>\n",
       "      <td>0.142847</td>\n",
       "      <td>0.397298</td>\n",
       "      <td>0.148069</td>\n",
       "    </tr>\n",
       "    <tr>\n",
       "      <th>9</th>\n",
       "      <td>1999</td>\n",
       "      <td>0.458278</td>\n",
       "      <td>0.730274</td>\n",
       "      <td>0.577394</td>\n",
       "      <td>0.641988</td>\n",
       "      <td>1.000000</td>\n",
       "      <td>0.147217</td>\n",
       "    </tr>\n",
       "    <tr>\n",
       "      <th>10</th>\n",
       "      <td>2000</td>\n",
       "      <td>0.383249</td>\n",
       "      <td>0.623308</td>\n",
       "      <td>0.327540</td>\n",
       "      <td>0.644047</td>\n",
       "      <td>0.699973</td>\n",
       "      <td>0.146618</td>\n",
       "    </tr>\n",
       "    <tr>\n",
       "      <th>11</th>\n",
       "      <td>2001</td>\n",
       "      <td>0.373141</td>\n",
       "      <td>0.581215</td>\n",
       "      <td>0.516093</td>\n",
       "      <td>0.563910</td>\n",
       "      <td>0.638833</td>\n",
       "      <td>0.146058</td>\n",
       "    </tr>\n",
       "    <tr>\n",
       "      <th>12</th>\n",
       "      <td>2002</td>\n",
       "      <td>0.335258</td>\n",
       "      <td>0.504910</td>\n",
       "      <td>0.617811</td>\n",
       "      <td>0.596675</td>\n",
       "      <td>0.846325</td>\n",
       "      <td>0.147597</td>\n",
       "    </tr>\n",
       "    <tr>\n",
       "      <th>13</th>\n",
       "      <td>2003</td>\n",
       "      <td>0.310595</td>\n",
       "      <td>0.514196</td>\n",
       "      <td>0.617918</td>\n",
       "      <td>0.647565</td>\n",
       "      <td>0.459548</td>\n",
       "      <td>0.155179</td>\n",
       "    </tr>\n",
       "    <tr>\n",
       "      <th>14</th>\n",
       "      <td>2004</td>\n",
       "      <td>0.206566</td>\n",
       "      <td>0.295043</td>\n",
       "      <td>0.644930</td>\n",
       "      <td>0.722327</td>\n",
       "      <td>0.486075</td>\n",
       "      <td>0.153992</td>\n",
       "    </tr>\n",
       "    <tr>\n",
       "      <th>15</th>\n",
       "      <td>2005</td>\n",
       "      <td>0.174348</td>\n",
       "      <td>0.228426</td>\n",
       "      <td>0.691200</td>\n",
       "      <td>0.242616</td>\n",
       "      <td>0.410295</td>\n",
       "      <td>0.152496</td>\n",
       "    </tr>\n",
       "    <tr>\n",
       "      <th>16</th>\n",
       "      <td>2006</td>\n",
       "      <td>0.191922</td>\n",
       "      <td>0.478541</td>\n",
       "      <td>0.711871</td>\n",
       "      <td>0.440519</td>\n",
       "      <td>0.372322</td>\n",
       "      <td>0.151927</td>\n",
       "    </tr>\n",
       "    <tr>\n",
       "      <th>17</th>\n",
       "      <td>2007</td>\n",
       "      <td>0.143669</td>\n",
       "      <td>0.389237</td>\n",
       "      <td>0.648870</td>\n",
       "      <td>0.066860</td>\n",
       "      <td>0.299164</td>\n",
       "      <td>0.145087</td>\n",
       "    </tr>\n",
       "    <tr>\n",
       "      <th>18</th>\n",
       "      <td>2008</td>\n",
       "      <td>0.137188</td>\n",
       "      <td>0.423569</td>\n",
       "      <td>0.782251</td>\n",
       "      <td>0.130995</td>\n",
       "      <td>0.332481</td>\n",
       "      <td>0.146206</td>\n",
       "    </tr>\n",
       "    <tr>\n",
       "      <th>19</th>\n",
       "      <td>2009</td>\n",
       "      <td>0.069658</td>\n",
       "      <td>0.352592</td>\n",
       "      <td>0.822861</td>\n",
       "      <td>0.498469</td>\n",
       "      <td>0.551529</td>\n",
       "      <td>0.136168</td>\n",
       "    </tr>\n",
       "    <tr>\n",
       "      <th>20</th>\n",
       "      <td>2010</td>\n",
       "      <td>0.000000</td>\n",
       "      <td>0.330044</td>\n",
       "      <td>0.758332</td>\n",
       "      <td>0.498469</td>\n",
       "      <td>0.414112</td>\n",
       "      <td>0.126723</td>\n",
       "    </tr>\n",
       "    <tr>\n",
       "      <th>21</th>\n",
       "      <td>2011</td>\n",
       "      <td>0.025517</td>\n",
       "      <td>0.523727</td>\n",
       "      <td>0.716518</td>\n",
       "      <td>0.498469</td>\n",
       "      <td>0.260907</td>\n",
       "      <td>0.124420</td>\n",
       "    </tr>\n",
       "    <tr>\n",
       "      <th>22</th>\n",
       "      <td>2012</td>\n",
       "      <td>0.101316</td>\n",
       "      <td>0.245140</td>\n",
       "      <td>1.000000</td>\n",
       "      <td>0.498469</td>\n",
       "      <td>0.093612</td>\n",
       "      <td>0.131246</td>\n",
       "    </tr>\n",
       "    <tr>\n",
       "      <th>23</th>\n",
       "      <td>2013</td>\n",
       "      <td>0.100617</td>\n",
       "      <td>0.291020</td>\n",
       "      <td>0.778207</td>\n",
       "      <td>0.498469</td>\n",
       "      <td>0.342754</td>\n",
       "      <td>0.137249</td>\n",
       "    </tr>\n",
       "    <tr>\n",
       "      <th>24</th>\n",
       "      <td>2014</td>\n",
       "      <td>0.085379</td>\n",
       "      <td>0.152856</td>\n",
       "      <td>0.928945</td>\n",
       "      <td>0.498469</td>\n",
       "      <td>0.030534</td>\n",
       "      <td>0.136869</td>\n",
       "    </tr>\n",
       "    <tr>\n",
       "      <th>25</th>\n",
       "      <td>2015</td>\n",
       "      <td>0.103882</td>\n",
       "      <td>0.147243</td>\n",
       "      <td>0.990516</td>\n",
       "      <td>0.498469</td>\n",
       "      <td>0.000000</td>\n",
       "      <td>0.141719</td>\n",
       "    </tr>\n",
       "    <tr>\n",
       "      <th>26</th>\n",
       "      <td>2016</td>\n",
       "      <td>0.092444</td>\n",
       "      <td>0.000000</td>\n",
       "      <td>0.973341</td>\n",
       "      <td>0.498469</td>\n",
       "      <td>0.043475</td>\n",
       "      <td>0.134259</td>\n",
       "    </tr>\n",
       "    <tr>\n",
       "      <th>27</th>\n",
       "      <td>2017</td>\n",
       "      <td>0.100831</td>\n",
       "      <td>0.128260</td>\n",
       "      <td>0.994399</td>\n",
       "      <td>0.498469</td>\n",
       "      <td>0.266719</td>\n",
       "      <td>0.136392</td>\n",
       "    </tr>\n",
       "  </tbody>\n",
       "</table>\n",
       "</div>"
      ],
      "text/plain": [
       "    year  avg_aqi_CO  avg_aqi_NO2  avg_aqi_O3  avg_aqi_SO2  avg_aqi_PM25  \\\n",
       "0   1990    1.000000     0.795735    0.000000     0.741893      0.397298   \n",
       "1   1991    0.972427     1.000000    0.079944     0.970195      0.397298   \n",
       "2   1992    0.903621     0.743480    0.158280     1.000000      0.397298   \n",
       "3   1993    0.790483     0.856757    0.131631     0.714489      0.397298   \n",
       "4   1994    0.607157     0.778051    0.155308     0.000000      0.397298   \n",
       "5   1995    0.567058     0.741548    0.610433     0.528357      0.397298   \n",
       "6   1996    0.532585     0.766472    0.591769     0.347188      0.397298   \n",
       "7   1997    0.462148     0.625870    0.418138     0.328438      0.397298   \n",
       "8   1998    0.436859     0.599703    0.492475     0.142847      0.397298   \n",
       "9   1999    0.458278     0.730274    0.577394     0.641988      1.000000   \n",
       "10  2000    0.383249     0.623308    0.327540     0.644047      0.699973   \n",
       "11  2001    0.373141     0.581215    0.516093     0.563910      0.638833   \n",
       "12  2002    0.335258     0.504910    0.617811     0.596675      0.846325   \n",
       "13  2003    0.310595     0.514196    0.617918     0.647565      0.459548   \n",
       "14  2004    0.206566     0.295043    0.644930     0.722327      0.486075   \n",
       "15  2005    0.174348     0.228426    0.691200     0.242616      0.410295   \n",
       "16  2006    0.191922     0.478541    0.711871     0.440519      0.372322   \n",
       "17  2007    0.143669     0.389237    0.648870     0.066860      0.299164   \n",
       "18  2008    0.137188     0.423569    0.782251     0.130995      0.332481   \n",
       "19  2009    0.069658     0.352592    0.822861     0.498469      0.551529   \n",
       "20  2010    0.000000     0.330044    0.758332     0.498469      0.414112   \n",
       "21  2011    0.025517     0.523727    0.716518     0.498469      0.260907   \n",
       "22  2012    0.101316     0.245140    1.000000     0.498469      0.093612   \n",
       "23  2013    0.100617     0.291020    0.778207     0.498469      0.342754   \n",
       "24  2014    0.085379     0.152856    0.928945     0.498469      0.030534   \n",
       "25  2015    0.103882     0.147243    0.990516     0.498469      0.000000   \n",
       "26  2016    0.092444     0.000000    0.973341     0.498469      0.043475   \n",
       "27  2017    0.100831     0.128260    0.994399     0.498469      0.266719   \n",
       "\n",
       "    Incidents_per_population  \n",
       "0                   0.157640  \n",
       "1                   0.156298  \n",
       "2                   0.155202  \n",
       "3                   0.154066  \n",
       "4                   0.153643  \n",
       "5                   0.152805  \n",
       "6                   0.151275  \n",
       "7                   0.149487  \n",
       "8                   0.148069  \n",
       "9                   0.147217  \n",
       "10                  0.146618  \n",
       "11                  0.146058  \n",
       "12                  0.147597  \n",
       "13                  0.155179  \n",
       "14                  0.153992  \n",
       "15                  0.152496  \n",
       "16                  0.151927  \n",
       "17                  0.145087  \n",
       "18                  0.146206  \n",
       "19                  0.136168  \n",
       "20                  0.126723  \n",
       "21                  0.124420  \n",
       "22                  0.131246  \n",
       "23                  0.137249  \n",
       "24                  0.136869  \n",
       "25                  0.141719  \n",
       "26                  0.134259  \n",
       "27                  0.136392  "
      ]
     },
     "execution_count": 502,
     "metadata": {},
     "output_type": "execute_result"
    }
   ],
   "source": [
    "df"
   ]
  },
  {
   "cell_type": "code",
   "execution_count": null,
   "metadata": {},
   "outputs": [],
   "source": []
  },
  {
   "cell_type": "code",
   "execution_count": 503,
   "metadata": {},
   "outputs": [],
   "source": [
    "cols=['avg_aqi_CO', 'avg_aqi_NO2', 'avg_aqi_O3', 'avg_aqi_SO2',\n",
    "       'avg_aqi_PM25',]"
   ]
  },
  {
   "cell_type": "code",
   "execution_count": 504,
   "metadata": {},
   "outputs": [],
   "source": [
    "X=df[cols]"
   ]
  },
  {
   "cell_type": "code",
   "execution_count": 505,
   "metadata": {},
   "outputs": [],
   "source": [
    "Y=df['Incidents_per_population']"
   ]
  },
  {
   "cell_type": "code",
   "execution_count": 506,
   "metadata": {},
   "outputs": [
    {
     "data": {
      "text/plain": [
       "(28, 5)"
      ]
     },
     "execution_count": 506,
     "metadata": {},
     "output_type": "execute_result"
    }
   ],
   "source": [
    "X.shape"
   ]
  },
  {
   "cell_type": "code",
   "execution_count": 507,
   "metadata": {},
   "outputs": [
    {
     "data": {
      "text/plain": [
       "(28,)"
      ]
     },
     "execution_count": 507,
     "metadata": {},
     "output_type": "execute_result"
    }
   ],
   "source": [
    "Y.shape"
   ]
  },
  {
   "cell_type": "code",
   "execution_count": 508,
   "metadata": {},
   "outputs": [
    {
     "data": {
      "text/html": [
       "<table class=\"simpletable\">\n",
       "<caption>OLS Regression Results</caption>\n",
       "<tr>\n",
       "  <th>Dep. Variable:</th>    <td>Incidents_per_population</td> <th>  R-squared:         </th> <td>   0.989</td>\n",
       "</tr>\n",
       "<tr>\n",
       "  <th>Model:</th>                       <td>OLS</td>           <th>  Adj. R-squared:    </th> <td>   0.987</td>\n",
       "</tr>\n",
       "<tr>\n",
       "  <th>Method:</th>                 <td>Least Squares</td>      <th>  F-statistic:       </th> <td>   425.6</td>\n",
       "</tr>\n",
       "<tr>\n",
       "  <th>Date:</th>                 <td>Wed, 21 Nov 2018</td>     <th>  Prob (F-statistic):</th> <td>7.28e-22</td>\n",
       "</tr>\n",
       "<tr>\n",
       "  <th>Time:</th>                     <td>23:55:56</td>         <th>  Log-Likelihood:    </th> <td>  77.710</td>\n",
       "</tr>\n",
       "<tr>\n",
       "  <th>No. Observations:</th>          <td>    28</td>          <th>  AIC:               </th> <td>  -145.4</td>\n",
       "</tr>\n",
       "<tr>\n",
       "  <th>Df Residuals:</th>              <td>    23</td>          <th>  BIC:               </th> <td>  -138.8</td>\n",
       "</tr>\n",
       "<tr>\n",
       "  <th>Df Model:</th>                  <td>     5</td>          <th>                     </th>     <td> </td>   \n",
       "</tr>\n",
       "<tr>\n",
       "  <th>Covariance Type:</th>          <td>nonrobust</td>        <th>                     </th>     <td> </td>   \n",
       "</tr>\n",
       "</table>\n",
       "<table class=\"simpletable\">\n",
       "<tr>\n",
       "        <td></td>          <th>coef</th>     <th>std err</th>      <th>t</th>      <th>P>|t|</th>  <th>[0.025</th>    <th>0.975]</th>  \n",
       "</tr>\n",
       "<tr>\n",
       "  <th>avg_aqi_CO</th>   <td>    0.1072</td> <td>    0.029</td> <td>    3.660</td> <td> 0.001</td> <td>    0.047</td> <td>    0.168</td>\n",
       "</tr>\n",
       "<tr>\n",
       "  <th>avg_aqi_NO2</th>  <td>    0.0455</td> <td>    0.028</td> <td>    1.605</td> <td> 0.122</td> <td>   -0.013</td> <td>    0.104</td>\n",
       "</tr>\n",
       "<tr>\n",
       "  <th>avg_aqi_O3</th>   <td>    0.1290</td> <td>    0.010</td> <td>   12.650</td> <td> 0.000</td> <td>    0.108</td> <td>    0.150</td>\n",
       "</tr>\n",
       "<tr>\n",
       "  <th>avg_aqi_SO2</th>  <td>   -0.0088</td> <td>    0.016</td> <td>   -0.542</td> <td> 0.593</td> <td>   -0.042</td> <td>    0.025</td>\n",
       "</tr>\n",
       "<tr>\n",
       "  <th>avg_aqi_PM25</th> <td>    0.0301</td> <td>    0.018</td> <td>    1.659</td> <td> 0.111</td> <td>   -0.007</td> <td>    0.068</td>\n",
       "</tr>\n",
       "</table>\n",
       "<table class=\"simpletable\">\n",
       "<tr>\n",
       "  <th>Omnibus:</th>       <td> 1.961</td> <th>  Durbin-Watson:     </th> <td>   1.813</td>\n",
       "</tr>\n",
       "<tr>\n",
       "  <th>Prob(Omnibus):</th> <td> 0.375</td> <th>  Jarque-Bera (JB):  </th> <td>   1.379</td>\n",
       "</tr>\n",
       "<tr>\n",
       "  <th>Skew:</th>          <td>-0.542</td> <th>  Prob(JB):          </th> <td>   0.502</td>\n",
       "</tr>\n",
       "<tr>\n",
       "  <th>Kurtosis:</th>      <td> 2.922</td> <th>  Cond. No.          </th> <td>    14.4</td>\n",
       "</tr>\n",
       "</table><br/><br/>Warnings:<br/>[1] Standard Errors assume that the covariance matrix of the errors is correctly specified."
      ],
      "text/plain": [
       "<class 'statsmodels.iolib.summary.Summary'>\n",
       "\"\"\"\n",
       "                               OLS Regression Results                               \n",
       "====================================================================================\n",
       "Dep. Variable:     Incidents_per_population   R-squared:                       0.989\n",
       "Model:                                  OLS   Adj. R-squared:                  0.987\n",
       "Method:                       Least Squares   F-statistic:                     425.6\n",
       "Date:                      Wed, 21 Nov 2018   Prob (F-statistic):           7.28e-22\n",
       "Time:                              23:55:56   Log-Likelihood:                 77.710\n",
       "No. Observations:                        28   AIC:                            -145.4\n",
       "Df Residuals:                            23   BIC:                            -138.8\n",
       "Df Model:                                 5                                         \n",
       "Covariance Type:                  nonrobust                                         \n",
       "================================================================================\n",
       "                   coef    std err          t      P>|t|      [0.025      0.975]\n",
       "--------------------------------------------------------------------------------\n",
       "avg_aqi_CO       0.1072      0.029      3.660      0.001       0.047       0.168\n",
       "avg_aqi_NO2      0.0455      0.028      1.605      0.122      -0.013       0.104\n",
       "avg_aqi_O3       0.1290      0.010     12.650      0.000       0.108       0.150\n",
       "avg_aqi_SO2     -0.0088      0.016     -0.542      0.593      -0.042       0.025\n",
       "avg_aqi_PM25     0.0301      0.018      1.659      0.111      -0.007       0.068\n",
       "==============================================================================\n",
       "Omnibus:                        1.961   Durbin-Watson:                   1.813\n",
       "Prob(Omnibus):                  0.375   Jarque-Bera (JB):                1.379\n",
       "Skew:                          -0.542   Prob(JB):                        0.502\n",
       "Kurtosis:                       2.922   Cond. No.                         14.4\n",
       "==============================================================================\n",
       "\n",
       "Warnings:\n",
       "[1] Standard Errors assume that the covariance matrix of the errors is correctly specified.\n",
       "\"\"\""
      ]
     },
     "execution_count": 508,
     "metadata": {},
     "output_type": "execute_result"
    }
   ],
   "source": [
    "import statsmodels.api as sm\n",
    "\n",
    "\n",
    "# Note the difference in argument order\n",
    "model = sm.OLS(Y, X).fit()\n",
    "predictions = model.predict(X) # make the predictions by the model\n",
    "\n",
    "# Print out the statistics\n",
    "model.summary()"
   ]
  },
  {
   "cell_type": "code",
   "execution_count": 509,
   "metadata": {},
   "outputs": [
    {
     "name": "stdout",
     "output_type": "stream",
     "text": [
      "Accuracy of model= 0.6578821228122385\n"
     ]
    }
   ],
   "source": [
    "from sklearn import linear_model\n",
    "\n",
    "lm = linear_model.LinearRegression()\n",
    "model = lm.fit(X,Y)\n",
    "\n",
    "predictions = lm.predict(X)\n",
    "print('Accuracy of model=',lm.score(X,Y))\n"
   ]
  },
  {
   "cell_type": "code",
   "execution_count": 512,
   "metadata": {},
   "outputs": [
    {
     "name": "stdout",
     "output_type": "stream",
     "text": [
      "(22, 5) (22,)\n",
      "(6, 5) (6,)\n"
     ]
    }
   ],
   "source": [
    "import pandas as pd\n",
    "from sklearn import datasets, linear_model\n",
    "from sklearn.model_selection import train_test_split\n",
    "from matplotlib import pyplot as plt\n",
    "\n",
    "\n",
    "X_train, X_test, y_train, y_test = train_test_split(X, Y, test_size=0.2)\n",
    "print (X_train.shape, y_train.shape)\n",
    "print (X_test.shape, y_test.shape)\n"
   ]
  },
  {
   "cell_type": "code",
   "execution_count": 513,
   "metadata": {},
   "outputs": [],
   "source": [
    "# fit a model\n",
    "lm = linear_model.LinearRegression()\n",
    "model = lm.fit(X_train, y_train)\n",
    "predictions = lm.predict(X_test)"
   ]
  },
  {
   "cell_type": "code",
   "execution_count": 514,
   "metadata": {},
   "outputs": [
    {
     "data": {
      "text/plain": [
       "Text(0,0.5,'Predictions')"
      ]
     },
     "execution_count": 514,
     "metadata": {},
     "output_type": "execute_result"
    },
    {
     "data": {
      "image/png": "[encoded data removed]",
      "text/plain": [
       "<Figure size 432x288 with 1 Axes>"
      ]
     },
     "metadata": {},
     "output_type": "display_data"
    }
   ],
   "source": [
    "## The line / model\n",
    "plt.scatter(y_test, predictions)\n",
    "plt.xlabel('True Values')\n",
    "plt.ylabel('Predictions')"
   ]
  },
  {
   "cell_type": "code",
   "execution_count": 515,
   "metadata": {
    "scrolled": true
   },
   "outputs": [
    {
     "name": "stdout",
     "output_type": "stream",
     "text": [
      "r2 train: 0.673, test : 0.530\n"
     ]
    }
   ],
   "source": [
    "## R2 score Evaluation\n",
    "y_train_pred=model.predict(X_train)\n",
    "y_test_pred=model.predict(X_test)\n",
    "\n",
    "from sklearn.metrics import r2_score\n",
    "\n",
    "print(\"r2 train: %.3f, test : %.3f\" %(r2_score(y_train,y_train_pred),r2_score(y_test,y_test_pred) ))"
   ]
  },
  {
   "cell_type": "code",
   "execution_count": 516,
   "metadata": {},
   "outputs": [],
   "source": [
    "## Reference https://www.kaggle.com/serigne/stacked-regressions-top-4-on-leaderboard\n",
    "\n",
    "from sklearn.linear_model import ElasticNet, Lasso,  BayesianRidge, LassoLarsIC\n",
    "from sklearn.ensemble import RandomForestRegressor,  GradientBoostingRegressor\n",
    "from sklearn.kernel_ridge import KernelRidge\n",
    "from sklearn.pipeline import make_pipeline\n",
    "from sklearn.preprocessing import RobustScaler\n",
    "from sklearn.base import BaseEstimator, TransformerMixin, RegressorMixin, clone\n",
    "from sklearn.model_selection import KFold, cross_val_score, train_test_split\n",
    "from sklearn.metrics import mean_squared_error\n",
    "import xgboost as xgb"
   ]
  },
  {
   "cell_type": "code",
   "execution_count": 517,
   "metadata": {},
   "outputs": [],
   "source": [
    "#Validation function\n",
    "n_folds = 5\n",
    "\n",
    "def rmsle_cv(model):\n",
    "    kf = KFold(n_folds, shuffle=True, random_state=42).get_n_splits(X.values)\n",
    "    rmse= np.sqrt(-cross_val_score(model, X.values, Y, scoring=\"neg_mean_squared_error\", cv = kf))\n",
    "    return(rmse)"
   ]
  },
  {
   "cell_type": "markdown",
   "metadata": {},
   "source": [
    "# LASSO Regression"
   ]
  },
  {
   "cell_type": "code",
   "execution_count": 518,
   "metadata": {},
   "outputs": [],
   "source": [
    "lasso = make_pipeline(RobustScaler(), Lasso(alpha =0.0005, random_state=1))"
   ]
  },
  {
   "cell_type": "markdown",
   "metadata": {},
   "source": [
    "# Elastic Net Regression"
   ]
  },
  {
   "cell_type": "code",
   "execution_count": 519,
   "metadata": {},
   "outputs": [],
   "source": [
    "ENet = make_pipeline(RobustScaler(), ElasticNet(alpha=0.0005, l1_ratio=.9, random_state=3))\n"
   ]
  },
  {
   "cell_type": "markdown",
   "metadata": {},
   "source": [
    "# Kernel Ridge Regression"
   ]
  },
  {
   "cell_type": "code",
   "execution_count": 520,
   "metadata": {},
   "outputs": [],
   "source": [
    "KRR = KernelRidge(alpha=0.6, kernel='polynomial', degree=2, coef0=2.5)\n"
   ]
  },
  {
   "cell_type": "markdown",
   "metadata": {},
   "source": [
    "# Gradient Boosting Regression"
   ]
  },
  {
   "cell_type": "code",
   "execution_count": 521,
   "metadata": {},
   "outputs": [],
   "source": [
    "GBoost = GradientBoostingRegressor(n_estimators=3000, learning_rate=0.05,\n",
    "                                   max_depth=4, max_features='sqrt',\n",
    "                                   min_samples_leaf=15, min_samples_split=10, \n",
    "                                   loss='huber', random_state =5)"
   ]
  },
  {
   "cell_type": "markdown",
   "metadata": {},
   "source": [
    "# XGBoost"
   ]
  },
  {
   "cell_type": "code",
   "execution_count": 522,
   "metadata": {},
   "outputs": [],
   "source": [
    "model_xgb = xgb.XGBRegressor(colsample_bytree=0.4603, gamma=0.0468, \n",
    "                             learning_rate=0.05, max_depth=3, \n",
    "                             min_child_weight=1.7817, n_estimators=2200,\n",
    "                             reg_alpha=0.4640, reg_lambda=0.8571,\n",
    "                             subsample=0.5213, silent=1,\n",
    "                             random_state =7, nthread = -1)"
   ]
  },
  {
   "cell_type": "markdown",
   "metadata": {},
   "source": [
    "# Model Evaluation Scores"
   ]
  },
  {
   "cell_type": "code",
   "execution_count": 523,
   "metadata": {},
   "outputs": [
    {
     "name": "stdout",
     "output_type": "stream",
     "text": [
      "\n",
      "Lasso score: 0.0079 (0.0041)\n",
      "\n"
     ]
    }
   ],
   "source": [
    "score = rmsle_cv(lasso)\n",
    "print(\"\\nLasso score: {:.4f} ({:.4f})\\n\".format(score.mean(), score.std()))"
   ]
  },
  {
   "cell_type": "code",
   "execution_count": 524,
   "metadata": {},
   "outputs": [
    {
     "name": "stdout",
     "output_type": "stream",
     "text": [
      "ElasticNet score: 0.0079 (0.0041)\n",
      "\n"
     ]
    }
   ],
   "source": [
    "score = rmsle_cv(ENet)\n",
    "print(\"ElasticNet score: {:.4f} ({:.4f})\\n\".format(score.mean(), score.std()))"
   ]
  },
  {
   "cell_type": "code",
   "execution_count": 525,
   "metadata": {},
   "outputs": [
    {
     "name": "stdout",
     "output_type": "stream",
     "text": [
      "Kernel Ridge score: 0.0069 (0.0046)\n",
      "\n"
     ]
    }
   ],
   "source": [
    "score = rmsle_cv(KRR)\n",
    "print(\"Kernel Ridge score: {:.4f} ({:.4f})\\n\".format(score.mean(), score.std()))"
   ]
  },
  {
   "cell_type": "code",
   "execution_count": 526,
   "metadata": {},
   "outputs": [
    {
     "name": "stdout",
     "output_type": "stream",
     "text": [
      "Gradient Boosting score: 0.0100 (0.0047)\n",
      "\n"
     ]
    }
   ],
   "source": [
    "score = rmsle_cv(GBoost)\n",
    "print(\"Gradient Boosting score: {:.4f} ({:.4f})\\n\".format(score.mean(), score.std()))"
   ]
  },
  {
   "cell_type": "code",
   "execution_count": 527,
   "metadata": {},
   "outputs": [
    {
     "name": "stdout",
     "output_type": "stream",
     "text": [
      "Xgboost score: 0.0283 (0.0101)\n",
      "\n"
     ]
    }
   ],
   "source": [
    "score = rmsle_cv(model_xgb)\n",
    "print(\"Xgboost score: {:.4f} ({:.4f})\\n\".format(score.mean(), score.std()))"
   ]
  },
  {
   "cell_type": "markdown",
   "metadata": {},
   "source": [
    "Useless Stuff after this"
   ]
  },
  {
   "cell_type": "code",
   "execution_count": null,
   "metadata": {},
   "outputs": [],
   "source": [
    "QUERY = \"\"\"\n",
    "    SELECT\n",
    "        EXTRACT(YEAR FROM date_local) as year,\n",
    "        avg(aqi) as avg_aqi\n",
    "    FROM\n",
    "      `bigquery-public-data.epa_historical_air_quality.co_daily_summary`\n",
    "    WHERE\n",
    "       state_name =\"California\" AND city_name=\"San Francisco\"\n",
    "    GROUP BY year\n",
    "    ORDER BY year ASC\n",
    "        \"\"\"\n",
    "df_co = bq_assistant.query_to_pandas(QUERY)\n",
    "\n",
    "plt.subplots(figsize=(15,7))\n",
    "sns.barplot(x='year',y='avg_aqi',data=df_co,palette='inferno',edgecolor=sns.color_palette('dark',7))\n",
    "plt.ylabel('Air Quality Index', fontsize=20)\n",
    "plt.xticks(rotation=90)\n",
    "plt.xlabel('Year', fontsize=20)\n",
    "plt.title('Average AQI of Carbon monoxide in different years', fontsize=24)\n",
    "plt.show()"
   ]
  },
  {
   "cell_type": "code",
   "execution_count": null,
   "metadata": {},
   "outputs": [],
   "source": [
    "QUERY = \"\"\"\n",
    "   SELECT EXTRACT(month FROM co_summary.date_local) as month,avg(co_summary.aqi) as avg_aqi\n",
    "FROM `bigquery-public-data.epa_historical_air_quality.co_daily_summary` as co_summary\n",
    "where state_name =\"California\" AND city_name=\"San Francisco\" and  EXTRACT(YEAR FROM co_summary.date_local)=2016\n",
    "group by month\n",
    "order by month asc\n",
    "        \"\"\"\n",
    "df_co_month = bq_assistant.query_to_pandas(QUERY)\n",
    "\n",
    "plt.subplots(figsize=(15,7))\n",
    "sns.barplot(x='month',y='avg_aqi',data=df_co_month,palette='inferno',edgecolor=sns.color_palette('dark',7))\n",
    "plt.ylabel('Air Quality Index', fontsize=20)\n",
    "plt.xticks(rotation=90)\n",
    "plt.xlabel('Month', fontsize=20)\n",
    "plt.title('Average AQI of Carbon monoxide in 2016 in  different months', fontsize=24)\n",
    "plt.show()\n"
   ]
  },
  {
   "cell_type": "code",
   "execution_count": null,
   "metadata": {},
   "outputs": [],
   "source": [
    "df.isnull().sum()"
   ]
  },
  {
   "cell_type": "code",
   "execution_count": null,
   "metadata": {},
   "outputs": [],
   "source": [
    "## Fill missing values with zero\n",
    "df[\"aqi\"].fillna(0, inplace=True)\n",
    "df[\"method_code\"].fillna(0, inplace=True)\n"
   ]
  },
  {
   "cell_type": "code",
   "execution_count": null,
   "metadata": {},
   "outputs": [],
   "source": [
    "df.describe()"
   ]
  },
  {
   "cell_type": "code",
   "execution_count": null,
   "metadata": {},
   "outputs": [],
   "source": [
    "columns = df.columns\n",
    "percent_missing = df.isnull().sum() * 100 / len(df)\n",
    "missing_value_df = pd.DataFrame({'column_name': columns,\n",
    "                                 'percent_missing': percent_missing})\n",
    "\n",
    "missing_value_df.sort_values('percent_missing', inplace=True)\n"
   ]
  },
  {
   "cell_type": "code",
   "execution_count": null,
   "metadata": {},
   "outputs": [],
   "source": [
    "missing_value_df"
   ]
  },
  {
   "cell_type": "code",
   "execution_count": null,
   "metadata": {},
   "outputs": [],
   "source": [
    "from sklearn.preprocessing import Imputer\n",
    "\n",
    "imp=Imputer(missing_values='NaN',strategy='mean')\n",
    "\n",
    "df[\"aqi\"]=imp.fit_transform(df[[\"aqi\"]]).ravel()\n",
    "df[\"method_code\"]=imp.fit_transform(df[[\"method_code\"]]).ravel()\n"
   ]
  },
  {
   "cell_type": "code",
   "execution_count": null,
   "metadata": {},
   "outputs": [],
   "source": [
    "set(df['county_code'])"
   ]
  },
  {
   "cell_type": "code",
   "execution_count": null,
   "metadata": {},
   "outputs": [],
   "source": [
    "df.nunique()"
   ]
  },
  {
   "cell_type": "code",
   "execution_count": null,
   "metadata": {},
   "outputs": [],
   "source": [
    "df_co"
   ]
  },
  {
   "cell_type": "code",
   "execution_count": null,
   "metadata": {},
   "outputs": [],
   "source": []
  }
 ],
 "metadata": {
  "kernelspec": {
   "display_name": "Python 3",
   "language": "python",
   "name": "python3"
  },
  "language_info": {
   "codemirror_mode": {
    "name": "ipython",
    "version": 3
   },
   "file_extension": ".py",
   "mimetype": "text/x-python",
   "name": "python",
   "nbconvert_exporter": "python",
   "pygments_lexer": "ipython3",
   "version": "3.6.5"
  }
 },
 "nbformat": 4,
 "nbformat_minor": 2
}
