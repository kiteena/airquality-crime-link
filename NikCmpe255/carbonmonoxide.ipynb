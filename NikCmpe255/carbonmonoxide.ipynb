{
 "cells": [
  {
   "cell_type": "code",
   "execution_count": 161,
   "metadata": {},
   "outputs": [
    {
     "name": "stdout",
     "output_type": "stream",
     "text": [
      "The google.cloud.bigquery extension is already loaded. To reload it, use:\n",
      "  %reload_ext google.cloud.bigquery\n"
     ]
    }
   ],
   "source": [
    "import numpy as np\n",
    "import pandas as pd\n",
    "# matplotlib for plotting\n",
    "import matplotlib.pyplot as plt\n",
    "import seaborn as sns\n",
    "plt.style.use('fivethirtyeight')\n",
    "from google.cloud import bigquery\n",
    "from bq_helper import BigQueryHelper\n",
    "%load_ext google.cloud.bigquery\n",
    "import os\n",
    "\n",
    "os.environ[\"GOOGLE_APPLICATION_CREDENTIALS\"]=\"My Project-bbdce7b1712b.json\"\n"
   ]
  },
  {
   "cell_type": "code",
   "execution_count": 162,
   "metadata": {},
   "outputs": [],
   "source": [
    "bq_assistant = BigQueryHelper(\"bigquery-public-data\", \"epa_historical_air_quality\")\n",
    "\n",
    "## We are only looking at SF Data\n",
    "query=\"\"\"\n",
    "SELECT * FROM `bigquery-public-data.epa_historical_air_quality.co_daily_summary`\n",
    "where state_name =\"California\" AND city_name=\"San Francisco\"\n",
    "\"\"\"\n",
    "\n",
    "df = bq_assistant.query_to_pandas(query)\n",
    "##df=pd.read_csv('carbon-monoxide-results-20181007-145932.csv')"
   ]
  },
  {
   "cell_type": "code",
   "execution_count": 163,
   "metadata": {},
   "outputs": [
    {
     "data": {
      "text/plain": [
       "(32794, 29)"
      ]
     },
     "execution_count": 163,
     "metadata": {},
     "output_type": "execute_result"
    }
   ],
   "source": [
    "df.shape"
   ]
  },
  {
   "cell_type": "markdown",
   "metadata": {},
   "source": [
    "Check the no of missing values in each column"
   ]
  },
  {
   "cell_type": "code",
   "execution_count": 164,
   "metadata": {},
   "outputs": [
    {
     "data": {
      "text/plain": [
       "state_code                 0\n",
       "county_code                0\n",
       "site_num                   0\n",
       "parameter_code             0\n",
       "poc                        0\n",
       "latitude                   0\n",
       "longitude                  0\n",
       "datum                      0\n",
       "parameter_name             0\n",
       "sample_duration            0\n",
       "pollutant_standard         0\n",
       "date_local                 0\n",
       "units_of_measure           0\n",
       "event_type                 0\n",
       "observation_count          0\n",
       "observation_percent        0\n",
       "arithmetic_mean            0\n",
       "first_max_value            0\n",
       "first_max_hour             0\n",
       "aqi                    16396\n",
       "method_code            16398\n",
       "method_name                0\n",
       "local_site_name            0\n",
       "address                    0\n",
       "state_name                 0\n",
       "county_name                0\n",
       "city_name                  0\n",
       "cbsa_name                  0\n",
       "date_of_last_change        0\n",
       "dtype: int64"
      ]
     },
     "execution_count": 164,
     "metadata": {},
     "output_type": "execute_result"
    }
   ],
   "source": [
    "df.isna().sum()"
   ]
  },
  {
   "cell_type": "markdown",
   "metadata": {},
   "source": [
    "# Data Preprocessing"
   ]
  },
  {
   "cell_type": "markdown",
   "metadata": {},
   "source": [
    "Remove Missing values in aqi ( Dont Uncomment this)"
   ]
  },
  {
   "cell_type": "code",
   "execution_count": 165,
   "metadata": {},
   "outputs": [],
   "source": [
    "# from sklearn.preprocessing import Imputer\n",
    "\n",
    "# imp=Imputer(missing_values='NaN',strategy='mean')\n",
    "\n",
    "# ## replace missing values in aqi and method code with mean\n",
    "# df[\"aqi\"]=imp.fit_transform(df[[\"aqi\"]]).ravel()\n",
    "# df[\"method_code\"]=imp.fit_transform(df[[\"method_code\"]]).ravel()\n"
   ]
  },
  {
   "cell_type": "markdown",
   "metadata": {},
   "source": [
    "## Data Visualization\n",
    "\n",
    "We will measure average aqi for different gases (CO,O3,NO2,SO2)"
   ]
  },
  {
   "cell_type": "markdown",
   "metadata": {},
   "source": [
    "# Bar Graph for the average AQI over the years for the 4 gases"
   ]
  },
  {
   "cell_type": "code",
   "execution_count": 166,
   "metadata": {},
   "outputs": [],
   "source": [
    "# For visualization\n",
    "from bokeh.plotting import figure, output_file, show\n",
    "from bokeh.models import ColumnDataSource, HoverTool\n",
    "from bokeh.palettes import Spectral6, brewer\n",
    "from bokeh.transform import factor_cmap\n"
   ]
  },
  {
   "cell_type": "markdown",
   "metadata": {},
   "source": [
    "Avg Air Quality Index for CO over the years in San Francisco"
   ]
  },
  {
   "cell_type": "code",
   "execution_count": 167,
   "metadata": {},
   "outputs": [],
   "source": [
    "QUERY = \"\"\"\n",
    "    SELECT\n",
    "        EXTRACT(YEAR FROM date_local) as year,\n",
    "        avg(aqi) as avg_aqi\n",
    "    FROM\n",
    "      `bigquery-public-data.epa_historical_air_quality.co_daily_summary`\n",
    "    WHERE\n",
    "       state_name =\"California\" AND city_name=\"San Francisco\"\n",
    "    GROUP BY year\n",
    "    ORDER BY year ASC\n",
    "        \"\"\"\n",
    "df_co = bq_assistant.query_to_pandas(QUERY)"
   ]
  },
  {
   "cell_type": "code",
   "execution_count": 168,
   "metadata": {},
   "outputs": [],
   "source": [
    "df_co.year = df_co.year.astype(str)"
   ]
  },
  {
   "cell_type": "code",
   "execution_count": 169,
   "metadata": {},
   "outputs": [
    {
     "name": "stderr",
     "output_type": "stream",
     "text": [
      "/Users/nikhileshchaudhary/anaconda3/lib/python3.6/site-packages/bokeh/models/mappers.py:82: UserWarning: Palette length does not match number of factors. ['1996', '1997', '1998', '1999', '2000', '2001', '2002', '2003', '2004', '2005', '2006', '2007', '2008', '2009', '2010', '2011', '2012', '2013', '2014', '2015', '2016', '2017'] will be assigned to `nan_color` gray\n",
      "  warnings.warn(\"Palette length does not match number of factors. %s will be assigned to `nan_color` %s\" % (extra_factors, self.nan_color))\n"
     ]
    }
   ],
   "source": [
    "## Reference https://bokeh.pydata.org/en/latest/docs/user_guide/categorical.html\n",
    "## Bar graph\n",
    "output_file('average_aqi_CO_over_the_years.html')\n",
    "\n",
    "source = ColumnDataSource(df_co)\n",
    "years = source.data['year'].tolist()\n",
    "p = figure(x_range=years, plot_width=1200, plot_height=800)\n",
    "\n",
    "color_map = factor_cmap(field_name='year', palette=Spectral6, factors=years)\n",
    "\n",
    "p.vbar(x='year', top='avg_aqi', source=source, width=0.90)\n",
    "\n",
    "p.title.text ='Average AQI of Carbon monoxide in different years'\n",
    "p.xaxis.axis_label = 'Years'\n",
    "p.yaxis.axis_label = \"Average AQI of Carbon monoxide\"\n",
    "\n",
    "show(p)\n"
   ]
  },
  {
   "cell_type": "markdown",
   "metadata": {},
   "source": [
    "Avg Air Quality Index for O3 over the years in San Francisco"
   ]
  },
  {
   "cell_type": "code",
   "execution_count": 170,
   "metadata": {},
   "outputs": [],
   "source": [
    "QUERY = \"\"\"\n",
    "    SELECT\n",
    "        EXTRACT(YEAR FROM date_local) as year,\n",
    "        avg(aqi) as avg_aqi\n",
    "    FROM\n",
    "      `bigquery-public-data.epa_historical_air_quality.o3_daily_summary`\n",
    "    WHERE\n",
    "       state_name =\"California\" AND city_name=\"San Francisco\"\n",
    "    GROUP BY year\n",
    "    ORDER BY year ASC\n",
    "        \"\"\"\n",
    "df_o3 = bq_assistant.query_to_pandas(QUERY)\n",
    "\n"
   ]
  },
  {
   "cell_type": "code",
   "execution_count": 171,
   "metadata": {},
   "outputs": [],
   "source": [
    "df_o3.year = df_o3.year.astype(str)"
   ]
  },
  {
   "cell_type": "code",
   "execution_count": 172,
   "metadata": {},
   "outputs": [
    {
     "name": "stderr",
     "output_type": "stream",
     "text": [
      "/Users/nikhileshchaudhary/anaconda3/lib/python3.6/site-packages/bokeh/models/mappers.py:82: UserWarning: Palette length does not match number of factors. ['1996', '1997', '1998', '1999', '2000', '2001', '2002', '2003', '2004', '2005', '2006', '2007', '2008', '2009', '2010', '2011', '2012', '2013', '2014', '2015', '2016', '2017'] will be assigned to `nan_color` gray\n",
      "  warnings.warn(\"Palette length does not match number of factors. %s will be assigned to `nan_color` %s\" % (extra_factors, self.nan_color))\n"
     ]
    }
   ],
   "source": [
    "## Reference https://bokeh.pydata.org/en/latest/docs/user_guide/categorical.html\n",
    "## Bar graph\n",
    "output_file('average_aqi_O3_over_the_years.html')\n",
    "\n",
    "source = ColumnDataSource(df_o3)\n",
    "years = source.data['year'].tolist()\n",
    "p = figure(x_range=years, plot_width=1200, plot_height=800)\n",
    "\n",
    "color_map = factor_cmap(field_name='year', palette=Spectral6, factors=years)\n",
    "\n",
    "p.vbar(x='year', top='avg_aqi', source=source, width=0.90)\n",
    "\n",
    "p.title.text ='Average AQI of Ozone in different years'\n",
    "p.xaxis.axis_label = 'Years'\n",
    "p.yaxis.axis_label = \"Average AQI of Ozone\"\n",
    "\n",
    "show(p)\n"
   ]
  },
  {
   "cell_type": "markdown",
   "metadata": {},
   "source": [
    "Avg Air Quality Index for NO2 over the years in San Francisco"
   ]
  },
  {
   "cell_type": "code",
   "execution_count": 173,
   "metadata": {},
   "outputs": [],
   "source": [
    "QUERY = \"\"\"\n",
    "    SELECT\n",
    "        EXTRACT(YEAR FROM date_local) as year,\n",
    "        avg(aqi) as avg_aqi\n",
    "    FROM\n",
    "      `bigquery-public-data.epa_historical_air_quality.no2_daily_summary`\n",
    "    WHERE\n",
    "       state_name =\"California\" AND city_name=\"San Francisco\"\n",
    "    GROUP BY year\n",
    "    ORDER BY year ASC\n",
    "        \"\"\"\n",
    "df_no2 = bq_assistant.query_to_pandas(QUERY)\n",
    "\n"
   ]
  },
  {
   "cell_type": "code",
   "execution_count": 174,
   "metadata": {},
   "outputs": [],
   "source": [
    "df_no2.year = df_no2.year.astype(str)"
   ]
  },
  {
   "cell_type": "code",
   "execution_count": 175,
   "metadata": {},
   "outputs": [
    {
     "name": "stderr",
     "output_type": "stream",
     "text": [
      "/Users/nikhileshchaudhary/anaconda3/lib/python3.6/site-packages/bokeh/models/mappers.py:82: UserWarning: Palette length does not match number of factors. ['1996', '1997', '1998', '1999', '2000', '2001', '2002', '2003', '2004', '2005', '2006', '2007', '2008', '2009', '2010', '2011', '2012', '2013', '2014', '2015', '2016', '2017'] will be assigned to `nan_color` gray\n",
      "  warnings.warn(\"Palette length does not match number of factors. %s will be assigned to `nan_color` %s\" % (extra_factors, self.nan_color))\n"
     ]
    }
   ],
   "source": [
    "## Reference https://bokeh.pydata.org/en/latest/docs/user_guide/categorical.html\n",
    "## Bar graph\n",
    "output_file('average_aqi_no2_over_the_years.html')\n",
    "\n",
    "source = ColumnDataSource(df_no2)\n",
    "years = source.data['year'].tolist()\n",
    "p = figure(x_range=years, plot_width=1200, plot_height=800)\n",
    "\n",
    "color_map = factor_cmap(field_name='year', palette=Spectral6, factors=years)\n",
    "\n",
    "p.vbar(x='year', top='avg_aqi', source=source, width=0.90)\n",
    "\n",
    "p.title.text ='Average AQI of Nitrogen dioxide  in different years'\n",
    "p.xaxis.axis_label = 'Years'\n",
    "p.yaxis.axis_label = \"Average AQI of Nitrogen dioxide \"\n",
    "\n",
    "show(p)\n"
   ]
  },
  {
   "cell_type": "code",
   "execution_count": 176,
   "metadata": {},
   "outputs": [
    {
     "name": "stderr",
     "output_type": "stream",
     "text": [
      "/Users/nikhileshchaudhary/anaconda3/lib/python3.6/site-packages/bokeh/models/mappers.py:82: UserWarning: Palette length does not match number of factors. ['1996', '1997', '1998', '1999', '2000', '2001', '2002', '2003', '2004', '2005', '2006', '2007', '2008'] will be assigned to `nan_color` gray\n",
      "  warnings.warn(\"Palette length does not match number of factors. %s will be assigned to `nan_color` %s\" % (extra_factors, self.nan_color))\n"
     ]
    }
   ],
   "source": [
    "##Avg Air Quality Index for SO2 over the years in San Francisco\n",
    "\n",
    "QUERY = \"\"\"\n",
    "    SELECT\n",
    "        EXTRACT(YEAR FROM date_local) as year,\n",
    "        avg(aqi) as avg_aqi\n",
    "    FROM\n",
    "      `bigquery-public-data.epa_historical_air_quality.so2_daily_summary`\n",
    "    WHERE\n",
    "       state_name =\"California\" AND city_name=\"San Francisco\"\n",
    "    GROUP BY year\n",
    "    ORDER BY year ASC\n",
    "        \"\"\"\n",
    "df_so2 = bq_assistant.query_to_pandas(QUERY)\n",
    "\n",
    "df_so2.year = df_so2.year.astype(str)\n",
    "\n",
    "## Reference https://bokeh.pydata.org/en/latest/docs/user_guide/categorical.html\n",
    "## Bar graph\n",
    "output_file('average_aqi_so2_over_the_years.html')\n",
    "\n",
    "source = ColumnDataSource(df_so2)\n",
    "years = source.data['year'].tolist()\n",
    "p = figure(x_range=years, plot_width=1200, plot_height=800)\n",
    "\n",
    "color_map = factor_cmap(field_name='year', palette=Spectral6, factors=years)\n",
    "\n",
    "p.vbar(x='year', top='avg_aqi', source=source, width=0.90)\n",
    "\n",
    "p.title.text ='Average AQI of Sulphur dioxide  in different years'\n",
    "p.xaxis.axis_label = 'Years'\n",
    "p.yaxis.axis_label = \"Average AQI of Sulphur dioxide \"\n",
    "\n",
    "show(p)\n"
   ]
  },
  {
   "cell_type": "markdown",
   "metadata": {},
   "source": [
    "Avg Air Quality Index for Particulate Matter over the years in San Francisco"
   ]
  },
  {
   "cell_type": "code",
   "execution_count": 177,
   "metadata": {},
   "outputs": [
    {
     "name": "stderr",
     "output_type": "stream",
     "text": [
      "/Users/nikhileshchaudhary/anaconda3/lib/python3.6/site-packages/bokeh/models/mappers.py:82: UserWarning: Palette length does not match number of factors. ['2005', '2006', '2007', '2008', '2009', '2010', '2011', '2012', '2013', '2014', '2015', '2016', '2017'] will be assigned to `nan_color` gray\n",
      "  warnings.warn(\"Palette length does not match number of factors. %s will be assigned to `nan_color` %s\" % (extra_factors, self.nan_color))\n"
     ]
    }
   ],
   "source": [
    "##Avg Air Quality Index for Particulate Matter over the years in San Francisco\n",
    "\n",
    "QUERY = \"\"\"\n",
    "    SELECT\n",
    "        EXTRACT(YEAR FROM date_local) as year,\n",
    "        avg(aqi) as avg_aqi\n",
    "    FROM\n",
    "      `bigquery-public-data.epa_historical_air_quality.pm25_frm_daily_summary`\n",
    "    WHERE\n",
    "       state_name =\"California\" AND city_name=\"San Francisco\"\n",
    "    GROUP BY year\n",
    "    ORDER BY year ASC\n",
    "        \"\"\"\n",
    "df_pm25 = bq_assistant.query_to_pandas(QUERY)\n",
    "\n",
    "df_pm25.year = df_pm25.year.astype(str)\n",
    "\n",
    "## Reference https://bokeh.pydata.org/en/latest/docs/user_guide/categorical.html\n",
    "## Bar graph\n",
    "output_file('average_aqi_pm25_over_the_years.html')\n",
    "\n",
    "source = ColumnDataSource(df_pm25)\n",
    "years = source.data['year'].tolist()\n",
    "p = figure(x_range=years, plot_width=1200, plot_height=800)\n",
    "\n",
    "color_map = factor_cmap(field_name='year', palette=Spectral6, factors=years)\n",
    "\n",
    "p.vbar(x='year', top='avg_aqi', source=source, width=0.90)\n",
    "\n",
    "p.title.text ='Average AQI of Particulate Matter in different years'\n",
    "p.xaxis.axis_label = 'Years'\n",
    "p.yaxis.axis_label = \"Average AQI of Particulate Matter\"\n",
    "\n",
    "show(p)\n"
   ]
  },
  {
   "cell_type": "code",
   "execution_count": 178,
   "metadata": {},
   "outputs": [],
   "source": [
    "## RENAME THE COLUMNS OF THE 4 DFS \n",
    "## https://stackoverflow.com/questions/11346283/renaming-columns-in-pandas\n",
    "df_co.rename(columns={'avg_aqi': 'avg_aqi_CO'},inplace=True)\n",
    "df_no2.rename(columns={'avg_aqi': 'avg_aqi_NO2'},inplace=True)\n",
    "df_o3.rename(columns={'avg_aqi': 'avg_aqi_O3'},inplace=True)\n",
    "df_so2.rename(columns={'avg_aqi': 'avg_aqi_SO2'},inplace=True)\n",
    "df_pm25.rename(columns={'avg_aqi': 'avg_aqi_PM25'},inplace=True)"
   ]
  },
  {
   "cell_type": "markdown",
   "metadata": {},
   "source": [
    "# Compare the Time Series Graphs of all the 5  "
   ]
  },
  {
   "cell_type": "code",
   "execution_count": 179,
   "metadata": {},
   "outputs": [],
   "source": [
    "## Combine the dataframes ie all 3\n",
    "from functools import reduce\n",
    "\n",
    "## Reference: https://stackoverflow.com/questions/23668427/pandas-three-way-joining-multiple-dataframes-on-columns\n",
    "frames=[df_co,df_no2,df_o3]\n",
    "df_final = reduce(lambda left,right: pd.merge(left,right,on='year'), frames)\n"
   ]
  },
  {
   "cell_type": "code",
   "execution_count": 180,
   "metadata": {},
   "outputs": [
    {
     "data": {
      "text/html": [
       "<div>\n",
       "<style scoped>\n",
       "    .dataframe tbody tr th:only-of-type {\n",
       "        vertical-align: middle;\n",
       "    }\n",
       "\n",
       "    .dataframe tbody tr th {\n",
       "        vertical-align: top;\n",
       "    }\n",
       "\n",
       "    .dataframe thead th {\n",
       "        text-align: right;\n",
       "    }\n",
       "</style>\n",
       "<table border=\"1\" class=\"dataframe\">\n",
       "  <thead>\n",
       "    <tr style=\"text-align: right;\">\n",
       "      <th></th>\n",
       "      <th>year</th>\n",
       "      <th>avg_aqi_CO</th>\n",
       "      <th>avg_aqi_NO2</th>\n",
       "      <th>avg_aqi_O3</th>\n",
       "    </tr>\n",
       "  </thead>\n",
       "  <tbody>\n",
       "    <tr>\n",
       "      <th>0</th>\n",
       "      <td>1990</td>\n",
       "      <td>26.142462</td>\n",
       "      <td>33.198795</td>\n",
       "      <td>16.027473</td>\n",
       "    </tr>\n",
       "    <tr>\n",
       "      <th>1</th>\n",
       "      <td>1991</td>\n",
       "      <td>25.517808</td>\n",
       "      <td>36.589041</td>\n",
       "      <td>16.876033</td>\n",
       "    </tr>\n",
       "    <tr>\n",
       "      <th>2</th>\n",
       "      <td>1992</td>\n",
       "      <td>23.959016</td>\n",
       "      <td>32.331507</td>\n",
       "      <td>17.707521</td>\n",
       "    </tr>\n",
       "    <tr>\n",
       "      <th>3</th>\n",
       "      <td>1993</td>\n",
       "      <td>21.395890</td>\n",
       "      <td>34.211594</td>\n",
       "      <td>17.424658</td>\n",
       "    </tr>\n",
       "    <tr>\n",
       "      <th>4</th>\n",
       "      <td>1994</td>\n",
       "      <td>17.242678</td>\n",
       "      <td>32.905292</td>\n",
       "      <td>17.675978</td>\n",
       "    </tr>\n",
       "    <tr>\n",
       "      <th>5</th>\n",
       "      <td>1995</td>\n",
       "      <td>16.334247</td>\n",
       "      <td>32.299451</td>\n",
       "      <td>22.506849</td>\n",
       "    </tr>\n",
       "    <tr>\n",
       "      <th>6</th>\n",
       "      <td>1996</td>\n",
       "      <td>15.553279</td>\n",
       "      <td>32.713115</td>\n",
       "      <td>22.308743</td>\n",
       "    </tr>\n",
       "    <tr>\n",
       "      <th>7</th>\n",
       "      <td>1997</td>\n",
       "      <td>13.957534</td>\n",
       "      <td>30.379501</td>\n",
       "      <td>20.465753</td>\n",
       "    </tr>\n",
       "    <tr>\n",
       "      <th>8</th>\n",
       "      <td>1998</td>\n",
       "      <td>13.384615</td>\n",
       "      <td>29.945205</td>\n",
       "      <td>21.254795</td>\n",
       "    </tr>\n",
       "    <tr>\n",
       "      <th>9</th>\n",
       "      <td>1999</td>\n",
       "      <td>13.869863</td>\n",
       "      <td>32.112329</td>\n",
       "      <td>22.156164</td>\n",
       "    </tr>\n",
       "    <tr>\n",
       "      <th>10</th>\n",
       "      <td>2000</td>\n",
       "      <td>12.170096</td>\n",
       "      <td>30.336986</td>\n",
       "      <td>19.504110</td>\n",
       "    </tr>\n",
       "    <tr>\n",
       "      <th>11</th>\n",
       "      <td>2001</td>\n",
       "      <td>11.941096</td>\n",
       "      <td>29.638356</td>\n",
       "      <td>21.505495</td>\n",
       "    </tr>\n",
       "    <tr>\n",
       "      <th>12</th>\n",
       "      <td>2002</td>\n",
       "      <td>11.082873</td>\n",
       "      <td>28.371901</td>\n",
       "      <td>22.585165</td>\n",
       "    </tr>\n",
       "    <tr>\n",
       "      <th>13</th>\n",
       "      <td>2003</td>\n",
       "      <td>10.524138</td>\n",
       "      <td>28.526027</td>\n",
       "      <td>22.586301</td>\n",
       "    </tr>\n",
       "    <tr>\n",
       "      <th>14</th>\n",
       "      <td>2004</td>\n",
       "      <td>8.167382</td>\n",
       "      <td>24.888686</td>\n",
       "      <td>22.873016</td>\n",
       "    </tr>\n",
       "    <tr>\n",
       "      <th>15</th>\n",
       "      <td>2005</td>\n",
       "      <td>7.437500</td>\n",
       "      <td>23.783019</td>\n",
       "      <td>23.364151</td>\n",
       "    </tr>\n",
       "    <tr>\n",
       "      <th>16</th>\n",
       "      <td>2006</td>\n",
       "      <td>7.835616</td>\n",
       "      <td>27.934247</td>\n",
       "      <td>23.583562</td>\n",
       "    </tr>\n",
       "    <tr>\n",
       "      <th>17</th>\n",
       "      <td>2007</td>\n",
       "      <td>6.742466</td>\n",
       "      <td>26.452055</td>\n",
       "      <td>22.914835</td>\n",
       "    </tr>\n",
       "    <tr>\n",
       "      <th>18</th>\n",
       "      <td>2008</td>\n",
       "      <td>6.595628</td>\n",
       "      <td>27.021858</td>\n",
       "      <td>24.330601</td>\n",
       "    </tr>\n",
       "    <tr>\n",
       "      <th>19</th>\n",
       "      <td>2009</td>\n",
       "      <td>5.065753</td>\n",
       "      <td>25.843836</td>\n",
       "      <td>24.761644</td>\n",
       "    </tr>\n",
       "    <tr>\n",
       "      <th>20</th>\n",
       "      <td>2010</td>\n",
       "      <td>3.487671</td>\n",
       "      <td>25.469613</td>\n",
       "      <td>24.076712</td>\n",
       "    </tr>\n",
       "    <tr>\n",
       "      <th>21</th>\n",
       "      <td>2011</td>\n",
       "      <td>4.065753</td>\n",
       "      <td>28.684211</td>\n",
       "      <td>23.632877</td>\n",
       "    </tr>\n",
       "    <tr>\n",
       "      <th>22</th>\n",
       "      <td>2012</td>\n",
       "      <td>5.782967</td>\n",
       "      <td>24.060440</td>\n",
       "      <td>26.641873</td>\n",
       "    </tr>\n",
       "    <tr>\n",
       "      <th>23</th>\n",
       "      <td>2013</td>\n",
       "      <td>5.767123</td>\n",
       "      <td>24.821918</td>\n",
       "      <td>24.287671</td>\n",
       "    </tr>\n",
       "    <tr>\n",
       "      <th>24</th>\n",
       "      <td>2014</td>\n",
       "      <td>5.421918</td>\n",
       "      <td>22.528767</td>\n",
       "      <td>25.887671</td>\n",
       "    </tr>\n",
       "    <tr>\n",
       "      <th>25</th>\n",
       "      <td>2015</td>\n",
       "      <td>5.841096</td>\n",
       "      <td>22.435616</td>\n",
       "      <td>26.541209</td>\n",
       "    </tr>\n",
       "    <tr>\n",
       "      <th>26</th>\n",
       "      <td>2016</td>\n",
       "      <td>5.581967</td>\n",
       "      <td>19.991781</td>\n",
       "      <td>26.358904</td>\n",
       "    </tr>\n",
       "    <tr>\n",
       "      <th>27</th>\n",
       "      <td>2017</td>\n",
       "      <td>5.771978</td>\n",
       "      <td>22.120548</td>\n",
       "      <td>26.582418</td>\n",
       "    </tr>\n",
       "  </tbody>\n",
       "</table>\n",
       "</div>"
      ],
      "text/plain": [
       "    year  avg_aqi_CO  avg_aqi_NO2  avg_aqi_O3\n",
       "0   1990   26.142462    33.198795   16.027473\n",
       "1   1991   25.517808    36.589041   16.876033\n",
       "2   1992   23.959016    32.331507   17.707521\n",
       "3   1993   21.395890    34.211594   17.424658\n",
       "4   1994   17.242678    32.905292   17.675978\n",
       "5   1995   16.334247    32.299451   22.506849\n",
       "6   1996   15.553279    32.713115   22.308743\n",
       "7   1997   13.957534    30.379501   20.465753\n",
       "8   1998   13.384615    29.945205   21.254795\n",
       "9   1999   13.869863    32.112329   22.156164\n",
       "10  2000   12.170096    30.336986   19.504110\n",
       "11  2001   11.941096    29.638356   21.505495\n",
       "12  2002   11.082873    28.371901   22.585165\n",
       "13  2003   10.524138    28.526027   22.586301\n",
       "14  2004    8.167382    24.888686   22.873016\n",
       "15  2005    7.437500    23.783019   23.364151\n",
       "16  2006    7.835616    27.934247   23.583562\n",
       "17  2007    6.742466    26.452055   22.914835\n",
       "18  2008    6.595628    27.021858   24.330601\n",
       "19  2009    5.065753    25.843836   24.761644\n",
       "20  2010    3.487671    25.469613   24.076712\n",
       "21  2011    4.065753    28.684211   23.632877\n",
       "22  2012    5.782967    24.060440   26.641873\n",
       "23  2013    5.767123    24.821918   24.287671\n",
       "24  2014    5.421918    22.528767   25.887671\n",
       "25  2015    5.841096    22.435616   26.541209\n",
       "26  2016    5.581967    19.991781   26.358904\n",
       "27  2017    5.771978    22.120548   26.582418"
      ]
     },
     "execution_count": 180,
     "metadata": {},
     "output_type": "execute_result"
    }
   ],
   "source": [
    "df_final"
   ]
  },
  {
   "cell_type": "code",
   "execution_count": 181,
   "metadata": {},
   "outputs": [],
   "source": [
    "colors = ['red', 'blue', 'green']\n",
    "labels=['CARBON MONOXIDE','NITROGEN DIOXIDE','OZONE']\n",
    "\n",
    "cols=df_final.columns.tolist()\n",
    "cols.remove('year')"
   ]
  },
  {
   "cell_type": "code",
   "execution_count": 182,
   "metadata": {},
   "outputs": [],
   "source": [
    "output_file('COMPARISON_AQI.html')\n",
    "\n",
    "##https://www.geeksforgeeks.org/python-iterate-multiple-lists-simultaneously/\n",
    "l = figure(title=\"COMPARISON OF AQI OF DIFFERENT GASES FROM 1990 TO 2017\", logo=None,width=1000, height=500)\n",
    "\n",
    "for color,label,col in zip(colors, labels, cols):\n",
    "    source = ColumnDataSource(data=dict(x=df_final['year'].tolist(), y=df_final[col].tolist())) \n",
    "    l.line(x='x',y='y',source=source, legend=label, color=color,line_width=5)\n",
    "\n",
    "source = ColumnDataSource(data=dict(x=df_so2['year'].tolist(), y=df_so2['avg_aqi_SO2'].tolist()))\n",
    "l.line(x='x',y='y',source=source, legend='SULPHUR DIOXIDE', color=\"magenta\",line_width=5)\n",
    "\n",
    "source = ColumnDataSource(data=dict(x=df_pm25['year'].tolist(), y=df_pm25['avg_aqi_PM25'].tolist()))\n",
    "l.line(x='x',y='y',source=source, legend='PARTICULATE MATTER', color=\"indigo\",line_width=5)\n",
    "\n",
    "l.xaxis.axis_label = 'YEAR'\n",
    "l.yaxis.axis_label = \"AVERAGE AQI\"\n",
    "l.title.text ='Comparison of AQI of CO,O3,NO2,SO2 AND PM'\n",
    "\n",
    "l.legend.location = \"top_right\"\n",
    "l.legend.click_policy=\"hide\"\n",
    "\n",
    "show(l)"
   ]
  },
  {
   "cell_type": "markdown",
   "metadata": {},
   "source": [
    "DONT GO BEYOND THIS FOR NOW"
   ]
  },
  {
   "cell_type": "code",
   "execution_count": 183,
   "metadata": {},
   "outputs": [
    {
     "data": {
      "text/html": [
       "<div>\n",
       "<style scoped>\n",
       "    .dataframe tbody tr th:only-of-type {\n",
       "        vertical-align: middle;\n",
       "    }\n",
       "\n",
       "    .dataframe tbody tr th {\n",
       "        vertical-align: top;\n",
       "    }\n",
       "\n",
       "    .dataframe thead th {\n",
       "        text-align: right;\n",
       "    }\n",
       "</style>\n",
       "<table border=\"1\" class=\"dataframe\">\n",
       "  <thead>\n",
       "    <tr style=\"text-align: right;\">\n",
       "      <th></th>\n",
       "      <th>year</th>\n",
       "      <th>avg_aqi_CO</th>\n",
       "      <th>avg_aqi_NO2</th>\n",
       "      <th>avg_aqi_O3</th>\n",
       "      <th>avg_aqi_SO2</th>\n",
       "      <th>avg_aqi_PM25</th>\n",
       "    </tr>\n",
       "  </thead>\n",
       "  <tbody>\n",
       "    <tr>\n",
       "      <th>0</th>\n",
       "      <td>1990</td>\n",
       "      <td>26.142462</td>\n",
       "      <td>33.198795</td>\n",
       "      <td>16.027473</td>\n",
       "      <td>6.430986</td>\n",
       "      <td>NaN</td>\n",
       "    </tr>\n",
       "    <tr>\n",
       "      <th>1</th>\n",
       "      <td>1991</td>\n",
       "      <td>25.517808</td>\n",
       "      <td>36.589041</td>\n",
       "      <td>16.876033</td>\n",
       "      <td>7.328221</td>\n",
       "      <td>NaN</td>\n",
       "    </tr>\n",
       "    <tr>\n",
       "      <th>2</th>\n",
       "      <td>1992</td>\n",
       "      <td>23.959016</td>\n",
       "      <td>32.331507</td>\n",
       "      <td>17.707521</td>\n",
       "      <td>7.445355</td>\n",
       "      <td>NaN</td>\n",
       "    </tr>\n",
       "    <tr>\n",
       "      <th>3</th>\n",
       "      <td>1993</td>\n",
       "      <td>21.395890</td>\n",
       "      <td>34.211594</td>\n",
       "      <td>17.424658</td>\n",
       "      <td>6.323288</td>\n",
       "      <td>NaN</td>\n",
       "    </tr>\n",
       "    <tr>\n",
       "      <th>4</th>\n",
       "      <td>1994</td>\n",
       "      <td>17.242678</td>\n",
       "      <td>32.905292</td>\n",
       "      <td>17.675978</td>\n",
       "      <td>3.515320</td>\n",
       "      <td>NaN</td>\n",
       "    </tr>\n",
       "    <tr>\n",
       "      <th>5</th>\n",
       "      <td>1995</td>\n",
       "      <td>16.334247</td>\n",
       "      <td>32.299451</td>\n",
       "      <td>22.506849</td>\n",
       "      <td>5.591781</td>\n",
       "      <td>NaN</td>\n",
       "    </tr>\n",
       "    <tr>\n",
       "      <th>6</th>\n",
       "      <td>1996</td>\n",
       "      <td>15.553279</td>\n",
       "      <td>32.713115</td>\n",
       "      <td>22.308743</td>\n",
       "      <td>4.879781</td>\n",
       "      <td>NaN</td>\n",
       "    </tr>\n",
       "    <tr>\n",
       "      <th>7</th>\n",
       "      <td>1997</td>\n",
       "      <td>13.957534</td>\n",
       "      <td>30.379501</td>\n",
       "      <td>20.465753</td>\n",
       "      <td>4.806094</td>\n",
       "      <td>NaN</td>\n",
       "    </tr>\n",
       "    <tr>\n",
       "      <th>8</th>\n",
       "      <td>1998</td>\n",
       "      <td>13.384615</td>\n",
       "      <td>29.945205</td>\n",
       "      <td>21.254795</td>\n",
       "      <td>4.076712</td>\n",
       "      <td>NaN</td>\n",
       "    </tr>\n",
       "    <tr>\n",
       "      <th>9</th>\n",
       "      <td>1999</td>\n",
       "      <td>13.869863</td>\n",
       "      <td>32.112329</td>\n",
       "      <td>22.156164</td>\n",
       "      <td>6.038356</td>\n",
       "      <td>55.623529</td>\n",
       "    </tr>\n",
       "    <tr>\n",
       "      <th>10</th>\n",
       "      <td>2000</td>\n",
       "      <td>12.170096</td>\n",
       "      <td>30.336986</td>\n",
       "      <td>19.504110</td>\n",
       "      <td>6.046448</td>\n",
       "      <td>47.931579</td>\n",
       "    </tr>\n",
       "    <tr>\n",
       "      <th>11</th>\n",
       "      <td>2001</td>\n",
       "      <td>11.941096</td>\n",
       "      <td>29.638356</td>\n",
       "      <td>21.505495</td>\n",
       "      <td>5.731507</td>\n",
       "      <td>46.364103</td>\n",
       "    </tr>\n",
       "    <tr>\n",
       "      <th>12</th>\n",
       "      <td>2002</td>\n",
       "      <td>11.082873</td>\n",
       "      <td>28.371901</td>\n",
       "      <td>22.585165</td>\n",
       "      <td>5.860274</td>\n",
       "      <td>51.683673</td>\n",
       "    </tr>\n",
       "    <tr>\n",
       "      <th>13</th>\n",
       "      <td>2003</td>\n",
       "      <td>10.524138</td>\n",
       "      <td>28.526027</td>\n",
       "      <td>22.586301</td>\n",
       "      <td>6.060274</td>\n",
       "      <td>41.767677</td>\n",
       "    </tr>\n",
       "    <tr>\n",
       "      <th>14</th>\n",
       "      <td>2004</td>\n",
       "      <td>8.167382</td>\n",
       "      <td>24.888686</td>\n",
       "      <td>22.873016</td>\n",
       "      <td>6.354093</td>\n",
       "      <td>42.447761</td>\n",
       "    </tr>\n",
       "    <tr>\n",
       "      <th>15</th>\n",
       "      <td>2005</td>\n",
       "      <td>7.437500</td>\n",
       "      <td>23.783019</td>\n",
       "      <td>23.364151</td>\n",
       "      <td>4.468809</td>\n",
       "      <td>40.504950</td>\n",
       "    </tr>\n",
       "    <tr>\n",
       "      <th>16</th>\n",
       "      <td>2006</td>\n",
       "      <td>7.835616</td>\n",
       "      <td>27.934247</td>\n",
       "      <td>23.583562</td>\n",
       "      <td>5.246575</td>\n",
       "      <td>39.531401</td>\n",
       "    </tr>\n",
       "    <tr>\n",
       "      <th>17</th>\n",
       "      <td>2007</td>\n",
       "      <td>6.742466</td>\n",
       "      <td>26.452055</td>\n",
       "      <td>22.914835</td>\n",
       "      <td>3.778082</td>\n",
       "      <td>37.655814</td>\n",
       "    </tr>\n",
       "    <tr>\n",
       "      <th>18</th>\n",
       "      <td>2008</td>\n",
       "      <td>6.595628</td>\n",
       "      <td>27.021858</td>\n",
       "      <td>24.330601</td>\n",
       "      <td>4.030137</td>\n",
       "      <td>38.510000</td>\n",
       "    </tr>\n",
       "    <tr>\n",
       "      <th>19</th>\n",
       "      <td>2009</td>\n",
       "      <td>5.065753</td>\n",
       "      <td>25.843836</td>\n",
       "      <td>24.761644</td>\n",
       "      <td>NaN</td>\n",
       "      <td>44.125828</td>\n",
       "    </tr>\n",
       "    <tr>\n",
       "      <th>20</th>\n",
       "      <td>2010</td>\n",
       "      <td>3.487671</td>\n",
       "      <td>25.469613</td>\n",
       "      <td>24.076712</td>\n",
       "      <td>NaN</td>\n",
       "      <td>40.602817</td>\n",
       "    </tr>\n",
       "    <tr>\n",
       "      <th>21</th>\n",
       "      <td>2011</td>\n",
       "      <td>4.065753</td>\n",
       "      <td>28.684211</td>\n",
       "      <td>23.632877</td>\n",
       "      <td>NaN</td>\n",
       "      <td>36.675000</td>\n",
       "    </tr>\n",
       "    <tr>\n",
       "      <th>22</th>\n",
       "      <td>2012</td>\n",
       "      <td>5.782967</td>\n",
       "      <td>24.060440</td>\n",
       "      <td>26.641873</td>\n",
       "      <td>NaN</td>\n",
       "      <td>32.385965</td>\n",
       "    </tr>\n",
       "    <tr>\n",
       "      <th>23</th>\n",
       "      <td>2013</td>\n",
       "      <td>5.767123</td>\n",
       "      <td>24.821918</td>\n",
       "      <td>24.287671</td>\n",
       "      <td>NaN</td>\n",
       "      <td>38.773371</td>\n",
       "    </tr>\n",
       "    <tr>\n",
       "      <th>24</th>\n",
       "      <td>2014</td>\n",
       "      <td>5.421918</td>\n",
       "      <td>22.528767</td>\n",
       "      <td>25.887671</td>\n",
       "      <td>NaN</td>\n",
       "      <td>30.768802</td>\n",
       "    </tr>\n",
       "    <tr>\n",
       "      <th>25</th>\n",
       "      <td>2015</td>\n",
       "      <td>5.841096</td>\n",
       "      <td>22.435616</td>\n",
       "      <td>26.541209</td>\n",
       "      <td>NaN</td>\n",
       "      <td>29.985994</td>\n",
       "    </tr>\n",
       "    <tr>\n",
       "      <th>26</th>\n",
       "      <td>2016</td>\n",
       "      <td>5.581967</td>\n",
       "      <td>19.991781</td>\n",
       "      <td>26.358904</td>\n",
       "      <td>NaN</td>\n",
       "      <td>31.100575</td>\n",
       "    </tr>\n",
       "    <tr>\n",
       "      <th>27</th>\n",
       "      <td>2017</td>\n",
       "      <td>5.771978</td>\n",
       "      <td>22.120548</td>\n",
       "      <td>26.582418</td>\n",
       "      <td>NaN</td>\n",
       "      <td>36.824022</td>\n",
       "    </tr>\n",
       "  </tbody>\n",
       "</table>\n",
       "</div>"
      ],
      "text/plain": [
       "    year  avg_aqi_CO  avg_aqi_NO2  avg_aqi_O3  avg_aqi_SO2  avg_aqi_PM25\n",
       "0   1990   26.142462    33.198795   16.027473     6.430986           NaN\n",
       "1   1991   25.517808    36.589041   16.876033     7.328221           NaN\n",
       "2   1992   23.959016    32.331507   17.707521     7.445355           NaN\n",
       "3   1993   21.395890    34.211594   17.424658     6.323288           NaN\n",
       "4   1994   17.242678    32.905292   17.675978     3.515320           NaN\n",
       "5   1995   16.334247    32.299451   22.506849     5.591781           NaN\n",
       "6   1996   15.553279    32.713115   22.308743     4.879781           NaN\n",
       "7   1997   13.957534    30.379501   20.465753     4.806094           NaN\n",
       "8   1998   13.384615    29.945205   21.254795     4.076712           NaN\n",
       "9   1999   13.869863    32.112329   22.156164     6.038356     55.623529\n",
       "10  2000   12.170096    30.336986   19.504110     6.046448     47.931579\n",
       "11  2001   11.941096    29.638356   21.505495     5.731507     46.364103\n",
       "12  2002   11.082873    28.371901   22.585165     5.860274     51.683673\n",
       "13  2003   10.524138    28.526027   22.586301     6.060274     41.767677\n",
       "14  2004    8.167382    24.888686   22.873016     6.354093     42.447761\n",
       "15  2005    7.437500    23.783019   23.364151     4.468809     40.504950\n",
       "16  2006    7.835616    27.934247   23.583562     5.246575     39.531401\n",
       "17  2007    6.742466    26.452055   22.914835     3.778082     37.655814\n",
       "18  2008    6.595628    27.021858   24.330601     4.030137     38.510000\n",
       "19  2009    5.065753    25.843836   24.761644          NaN     44.125828\n",
       "20  2010    3.487671    25.469613   24.076712          NaN     40.602817\n",
       "21  2011    4.065753    28.684211   23.632877          NaN     36.675000\n",
       "22  2012    5.782967    24.060440   26.641873          NaN     32.385965\n",
       "23  2013    5.767123    24.821918   24.287671          NaN     38.773371\n",
       "24  2014    5.421918    22.528767   25.887671          NaN     30.768802\n",
       "25  2015    5.841096    22.435616   26.541209          NaN     29.985994\n",
       "26  2016    5.581967    19.991781   26.358904          NaN     31.100575\n",
       "27  2017    5.771978    22.120548   26.582418          NaN     36.824022"
      ]
     },
     "execution_count": 183,
     "metadata": {},
     "output_type": "execute_result"
    }
   ],
   "source": [
    "result = pd.merge(df_final, df_so2, how='left', on='year')\n",
    "df_merged = pd.merge(result, df_pm25, how='left', on='year')\n",
    "df_merged"
   ]
  },
  {
   "cell_type": "markdown",
   "metadata": {},
   "source": [
    "Impute missing values in so2 and pm25"
   ]
  },
  {
   "cell_type": "code",
   "execution_count": 184,
   "metadata": {},
   "outputs": [],
   "source": [
    "from sklearn.preprocessing import Imputer\n",
    "\n",
    "imp=Imputer(missing_values='NaN',strategy='mean')\n",
    "\n",
    "## replace missing values in aqi and method code with mean\n",
    "df_merged[\"avg_aqi_SO2\"]=imp.fit_transform(df_merged[[\"avg_aqi_SO2\"]]).ravel()\n",
    "df_merged[\"avg_aqi_PM25\"]=imp.fit_transform(df_merged[[\"avg_aqi_PM25\"]]).ravel()\n"
   ]
  },
  {
   "cell_type": "code",
   "execution_count": 185,
   "metadata": {},
   "outputs": [
    {
     "data": {
      "text/html": [
       "<div>\n",
       "<style scoped>\n",
       "    .dataframe tbody tr th:only-of-type {\n",
       "        vertical-align: middle;\n",
       "    }\n",
       "\n",
       "    .dataframe tbody tr th {\n",
       "        vertical-align: top;\n",
       "    }\n",
       "\n",
       "    .dataframe thead th {\n",
       "        text-align: right;\n",
       "    }\n",
       "</style>\n",
       "<table border=\"1\" class=\"dataframe\">\n",
       "  <thead>\n",
       "    <tr style=\"text-align: right;\">\n",
       "      <th></th>\n",
       "      <th>year</th>\n",
       "      <th>avg_aqi_CO</th>\n",
       "      <th>avg_aqi_NO2</th>\n",
       "      <th>avg_aqi_O3</th>\n",
       "      <th>avg_aqi_SO2</th>\n",
       "      <th>avg_aqi_PM25</th>\n",
       "    </tr>\n",
       "  </thead>\n",
       "  <tbody>\n",
       "    <tr>\n",
       "      <th>0</th>\n",
       "      <td>1990</td>\n",
       "      <td>26.142462</td>\n",
       "      <td>33.198795</td>\n",
       "      <td>16.027473</td>\n",
       "      <td>6.430986</td>\n",
       "      <td>40.171730</td>\n",
       "    </tr>\n",
       "    <tr>\n",
       "      <th>1</th>\n",
       "      <td>1991</td>\n",
       "      <td>25.517808</td>\n",
       "      <td>36.589041</td>\n",
       "      <td>16.876033</td>\n",
       "      <td>7.328221</td>\n",
       "      <td>40.171730</td>\n",
       "    </tr>\n",
       "    <tr>\n",
       "      <th>2</th>\n",
       "      <td>1992</td>\n",
       "      <td>23.959016</td>\n",
       "      <td>32.331507</td>\n",
       "      <td>17.707521</td>\n",
       "      <td>7.445355</td>\n",
       "      <td>40.171730</td>\n",
       "    </tr>\n",
       "    <tr>\n",
       "      <th>3</th>\n",
       "      <td>1993</td>\n",
       "      <td>21.395890</td>\n",
       "      <td>34.211594</td>\n",
       "      <td>17.424658</td>\n",
       "      <td>6.323288</td>\n",
       "      <td>40.171730</td>\n",
       "    </tr>\n",
       "    <tr>\n",
       "      <th>4</th>\n",
       "      <td>1994</td>\n",
       "      <td>17.242678</td>\n",
       "      <td>32.905292</td>\n",
       "      <td>17.675978</td>\n",
       "      <td>3.515320</td>\n",
       "      <td>40.171730</td>\n",
       "    </tr>\n",
       "    <tr>\n",
       "      <th>5</th>\n",
       "      <td>1995</td>\n",
       "      <td>16.334247</td>\n",
       "      <td>32.299451</td>\n",
       "      <td>22.506849</td>\n",
       "      <td>5.591781</td>\n",
       "      <td>40.171730</td>\n",
       "    </tr>\n",
       "    <tr>\n",
       "      <th>6</th>\n",
       "      <td>1996</td>\n",
       "      <td>15.553279</td>\n",
       "      <td>32.713115</td>\n",
       "      <td>22.308743</td>\n",
       "      <td>4.879781</td>\n",
       "      <td>40.171730</td>\n",
       "    </tr>\n",
       "    <tr>\n",
       "      <th>7</th>\n",
       "      <td>1997</td>\n",
       "      <td>13.957534</td>\n",
       "      <td>30.379501</td>\n",
       "      <td>20.465753</td>\n",
       "      <td>4.806094</td>\n",
       "      <td>40.171730</td>\n",
       "    </tr>\n",
       "    <tr>\n",
       "      <th>8</th>\n",
       "      <td>1998</td>\n",
       "      <td>13.384615</td>\n",
       "      <td>29.945205</td>\n",
       "      <td>21.254795</td>\n",
       "      <td>4.076712</td>\n",
       "      <td>40.171730</td>\n",
       "    </tr>\n",
       "    <tr>\n",
       "      <th>9</th>\n",
       "      <td>1999</td>\n",
       "      <td>13.869863</td>\n",
       "      <td>32.112329</td>\n",
       "      <td>22.156164</td>\n",
       "      <td>6.038356</td>\n",
       "      <td>55.623529</td>\n",
       "    </tr>\n",
       "    <tr>\n",
       "      <th>10</th>\n",
       "      <td>2000</td>\n",
       "      <td>12.170096</td>\n",
       "      <td>30.336986</td>\n",
       "      <td>19.504110</td>\n",
       "      <td>6.046448</td>\n",
       "      <td>47.931579</td>\n",
       "    </tr>\n",
       "    <tr>\n",
       "      <th>11</th>\n",
       "      <td>2001</td>\n",
       "      <td>11.941096</td>\n",
       "      <td>29.638356</td>\n",
       "      <td>21.505495</td>\n",
       "      <td>5.731507</td>\n",
       "      <td>46.364103</td>\n",
       "    </tr>\n",
       "    <tr>\n",
       "      <th>12</th>\n",
       "      <td>2002</td>\n",
       "      <td>11.082873</td>\n",
       "      <td>28.371901</td>\n",
       "      <td>22.585165</td>\n",
       "      <td>5.860274</td>\n",
       "      <td>51.683673</td>\n",
       "    </tr>\n",
       "    <tr>\n",
       "      <th>13</th>\n",
       "      <td>2003</td>\n",
       "      <td>10.524138</td>\n",
       "      <td>28.526027</td>\n",
       "      <td>22.586301</td>\n",
       "      <td>6.060274</td>\n",
       "      <td>41.767677</td>\n",
       "    </tr>\n",
       "    <tr>\n",
       "      <th>14</th>\n",
       "      <td>2004</td>\n",
       "      <td>8.167382</td>\n",
       "      <td>24.888686</td>\n",
       "      <td>22.873016</td>\n",
       "      <td>6.354093</td>\n",
       "      <td>42.447761</td>\n",
       "    </tr>\n",
       "    <tr>\n",
       "      <th>15</th>\n",
       "      <td>2005</td>\n",
       "      <td>7.437500</td>\n",
       "      <td>23.783019</td>\n",
       "      <td>23.364151</td>\n",
       "      <td>4.468809</td>\n",
       "      <td>40.504950</td>\n",
       "    </tr>\n",
       "    <tr>\n",
       "      <th>16</th>\n",
       "      <td>2006</td>\n",
       "      <td>7.835616</td>\n",
       "      <td>27.934247</td>\n",
       "      <td>23.583562</td>\n",
       "      <td>5.246575</td>\n",
       "      <td>39.531401</td>\n",
       "    </tr>\n",
       "    <tr>\n",
       "      <th>17</th>\n",
       "      <td>2007</td>\n",
       "      <td>6.742466</td>\n",
       "      <td>26.452055</td>\n",
       "      <td>22.914835</td>\n",
       "      <td>3.778082</td>\n",
       "      <td>37.655814</td>\n",
       "    </tr>\n",
       "    <tr>\n",
       "      <th>18</th>\n",
       "      <td>2008</td>\n",
       "      <td>6.595628</td>\n",
       "      <td>27.021858</td>\n",
       "      <td>24.330601</td>\n",
       "      <td>4.030137</td>\n",
       "      <td>38.510000</td>\n",
       "    </tr>\n",
       "    <tr>\n",
       "      <th>19</th>\n",
       "      <td>2009</td>\n",
       "      <td>5.065753</td>\n",
       "      <td>25.843836</td>\n",
       "      <td>24.761644</td>\n",
       "      <td>5.474321</td>\n",
       "      <td>44.125828</td>\n",
       "    </tr>\n",
       "    <tr>\n",
       "      <th>20</th>\n",
       "      <td>2010</td>\n",
       "      <td>3.487671</td>\n",
       "      <td>25.469613</td>\n",
       "      <td>24.076712</td>\n",
       "      <td>5.474321</td>\n",
       "      <td>40.602817</td>\n",
       "    </tr>\n",
       "    <tr>\n",
       "      <th>21</th>\n",
       "      <td>2011</td>\n",
       "      <td>4.065753</td>\n",
       "      <td>28.684211</td>\n",
       "      <td>23.632877</td>\n",
       "      <td>5.474321</td>\n",
       "      <td>36.675000</td>\n",
       "    </tr>\n",
       "    <tr>\n",
       "      <th>22</th>\n",
       "      <td>2012</td>\n",
       "      <td>5.782967</td>\n",
       "      <td>24.060440</td>\n",
       "      <td>26.641873</td>\n",
       "      <td>5.474321</td>\n",
       "      <td>32.385965</td>\n",
       "    </tr>\n",
       "    <tr>\n",
       "      <th>23</th>\n",
       "      <td>2013</td>\n",
       "      <td>5.767123</td>\n",
       "      <td>24.821918</td>\n",
       "      <td>24.287671</td>\n",
       "      <td>5.474321</td>\n",
       "      <td>38.773371</td>\n",
       "    </tr>\n",
       "    <tr>\n",
       "      <th>24</th>\n",
       "      <td>2014</td>\n",
       "      <td>5.421918</td>\n",
       "      <td>22.528767</td>\n",
       "      <td>25.887671</td>\n",
       "      <td>5.474321</td>\n",
       "      <td>30.768802</td>\n",
       "    </tr>\n",
       "    <tr>\n",
       "      <th>25</th>\n",
       "      <td>2015</td>\n",
       "      <td>5.841096</td>\n",
       "      <td>22.435616</td>\n",
       "      <td>26.541209</td>\n",
       "      <td>5.474321</td>\n",
       "      <td>29.985994</td>\n",
       "    </tr>\n",
       "    <tr>\n",
       "      <th>26</th>\n",
       "      <td>2016</td>\n",
       "      <td>5.581967</td>\n",
       "      <td>19.991781</td>\n",
       "      <td>26.358904</td>\n",
       "      <td>5.474321</td>\n",
       "      <td>31.100575</td>\n",
       "    </tr>\n",
       "    <tr>\n",
       "      <th>27</th>\n",
       "      <td>2017</td>\n",
       "      <td>5.771978</td>\n",
       "      <td>22.120548</td>\n",
       "      <td>26.582418</td>\n",
       "      <td>5.474321</td>\n",
       "      <td>36.824022</td>\n",
       "    </tr>\n",
       "  </tbody>\n",
       "</table>\n",
       "</div>"
      ],
      "text/plain": [
       "    year  avg_aqi_CO  avg_aqi_NO2  avg_aqi_O3  avg_aqi_SO2  avg_aqi_PM25\n",
       "0   1990   26.142462    33.198795   16.027473     6.430986     40.171730\n",
       "1   1991   25.517808    36.589041   16.876033     7.328221     40.171730\n",
       "2   1992   23.959016    32.331507   17.707521     7.445355     40.171730\n",
       "3   1993   21.395890    34.211594   17.424658     6.323288     40.171730\n",
       "4   1994   17.242678    32.905292   17.675978     3.515320     40.171730\n",
       "5   1995   16.334247    32.299451   22.506849     5.591781     40.171730\n",
       "6   1996   15.553279    32.713115   22.308743     4.879781     40.171730\n",
       "7   1997   13.957534    30.379501   20.465753     4.806094     40.171730\n",
       "8   1998   13.384615    29.945205   21.254795     4.076712     40.171730\n",
       "9   1999   13.869863    32.112329   22.156164     6.038356     55.623529\n",
       "10  2000   12.170096    30.336986   19.504110     6.046448     47.931579\n",
       "11  2001   11.941096    29.638356   21.505495     5.731507     46.364103\n",
       "12  2002   11.082873    28.371901   22.585165     5.860274     51.683673\n",
       "13  2003   10.524138    28.526027   22.586301     6.060274     41.767677\n",
       "14  2004    8.167382    24.888686   22.873016     6.354093     42.447761\n",
       "15  2005    7.437500    23.783019   23.364151     4.468809     40.504950\n",
       "16  2006    7.835616    27.934247   23.583562     5.246575     39.531401\n",
       "17  2007    6.742466    26.452055   22.914835     3.778082     37.655814\n",
       "18  2008    6.595628    27.021858   24.330601     4.030137     38.510000\n",
       "19  2009    5.065753    25.843836   24.761644     5.474321     44.125828\n",
       "20  2010    3.487671    25.469613   24.076712     5.474321     40.602817\n",
       "21  2011    4.065753    28.684211   23.632877     5.474321     36.675000\n",
       "22  2012    5.782967    24.060440   26.641873     5.474321     32.385965\n",
       "23  2013    5.767123    24.821918   24.287671     5.474321     38.773371\n",
       "24  2014    5.421918    22.528767   25.887671     5.474321     30.768802\n",
       "25  2015    5.841096    22.435616   26.541209     5.474321     29.985994\n",
       "26  2016    5.581967    19.991781   26.358904     5.474321     31.100575\n",
       "27  2017    5.771978    22.120548   26.582418     5.474321     36.824022"
      ]
     },
     "execution_count": 185,
     "metadata": {},
     "output_type": "execute_result"
    }
   ],
   "source": [
    "df_merged"
   ]
  },
  {
   "cell_type": "markdown",
   "metadata": {},
   "source": [
    "SF INCIDENTS DATABASE INCIDENTS PER YEAR"
   ]
  },
  {
   "cell_type": "code",
   "execution_count": 186,
   "metadata": {},
   "outputs": [],
   "source": [
    "query_sf=\"\"\" SELECT EXTRACT(YEAR FROM timestamp) as year,count(distinct unique_key) as no_of_incidents\n",
    "FROM `bigquery-public-data.san_francisco.sfpd_incidents`\n",
    "group by year\n",
    "order by year asc \n",
    "\"\"\"\n",
    "\n",
    "df_sf_incidents = bq_assistant.query_to_pandas(query_sf)\n"
   ]
  },
  {
   "cell_type": "code",
   "execution_count": 187,
   "metadata": {},
   "outputs": [],
   "source": [
    "df_sf_incidents.year = df_sf_incidents.year.astype(str)\n",
    "df_combined = pd.merge(df_merged, df_sf_incidents, how='left', on='year')\n"
   ]
  },
  {
   "cell_type": "code",
   "execution_count": 188,
   "metadata": {},
   "outputs": [],
   "source": [
    "df_combined[\"no_of_incidents\"]=imp.fit_transform(df_combined[[\"no_of_incidents\"]]).ravel()\n"
   ]
  },
  {
   "cell_type": "code",
   "execution_count": 190,
   "metadata": {},
   "outputs": [],
   "source": [
    "## Convert string object to int\n",
    "df_combined.year=df_combined['year'].astype(str).astype(int)"
   ]
  },
  {
   "cell_type": "markdown",
   "metadata": {},
   "source": [
    "Applying Regression"
   ]
  },
  {
   "cell_type": "code",
   "execution_count": 191,
   "metadata": {},
   "outputs": [],
   "source": [
    "\n",
    "## Serialize df to a pickle object\n",
    "## Skip every line above\n",
    "import pickle\n",
    "\n",
    "picle_out=open('df_merged_frame.pickle','wb')\n",
    "pickle.dump(df_combined,picle_out)\n",
    "picle_out.close()"
   ]
  },
  {
   "cell_type": "code",
   "execution_count": 192,
   "metadata": {},
   "outputs": [],
   "source": [
    "## Deserialize the pickle object to get back the data frame\n",
    "picle_in=open('df_merged_frame.pickle','rb')\n",
    "df=pickle.load(picle_in)"
   ]
  },
  {
   "cell_type": "code",
   "execution_count": 193,
   "metadata": {},
   "outputs": [
    {
     "data": {
      "text/plain": [
       "Index(['year', 'avg_aqi_CO', 'avg_aqi_NO2', 'avg_aqi_O3', 'avg_aqi_SO2',\n",
       "       'avg_aqi_PM25', 'no_of_incidents'],\n",
       "      dtype='object')"
      ]
     },
     "execution_count": 193,
     "metadata": {},
     "output_type": "execute_result"
    }
   ],
   "source": [
    "df.columns"
   ]
  },
  {
   "cell_type": "code",
   "execution_count": 194,
   "metadata": {},
   "outputs": [],
   "source": [
    "cols=['year', 'avg_aqi_CO', 'avg_aqi_NO2', 'avg_aqi_O3', 'avg_aqi_SO2',\n",
    "       'avg_aqi_PM25']"
   ]
  },
  {
   "cell_type": "code",
   "execution_count": 195,
   "metadata": {},
   "outputs": [],
   "source": [
    "X=df[cols]"
   ]
  },
  {
   "cell_type": "code",
   "execution_count": 196,
   "metadata": {},
   "outputs": [],
   "source": [
    "Y=df['no_of_incidents']"
   ]
  },
  {
   "cell_type": "code",
   "execution_count": 197,
   "metadata": {},
   "outputs": [
    {
     "data": {
      "text/plain": [
       "(28, 6)"
      ]
     },
     "execution_count": 197,
     "metadata": {},
     "output_type": "execute_result"
    }
   ],
   "source": [
    "X.shape"
   ]
  },
  {
   "cell_type": "code",
   "execution_count": 198,
   "metadata": {},
   "outputs": [
    {
     "data": {
      "text/plain": [
       "(28,)"
      ]
     },
     "execution_count": 198,
     "metadata": {},
     "output_type": "execute_result"
    }
   ],
   "source": [
    "Y.shape"
   ]
  },
  {
   "cell_type": "code",
   "execution_count": 199,
   "metadata": {},
   "outputs": [
    {
     "data": {
      "text/html": [
       "<table class=\"simpletable\">\n",
       "<caption>OLS Regression Results</caption>\n",
       "<tr>\n",
       "  <th>Dep. Variable:</th>     <td>no_of_incidents</td> <th>  R-squared:         </th> <td>   0.999</td>\n",
       "</tr>\n",
       "<tr>\n",
       "  <th>Model:</th>                   <td>OLS</td>       <th>  Adj. R-squared:    </th> <td>   0.999</td>\n",
       "</tr>\n",
       "<tr>\n",
       "  <th>Method:</th>             <td>Least Squares</td>  <th>  F-statistic:       </th> <td>   4420.</td>\n",
       "</tr>\n",
       "<tr>\n",
       "  <th>Date:</th>             <td>Tue, 20 Nov 2018</td> <th>  Prob (F-statistic):</th> <td>9.87e-33</td>\n",
       "</tr>\n",
       "<tr>\n",
       "  <th>Time:</th>                 <td>18:31:03</td>     <th>  Log-Likelihood:    </th> <td> -266.46</td>\n",
       "</tr>\n",
       "<tr>\n",
       "  <th>No. Observations:</th>      <td>    28</td>      <th>  AIC:               </th> <td>   544.9</td>\n",
       "</tr>\n",
       "<tr>\n",
       "  <th>Df Residuals:</th>          <td>    22</td>      <th>  BIC:               </th> <td>   552.9</td>\n",
       "</tr>\n",
       "<tr>\n",
       "  <th>Df Model:</th>              <td>     6</td>      <th>                     </th>     <td> </td>   \n",
       "</tr>\n",
       "<tr>\n",
       "  <th>Covariance Type:</th>      <td>nonrobust</td>    <th>                     </th>     <td> </td>   \n",
       "</tr>\n",
       "</table>\n",
       "<table class=\"simpletable\">\n",
       "<tr>\n",
       "        <td></td>          <th>coef</th>     <th>std err</th>      <th>t</th>      <th>P>|t|</th>  <th>[0.025</th>    <th>0.975]</th>  \n",
       "</tr>\n",
       "<tr>\n",
       "  <th>year</th>         <td>   56.0267</td> <td>   11.063</td> <td>    5.064</td> <td> 0.000</td> <td>   33.083</td> <td>   78.971</td>\n",
       "</tr>\n",
       "<tr>\n",
       "  <th>avg_aqi_CO</th>   <td> 1242.2411</td> <td>  322.886</td> <td>    3.847</td> <td> 0.001</td> <td>  572.617</td> <td> 1911.865</td>\n",
       "</tr>\n",
       "<tr>\n",
       "  <th>avg_aqi_NO2</th>  <td>-1232.5526</td> <td>  420.396</td> <td>   -2.932</td> <td> 0.008</td> <td>-2104.401</td> <td> -360.704</td>\n",
       "</tr>\n",
       "<tr>\n",
       "  <th>avg_aqi_O3</th>   <td>  944.8298</td> <td>  641.277</td> <td>    1.473</td> <td> 0.155</td> <td> -385.098</td> <td> 2274.757</td>\n",
       "</tr>\n",
       "<tr>\n",
       "  <th>avg_aqi_SO2</th>  <td>-1509.5452</td> <td>  923.027</td> <td>   -1.635</td> <td> 0.116</td> <td>-3423.786</td> <td>  404.695</td>\n",
       "</tr>\n",
       "<tr>\n",
       "  <th>avg_aqi_PM25</th> <td>  239.9164</td> <td>  160.709</td> <td>    1.493</td> <td> 0.150</td> <td>  -93.374</td> <td>  573.207</td>\n",
       "</tr>\n",
       "</table>\n",
       "<table class=\"simpletable\">\n",
       "<tr>\n",
       "  <th>Omnibus:</th>       <td> 0.379</td> <th>  Durbin-Watson:     </th> <td>   1.698</td>\n",
       "</tr>\n",
       "<tr>\n",
       "  <th>Prob(Omnibus):</th> <td> 0.827</td> <th>  Jarque-Bera (JB):  </th> <td>   0.150</td>\n",
       "</tr>\n",
       "<tr>\n",
       "  <th>Skew:</th>          <td>-0.175</td> <th>  Prob(JB):          </th> <td>   0.928</td>\n",
       "</tr>\n",
       "<tr>\n",
       "  <th>Kurtosis:</th>      <td> 2.925</td> <th>  Cond. No.          </th> <td>2.76e+03</td>\n",
       "</tr>\n",
       "</table><br/><br/>Warnings:<br/>[1] Standard Errors assume that the covariance matrix of the errors is correctly specified.<br/>[2] The condition number is large, 2.76e+03. This might indicate that there are<br/>strong multicollinearity or other numerical problems."
      ],
      "text/plain": [
       "<class 'statsmodels.iolib.summary.Summary'>\n",
       "\"\"\"\n",
       "                            OLS Regression Results                            \n",
       "==============================================================================\n",
       "Dep. Variable:        no_of_incidents   R-squared:                       0.999\n",
       "Model:                            OLS   Adj. R-squared:                  0.999\n",
       "Method:                 Least Squares   F-statistic:                     4420.\n",
       "Date:                Tue, 20 Nov 2018   Prob (F-statistic):           9.87e-33\n",
       "Time:                        18:31:03   Log-Likelihood:                -266.46\n",
       "No. Observations:                  28   AIC:                             544.9\n",
       "Df Residuals:                      22   BIC:                             552.9\n",
       "Df Model:                           6                                         \n",
       "Covariance Type:            nonrobust                                         \n",
       "================================================================================\n",
       "                   coef    std err          t      P>|t|      [0.025      0.975]\n",
       "--------------------------------------------------------------------------------\n",
       "year            56.0267     11.063      5.064      0.000      33.083      78.971\n",
       "avg_aqi_CO    1242.2411    322.886      3.847      0.001     572.617    1911.865\n",
       "avg_aqi_NO2  -1232.5526    420.396     -2.932      0.008   -2104.401    -360.704\n",
       "avg_aqi_O3     944.8298    641.277      1.473      0.155    -385.098    2274.757\n",
       "avg_aqi_SO2  -1509.5452    923.027     -1.635      0.116   -3423.786     404.695\n",
       "avg_aqi_PM25   239.9164    160.709      1.493      0.150     -93.374     573.207\n",
       "==============================================================================\n",
       "Omnibus:                        0.379   Durbin-Watson:                   1.698\n",
       "Prob(Omnibus):                  0.827   Jarque-Bera (JB):                0.150\n",
       "Skew:                          -0.175   Prob(JB):                        0.928\n",
       "Kurtosis:                       2.925   Cond. No.                     2.76e+03\n",
       "==============================================================================\n",
       "\n",
       "Warnings:\n",
       "[1] Standard Errors assume that the covariance matrix of the errors is correctly specified.\n",
       "[2] The condition number is large, 2.76e+03. This might indicate that there are\n",
       "strong multicollinearity or other numerical problems.\n",
       "\"\"\""
      ]
     },
     "execution_count": 199,
     "metadata": {},
     "output_type": "execute_result"
    }
   ],
   "source": [
    "import statsmodels.api as sm\n",
    "\n",
    "\n",
    "# Note the difference in argument order\n",
    "model = sm.OLS(Y, X).fit()\n",
    "predictions = model.predict(X) # make the predictions by the model\n",
    "\n",
    "# Print out the statistics\n",
    "model.summary()"
   ]
  },
  {
   "cell_type": "code",
   "execution_count": 200,
   "metadata": {},
   "outputs": [
    {
     "name": "stdout",
     "output_type": "stream",
     "text": [
      "Accuracy of model= 0.4272466549356745\n"
     ]
    }
   ],
   "source": [
    "from sklearn import linear_model\n",
    "\n",
    "lm = linear_model.LinearRegression()\n",
    "model = lm.fit(X,Y)\n",
    "\n",
    "predictions = lm.predict(X)\n",
    "print('Accuracy of model=',lm.score(X,Y))\n"
   ]
  },
  {
   "cell_type": "code",
   "execution_count": 218,
   "metadata": {},
   "outputs": [
    {
     "name": "stdout",
     "output_type": "stream",
     "text": [
      "(22, 6) (22,)\n",
      "(6, 6) (6,)\n"
     ]
    }
   ],
   "source": [
    "import pandas as pd\n",
    "from sklearn import datasets, linear_model\n",
    "from sklearn.model_selection import train_test_split\n",
    "from matplotlib import pyplot as plt\n",
    "\n",
    "\n",
    "X_train, X_test, y_train, y_test = train_test_split(X, Y, test_size=0.2)\n",
    "print (X_train.shape, y_train.shape)\n",
    "print (X_test.shape, y_test.shape)\n",
    "\n"
   ]
  },
  {
   "cell_type": "code",
   "execution_count": 219,
   "metadata": {},
   "outputs": [],
   "source": [
    "# fit a model\n",
    "lm = linear_model.LinearRegression()\n",
    "model = lm.fit(X_train, y_train)\n",
    "predictions = lm.predict(X_test)"
   ]
  },
  {
   "cell_type": "code",
   "execution_count": 220,
   "metadata": {},
   "outputs": [
    {
     "data": {
      "text/plain": [
       "Text(0,0.5,'Predictions')"
      ]
     },
     "execution_count": 220,
     "metadata": {},
     "output_type": "execute_result"
    },
    {
     "data": {
      "image/png": "[encoded data removed]",
      "text/plain": [
       "<Figure size 432x288 with 1 Axes>"
      ]
     },
     "metadata": {},
     "output_type": "display_data"
    }
   ],
   "source": [
    "## The line / model\n",
    "plt.scatter(y_test, predictions)\n",
    "plt.xlabel('True Values')\n",
    "plt.ylabel('Predictions')"
   ]
  },
  {
   "cell_type": "code",
   "execution_count": 222,
   "metadata": {
    "scrolled": true
   },
   "outputs": [
    {
     "name": "stdout",
     "output_type": "stream",
     "text": [
      "r2 train: 0.492, test : -0.154\n"
     ]
    }
   ],
   "source": [
    "## R2 score Evaluation\n",
    "y_train_pred=model.predict(X_train)\n",
    "y_test_pred=model.predict(X_test)\n",
    "\n",
    "from sklearn.metrics import r2_score\n",
    "\n",
    "print(\"r2 train: %.3f, test : %.3f\" %(r2_score(y_train,y_train_pred),r2_score(y_test,y_test_pred) ))\n"
   ]
  },
  {
   "cell_type": "code",
   "execution_count": null,
   "metadata": {},
   "outputs": [],
   "source": [
    "\n"
   ]
  },
  {
   "cell_type": "code",
   "execution_count": null,
   "metadata": {},
   "outputs": [],
   "source": []
  },
  {
   "cell_type": "code",
   "execution_count": null,
   "metadata": {},
   "outputs": [],
   "source": [
    "QUERY = \"\"\"\n",
    "    SELECT\n",
    "        EXTRACT(YEAR FROM date_local) as year,\n",
    "        avg(aqi) as avg_aqi\n",
    "    FROM\n",
    "      `bigquery-public-data.epa_historical_air_quality.co_daily_summary`\n",
    "    WHERE\n",
    "       state_name =\"California\" AND city_name=\"San Francisco\"\n",
    "    GROUP BY year\n",
    "    ORDER BY year ASC\n",
    "        \"\"\"\n",
    "df_co = bq_assistant.query_to_pandas(QUERY)\n",
    "\n",
    "plt.subplots(figsize=(15,7))\n",
    "sns.barplot(x='year',y='avg_aqi',data=df_co,palette='inferno',edgecolor=sns.color_palette('dark',7))\n",
    "plt.ylabel('Air Quality Index', fontsize=20)\n",
    "plt.xticks(rotation=90)\n",
    "plt.xlabel('Year', fontsize=20)\n",
    "plt.title('Average AQI of Carbon monoxide in different years', fontsize=24)\n",
    "plt.show()"
   ]
  },
  {
   "cell_type": "code",
   "execution_count": null,
   "metadata": {},
   "outputs": [],
   "source": [
    "QUERY = \"\"\"\n",
    "   SELECT EXTRACT(month FROM co_summary.date_local) as month,avg(co_summary.aqi) as avg_aqi\n",
    "FROM `bigquery-public-data.epa_historical_air_quality.co_daily_summary` as co_summary\n",
    "where state_name =\"California\" AND city_name=\"San Francisco\" and  EXTRACT(YEAR FROM co_summary.date_local)=2016\n",
    "group by month\n",
    "order by month asc\n",
    "        \"\"\"\n",
    "df_co_month = bq_assistant.query_to_pandas(QUERY)\n",
    "\n",
    "plt.subplots(figsize=(15,7))\n",
    "sns.barplot(x='month',y='avg_aqi',data=df_co_month,palette='inferno',edgecolor=sns.color_palette('dark',7))\n",
    "plt.ylabel('Air Quality Index', fontsize=20)\n",
    "plt.xticks(rotation=90)\n",
    "plt.xlabel('Month', fontsize=20)\n",
    "plt.title('Average AQI of Carbon monoxide in 2016 in  different months', fontsize=24)\n",
    "plt.show()\n"
   ]
  },
  {
   "cell_type": "code",
   "execution_count": null,
   "metadata": {},
   "outputs": [],
   "source": [
    "df.isnull().sum()"
   ]
  },
  {
   "cell_type": "code",
   "execution_count": null,
   "metadata": {},
   "outputs": [],
   "source": [
    "## Fill missing values with zero\n",
    "df[\"aqi\"].fillna(0, inplace=True)\n",
    "df[\"method_code\"].fillna(0, inplace=True)\n"
   ]
  },
  {
   "cell_type": "code",
   "execution_count": null,
   "metadata": {},
   "outputs": [],
   "source": [
    "df.describe()"
   ]
  },
  {
   "cell_type": "code",
   "execution_count": null,
   "metadata": {},
   "outputs": [],
   "source": [
    "columns = df.columns\n",
    "percent_missing = df.isnull().sum() * 100 / len(df)\n",
    "missing_value_df = pd.DataFrame({'column_name': columns,\n",
    "                                 'percent_missing': percent_missing})\n",
    "\n",
    "missing_value_df.sort_values('percent_missing', inplace=True)\n"
   ]
  },
  {
   "cell_type": "code",
   "execution_count": null,
   "metadata": {},
   "outputs": [],
   "source": [
    "missing_value_df"
   ]
  },
  {
   "cell_type": "code",
   "execution_count": null,
   "metadata": {},
   "outputs": [],
   "source": [
    "from sklearn.preprocessing import Imputer\n",
    "\n",
    "imp=Imputer(missing_values='NaN',strategy='mean')\n",
    "\n",
    "df[\"aqi\"]=imp.fit_transform(df[[\"aqi\"]]).ravel()\n",
    "df[\"method_code\"]=imp.fit_transform(df[[\"method_code\"]]).ravel()\n"
   ]
  },
  {
   "cell_type": "code",
   "execution_count": null,
   "metadata": {},
   "outputs": [],
   "source": [
    "set(df['county_code'])"
   ]
  },
  {
   "cell_type": "code",
   "execution_count": null,
   "metadata": {},
   "outputs": [],
   "source": [
    "df.nunique()"
   ]
  },
  {
   "cell_type": "code",
   "execution_count": null,
   "metadata": {},
   "outputs": [],
   "source": [
    "df_co"
   ]
  },
  {
   "cell_type": "code",
   "execution_count": null,
   "metadata": {},
   "outputs": [],
   "source": []
  }
 ],
 "metadata": {
  "kernelspec": {
   "display_name": "Python 3",
   "language": "python",
   "name": "python3"
  },
  "language_info": {
   "codemirror_mode": {
    "name": "ipython",
    "version": 3
   },
   "file_extension": ".py",
   "mimetype": "text/x-python",
   "name": "python",
   "nbconvert_exporter": "python",
   "pygments_lexer": "ipython3",
   "version": "3.6.5"
  }
 },
 "nbformat": 4,
 "nbformat_minor": 2
}
