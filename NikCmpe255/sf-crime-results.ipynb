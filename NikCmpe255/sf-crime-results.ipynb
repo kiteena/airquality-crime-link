{
 "cells": [
  {
   "cell_type": "code",
   "execution_count": 5,
   "metadata": {},
   "outputs": [],
   "source": [
    "import numpy as np\n",
    "import pandas as pd\n",
    "from google.cloud import bigquery\n",
    "from bq_helper import BigQueryHelper\n",
    "%load_ext google.cloud.bigquery\n",
    "import os\n",
    "os.environ[\"GOOGLE_APPLICATION_CREDENTIALS\"]=\"My Project-bbdce7b1712b.json\"\n"
   ]
  },
  {
   "cell_type": "code",
   "execution_count": null,
   "metadata": {},
   "outputs": [],
   "source": [
    "bq_assistant = BigQueryHelper(\"bigquery-public-data\", \"epa_historical_air_quality\")\n",
    "\n",
    "query=\"\"\"\n",
    "SELECT * FROM `bigquery-public-data.san_francisco.sfpd_incidents` \n",
    "\"\"\"\n",
    "\n",
    "df = bq_assistant.query_to_pandas(query)"
   ]
  },
  {
   "cell_type": "code",
   "execution_count": null,
   "metadata": {},
   "outputs": [],
   "source": [
    "df.category.unique()"
   ]
  },
  {
   "cell_type": "code",
   "execution_count": null,
   "metadata": {
    "scrolled": false
   },
   "outputs": [],
   "source": [
    "df.describe(include=\"object\")"
   ]
  },
  {
   "cell_type": "markdown",
   "metadata": {},
   "source": [
    "# Bar Charts from 2003 to 2017\n",
    "\n",
    "## Top 5 Types of Crimes in terms of No of Incidents Reported"
   ]
  },
  {
   "cell_type": "code",
   "execution_count": 6,
   "metadata": {},
   "outputs": [],
   "source": [
    "df_temp=pd.read_csv('crime rate/results-20181121-154239.csv')\n",
    "## ref https://stackoverflow.com/questions/17141558/how-to-sort-a-dataframe-in-python-pandas-by-two-or-more-columns\n",
    "df_temp.sort_values(by=['Year','count_incidents'], ascending=[True,True],inplace=True)"
   ]
  },
  {
   "cell_type": "code",
   "execution_count": 7,
   "metadata": {},
   "outputs": [],
   "source": [
    "# For visualization\n",
    "from bokeh.plotting import figure, output_file, show\n",
    "from bokeh.models import ColumnDataSource, HoverTool\n",
    "from bokeh.palettes import Spectral6, brewer\n",
    "from bokeh.transform import factor_cmap\n",
    "\n",
    "\n",
    "## Reference https://stackoverflow.com/questions/16958499/sort-pandas-dataframe-and-print-highest-n-values\n",
    "for yr, df_year in df_temp.groupby('Year'):\n",
    "    ##print(df_year.nlargest(10,'count_incidents'))\n",
    "#     categ_list=df_year.nlargest(10,'count_incidents')['Category'].tolist()\n",
    "#     count_incidents_list=df_year.nlargest(10,'count_incidents')['count_incidents'].tolist()\n",
    "    \n",
    "    output_file('plot_of_incidents_by_'+str(yr)+'.html')\n",
    "    \n",
    "    source = ColumnDataSource(df_year.nlargest(5,'count_incidents'))\n",
    "    categ_list = source.data['Category'].tolist()\n",
    "    \n",
    "    p = figure(x_range=categ_list, plot_width=900, plot_height=800)\n",
    "\n",
    "    color_map = factor_cmap(field_name='Category', palette=Spectral6, factors=categ_list)\n",
    "\n",
    "    p.vbar(x='Category', top='count_incidents', source=source, width=0.70, color=color_map)\n",
    "\n",
    "    p.title.text ='No of Reported Incidents per Category for '+str(yr)\n",
    "    p.xaxis.axis_label = 'Category Type'\n",
    "    p.yaxis.axis_label = \"No of Incidents in Year: \"+str(yr)\n",
    "\n",
    "    show(p)\n",
    "    "
   ]
  },
  {
   "cell_type": "code",
   "execution_count": null,
   "metadata": {},
   "outputs": [],
   "source": [
    "# grouped = df_temp.groupby('Year')['count_incidents'].max()\n",
    "# ser_df=pd.DataFrame({'Year':grouped.index, 'count_incidents':grouped.values})\n",
    "# ser_df"
   ]
  },
  {
   "cell_type": "code",
   "execution_count": null,
   "metadata": {},
   "outputs": [],
   "source": [
    "# result = pd.merge(df_temp, ser_df, how='inner', on=['count_incidents', 'Year'])\n",
    "# result\n",
    "\n",
    "\n"
   ]
  }
 ],
 "metadata": {
  "kernelspec": {
   "display_name": "Python 3",
   "language": "python",
   "name": "python3"
  }
 },
 "nbformat": 4,
 "nbformat_minor": 2
}
