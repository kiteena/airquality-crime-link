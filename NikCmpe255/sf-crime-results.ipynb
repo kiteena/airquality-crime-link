{
 "cells": [
  {
   "cell_type": "code",
   "execution_count": 2,
   "metadata": {},
   "outputs": [],
   "source": [
    "import numpy as np\n",
    "import pandas as pd\n",
    "from google.cloud import bigquery\n",
    "from bq_helper import BigQueryHelper\n",
    "%load_ext google.cloud.bigquery\n",
    "import os\n",
    "os.environ[\"GOOGLE_APPLICATION_CREDENTIALS\"]=\"My Project-bbdce7b1712b.json\"\n",
    "\n",
    "bq_assistant = BigQueryHelper(\"bigquery-public-data\", \"epa_historical_air_quality\")\n",
    "\n",
    "query=\"\"\"\n",
    "SELECT * FROM `bigquery-public-data.san_francisco.sfpd_incidents` \n",
    "\"\"\"\n",
    "\n",
    "df = bq_assistant.query_to_pandas(query)\n"
   ]
  },
  {
   "cell_type": "code",
   "execution_count": 71,
   "metadata": {},
   "outputs": [
    {
     "data": {
      "text/plain": [
       "array(['RUNAWAY', 'DRUNKENNESS', 'FAMILY OFFENSES', 'LIQUOR LAWS',\n",
       "       'PORNOGRAPHY/OBSCENE MAT', 'DRIVING UNDER THE INFLUENCE',\n",
       "       'DISORDERLY CONDUCT', 'LOITERING', 'SEX OFFENSES, NON FORCIBLE',\n",
       "       'KIDNAPPING', 'ARSON', 'EXTORTION', 'BAD CHECKS', 'SUICIDE',\n",
       "       'EMBEZZLEMENT', 'BRIBERY', 'RECOVERED VEHICLE', 'GAMBLING', 'TREA',\n",
       "       'FRAUD', 'ASSAULT', 'ROBBERY', 'BURGLARY', 'TRESPASS', 'WARRANTS',\n",
       "       'VANDALISM', 'WEAPON LAWS', 'NON-CRIMINAL', 'PROSTITUTION',\n",
       "       'DRUG/NARCOTIC', 'LARCENY/THEFT', 'VEHICLE THEFT',\n",
       "       'MISSING PERSON', 'OTHER OFFENSES', 'SUSPICIOUS OCC',\n",
       "       'SECONDARY CODES', 'STOLEN PROPERTY', 'FORGERY/COUNTERFEITING',\n",
       "       'SEX OFFENSES, FORCIBLE'], dtype=object)"
      ]
     },
     "execution_count": 71,
     "metadata": {},
     "output_type": "execute_result"
    }
   ],
   "source": [
    "df.category.unique()"
   ]
  },
  {
   "cell_type": "code",
   "execution_count": 7,
   "metadata": {
    "scrolled": false
   },
   "outputs": [
    {
     "data": {
      "text/html": [
       "<div>\n",
       "<style scoped>\n",
       "    .dataframe tbody tr th:only-of-type {\n",
       "        vertical-align: middle;\n",
       "    }\n",
       "\n",
       "    .dataframe tbody tr th {\n",
       "        vertical-align: top;\n",
       "    }\n",
       "\n",
       "    .dataframe thead th {\n",
       "        text-align: right;\n",
       "    }\n",
       "</style>\n",
       "<table border=\"1\" class=\"dataframe\">\n",
       "  <thead>\n",
       "    <tr style=\"text-align: right;\">\n",
       "      <th></th>\n",
       "      <th>category</th>\n",
       "      <th>descript</th>\n",
       "      <th>dayofweek</th>\n",
       "      <th>pddistrict</th>\n",
       "      <th>resolution</th>\n",
       "      <th>address</th>\n",
       "      <th>location</th>\n",
       "    </tr>\n",
       "  </thead>\n",
       "  <tbody>\n",
       "    <tr>\n",
       "      <th>count</th>\n",
       "      <td>2170785</td>\n",
       "      <td>2170785</td>\n",
       "      <td>2170785</td>\n",
       "      <td>2170785</td>\n",
       "      <td>2170785</td>\n",
       "      <td>2170785</td>\n",
       "      <td>2170785</td>\n",
       "    </tr>\n",
       "    <tr>\n",
       "      <th>unique</th>\n",
       "      <td>39</td>\n",
       "      <td>915</td>\n",
       "      <td>7</td>\n",
       "      <td>11</td>\n",
       "      <td>17</td>\n",
       "      <td>25123</td>\n",
       "      <td>60768</td>\n",
       "    </tr>\n",
       "    <tr>\n",
       "      <th>top</th>\n",
       "      <td>LARCENY/THEFT</td>\n",
       "      <td>GRAND THEFT FROM LOCKED AUTO</td>\n",
       "      <td>Friday</td>\n",
       "      <td>SOUTHERN</td>\n",
       "      <td>NONE</td>\n",
       "      <td>800 Block of BRYANT ST</td>\n",
       "      <td>(37.775420706711, -122.403404791479)</td>\n",
       "    </tr>\n",
       "    <tr>\n",
       "      <th>freq</th>\n",
       "      <td>467657</td>\n",
       "      <td>173079</td>\n",
       "      <td>331007</td>\n",
       "      <td>391669</td>\n",
       "      <td>1356705</td>\n",
       "      <td>64271</td>\n",
       "      <td>55669</td>\n",
       "    </tr>\n",
       "  </tbody>\n",
       "</table>\n",
       "</div>"
      ],
      "text/plain": [
       "             category                      descript dayofweek pddistrict  \\\n",
       "count         2170785                       2170785   2170785    2170785   \n",
       "unique             39                           915         7         11   \n",
       "top     LARCENY/THEFT  GRAND THEFT FROM LOCKED AUTO    Friday   SOUTHERN   \n",
       "freq           467657                        173079    331007     391669   \n",
       "\n",
       "       resolution                 address  \\\n",
       "count     2170785                 2170785   \n",
       "unique         17                   25123   \n",
       "top          NONE  800 Block of BRYANT ST   \n",
       "freq      1356705                   64271   \n",
       "\n",
       "                                    location  \n",
       "count                                2170785  \n",
       "unique                                 60768  \n",
       "top     (37.775420706711, -122.403404791479)  \n",
       "freq                                   55669  "
      ]
     },
     "execution_count": 7,
     "metadata": {},
     "output_type": "execute_result"
    }
   ],
   "source": [
    "df.describe(include=\"object\")"
   ]
  },
  {
   "cell_type": "code",
   "execution_count": 69,
   "metadata": {},
   "outputs": [
    {
     "data": {
      "text/html": [
       "<div>\n",
       "<style scoped>\n",
       "    .dataframe tbody tr th:only-of-type {\n",
       "        vertical-align: middle;\n",
       "    }\n",
       "\n",
       "    .dataframe tbody tr th {\n",
       "        vertical-align: top;\n",
       "    }\n",
       "\n",
       "    .dataframe thead th {\n",
       "        text-align: right;\n",
       "    }\n",
       "</style>\n",
       "<table border=\"1\" class=\"dataframe\">\n",
       "  <thead>\n",
       "    <tr style=\"text-align: right;\">\n",
       "      <th></th>\n",
       "      <th>unique_key</th>\n",
       "      <th>category</th>\n",
       "      <th>descript</th>\n",
       "      <th>dayofweek</th>\n",
       "      <th>pddistrict</th>\n",
       "      <th>resolution</th>\n",
       "      <th>address</th>\n",
       "      <th>longitude</th>\n",
       "      <th>latitude</th>\n",
       "      <th>location</th>\n",
       "      <th>pdid</th>\n",
       "      <th>timestamp</th>\n",
       "    </tr>\n",
       "  </thead>\n",
       "  <tbody>\n",
       "    <tr>\n",
       "      <th>1195478</th>\n",
       "      <td>166018573</td>\n",
       "      <td>LARCENY/THEFT</td>\n",
       "      <td>GRAND THEFT FROM LOCKED AUTO</td>\n",
       "      <td>Sunday</td>\n",
       "      <td></td>\n",
       "      <td>NONE</td>\n",
       "      <td>100 Block of VELASCO AV</td>\n",
       "      <td>-122.413352</td>\n",
       "      <td>37.708202</td>\n",
       "      <td>(37.70820245849022, -122.4133519852842)</td>\n",
       "      <td>16601857306244</td>\n",
       "      <td>2016-01-17 23:54:00+00:00</td>\n",
       "    </tr>\n",
       "  </tbody>\n",
       "</table>\n",
       "</div>"
      ],
      "text/plain": [
       "         unique_key       category                      descript dayofweek  \\\n",
       "1195478   166018573  LARCENY/THEFT  GRAND THEFT FROM LOCKED AUTO    Sunday   \n",
       "\n",
       "        pddistrict resolution                  address   longitude   latitude  \\\n",
       "1195478                  NONE  100 Block of VELASCO AV -122.413352  37.708202   \n",
       "\n",
       "                                        location            pdid  \\\n",
       "1195478  (37.70820245849022, -122.4133519852842)  16601857306244   \n",
       "\n",
       "                        timestamp  \n",
       "1195478 2016-01-17 23:54:00+00:00  "
      ]
     },
     "execution_count": 69,
     "metadata": {},
     "output_type": "execute_result"
    }
   ],
   "source": []
  },
  {
   "cell_type": "markdown",
   "metadata": {},
   "source": [
    "# Bar Charts from 2003 to 2013 \n",
    "\n",
    "## Top 5 Types of Crimes in terms of No of Incidents Reported"
   ]
  },
  {
   "cell_type": "code",
   "execution_count": 44,
   "metadata": {},
   "outputs": [],
   "source": [
    "df_temp=pd.read_csv('crime rate/results-20181121-154239.csv')\n",
    "## ref https://stackoverflow.com/questions/17141558/how-to-sort-a-dataframe-in-python-pandas-by-two-or-more-columns\n",
    "df_temp.sort_values(by=['Year','count_incidents'], ascending=[True,True],inplace=True)"
   ]
  },
  {
   "cell_type": "code",
   "execution_count": 64,
   "metadata": {},
   "outputs": [],
   "source": [
    "# For visualization\n",
    "from bokeh.plotting import figure, output_file, show\n",
    "from bokeh.models import ColumnDataSource, HoverTool\n",
    "from bokeh.palettes import Spectral6, brewer\n",
    "from bokeh.transform import factor_cmap\n",
    "\n",
    "\n",
    "## Reference https://stackoverflow.com/questions/16958499/sort-pandas-dataframe-and-print-highest-n-values\n",
    "for yr, df_year in df_temp.groupby('Year'):\n",
    "    ##print(df_year.nlargest(10,'count_incidents'))\n",
    "#     categ_list=df_year.nlargest(10,'count_incidents')['Category'].tolist()\n",
    "#     count_incidents_list=df_year.nlargest(10,'count_incidents')['count_incidents'].tolist()\n",
    "    \n",
    "    output_file('plot_of_incidents_by_'+str(yr)+'.html')\n",
    "    \n",
    "    source = ColumnDataSource(df_year.nlargest(5,'count_incidents'))\n",
    "    categ_list = source.data['Category'].tolist()\n",
    "    \n",
    "    p = figure(x_range=categ_list, plot_width=900, plot_height=800)\n",
    "\n",
    "    color_map = factor_cmap(field_name='Category', palette=Spectral6, factors=categ_list)\n",
    "\n",
    "    p.vbar(x='Category', top='count_incidents', source=source, width=0.70, color=color_map)\n",
    "\n",
    "    p.title.text ='No of Reported Incidents per Category for '+str(yr)\n",
    "    p.xaxis.axis_label = 'Category Type'\n",
    "    p.yaxis.axis_label = \"No of Incidents in Year: \"+str(yr)\n",
    "\n",
    "    show(p)\n",
    "    "
   ]
  },
  {
   "cell_type": "code",
   "execution_count": 66,
   "metadata": {},
   "outputs": [],
   "source": [
    "# grouped = df_temp.groupby('Year')['count_incidents'].max()\n",
    "# ser_df=pd.DataFrame({'Year':grouped.index, 'count_incidents':grouped.values})\n",
    "# ser_df"
   ]
  },
  {
   "cell_type": "code",
   "execution_count": 65,
   "metadata": {},
   "outputs": [],
   "source": [
    "# result = pd.merge(df_temp, ser_df, how='inner', on=['count_incidents', 'Year'])\n",
    "# result\n",
    "\n",
    "\n"
   ]
  }
 ],
 "metadata": {
  "kernelspec": {
   "display_name": "Python 3",
   "language": "python",
   "name": "python3"
  },
  "language_info": {
   "codemirror_mode": {
    "name": "ipython",
    "version": 3
   },
   "file_extension": ".py",
   "mimetype": "text/x-python",
   "name": "python",
   "nbconvert_exporter": "python",
   "pygments_lexer": "ipython3",
   "version": "3.6.5"
  }
 },
 "nbformat": 4,
 "nbformat_minor": 2
}
