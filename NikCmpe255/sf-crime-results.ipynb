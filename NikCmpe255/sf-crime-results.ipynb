{
 "cells": [
  {
   "cell_type": "code",
   "execution_count": 5,
   "metadata": {},
   "outputs": [
    {
     "name": "stdout",
     "output_type": "stream",
     "text": [
      "The google.cloud.bigquery extension is already loaded. To reload it, use:\n",
      "  %reload_ext google.cloud.bigquery\n"
     ]
    }
   ],
   "source": [
    "import numpy as np\n",
    "import pandas as pd\n",
    "from google.cloud import bigquery\n",
    "from bq_helper import BigQueryHelper\n",
    "%load_ext google.cloud.bigquery\n",
    "import os\n",
    "os.environ[\"GOOGLE_APPLICATION_CREDENTIALS\"]=\"My Project-bbdce7b1712b.json\"\n",
    "\n",
    "bq_assistant = BigQueryHelper(\"bigquery-public-data\", \"epa_historical_air_quality\")\n",
    "\n",
    "query=\"\"\"\n",
    "SELECT * FROM `bigquery-public-data.san_francisco.sfpd_incidents` \n",
    "\"\"\"\n",
    "\n",
    "df = bq_assistant.query_to_pandas(query)\n"
   ]
  },
  {
   "cell_type": "code",
   "execution_count": 11,
   "metadata": {},
   "outputs": [
    {
     "data": {
      "text/html": [
       "<div>\n",
       "<style scoped>\n",
       "    .dataframe tbody tr th:only-of-type {\n",
       "        vertical-align: middle;\n",
       "    }\n",
       "\n",
       "    .dataframe tbody tr th {\n",
       "        vertical-align: top;\n",
       "    }\n",
       "\n",
       "    .dataframe thead th {\n",
       "        text-align: right;\n",
       "    }\n",
       "</style>\n",
       "<table border=\"1\" class=\"dataframe\">\n",
       "  <thead>\n",
       "    <tr style=\"text-align: right;\">\n",
       "      <th></th>\n",
       "      <th>unique_key</th>\n",
       "      <th>category</th>\n",
       "      <th>descript</th>\n",
       "      <th>dayofweek</th>\n",
       "      <th>pddistrict</th>\n",
       "      <th>resolution</th>\n",
       "      <th>address</th>\n",
       "      <th>longitude</th>\n",
       "      <th>latitude</th>\n",
       "      <th>location</th>\n",
       "      <th>pdid</th>\n",
       "      <th>timestamp</th>\n",
       "    </tr>\n",
       "  </thead>\n",
       "  <tbody>\n",
       "    <tr>\n",
       "      <th>9</th>\n",
       "      <td>80460270</td>\n",
       "      <td>DISORDERLY CONDUCT</td>\n",
       "      <td>COMMITTING PUBLIC NUISANCE</td>\n",
       "      <td>Friday</td>\n",
       "      <td>PARK</td>\n",
       "      <td>ARREST, BOOKED</td>\n",
       "      <td>HAIGHT ST / BUENAVISTAWEST AV</td>\n",
       "      <td>-122.443312</td>\n",
       "      <td>37.77047</td>\n",
       "      <td>(37.7704697548539, -122.443311949602)</td>\n",
       "      <td>8046027019010</td>\n",
       "      <td>2008-05-02 14:31:00+00:00</td>\n",
       "    </tr>\n",
       "    <tr>\n",
       "      <th>280</th>\n",
       "      <td>80460270</td>\n",
       "      <td>DRUNKENNESS</td>\n",
       "      <td>UNDER INFLUENCE OF ALCOHOL IN A PUBLIC PLACE</td>\n",
       "      <td>Friday</td>\n",
       "      <td>PARK</td>\n",
       "      <td>ARREST, BOOKED</td>\n",
       "      <td>HAIGHT ST / BUENAVISTAWEST AV</td>\n",
       "      <td>-122.443312</td>\n",
       "      <td>37.77047</td>\n",
       "      <td>(37.7704697548539, -122.443311949602)</td>\n",
       "      <td>8046027019090</td>\n",
       "      <td>2008-05-02 14:31:00+00:00</td>\n",
       "    </tr>\n",
       "    <tr>\n",
       "      <th>942761</th>\n",
       "      <td>80460270</td>\n",
       "      <td>DRUG/NARCOTIC</td>\n",
       "      <td>POSSESSION OF MARIJUANA</td>\n",
       "      <td>Friday</td>\n",
       "      <td>PARK</td>\n",
       "      <td>ARREST, BOOKED</td>\n",
       "      <td>HAIGHT ST / BUENAVISTAWEST AV</td>\n",
       "      <td>-122.443312</td>\n",
       "      <td>37.77047</td>\n",
       "      <td>(37.7704697548539, -122.443311949602)</td>\n",
       "      <td>8046027016010</td>\n",
       "      <td>2008-05-02 14:31:00+00:00</td>\n",
       "    </tr>\n",
       "  </tbody>\n",
       "</table>\n",
       "</div>"
      ],
      "text/plain": [
       "        unique_key            category  \\\n",
       "9         80460270  DISORDERLY CONDUCT   \n",
       "280       80460270         DRUNKENNESS   \n",
       "942761    80460270       DRUG/NARCOTIC   \n",
       "\n",
       "                                            descript dayofweek pddistrict  \\\n",
       "9                         COMMITTING PUBLIC NUISANCE    Friday       PARK   \n",
       "280     UNDER INFLUENCE OF ALCOHOL IN A PUBLIC PLACE    Friday       PARK   \n",
       "942761                       POSSESSION OF MARIJUANA    Friday       PARK   \n",
       "\n",
       "            resolution                        address   longitude  latitude  \\\n",
       "9       ARREST, BOOKED  HAIGHT ST / BUENAVISTAWEST AV -122.443312  37.77047   \n",
       "280     ARREST, BOOKED  HAIGHT ST / BUENAVISTAWEST AV -122.443312  37.77047   \n",
       "942761  ARREST, BOOKED  HAIGHT ST / BUENAVISTAWEST AV -122.443312  37.77047   \n",
       "\n",
       "                                     location           pdid  \\\n",
       "9       (37.7704697548539, -122.443311949602)  8046027019010   \n",
       "280     (37.7704697548539, -122.443311949602)  8046027019090   \n",
       "942761  (37.7704697548539, -122.443311949602)  8046027016010   \n",
       "\n",
       "                       timestamp  \n",
       "9      2008-05-02 14:31:00+00:00  \n",
       "280    2008-05-02 14:31:00+00:00  \n",
       "942761 2008-05-02 14:31:00+00:00  "
      ]
     },
     "execution_count": 11,
     "metadata": {},
     "output_type": "execute_result"
    }
   ],
   "source": [
    "df[df['unique_key']==80460270]"
   ]
  },
  {
   "cell_type": "code",
   "execution_count": 2,
   "metadata": {},
   "outputs": [
    {
     "data": {
      "text/plain": [
       "unique_key    1713368\n",
       "category           39\n",
       "descript          915\n",
       "dayofweek           7\n",
       "pddistrict         11\n",
       "resolution         17\n",
       "address         25123\n",
       "longitude       60392\n",
       "latitude        59107\n",
       "location        60768\n",
       "pdid          2170785\n",
       "timestamp      960696\n",
       "dtype: int64"
      ]
     },
     "execution_count": 2,
     "metadata": {},
     "output_type": "execute_result"
    }
   ],
   "source": [
    "df.nunique()"
   ]
  },
  {
   "cell_type": "code",
   "execution_count": 10,
   "metadata": {},
   "outputs": [
    {
     "data": {
      "text/plain": [
       "unique_key     9442\n",
       "category         36\n",
       "descript        502\n",
       "dayofweek         7\n",
       "pddistrict        1\n",
       "resolution       16\n",
       "address        1145\n",
       "longitude      1832\n",
       "latitude       1819\n",
       "location       1838\n",
       "pdid          10000\n",
       "timestamp      9336\n",
       "dtype: int64"
      ]
     },
     "execution_count": 10,
     "metadata": {},
     "output_type": "execute_result"
    }
   ],
   "source": [
    "df.nunique()"
   ]
  },
  {
   "cell_type": "code",
   "execution_count": 12,
   "metadata": {},
   "outputs": [
    {
     "data": {
      "text/plain": [
       "{'ARREST, BOOKED',\n",
       " 'ARREST, CITED',\n",
       " 'CLEARED-CONTACT JUVENILE FOR MORE INFO',\n",
       " 'COMPLAINANT REFUSES TO PROSECUTE',\n",
       " 'DISTRICT ATTORNEY REFUSES TO PROSECUTE',\n",
       " 'EXCEPTIONAL CLEARANCE',\n",
       " 'JUVENILE ADMONISHED',\n",
       " 'JUVENILE BOOKED',\n",
       " 'JUVENILE CITED',\n",
       " 'JUVENILE DIVERTED',\n",
       " 'LOCATED',\n",
       " 'NONE',\n",
       " 'NOT PROSECUTED',\n",
       " 'PROSECUTED BY OUTSIDE AGENCY',\n",
       " 'PSYCHOPATHIC CASE',\n",
       " 'UNFOUNDED'}"
      ]
     },
     "execution_count": 12,
     "metadata": {},
     "output_type": "execute_result"
    }
   ],
   "source": [
    "set(df['resolution'])"
   ]
  },
  {
   "cell_type": "code",
   "execution_count": 13,
   "metadata": {},
   "outputs": [
    {
     "name": "stdout",
     "output_type": "stream",
     "text": [
      "\n",
      "The following command must be run outside of the IPython shell:\n",
      "\n",
      "    $ pip install --upgrade google-cloud-bigquery[pandas]\n",
      "\n",
      "The Python package manager (pip) can only be used from outside of IPython.\n",
      "Please reissue the `pip` command in a separate terminal or command prompt.\n",
      "\n",
      "See the Python documentation for more information on how to install packages:\n",
      "\n",
      "    https://docs.python.org/3/installing/\n"
     ]
    }
   ],
   "source": [
    "pip install --upgrade google-cloud-bigquery[pandas]\n"
   ]
  },
  {
   "cell_type": "code",
   "execution_count": 14,
   "metadata": {},
   "outputs": [
    {
     "name": "stdout",
     "output_type": "stream",
     "text": [
      "\n",
      "The following command must be run outside of the IPython shell:\n",
      "\n",
      "    $ pip install --upgrade google-cloud-bigquery[pandas]\n",
      "\n",
      "The Python package manager (pip) can only be used from outside of IPython.\n",
      "Please reissue the `pip` command in a separate terminal or command prompt.\n",
      "\n",
      "See the Python documentation for more information on how to install packages:\n",
      "\n",
      "    https://docs.python.org/3/installing/\n"
     ]
    }
   ],
   "source": [
    "%pip install --upgrade google-cloud-bigquery[pandas]"
   ]
  },
  {
   "cell_type": "code",
   "execution_count": null,
   "metadata": {},
   "outputs": [],
   "source": []
  }
 ],
 "metadata": {
  "kernelspec": {
   "display_name": "Python 3",
   "language": "python",
   "name": "python3"
  },
  "language_info": {
   "codemirror_mode": {
    "name": "ipython",
    "version": 3
   },
   "file_extension": ".py",
   "mimetype": "text/x-python",
   "name": "python",
   "nbconvert_exporter": "python",
   "pygments_lexer": "ipython3",
   "version": "3.6.5"
  }
 },
 "nbformat": 4,
 "nbformat_minor": 2
}
