{
 "cells": [
  {
   "cell_type": "code",
   "execution_count": 1,
   "metadata": {
    "scrolled": false
   },
   "outputs": [],
   "source": [
    "import numpy as np\n",
    "import pandas as pd\n",
    "# matplotlib for plotting\n",
    "import matplotlib.pyplot as plt\n",
    "import seaborn as sns\n",
    "plt.style.use('fivethirtyeight')\n",
    "from google.cloud import bigquery\n",
    "from bq_helper import BigQueryHelper\n",
    "%load_ext google.cloud.bigquery\n",
    "import os\n",
    "%matplotlib inline\n",
    "from sklearn.linear_model import LinearRegression,RidgeCV,LassoCV,ElasticNetCV\n",
    "from sklearn.model_selection import cross_val_score, train_test_split\n",
    "from sklearn.preprocessing import StandardScaler\n",
    "import matplotlib\n",
    "\n",
    "# For visualization\n",
    "from bokeh.plotting import figure, output_file, show\n",
    "from bokeh.models import ColumnDataSource, HoverTool\n",
    "from bokeh.palettes import Spectral6, brewer\n",
    "from bokeh.transform import factor_cmap\n",
    "pd.set_option('display.float_format', lambda x: '%.3f' % x)\n",
    "\n",
    "os.environ[\"GOOGLE_APPLICATION_CREDENTIALS\"]=\"My Project-bbdce7b1712b.json\"\n",
    "\n",
    "bq_assistant = BigQueryHelper(\"bigquery-public-data\", \"epa_historical_air_quality\")\n"
   ]
  },
  {
   "cell_type": "code",
   "execution_count": 2,
   "metadata": {},
   "outputs": [],
   "source": [
    "from sklearn.linear_model import ElasticNet, Lasso,  BayesianRidge, LassoLarsIC,ElasticNetCV,Ridge,LassoCV\n",
    "from sklearn.ensemble import RandomForestRegressor,  GradientBoostingRegressor\n",
    "from xgboost import XGBRegressor\n",
    "from sklearn.kernel_ridge import KernelRidge\n",
    "from sklearn.pipeline import make_pipeline\n",
    "from sklearn.preprocessing import RobustScaler\n",
    "from sklearn.base import BaseEstimator, TransformerMixin, RegressorMixin, clone\n",
    "from sklearn.model_selection import KFold, cross_val_score, train_test_split\n",
    "from sklearn.metrics import mean_squared_error\n",
    "import xgboost as xgb\n",
    "from sklearn.model_selection import GridSearchCV\n",
    "\n"
   ]
  },
  {
   "cell_type": "markdown",
   "metadata": {},
   "source": [
    "# ANALYZE ONLY FROM JAN 2003 TO DEC 2017"
   ]
  },
  {
   "cell_type": "markdown",
   "metadata": {},
   "source": [
    "# Analyze CO Daily"
   ]
  },
  {
   "cell_type": "code",
   "execution_count": 3,
   "metadata": {},
   "outputs": [],
   "source": [
    "\n",
    "query=\"\"\"\n",
    "SELECT\n",
    "        date_local,\n",
    "        round(avg(aqi),2) as avg_aqi_CO\n",
    "    FROM\n",
    "      `bigquery-public-data.epa_historical_air_quality.co_daily_summary`\n",
    "    WHERE\n",
    "       state_name =\"California\" AND city_name=\"San Francisco\"\n",
    "    GROUP BY date_local\n",
    "    ORDER BY date_local ASC\n",
    "\n",
    "\"\"\"\n",
    "\n",
    "df_co_Daily=bq_assistant.query_to_pandas(query)"
   ]
  },
  {
   "cell_type": "code",
   "execution_count": 4,
   "metadata": {},
   "outputs": [],
   "source": [
    "## Reference https://stackoverflow.com/questions/26763344/convert-pandas-column-to-datetime\n",
    "df_co_Daily['date_local'] =  pd.to_datetime(df_co_Daily['date_local'], format='%Y-%m-%d')\n",
    "##df['Date'].dt.strftime('%Y%m%d')\n"
   ]
  },
  {
   "cell_type": "code",
   "execution_count": 5,
   "metadata": {},
   "outputs": [],
   "source": [
    "df_co_Daily=df_co_Daily[df_co_Daily['date_local']>='2003-01-01']"
   ]
  },
  {
   "cell_type": "code",
   "execution_count": 6,
   "metadata": {},
   "outputs": [],
   "source": [
    "df_co_Daily.set_index('date_local',inplace=True)"
   ]
  },
  {
   "cell_type": "code",
   "execution_count": 7,
   "metadata": {},
   "outputs": [
    {
     "data": {
      "text/plain": [
       "<matplotlib.axes._subplots.AxesSubplot at 0x1a0b738fd0>"
      ]
     },
     "execution_count": 7,
     "metadata": {},
     "output_type": "execute_result"
    },
    {
     "data": {
      "image/png": "[encoded data removed]",
      "text/plain": [
       "<Figure size 432x288 with 1 Axes>"
      ]
     },
     "metadata": {},
     "output_type": "display_data"
    }
   ],
   "source": [
    "from matplotlib import style\n",
    "style.use('ggplot')\n",
    "\n",
    "df_co_Daily['avg_aqi_CO'].plot()"
   ]
  },
  {
   "cell_type": "code",
   "execution_count": 8,
   "metadata": {},
   "outputs": [
    {
     "data": {
      "text/html": [
       "<div>\n",
       "<style scoped>\n",
       "    .dataframe tbody tr th:only-of-type {\n",
       "        vertical-align: middle;\n",
       "    }\n",
       "\n",
       "    .dataframe tbody tr th {\n",
       "        vertical-align: top;\n",
       "    }\n",
       "\n",
       "    .dataframe thead th {\n",
       "        text-align: right;\n",
       "    }\n",
       "</style>\n",
       "<table border=\"1\" class=\"dataframe\">\n",
       "  <thead>\n",
       "    <tr style=\"text-align: right;\">\n",
       "      <th></th>\n",
       "      <th>avg_aqi_CO</th>\n",
       "      <th>100ma_for_CO</th>\n",
       "    </tr>\n",
       "    <tr>\n",
       "      <th>date_local</th>\n",
       "      <th></th>\n",
       "      <th></th>\n",
       "    </tr>\n",
       "  </thead>\n",
       "  <tbody>\n",
       "    <tr>\n",
       "      <th>2003-01-01</th>\n",
       "      <td>21.000</td>\n",
       "      <td>21.000</td>\n",
       "    </tr>\n",
       "    <tr>\n",
       "      <th>2003-01-02</th>\n",
       "      <td>12.500</td>\n",
       "      <td>16.750</td>\n",
       "    </tr>\n",
       "    <tr>\n",
       "      <th>2003-01-03</th>\n",
       "      <td>16.500</td>\n",
       "      <td>16.667</td>\n",
       "    </tr>\n",
       "    <tr>\n",
       "      <th>2003-01-04</th>\n",
       "      <td>17.000</td>\n",
       "      <td>16.750</td>\n",
       "    </tr>\n",
       "    <tr>\n",
       "      <th>2003-01-05</th>\n",
       "      <td>17.500</td>\n",
       "      <td>16.900</td>\n",
       "    </tr>\n",
       "  </tbody>\n",
       "</table>\n",
       "</div>"
      ],
      "text/plain": [
       "            avg_aqi_CO  100ma_for_CO\n",
       "date_local                          \n",
       "2003-01-01      21.000        21.000\n",
       "2003-01-02      12.500        16.750\n",
       "2003-01-03      16.500        16.667\n",
       "2003-01-04      17.000        16.750\n",
       "2003-01-05      17.500        16.900"
      ]
     },
     "execution_count": 8,
     "metadata": {},
     "output_type": "execute_result"
    }
   ],
   "source": [
    "## Reference https://pythonprogramming.net/stock-data-manipulation-python-programming-for-finance/\n",
    "df_co_Daily['100ma_for_CO'] = df_co_Daily['avg_aqi_CO'].rolling(window=100,min_periods=0).mean()\n",
    "df_co_Daily.round(2)\n",
    "\n",
    "df_co_Daily.head(5)"
   ]
  },
  {
   "cell_type": "code",
   "execution_count": 9,
   "metadata": {},
   "outputs": [],
   "source": [
    "# ax1 = plt.subplot2grid((6,1), (0,0), rowspan=5, colspan=1,)\n",
    "# ax2 = plt.subplot2grid((6,1), (5,0), rowspan=1, colspan=1, sharex=ax1)\n",
    "\n",
    "# ax1.plot(df_co_Daily.index, df_co_Daily['avg_aqi_CO'])\n",
    "# ax1.plot(df_co_Daily.index, df_co_Daily['100ma'])\n",
    "\n",
    "# plt.show()"
   ]
  },
  {
   "cell_type": "markdown",
   "metadata": {},
   "source": [
    "# Analyze Ozone Daily"
   ]
  },
  {
   "cell_type": "code",
   "execution_count": 10,
   "metadata": {},
   "outputs": [],
   "source": [
    "\n",
    "query=\"\"\"\n",
    "SELECT\n",
    "        date_local,\n",
    "        round(avg(aqi),2) as avg_aqi_O3\n",
    "    FROM\n",
    "      `bigquery-public-data.epa_historical_air_quality.o3_daily_summary`\n",
    "    WHERE\n",
    "       state_name =\"California\" AND city_name=\"San Francisco\"\n",
    "    GROUP BY date_local\n",
    "    ORDER BY date_local ASC\n",
    "\n",
    "\"\"\"\n",
    "\n",
    "df_o3_Daily=bq_assistant.query_to_pandas(query)\n",
    "df_o3_Daily['date_local'] =  pd.to_datetime(df_o3_Daily['date_local'], format='%Y-%m-%d')\n",
    "## filter after 2003\n",
    "df_o3_Daily=df_o3_Daily[df_o3_Daily['date_local']>='2003-01-01']\n",
    "\n",
    "df_o3_Daily.set_index('date_local',inplace=True)"
   ]
  },
  {
   "cell_type": "code",
   "execution_count": 11,
   "metadata": {},
   "outputs": [
    {
     "data": {
      "text/plain": [
       "<matplotlib.axes._subplots.AxesSubplot at 0x1a0cb0c908>"
      ]
     },
     "execution_count": 11,
     "metadata": {},
     "output_type": "execute_result"
    },
    {
     "data": {
      "image/png": "[encoded data removed]",
      "text/plain": [
       "<Figure size 432x288 with 1 Axes>"
      ]
     },
     "metadata": {},
     "output_type": "display_data"
    }
   ],
   "source": [
    "from matplotlib import style\n",
    "style.use('ggplot')\n",
    "\n",
    "df_o3_Daily['avg_aqi_O3'].plot()"
   ]
  },
  {
   "cell_type": "code",
   "execution_count": 12,
   "metadata": {},
   "outputs": [
    {
     "data": {
      "text/html": [
       "<div>\n",
       "<style scoped>\n",
       "    .dataframe tbody tr th:only-of-type {\n",
       "        vertical-align: middle;\n",
       "    }\n",
       "\n",
       "    .dataframe tbody tr th {\n",
       "        vertical-align: top;\n",
       "    }\n",
       "\n",
       "    .dataframe thead th {\n",
       "        text-align: right;\n",
       "    }\n",
       "</style>\n",
       "<table border=\"1\" class=\"dataframe\">\n",
       "  <thead>\n",
       "    <tr style=\"text-align: right;\">\n",
       "      <th></th>\n",
       "      <th>avg_aqi_O3</th>\n",
       "      <th>100ma_for_Ozone</th>\n",
       "    </tr>\n",
       "    <tr>\n",
       "      <th>date_local</th>\n",
       "      <th></th>\n",
       "      <th></th>\n",
       "    </tr>\n",
       "  </thead>\n",
       "  <tbody>\n",
       "    <tr>\n",
       "      <th>2003-01-01</th>\n",
       "      <td>14.000</td>\n",
       "      <td>14.000</td>\n",
       "    </tr>\n",
       "    <tr>\n",
       "      <th>2003-01-02</th>\n",
       "      <td>3.000</td>\n",
       "      <td>8.500</td>\n",
       "    </tr>\n",
       "    <tr>\n",
       "      <th>2003-01-03</th>\n",
       "      <td>5.000</td>\n",
       "      <td>7.333</td>\n",
       "    </tr>\n",
       "    <tr>\n",
       "      <th>2003-01-04</th>\n",
       "      <td>8.000</td>\n",
       "      <td>7.500</td>\n",
       "    </tr>\n",
       "    <tr>\n",
       "      <th>2003-01-05</th>\n",
       "      <td>13.000</td>\n",
       "      <td>8.600</td>\n",
       "    </tr>\n",
       "  </tbody>\n",
       "</table>\n",
       "</div>"
      ],
      "text/plain": [
       "            avg_aqi_O3  100ma_for_Ozone\n",
       "date_local                             \n",
       "2003-01-01      14.000           14.000\n",
       "2003-01-02       3.000            8.500\n",
       "2003-01-03       5.000            7.333\n",
       "2003-01-04       8.000            7.500\n",
       "2003-01-05      13.000            8.600"
      ]
     },
     "execution_count": 12,
     "metadata": {},
     "output_type": "execute_result"
    }
   ],
   "source": [
    "## Reference https://pythonprogramming.net/stock-data-manipulation-python-programming-for-finance/\n",
    "df_o3_Daily['100ma_for_Ozone'] = df_o3_Daily['avg_aqi_O3'].rolling(window=100,min_periods=0).mean()\n",
    "df_o3_Daily.round(2)\n",
    "\n",
    "df_o3_Daily.head()"
   ]
  },
  {
   "cell_type": "markdown",
   "metadata": {},
   "source": [
    "# Analyze Nitrogen Dioxide Daily\n"
   ]
  },
  {
   "cell_type": "code",
   "execution_count": 13,
   "metadata": {},
   "outputs": [],
   "source": [
    "\n",
    "\n",
    "query=\"\"\"\n",
    "SELECT\n",
    "        date_local,\n",
    "        round(avg(aqi),2) as avg_aqi_NO2\n",
    "    FROM\n",
    "      `bigquery-public-data.epa_historical_air_quality.no2_daily_summary`\n",
    "    WHERE\n",
    "       state_name =\"California\" AND city_name=\"San Francisco\"\n",
    "    GROUP BY date_local\n",
    "    ORDER BY date_local ASC\n",
    "\n",
    "\"\"\"\n",
    "\n",
    "df_no2_Daily=bq_assistant.query_to_pandas(query)\n",
    "df_no2_Daily['date_local'] =  pd.to_datetime(df_no2_Daily['date_local'], format='%Y-%m-%d')\n",
    "## filter after 2003\n",
    "df_no2_Daily=df_no2_Daily[df_no2_Daily['date_local']>='2003-01-01']\n",
    "\n",
    "df_no2_Daily.set_index('date_local',inplace=True)"
   ]
  },
  {
   "cell_type": "code",
   "execution_count": 14,
   "metadata": {},
   "outputs": [
    {
     "data": {
      "text/plain": [
       "<matplotlib.axes._subplots.AxesSubplot at 0x1a0cb18e48>"
      ]
     },
     "execution_count": 14,
     "metadata": {},
     "output_type": "execute_result"
    },
    {
     "data": {
      "image/png": "[encoded data removed]",
      "text/plain": [
       "<Figure size 432x288 with 1 Axes>"
      ]
     },
     "metadata": {},
     "output_type": "display_data"
    }
   ],
   "source": [
    "from matplotlib import style\n",
    "style.use('ggplot')\n",
    "\n",
    "df_no2_Daily['avg_aqi_NO2'].plot()"
   ]
  },
  {
   "cell_type": "code",
   "execution_count": 15,
   "metadata": {},
   "outputs": [
    {
     "data": {
      "text/html": [
       "<div>\n",
       "<style scoped>\n",
       "    .dataframe tbody tr th:only-of-type {\n",
       "        vertical-align: middle;\n",
       "    }\n",
       "\n",
       "    .dataframe tbody tr th {\n",
       "        vertical-align: top;\n",
       "    }\n",
       "\n",
       "    .dataframe thead th {\n",
       "        text-align: right;\n",
       "    }\n",
       "</style>\n",
       "<table border=\"1\" class=\"dataframe\">\n",
       "  <thead>\n",
       "    <tr style=\"text-align: right;\">\n",
       "      <th></th>\n",
       "      <th>avg_aqi_NO2</th>\n",
       "      <th>100ma_for_Nitrogen_Dioxide</th>\n",
       "    </tr>\n",
       "    <tr>\n",
       "      <th>date_local</th>\n",
       "      <th></th>\n",
       "      <th></th>\n",
       "    </tr>\n",
       "  </thead>\n",
       "  <tbody>\n",
       "    <tr>\n",
       "      <th>2003-01-01</th>\n",
       "      <td>35.000</td>\n",
       "      <td>35.000</td>\n",
       "    </tr>\n",
       "    <tr>\n",
       "      <th>2003-01-02</th>\n",
       "      <td>32.000</td>\n",
       "      <td>33.500</td>\n",
       "    </tr>\n",
       "    <tr>\n",
       "      <th>2003-01-03</th>\n",
       "      <td>37.000</td>\n",
       "      <td>34.667</td>\n",
       "    </tr>\n",
       "    <tr>\n",
       "      <th>2003-01-04</th>\n",
       "      <td>38.000</td>\n",
       "      <td>35.500</td>\n",
       "    </tr>\n",
       "    <tr>\n",
       "      <th>2003-01-05</th>\n",
       "      <td>33.000</td>\n",
       "      <td>35.000</td>\n",
       "    </tr>\n",
       "  </tbody>\n",
       "</table>\n",
       "</div>"
      ],
      "text/plain": [
       "            avg_aqi_NO2  100ma_for_Nitrogen_Dioxide\n",
       "date_local                                         \n",
       "2003-01-01       35.000                      35.000\n",
       "2003-01-02       32.000                      33.500\n",
       "2003-01-03       37.000                      34.667\n",
       "2003-01-04       38.000                      35.500\n",
       "2003-01-05       33.000                      35.000"
      ]
     },
     "execution_count": 15,
     "metadata": {},
     "output_type": "execute_result"
    }
   ],
   "source": [
    "## Reference https://pythonprogramming.net/stock-data-manipulation-python-programming-for-finance/\n",
    "df_no2_Daily['100ma_for_Nitrogen_Dioxide'] = df_no2_Daily['avg_aqi_NO2'].rolling(window=100,min_periods=0).mean()\n",
    "df_no2_Daily.round(2)\n",
    "\n",
    "df_no2_Daily.head(5)"
   ]
  },
  {
   "cell_type": "markdown",
   "metadata": {},
   "source": [
    "# Analyze Sulphur Dioxide Daily"
   ]
  },
  {
   "cell_type": "code",
   "execution_count": 16,
   "metadata": {},
   "outputs": [
    {
     "data": {
      "text/html": [
       "<div>\n",
       "<style scoped>\n",
       "    .dataframe tbody tr th:only-of-type {\n",
       "        vertical-align: middle;\n",
       "    }\n",
       "\n",
       "    .dataframe tbody tr th {\n",
       "        vertical-align: top;\n",
       "    }\n",
       "\n",
       "    .dataframe thead th {\n",
       "        text-align: right;\n",
       "    }\n",
       "</style>\n",
       "<table border=\"1\" class=\"dataframe\">\n",
       "  <thead>\n",
       "    <tr style=\"text-align: right;\">\n",
       "      <th></th>\n",
       "      <th>avg_aqi_SO2</th>\n",
       "      <th>100ma_for_Sulphur_Dioxide</th>\n",
       "    </tr>\n",
       "    <tr>\n",
       "      <th>date_local</th>\n",
       "      <th></th>\n",
       "      <th></th>\n",
       "    </tr>\n",
       "  </thead>\n",
       "  <tbody>\n",
       "    <tr>\n",
       "      <th>2003-01-01</th>\n",
       "      <td>6.000</td>\n",
       "      <td>6.000</td>\n",
       "    </tr>\n",
       "    <tr>\n",
       "      <th>2003-01-02</th>\n",
       "      <td>10.000</td>\n",
       "      <td>8.000</td>\n",
       "    </tr>\n",
       "    <tr>\n",
       "      <th>2003-01-03</th>\n",
       "      <td>11.000</td>\n",
       "      <td>9.000</td>\n",
       "    </tr>\n",
       "    <tr>\n",
       "      <th>2003-01-04</th>\n",
       "      <td>9.000</td>\n",
       "      <td>9.000</td>\n",
       "    </tr>\n",
       "    <tr>\n",
       "      <th>2003-01-05</th>\n",
       "      <td>14.000</td>\n",
       "      <td>10.000</td>\n",
       "    </tr>\n",
       "  </tbody>\n",
       "</table>\n",
       "</div>"
      ],
      "text/plain": [
       "            avg_aqi_SO2  100ma_for_Sulphur_Dioxide\n",
       "date_local                                        \n",
       "2003-01-01        6.000                      6.000\n",
       "2003-01-02       10.000                      8.000\n",
       "2003-01-03       11.000                      9.000\n",
       "2003-01-04        9.000                      9.000\n",
       "2003-01-05       14.000                     10.000"
      ]
     },
     "execution_count": 16,
     "metadata": {},
     "output_type": "execute_result"
    },
    {
     "data": {
      "image/png": "[encoded data removed]",
      "text/plain": [
       "<Figure size 432x288 with 1 Axes>"
      ]
     },
     "metadata": {},
     "output_type": "display_data"
    }
   ],
   "source": [
    "# Analyze Sulphur Dioxide Daily\n",
    "\n",
    "query=\"\"\"\n",
    "SELECT\n",
    "        date_local,\n",
    "        round(avg(aqi),2) as avg_aqi_SO2\n",
    "    FROM\n",
    "      `bigquery-public-data.epa_historical_air_quality.so2_daily_summary`\n",
    "    WHERE\n",
    "       state_name =\"California\" AND city_name=\"San Francisco\"\n",
    "    GROUP BY date_local\n",
    "    ORDER BY date_local ASC\n",
    "\n",
    "\"\"\"\n",
    "\n",
    "df_so2_Daily=bq_assistant.query_to_pandas(query)\n",
    "df_so2_Daily['date_local'] =  pd.to_datetime(df_so2_Daily['date_local'], format='%Y-%m-%d')\n",
    "## filter after 2003\n",
    "df_so2_Daily=df_so2_Daily[df_so2_Daily['date_local']>='2003-01-01']\n",
    "df_so2_Daily.set_index('date_local',inplace=True)\n",
    "\n",
    "from matplotlib import style\n",
    "style.use('ggplot')\n",
    "\n",
    "df_so2_Daily['avg_aqi_SO2'].plot()\n",
    "\n",
    "## Reference https://pythonprogramming.net/stock-data-manipulation-python-programming-for-finance/\n",
    "df_so2_Daily['100ma_for_Sulphur_Dioxide'] = df_so2_Daily['avg_aqi_SO2'].rolling(window=100,min_periods=0).mean()\n",
    "df_so2_Daily.round(2)\n",
    "\n",
    "df_so2_Daily.head()"
   ]
  },
  {
   "cell_type": "markdown",
   "metadata": {},
   "source": [
    "# Analyze Particulate Matter Daily"
   ]
  },
  {
   "cell_type": "code",
   "execution_count": 17,
   "metadata": {},
   "outputs": [
    {
     "data": {
      "text/html": [
       "<div>\n",
       "<style scoped>\n",
       "    .dataframe tbody tr th:only-of-type {\n",
       "        vertical-align: middle;\n",
       "    }\n",
       "\n",
       "    .dataframe tbody tr th {\n",
       "        vertical-align: top;\n",
       "    }\n",
       "\n",
       "    .dataframe thead th {\n",
       "        text-align: right;\n",
       "    }\n",
       "</style>\n",
       "<table border=\"1\" class=\"dataframe\">\n",
       "  <thead>\n",
       "    <tr style=\"text-align: right;\">\n",
       "      <th></th>\n",
       "      <th>avg_aqi_pm25</th>\n",
       "      <th>100ma_for_PM25</th>\n",
       "    </tr>\n",
       "    <tr>\n",
       "      <th>date_local</th>\n",
       "      <th></th>\n",
       "      <th></th>\n",
       "    </tr>\n",
       "  </thead>\n",
       "  <tbody>\n",
       "    <tr>\n",
       "      <th>2003-01-01</th>\n",
       "      <td>65.000</td>\n",
       "      <td>65.000</td>\n",
       "    </tr>\n",
       "    <tr>\n",
       "      <th>2003-01-02</th>\n",
       "      <td>64.000</td>\n",
       "      <td>64.500</td>\n",
       "    </tr>\n",
       "    <tr>\n",
       "      <th>2003-01-03</th>\n",
       "      <td>61.000</td>\n",
       "      <td>63.333</td>\n",
       "    </tr>\n",
       "    <tr>\n",
       "      <th>2003-01-04</th>\n",
       "      <td>60.000</td>\n",
       "      <td>62.500</td>\n",
       "    </tr>\n",
       "    <tr>\n",
       "      <th>2003-01-05</th>\n",
       "      <td>70.000</td>\n",
       "      <td>64.000</td>\n",
       "    </tr>\n",
       "  </tbody>\n",
       "</table>\n",
       "</div>"
      ],
      "text/plain": [
       "            avg_aqi_pm25  100ma_for_PM25\n",
       "date_local                              \n",
       "2003-01-01        65.000          65.000\n",
       "2003-01-02        64.000          64.500\n",
       "2003-01-03        61.000          63.333\n",
       "2003-01-04        60.000          62.500\n",
       "2003-01-05        70.000          64.000"
      ]
     },
     "execution_count": 17,
     "metadata": {},
     "output_type": "execute_result"
    },
    {
     "data": {
      "image/png": "[encoded data removed]",
      "text/plain": [
       "<Figure size 432x288 with 1 Axes>"
      ]
     },
     "metadata": {},
     "output_type": "display_data"
    }
   ],
   "source": [
    "# Analyze Sulphur Dioxide Daily\n",
    "\n",
    "query=\"\"\"\n",
    "SELECT\n",
    "        date_local,\n",
    "        round(avg(aqi),2) as avg_aqi_pm25\n",
    "    FROM\n",
    "      `bigquery-public-data.epa_historical_air_quality.pm25_frm_daily_summary`\n",
    "    WHERE\n",
    "       state_name =\"California\" AND city_name=\"San Francisco\"\n",
    "    GROUP BY date_local\n",
    "    ORDER BY date_local ASC\n",
    "\n",
    "\"\"\"\n",
    "\n",
    "df_pm25_Daily=bq_assistant.query_to_pandas(query)\n",
    "df_pm25_Daily['date_local'] =  pd.to_datetime(df_pm25_Daily['date_local'], format='%Y-%m-%d')\n",
    "## filter after 2003\n",
    "df_pm25_Daily=df_pm25_Daily[df_pm25_Daily['date_local']>='2003-01-01']\n",
    "df_pm25_Daily.set_index('date_local',inplace=True)\n",
    "\n",
    "from matplotlib import style\n",
    "style.use('ggplot')\n",
    "\n",
    "df_pm25_Daily['avg_aqi_pm25'].plot()\n",
    "\n",
    "## Reference https://pythonprogramming.net/stock-data-manipulation-python-programming-for-finance/\n",
    "df_pm25_Daily['100ma_for_PM25'] = df_pm25_Daily['avg_aqi_pm25'].rolling(window=100,min_periods=0).mean()\n",
    "df_pm25_Daily.round(2)\n",
    "df_pm25_Daily.head()"
   ]
  },
  {
   "cell_type": "markdown",
   "metadata": {},
   "source": [
    "# Analyze SF Crime Daily"
   ]
  },
  {
   "cell_type": "code",
   "execution_count": 18,
   "metadata": {},
   "outputs": [],
   "source": [
    "# Analyze Sulphur Dioxide Daily\n",
    "\n",
    "query=\"\"\"\n",
    "SELECT CAST(timestamp AS DATE) as date_local,count(distinct unique_key) as no_of_incidents\n",
    "FROM `bigquery-public-data.san_francisco.sfpd_incidents`\n",
    "group by date_local\n",
    "order by date_local asc\n",
    "\"\"\"\n",
    "\n",
    "df_sfcrimes_Daily=bq_assistant.query_to_pandas(query)\n"
   ]
  },
  {
   "cell_type": "code",
   "execution_count": null,
   "metadata": {},
   "outputs": [],
   "source": []
  },
  {
   "cell_type": "code",
   "execution_count": 19,
   "metadata": {},
   "outputs": [],
   "source": [
    "df_sfcrimes_Daily['date_local'] =  pd.to_datetime(df_sfcrimes_Daily['date_local'], format='%Y-%m-%d')\n",
    "df_sfcrimes_Daily=df_sfcrimes_Daily[df_sfcrimes_Daily['date_local']<='2017-12-31']\n"
   ]
  },
  {
   "cell_type": "code",
   "execution_count": 20,
   "metadata": {},
   "outputs": [
    {
     "data": {
      "text/plain": [
       "<matplotlib.axes._subplots.AxesSubplot at 0x1a17f79080>"
      ]
     },
     "execution_count": 20,
     "metadata": {},
     "output_type": "execute_result"
    },
    {
     "data": {
      "image/png": "[encoded data removed]",
      "text/plain": [
       "<Figure size 432x288 with 1 Axes>"
      ]
     },
     "metadata": {},
     "output_type": "display_data"
    }
   ],
   "source": [
    "df_sfcrimes_Daily.set_index('date_local',inplace=True)\n",
    "\n",
    "from matplotlib import style\n",
    "style.use('ggplot')\n",
    "\n",
    "df_sfcrimes_Daily['no_of_incidents'].plot()\n",
    "\n",
    "## Reference https://pythonprogramming.net/stock-data-manipulation-python-programming-for-finance/\n",
    "# df_sfcrimes_Daily['100ma_for_No_of_Incidents'] = df_sfcrimes_Daily['no_of_incidents'].rolling(window=100,min_periods=0).mean()\n",
    "# df_sfcrimes_Daily.round(2)"
   ]
  },
  {
   "cell_type": "code",
   "execution_count": 21,
   "metadata": {},
   "outputs": [
    {
     "data": {
      "text/html": [
       "<div>\n",
       "<style scoped>\n",
       "    .dataframe tbody tr th:only-of-type {\n",
       "        vertical-align: middle;\n",
       "    }\n",
       "\n",
       "    .dataframe tbody tr th {\n",
       "        vertical-align: top;\n",
       "    }\n",
       "\n",
       "    .dataframe thead th {\n",
       "        text-align: right;\n",
       "    }\n",
       "</style>\n",
       "<table border=\"1\" class=\"dataframe\">\n",
       "  <thead>\n",
       "    <tr style=\"text-align: right;\">\n",
       "      <th></th>\n",
       "      <th>no_of_incidents</th>\n",
       "    </tr>\n",
       "    <tr>\n",
       "      <th>date_local</th>\n",
       "      <th></th>\n",
       "    </tr>\n",
       "  </thead>\n",
       "  <tbody>\n",
       "    <tr>\n",
       "      <th>2003-01-01</th>\n",
       "      <td>511</td>\n",
       "    </tr>\n",
       "    <tr>\n",
       "      <th>2003-01-02</th>\n",
       "      <td>321</td>\n",
       "    </tr>\n",
       "    <tr>\n",
       "      <th>2003-01-03</th>\n",
       "      <td>368</td>\n",
       "    </tr>\n",
       "    <tr>\n",
       "      <th>2003-01-04</th>\n",
       "      <td>276</td>\n",
       "    </tr>\n",
       "    <tr>\n",
       "      <th>2003-01-05</th>\n",
       "      <td>290</td>\n",
       "    </tr>\n",
       "  </tbody>\n",
       "</table>\n",
       "</div>"
      ],
      "text/plain": [
       "            no_of_incidents\n",
       "date_local                 \n",
       "2003-01-01              511\n",
       "2003-01-02              321\n",
       "2003-01-03              368\n",
       "2003-01-04              276\n",
       "2003-01-05              290"
      ]
     },
     "execution_count": 21,
     "metadata": {},
     "output_type": "execute_result"
    }
   ],
   "source": [
    "df_sfcrimes_Daily.head()"
   ]
  },
  {
   "cell_type": "code",
   "execution_count": 22,
   "metadata": {},
   "outputs": [
    {
     "data": {
      "text/plain": [
       "(5476, 2)"
      ]
     },
     "execution_count": 22,
     "metadata": {},
     "output_type": "execute_result"
    }
   ],
   "source": [
    "df_co_Daily.shape"
   ]
  },
  {
   "cell_type": "code",
   "execution_count": 23,
   "metadata": {},
   "outputs": [
    {
     "data": {
      "text/plain": [
       "(5472, 2)"
      ]
     },
     "execution_count": 23,
     "metadata": {},
     "output_type": "execute_result"
    }
   ],
   "source": [
    "df_o3_Daily.shape"
   ]
  },
  {
   "cell_type": "code",
   "execution_count": 24,
   "metadata": {},
   "outputs": [
    {
     "data": {
      "text/plain": [
       "(5465, 2)"
      ]
     },
     "execution_count": 24,
     "metadata": {},
     "output_type": "execute_result"
    }
   ],
   "source": [
    "df_no2_Daily.shape"
   ]
  },
  {
   "cell_type": "code",
   "execution_count": 25,
   "metadata": {},
   "outputs": [
    {
     "data": {
      "text/plain": [
       "(4153, 2)"
      ]
     },
     "execution_count": 25,
     "metadata": {},
     "output_type": "execute_result"
    }
   ],
   "source": [
    "df_pm25_Daily.shape"
   ]
  },
  {
   "cell_type": "code",
   "execution_count": 26,
   "metadata": {},
   "outputs": [
    {
     "data": {
      "text/plain": [
       "(5478, 1)"
      ]
     },
     "execution_count": 26,
     "metadata": {},
     "output_type": "execute_result"
    }
   ],
   "source": [
    "df_sfcrimes_Daily.shape"
   ]
  },
  {
   "cell_type": "code",
   "execution_count": 27,
   "metadata": {},
   "outputs": [],
   "source": [
    "## Combine the dataframes ie all\n",
    "from functools import reduce\n",
    "\n",
    "df_co_Daily.reset_index(inplace=True)\n",
    "df_o3_Daily.reset_index(inplace=True)\n",
    "df_no2_Daily.reset_index(inplace=True)\n",
    "df_pm25_Daily.reset_index(inplace=True)\n",
    "df_sfcrimes_Daily.reset_index(inplace=True)\n",
    "\n",
    "## Reference: https://stackoverflow.com/questions/23668427/pandas-three-way-joining-multiple-dataframes-on-columns\n",
    "frames=[df_co_Daily,df_o3_Daily,df_no2_Daily,df_sfcrimes_Daily,df_pm25_Daily]\n",
    "df_final = reduce(lambda left,right: pd.merge(left,right,on='date_local'), frames)\n"
   ]
  },
  {
   "cell_type": "code",
   "execution_count": 28,
   "metadata": {
    "scrolled": false
   },
   "outputs": [
    {
     "data": {
      "text/plain": [
       "Index(['date_local', 'avg_aqi_CO', '100ma_for_CO', 'avg_aqi_O3',\n",
       "       '100ma_for_Ozone', 'avg_aqi_NO2', '100ma_for_Nitrogen_Dioxide',\n",
       "       'no_of_incidents', 'avg_aqi_pm25', '100ma_for_PM25'],\n",
       "      dtype='object')"
      ]
     },
     "execution_count": 28,
     "metadata": {},
     "output_type": "execute_result"
    }
   ],
   "source": [
    "df_final.columns"
   ]
  },
  {
   "cell_type": "code",
   "execution_count": 29,
   "metadata": {},
   "outputs": [
    {
     "data": {
      "text/html": [
       "<div>\n",
       "<style scoped>\n",
       "    .dataframe tbody tr th:only-of-type {\n",
       "        vertical-align: middle;\n",
       "    }\n",
       "\n",
       "    .dataframe tbody tr th {\n",
       "        vertical-align: top;\n",
       "    }\n",
       "\n",
       "    .dataframe thead th {\n",
       "        text-align: right;\n",
       "    }\n",
       "</style>\n",
       "<table border=\"1\" class=\"dataframe\">\n",
       "  <thead>\n",
       "    <tr style=\"text-align: right;\">\n",
       "      <th></th>\n",
       "      <th>date_local</th>\n",
       "      <th>avg_aqi_CO</th>\n",
       "      <th>100ma_for_CO</th>\n",
       "      <th>avg_aqi_O3</th>\n",
       "      <th>100ma_for_Ozone</th>\n",
       "      <th>avg_aqi_NO2</th>\n",
       "      <th>100ma_for_Nitrogen_Dioxide</th>\n",
       "      <th>no_of_incidents</th>\n",
       "      <th>avg_aqi_pm25</th>\n",
       "      <th>100ma_for_PM25</th>\n",
       "    </tr>\n",
       "  </thead>\n",
       "  <tbody>\n",
       "    <tr>\n",
       "      <th>0</th>\n",
       "      <td>2003-01-01</td>\n",
       "      <td>21.000</td>\n",
       "      <td>21.000</td>\n",
       "      <td>14.000</td>\n",
       "      <td>14.000</td>\n",
       "      <td>35.000</td>\n",
       "      <td>35.000</td>\n",
       "      <td>511</td>\n",
       "      <td>65.000</td>\n",
       "      <td>65.000</td>\n",
       "    </tr>\n",
       "    <tr>\n",
       "      <th>1</th>\n",
       "      <td>2003-01-02</td>\n",
       "      <td>12.500</td>\n",
       "      <td>16.750</td>\n",
       "      <td>3.000</td>\n",
       "      <td>8.500</td>\n",
       "      <td>32.000</td>\n",
       "      <td>33.500</td>\n",
       "      <td>321</td>\n",
       "      <td>64.000</td>\n",
       "      <td>64.500</td>\n",
       "    </tr>\n",
       "    <tr>\n",
       "      <th>2</th>\n",
       "      <td>2003-01-03</td>\n",
       "      <td>16.500</td>\n",
       "      <td>16.667</td>\n",
       "      <td>5.000</td>\n",
       "      <td>7.333</td>\n",
       "      <td>37.000</td>\n",
       "      <td>34.667</td>\n",
       "      <td>368</td>\n",
       "      <td>61.000</td>\n",
       "      <td>63.333</td>\n",
       "    </tr>\n",
       "    <tr>\n",
       "      <th>3</th>\n",
       "      <td>2003-01-04</td>\n",
       "      <td>17.000</td>\n",
       "      <td>16.750</td>\n",
       "      <td>8.000</td>\n",
       "      <td>7.500</td>\n",
       "      <td>38.000</td>\n",
       "      <td>35.500</td>\n",
       "      <td>276</td>\n",
       "      <td>60.000</td>\n",
       "      <td>62.500</td>\n",
       "    </tr>\n",
       "    <tr>\n",
       "      <th>4</th>\n",
       "      <td>2003-01-05</td>\n",
       "      <td>17.500</td>\n",
       "      <td>16.900</td>\n",
       "      <td>13.000</td>\n",
       "      <td>8.600</td>\n",
       "      <td>33.000</td>\n",
       "      <td>35.000</td>\n",
       "      <td>290</td>\n",
       "      <td>70.000</td>\n",
       "      <td>64.000</td>\n",
       "    </tr>\n",
       "  </tbody>\n",
       "</table>\n",
       "</div>"
      ],
      "text/plain": [
       "  date_local  avg_aqi_CO  100ma_for_CO  avg_aqi_O3  100ma_for_Ozone  \\\n",
       "0 2003-01-01      21.000        21.000      14.000           14.000   \n",
       "1 2003-01-02      12.500        16.750       3.000            8.500   \n",
       "2 2003-01-03      16.500        16.667       5.000            7.333   \n",
       "3 2003-01-04      17.000        16.750       8.000            7.500   \n",
       "4 2003-01-05      17.500        16.900      13.000            8.600   \n",
       "\n",
       "   avg_aqi_NO2  100ma_for_Nitrogen_Dioxide  no_of_incidents  avg_aqi_pm25  \\\n",
       "0       35.000                      35.000              511        65.000   \n",
       "1       32.000                      33.500              321        64.000   \n",
       "2       37.000                      34.667              368        61.000   \n",
       "3       38.000                      35.500              276        60.000   \n",
       "4       33.000                      35.000              290        70.000   \n",
       "\n",
       "   100ma_for_PM25  \n",
       "0          65.000  \n",
       "1          64.500  \n",
       "2          63.333  \n",
       "3          62.500  \n",
       "4          64.000  "
      ]
     },
     "execution_count": 29,
     "metadata": {},
     "output_type": "execute_result"
    }
   ],
   "source": [
    "df_final.head()"
   ]
  },
  {
   "cell_type": "code",
   "execution_count": 30,
   "metadata": {},
   "outputs": [],
   "source": [
    "from sklearn.preprocessing import Imputer\n",
    "\n",
    "imp=Imputer(missing_values='NaN',strategy='mean')\n",
    "df_final[\"avg_aqi_pm25\"]=imp.fit_transform(df_final[[\"avg_aqi_pm25\"]]).ravel()"
   ]
  },
  {
   "cell_type": "code",
   "execution_count": 31,
   "metadata": {},
   "outputs": [],
   "source": [
    "# ## Optional MinMax Scaling\n",
    "# from sklearn.preprocessing import MinMaxScaler\n",
    "# df_final[['avg_aqi_CO','avg_aqi_O3','avg_aqi_pm25','avg_aqi_NO2']] = MinMaxScaler().fit_transform(df_final[['avg_aqi_CO','avg_aqi_O3','avg_aqi_pm25','avg_aqi_NO2']])\n"
   ]
  },
  {
   "cell_type": "code",
   "execution_count": 32,
   "metadata": {
    "scrolled": true
   },
   "outputs": [
    {
     "data": {
      "text/plain": [
       "(4139, 10)"
      ]
     },
     "execution_count": 32,
     "metadata": {},
     "output_type": "execute_result"
    }
   ],
   "source": [
    "# ## Optional MinMax Scaling\n",
    "# from sklearn.preprocessing import StandardScaler\n",
    "# df_final[['avg_aqi_CO','avg_aqi_O3','avg_aqi_pm25','avg_aqi_NO2']] = StandardScaler().fit_transform(df_final[['avg_aqi_CO','avg_aqi_O3','avg_aqi_pm25','avg_aqi_NO2']])\n",
    "df_final.shape"
   ]
  },
  {
   "cell_type": "markdown",
   "metadata": {},
   "source": [
    "# Finding crimes per capita"
   ]
  },
  {
   "cell_type": "code",
   "execution_count": 33,
   "metadata": {},
   "outputs": [],
   "source": [
    "import pickle\n",
    "## Deserialize the pickle object to get back the data frame\n",
    "picle_in=open('population/dataframe.pickle','rb')\n",
    "df_pop_per_yr=pickle.load(picle_in)"
   ]
  },
  {
   "cell_type": "code",
   "execution_count": 34,
   "metadata": {},
   "outputs": [],
   "source": [
    "df_pop_per_yr['year'] = df_pop_per_yr['year'].astype(str).replace('\\.0', '', regex=True)"
   ]
  },
  {
   "cell_type": "code",
   "execution_count": 35,
   "metadata": {},
   "outputs": [
    {
     "data": {
      "text/plain": [
       "date_local                    datetime64[ns]\n",
       "avg_aqi_CO                           float64\n",
       "100ma_for_CO                         float64\n",
       "avg_aqi_O3                           float64\n",
       "100ma_for_Ozone                      float64\n",
       "avg_aqi_NO2                          float64\n",
       "100ma_for_Nitrogen_Dioxide           float64\n",
       "no_of_incidents                        int64\n",
       "avg_aqi_pm25                         float64\n",
       "100ma_for_PM25                       float64\n",
       "dtype: object"
      ]
     },
     "execution_count": 35,
     "metadata": {},
     "output_type": "execute_result"
    }
   ],
   "source": [
    "df_final.dtypes"
   ]
  },
  {
   "cell_type": "code",
   "execution_count": 36,
   "metadata": {},
   "outputs": [],
   "source": [
    "## Reference https://stackoverflow.com/questions/48295624/extract-year-from-date-column-in-dataframe-having-different-date-format-pyth\n",
    "df_final['year']=pd.to_datetime(df_final['date_local'], format='%Y-%m-%d').dt.year\n",
    "df_final['year']=df_final['year'].astype(str)"
   ]
  },
  {
   "cell_type": "code",
   "execution_count": 37,
   "metadata": {},
   "outputs": [],
   "source": [
    "df_daily=pd.merge(df_final, df_pop_per_yr, how='inner', on='year')"
   ]
  },
  {
   "cell_type": "code",
   "execution_count": 38,
   "metadata": {},
   "outputs": [],
   "source": [
    "df_daily['Incidents_per_population']=df_daily['no_of_incidents']/df_daily['Population']"
   ]
  },
  {
   "cell_type": "code",
   "execution_count": 39,
   "metadata": {
    "scrolled": true
   },
   "outputs": [
    {
     "data": {
      "text/html": [
       "<div>\n",
       "<style scoped>\n",
       "    .dataframe tbody tr th:only-of-type {\n",
       "        vertical-align: middle;\n",
       "    }\n",
       "\n",
       "    .dataframe tbody tr th {\n",
       "        vertical-align: top;\n",
       "    }\n",
       "\n",
       "    .dataframe thead th {\n",
       "        text-align: right;\n",
       "    }\n",
       "</style>\n",
       "<table border=\"1\" class=\"dataframe\">\n",
       "  <thead>\n",
       "    <tr style=\"text-align: right;\">\n",
       "      <th></th>\n",
       "      <th>date_local</th>\n",
       "      <th>avg_aqi_CO</th>\n",
       "      <th>100ma_for_CO</th>\n",
       "      <th>avg_aqi_O3</th>\n",
       "      <th>100ma_for_Ozone</th>\n",
       "      <th>avg_aqi_NO2</th>\n",
       "      <th>100ma_for_Nitrogen_Dioxide</th>\n",
       "      <th>no_of_incidents</th>\n",
       "      <th>avg_aqi_pm25</th>\n",
       "      <th>100ma_for_PM25</th>\n",
       "      <th>year</th>\n",
       "      <th>Population</th>\n",
       "      <th>Incidents_per_population</th>\n",
       "    </tr>\n",
       "  </thead>\n",
       "  <tbody>\n",
       "    <tr>\n",
       "      <th>0</th>\n",
       "      <td>2003-01-01</td>\n",
       "      <td>21.000</td>\n",
       "      <td>21.000</td>\n",
       "      <td>14.000</td>\n",
       "      <td>14.000</td>\n",
       "      <td>35.000</td>\n",
       "      <td>35.000</td>\n",
       "      <td>511</td>\n",
       "      <td>65.000</td>\n",
       "      <td>65.000</td>\n",
       "      <td>2003</td>\n",
       "      <td>766160.000</td>\n",
       "      <td>0.001</td>\n",
       "    </tr>\n",
       "    <tr>\n",
       "      <th>1</th>\n",
       "      <td>2003-01-02</td>\n",
       "      <td>12.500</td>\n",
       "      <td>16.750</td>\n",
       "      <td>3.000</td>\n",
       "      <td>8.500</td>\n",
       "      <td>32.000</td>\n",
       "      <td>33.500</td>\n",
       "      <td>321</td>\n",
       "      <td>64.000</td>\n",
       "      <td>64.500</td>\n",
       "      <td>2003</td>\n",
       "      <td>766160.000</td>\n",
       "      <td>0.000</td>\n",
       "    </tr>\n",
       "    <tr>\n",
       "      <th>2</th>\n",
       "      <td>2003-01-03</td>\n",
       "      <td>16.500</td>\n",
       "      <td>16.667</td>\n",
       "      <td>5.000</td>\n",
       "      <td>7.333</td>\n",
       "      <td>37.000</td>\n",
       "      <td>34.667</td>\n",
       "      <td>368</td>\n",
       "      <td>61.000</td>\n",
       "      <td>63.333</td>\n",
       "      <td>2003</td>\n",
       "      <td>766160.000</td>\n",
       "      <td>0.000</td>\n",
       "    </tr>\n",
       "    <tr>\n",
       "      <th>3</th>\n",
       "      <td>2003-01-04</td>\n",
       "      <td>17.000</td>\n",
       "      <td>16.750</td>\n",
       "      <td>8.000</td>\n",
       "      <td>7.500</td>\n",
       "      <td>38.000</td>\n",
       "      <td>35.500</td>\n",
       "      <td>276</td>\n",
       "      <td>60.000</td>\n",
       "      <td>62.500</td>\n",
       "      <td>2003</td>\n",
       "      <td>766160.000</td>\n",
       "      <td>0.000</td>\n",
       "    </tr>\n",
       "    <tr>\n",
       "      <th>4</th>\n",
       "      <td>2003-01-05</td>\n",
       "      <td>17.500</td>\n",
       "      <td>16.900</td>\n",
       "      <td>13.000</td>\n",
       "      <td>8.600</td>\n",
       "      <td>33.000</td>\n",
       "      <td>35.000</td>\n",
       "      <td>290</td>\n",
       "      <td>70.000</td>\n",
       "      <td>64.000</td>\n",
       "      <td>2003</td>\n",
       "      <td>766160.000</td>\n",
       "      <td>0.000</td>\n",
       "    </tr>\n",
       "  </tbody>\n",
       "</table>\n",
       "</div>"
      ],
      "text/plain": [
       "  date_local  avg_aqi_CO  100ma_for_CO  avg_aqi_O3  100ma_for_Ozone  \\\n",
       "0 2003-01-01      21.000        21.000      14.000           14.000   \n",
       "1 2003-01-02      12.500        16.750       3.000            8.500   \n",
       "2 2003-01-03      16.500        16.667       5.000            7.333   \n",
       "3 2003-01-04      17.000        16.750       8.000            7.500   \n",
       "4 2003-01-05      17.500        16.900      13.000            8.600   \n",
       "\n",
       "   avg_aqi_NO2  100ma_for_Nitrogen_Dioxide  no_of_incidents  avg_aqi_pm25  \\\n",
       "0       35.000                      35.000              511        65.000   \n",
       "1       32.000                      33.500              321        64.000   \n",
       "2       37.000                      34.667              368        61.000   \n",
       "3       38.000                      35.500              276        60.000   \n",
       "4       33.000                      35.000              290        70.000   \n",
       "\n",
       "   100ma_for_PM25  year  Population  Incidents_per_population  \n",
       "0          65.000  2003  766160.000                     0.001  \n",
       "1          64.500  2003  766160.000                     0.000  \n",
       "2          63.333  2003  766160.000                     0.000  \n",
       "3          62.500  2003  766160.000                     0.000  \n",
       "4          64.000  2003  766160.000                     0.000  "
      ]
     },
     "execution_count": 39,
     "metadata": {},
     "output_type": "execute_result"
    }
   ],
   "source": [
    "df_daily.head()"
   ]
  },
  {
   "cell_type": "code",
   "execution_count": 40,
   "metadata": {},
   "outputs": [],
   "source": [
    "# df_daily[['Incidents_per_population']]=MinMaxScaler().fit_transform(df_daily[['Incidents_per_population']])\n",
    "## Both the x and ys are on same scale now100,000\n",
    "df_daily['Incidents_per_population']=df_daily['Incidents_per_population']*100000"
   ]
  },
  {
   "cell_type": "code",
   "execution_count": 41,
   "metadata": {},
   "outputs": [
    {
     "data": {
      "text/html": [
       "<div>\n",
       "<style scoped>\n",
       "    .dataframe tbody tr th:only-of-type {\n",
       "        vertical-align: middle;\n",
       "    }\n",
       "\n",
       "    .dataframe tbody tr th {\n",
       "        vertical-align: top;\n",
       "    }\n",
       "\n",
       "    .dataframe thead th {\n",
       "        text-align: right;\n",
       "    }\n",
       "</style>\n",
       "<table border=\"1\" class=\"dataframe\">\n",
       "  <thead>\n",
       "    <tr style=\"text-align: right;\">\n",
       "      <th></th>\n",
       "      <th>avg_aqi_CO</th>\n",
       "      <th>100ma_for_CO</th>\n",
       "      <th>avg_aqi_O3</th>\n",
       "      <th>100ma_for_Ozone</th>\n",
       "      <th>avg_aqi_NO2</th>\n",
       "      <th>100ma_for_Nitrogen_Dioxide</th>\n",
       "      <th>no_of_incidents</th>\n",
       "      <th>avg_aqi_pm25</th>\n",
       "      <th>100ma_for_PM25</th>\n",
       "      <th>Population</th>\n",
       "      <th>Incidents_per_population</th>\n",
       "    </tr>\n",
       "  </thead>\n",
       "  <tbody>\n",
       "    <tr>\n",
       "      <th>avg_aqi_CO</th>\n",
       "      <td>1.000</td>\n",
       "      <td>0.613</td>\n",
       "      <td>-0.336</td>\n",
       "      <td>-0.460</td>\n",
       "      <td>0.625</td>\n",
       "      <td>0.355</td>\n",
       "      <td>0.145</td>\n",
       "      <td>0.471</td>\n",
       "      <td>0.271</td>\n",
       "      <td>-0.338</td>\n",
       "      <td>0.281</td>\n",
       "    </tr>\n",
       "    <tr>\n",
       "      <th>100ma_for_CO</th>\n",
       "      <td>0.613</td>\n",
       "      <td>1.000</td>\n",
       "      <td>-0.103</td>\n",
       "      <td>-0.558</td>\n",
       "      <td>0.321</td>\n",
       "      <td>0.656</td>\n",
       "      <td>0.121</td>\n",
       "      <td>0.144</td>\n",
       "      <td>0.535</td>\n",
       "      <td>-0.433</td>\n",
       "      <td>0.296</td>\n",
       "    </tr>\n",
       "    <tr>\n",
       "      <th>avg_aqi_O3</th>\n",
       "      <td>-0.336</td>\n",
       "      <td>-0.103</td>\n",
       "      <td>1.000</td>\n",
       "      <td>0.280</td>\n",
       "      <td>-0.183</td>\n",
       "      <td>-0.033</td>\n",
       "      <td>-0.009</td>\n",
       "      <td>-0.343</td>\n",
       "      <td>-0.157</td>\n",
       "      <td>0.225</td>\n",
       "      <td>-0.099</td>\n",
       "    </tr>\n",
       "    <tr>\n",
       "      <th>100ma_for_Ozone</th>\n",
       "      <td>-0.460</td>\n",
       "      <td>-0.558</td>\n",
       "      <td>0.280</td>\n",
       "      <td>1.000</td>\n",
       "      <td>-0.422</td>\n",
       "      <td>-0.402</td>\n",
       "      <td>0.018</td>\n",
       "      <td>-0.223</td>\n",
       "      <td>-0.621</td>\n",
       "      <td>0.494</td>\n",
       "      <td>-0.178</td>\n",
       "    </tr>\n",
       "    <tr>\n",
       "      <th>avg_aqi_NO2</th>\n",
       "      <td>0.625</td>\n",
       "      <td>0.321</td>\n",
       "      <td>-0.183</td>\n",
       "      <td>-0.422</td>\n",
       "      <td>1.000</td>\n",
       "      <td>0.433</td>\n",
       "      <td>0.002</td>\n",
       "      <td>0.431</td>\n",
       "      <td>0.297</td>\n",
       "      <td>-0.246</td>\n",
       "      <td>0.100</td>\n",
       "    </tr>\n",
       "    <tr>\n",
       "      <th>100ma_for_Nitrogen_Dioxide</th>\n",
       "      <td>0.355</td>\n",
       "      <td>0.656</td>\n",
       "      <td>-0.033</td>\n",
       "      <td>-0.402</td>\n",
       "      <td>0.433</td>\n",
       "      <td>1.000</td>\n",
       "      <td>-0.186</td>\n",
       "      <td>0.196</td>\n",
       "      <td>0.638</td>\n",
       "      <td>-0.333</td>\n",
       "      <td>-0.050</td>\n",
       "    </tr>\n",
       "    <tr>\n",
       "      <th>no_of_incidents</th>\n",
       "      <td>0.145</td>\n",
       "      <td>0.121</td>\n",
       "      <td>-0.009</td>\n",
       "      <td>0.018</td>\n",
       "      <td>0.002</td>\n",
       "      <td>-0.186</td>\n",
       "      <td>1.000</td>\n",
       "      <td>-0.024</td>\n",
       "      <td>-0.136</td>\n",
       "      <td>0.151</td>\n",
       "      <td>0.921</td>\n",
       "    </tr>\n",
       "    <tr>\n",
       "      <th>avg_aqi_pm25</th>\n",
       "      <td>0.471</td>\n",
       "      <td>0.144</td>\n",
       "      <td>-0.343</td>\n",
       "      <td>-0.223</td>\n",
       "      <td>0.431</td>\n",
       "      <td>0.196</td>\n",
       "      <td>-0.024</td>\n",
       "      <td>1.000</td>\n",
       "      <td>0.286</td>\n",
       "      <td>-0.152</td>\n",
       "      <td>0.037</td>\n",
       "    </tr>\n",
       "    <tr>\n",
       "      <th>100ma_for_PM25</th>\n",
       "      <td>0.271</td>\n",
       "      <td>0.535</td>\n",
       "      <td>-0.157</td>\n",
       "      <td>-0.621</td>\n",
       "      <td>0.297</td>\n",
       "      <td>0.638</td>\n",
       "      <td>-0.136</td>\n",
       "      <td>0.286</td>\n",
       "      <td>1.000</td>\n",
       "      <td>-0.441</td>\n",
       "      <td>0.041</td>\n",
       "    </tr>\n",
       "    <tr>\n",
       "      <th>Population</th>\n",
       "      <td>-0.338</td>\n",
       "      <td>-0.433</td>\n",
       "      <td>0.225</td>\n",
       "      <td>0.494</td>\n",
       "      <td>-0.246</td>\n",
       "      <td>-0.333</td>\n",
       "      <td>0.151</td>\n",
       "      <td>-0.152</td>\n",
       "      <td>-0.441</td>\n",
       "      <td>1.000</td>\n",
       "      <td>-0.243</td>\n",
       "    </tr>\n",
       "    <tr>\n",
       "      <th>Incidents_per_population</th>\n",
       "      <td>0.281</td>\n",
       "      <td>0.296</td>\n",
       "      <td>-0.099</td>\n",
       "      <td>-0.178</td>\n",
       "      <td>0.100</td>\n",
       "      <td>-0.050</td>\n",
       "      <td>0.921</td>\n",
       "      <td>0.037</td>\n",
       "      <td>0.041</td>\n",
       "      <td>-0.243</td>\n",
       "      <td>1.000</td>\n",
       "    </tr>\n",
       "  </tbody>\n",
       "</table>\n",
       "</div>"
      ],
      "text/plain": [
       "                            avg_aqi_CO  100ma_for_CO  avg_aqi_O3  \\\n",
       "avg_aqi_CO                       1.000         0.613      -0.336   \n",
       "100ma_for_CO                     0.613         1.000      -0.103   \n",
       "avg_aqi_O3                      -0.336        -0.103       1.000   \n",
       "100ma_for_Ozone                 -0.460        -0.558       0.280   \n",
       "avg_aqi_NO2                      0.625         0.321      -0.183   \n",
       "100ma_for_Nitrogen_Dioxide       0.355         0.656      -0.033   \n",
       "no_of_incidents                  0.145         0.121      -0.009   \n",
       "avg_aqi_pm25                     0.471         0.144      -0.343   \n",
       "100ma_for_PM25                   0.271         0.535      -0.157   \n",
       "Population                      -0.338        -0.433       0.225   \n",
       "Incidents_per_population         0.281         0.296      -0.099   \n",
       "\n",
       "                            100ma_for_Ozone  avg_aqi_NO2  \\\n",
       "avg_aqi_CO                           -0.460        0.625   \n",
       "100ma_for_CO                         -0.558        0.321   \n",
       "avg_aqi_O3                            0.280       -0.183   \n",
       "100ma_for_Ozone                       1.000       -0.422   \n",
       "avg_aqi_NO2                          -0.422        1.000   \n",
       "100ma_for_Nitrogen_Dioxide           -0.402        0.433   \n",
       "no_of_incidents                       0.018        0.002   \n",
       "avg_aqi_pm25                         -0.223        0.431   \n",
       "100ma_for_PM25                       -0.621        0.297   \n",
       "Population                            0.494       -0.246   \n",
       "Incidents_per_population             -0.178        0.100   \n",
       "\n",
       "                            100ma_for_Nitrogen_Dioxide  no_of_incidents  \\\n",
       "avg_aqi_CO                                       0.355            0.145   \n",
       "100ma_for_CO                                     0.656            0.121   \n",
       "avg_aqi_O3                                      -0.033           -0.009   \n",
       "100ma_for_Ozone                                 -0.402            0.018   \n",
       "avg_aqi_NO2                                      0.433            0.002   \n",
       "100ma_for_Nitrogen_Dioxide                       1.000           -0.186   \n",
       "no_of_incidents                                 -0.186            1.000   \n",
       "avg_aqi_pm25                                     0.196           -0.024   \n",
       "100ma_for_PM25                                   0.638           -0.136   \n",
       "Population                                      -0.333            0.151   \n",
       "Incidents_per_population                        -0.050            0.921   \n",
       "\n",
       "                            avg_aqi_pm25  100ma_for_PM25  Population  \\\n",
       "avg_aqi_CO                         0.471           0.271      -0.338   \n",
       "100ma_for_CO                       0.144           0.535      -0.433   \n",
       "avg_aqi_O3                        -0.343          -0.157       0.225   \n",
       "100ma_for_Ozone                   -0.223          -0.621       0.494   \n",
       "avg_aqi_NO2                        0.431           0.297      -0.246   \n",
       "100ma_for_Nitrogen_Dioxide         0.196           0.638      -0.333   \n",
       "no_of_incidents                   -0.024          -0.136       0.151   \n",
       "avg_aqi_pm25                       1.000           0.286      -0.152   \n",
       "100ma_for_PM25                     0.286           1.000      -0.441   \n",
       "Population                        -0.152          -0.441       1.000   \n",
       "Incidents_per_population           0.037           0.041      -0.243   \n",
       "\n",
       "                            Incidents_per_population  \n",
       "avg_aqi_CO                                     0.281  \n",
       "100ma_for_CO                                   0.296  \n",
       "avg_aqi_O3                                    -0.099  \n",
       "100ma_for_Ozone                               -0.178  \n",
       "avg_aqi_NO2                                    0.100  \n",
       "100ma_for_Nitrogen_Dioxide                    -0.050  \n",
       "no_of_incidents                                0.921  \n",
       "avg_aqi_pm25                                   0.037  \n",
       "100ma_for_PM25                                 0.041  \n",
       "Population                                    -0.243  \n",
       "Incidents_per_population                       1.000  "
      ]
     },
     "execution_count": 41,
     "metadata": {},
     "output_type": "execute_result"
    }
   ],
   "source": [
    "df_daily.corr()"
   ]
  },
  {
   "cell_type": "markdown",
   "metadata": {},
   "source": [
    "# Study of Target Variable "
   ]
  },
  {
   "cell_type": "code",
   "execution_count": 42,
   "metadata": {},
   "outputs": [
    {
     "name": "stderr",
     "output_type": "stream",
     "text": [
      "/Users/nikhileshchaudhary/anaconda3/lib/python3.6/site-packages/matplotlib/axes/_axes.py:6462: UserWarning: The 'normed' kwarg is deprecated, and has been replaced by the 'density' kwarg.\n",
      "  warnings.warn(\"The 'normed' kwarg is deprecated, and has been \"\n"
     ]
    },
    {
     "name": "stdout",
     "output_type": "stream",
     "text": [
      "\n",
      " mu = 37.84 and sigma = 4.89\n",
      "\n"
     ]
    },
    {
     "data": {
      "image/png": "[encoded data removed]",
      "text/plain": [
       "<Figure size 432x288 with 1 Axes>"
      ]
     },
     "metadata": {},
     "output_type": "display_data"
    },
    {
     "data": {
      "image/png": "[encoded data removed]",
      "text/plain": [
       "<Figure size 432x288 with 1 Axes>"
      ]
     },
     "metadata": {},
     "output_type": "display_data"
    }
   ],
   "source": [
    "from scipy import stats\n",
    "from scipy.stats import norm, skew\n",
    "color = sns.color_palette()\n",
    "sns.set_style('darkgrid')\n",
    "\n",
    "sns.distplot(df_daily['Incidents_per_population'] , fit=norm);\n",
    "\n",
    "# Get the fitted parameters used by the function\n",
    "(mu, sigma) = norm.fit(df_daily['Incidents_per_population'])\n",
    "print( '\\n mu = {:.2f} and sigma = {:.2f}\\n'.format(mu, sigma))\n",
    "\n",
    "#Now plot the distribution\n",
    "plt.legend(['Normal dist. ($\\mu=$ {:.2f} and $\\sigma=$ {:.2f} )'.format(mu, sigma)],\n",
    "            loc='best')\n",
    "plt.ylabel('Frequency')\n",
    "plt.title('Incidents_per_population distribution')\n",
    "\n",
    "#Get also the QQ-plot\n",
    "fig = plt.figure()\n",
    "res = stats.probplot(df_daily['Incidents_per_population'], plot=plt)\n",
    "plt.show()"
   ]
  },
  {
   "cell_type": "markdown",
   "metadata": {},
   "source": [
    "# Log-transformation of the target variable\n",
    "\n"
   ]
  },
  {
   "cell_type": "code",
   "execution_count": 43,
   "metadata": {
    "scrolled": true
   },
   "outputs": [
    {
     "name": "stdout",
     "output_type": "stream",
     "text": [
      "\n",
      " mu = 3.65 and sigma = 0.14\n",
      "\n"
     ]
    },
    {
     "name": "stderr",
     "output_type": "stream",
     "text": [
      "/Users/nikhileshchaudhary/anaconda3/lib/python3.6/site-packages/matplotlib/axes/_axes.py:6462: UserWarning: The 'normed' kwarg is deprecated, and has been replaced by the 'density' kwarg.\n",
      "  warnings.warn(\"The 'normed' kwarg is deprecated, and has been \"\n"
     ]
    },
    {
     "data": {
      "image/png": "[encoded data removed]",
      "text/plain": [
       "<Figure size 432x288 with 1 Axes>"
      ]
     },
     "metadata": {},
     "output_type": "display_data"
    },
    {
     "data": {
      "image/png": "[encoded data removed]",
      "text/plain": [
       "<Figure size 432x288 with 1 Axes>"
      ]
     },
     "metadata": {},
     "output_type": "display_data"
    }
   ],
   "source": [
    "#We use the numpy fuction log1p which  applies log(1+x) to all elements of the column\n",
    "df_daily[\"Incidents_per_population\"] = np.log1p(df_daily[\"Incidents_per_population\"])\n",
    "\n",
    "#Check the new distribution \n",
    "sns.distplot(df_daily['Incidents_per_population'] , fit=norm);\n",
    "\n",
    "# Get the fitted parameters used by the function\n",
    "(mu, sigma) = norm.fit(df_daily['Incidents_per_population'])\n",
    "print( '\\n mu = {:.2f} and sigma = {:.2f}\\n'.format(mu, sigma))\n",
    "\n",
    "#Now plot the distribution\n",
    "plt.legend(['Normal dist. ($\\mu=$ {:.2f} and $\\sigma=$ {:.2f} )'.format(mu, sigma)],\n",
    "            loc='best')\n",
    "plt.ylabel('Frequency')\n",
    "plt.title('Incidents_per_population distribution')\n",
    "\n",
    "#Get also the QQ-plot\n",
    "fig = plt.figure()\n",
    "res = stats.probplot(df_daily['Incidents_per_population'], plot=plt)\n",
    "plt.show()"
   ]
  },
  {
   "cell_type": "code",
   "execution_count": 44,
   "metadata": {},
   "outputs": [
    {
     "name": "stdout",
     "output_type": "stream",
     "text": [
      "\n",
      "Skew in numerical features: \n",
      "\n"
     ]
    },
    {
     "data": {
      "text/html": [
       "<div>\n",
       "<style scoped>\n",
       "    .dataframe tbody tr th:only-of-type {\n",
       "        vertical-align: middle;\n",
       "    }\n",
       "\n",
       "    .dataframe tbody tr th {\n",
       "        vertical-align: top;\n",
       "    }\n",
       "\n",
       "    .dataframe thead th {\n",
       "        text-align: right;\n",
       "    }\n",
       "</style>\n",
       "<table border=\"1\" class=\"dataframe\">\n",
       "  <thead>\n",
       "    <tr style=\"text-align: right;\">\n",
       "      <th></th>\n",
       "      <th>Skew</th>\n",
       "    </tr>\n",
       "  </thead>\n",
       "  <tbody>\n",
       "    <tr>\n",
       "      <th>avg_aqi_CO</th>\n",
       "      <td>1.420</td>\n",
       "    </tr>\n",
       "    <tr>\n",
       "      <th>avg_aqi_pm25</th>\n",
       "      <td>0.955</td>\n",
       "    </tr>\n",
       "    <tr>\n",
       "      <th>avg_aqi_NO2</th>\n",
       "      <td>0.644</td>\n",
       "    </tr>\n",
       "    <tr>\n",
       "      <th>avg_aqi_O3</th>\n",
       "      <td>0.163</td>\n",
       "    </tr>\n",
       "  </tbody>\n",
       "</table>\n",
       "</div>"
      ],
      "text/plain": [
       "              Skew\n",
       "avg_aqi_CO   1.420\n",
       "avg_aqi_pm25 0.955\n",
       "avg_aqi_NO2  0.644\n",
       "avg_aqi_O3   0.163"
      ]
     },
     "execution_count": 44,
     "metadata": {},
     "output_type": "execute_result"
    }
   ],
   "source": [
    "##Skewed features\n",
    "\n",
    "numeric_feats = ['avg_aqi_CO','avg_aqi_O3','avg_aqi_pm25','avg_aqi_NO2']\n",
    "\n",
    "# Check the skew of all numerical features\n",
    "skewed_feats = df_daily[numeric_feats].apply(lambda x: skew(x.dropna())).sort_values(ascending=False)\n",
    "print(\"\\nSkew in numerical features: \\n\")\n",
    "skewness = pd.DataFrame({'Skew' :skewed_feats})\n",
    "skewness.head(10)"
   ]
  },
  {
   "cell_type": "code",
   "execution_count": 45,
   "metadata": {},
   "outputs": [
    {
     "name": "stdout",
     "output_type": "stream",
     "text": [
      "There are 4 skewed numerical features to Box Cox transform\n"
     ]
    }
   ],
   "source": [
    "skewness = skewness[abs(skewness) > 0.75]\n",
    "print(\"There are {} skewed numerical features to Box Cox transform\".format(skewness.shape[0]))\n",
    "\n",
    "from scipy.special import boxcox1p\n",
    "skewed_features = skewness.index\n",
    "lam = 0.15\n",
    "for feat in skewed_features:\n",
    "    #all_data[feat] += 1\n",
    "    df_daily[feat] = boxcox1p(df_daily[feat], lam)\n",
    "    "
   ]
  },
  {
   "cell_type": "code",
   "execution_count": null,
   "metadata": {},
   "outputs": [],
   "source": []
  },
  {
   "cell_type": "markdown",
   "metadata": {},
   "source": [
    "# Regression"
   ]
  },
  {
   "cell_type": "code",
   "execution_count": 46,
   "metadata": {},
   "outputs": [
    {
     "data": {
      "text/plain": [
       "Index(['date_local', 'avg_aqi_CO', '100ma_for_CO', 'avg_aqi_O3',\n",
       "       '100ma_for_Ozone', 'avg_aqi_NO2', '100ma_for_Nitrogen_Dioxide',\n",
       "       'no_of_incidents', 'avg_aqi_pm25', '100ma_for_PM25', 'year',\n",
       "       'Population', 'Incidents_per_population'],\n",
       "      dtype='object')"
      ]
     },
     "execution_count": 46,
     "metadata": {},
     "output_type": "execute_result"
    }
   ],
   "source": [
    "# # Log transform the target for official scoring\n",
    "# # REFER https://www.kaggle.com/juliencs/a-study-on-regression-applied-to-the-ames-dataset\n",
    "# df_final.no_of_incidents = np.log1p(df_final.no_of_incidents)\n",
    "df_daily.columns"
   ]
  },
  {
   "cell_type": "code",
   "execution_count": 47,
   "metadata": {},
   "outputs": [],
   "source": [
    "X=df_daily[['avg_aqi_CO','avg_aqi_O3','avg_aqi_pm25','avg_aqi_NO2']]"
   ]
  },
  {
   "cell_type": "code",
   "execution_count": 48,
   "metadata": {},
   "outputs": [],
   "source": [
    "Y=df_daily['Incidents_per_population']"
   ]
  },
  {
   "cell_type": "code",
   "execution_count": 49,
   "metadata": {
    "scrolled": true
   },
   "outputs": [
    {
     "data": {
      "text/plain": [
       "0   4.215\n",
       "1   3.759\n",
       "2   3.892\n",
       "3   3.612\n",
       "4   3.660\n",
       "Name: Incidents_per_population, dtype: float64"
      ]
     },
     "execution_count": 49,
     "metadata": {},
     "output_type": "execute_result"
    }
   ],
   "source": [
    "Y.head()"
   ]
  },
  {
   "cell_type": "code",
   "execution_count": 50,
   "metadata": {},
   "outputs": [
    {
     "data": {
      "text/html": [
       "<div>\n",
       "<style scoped>\n",
       "    .dataframe tbody tr th:only-of-type {\n",
       "        vertical-align: middle;\n",
       "    }\n",
       "\n",
       "    .dataframe tbody tr th {\n",
       "        vertical-align: top;\n",
       "    }\n",
       "\n",
       "    .dataframe thead th {\n",
       "        text-align: right;\n",
       "    }\n",
       "</style>\n",
       "<table border=\"1\" class=\"dataframe\">\n",
       "  <thead>\n",
       "    <tr style=\"text-align: right;\">\n",
       "      <th></th>\n",
       "      <th>avg_aqi_CO</th>\n",
       "      <th>avg_aqi_O3</th>\n",
       "      <th>avg_aqi_pm25</th>\n",
       "      <th>avg_aqi_NO2</th>\n",
       "    </tr>\n",
       "  </thead>\n",
       "  <tbody>\n",
       "    <tr>\n",
       "      <th>0</th>\n",
       "      <td>3.933</td>\n",
       "      <td>3.341</td>\n",
       "      <td>5.831</td>\n",
       "      <td>4.745</td>\n",
       "    </tr>\n",
       "    <tr>\n",
       "      <th>1</th>\n",
       "      <td>3.184</td>\n",
       "      <td>1.541</td>\n",
       "      <td>5.803</td>\n",
       "      <td>4.597</td>\n",
       "    </tr>\n",
       "    <tr>\n",
       "      <th>2</th>\n",
       "      <td>3.575</td>\n",
       "      <td>2.056</td>\n",
       "      <td>5.715</td>\n",
       "      <td>4.838</td>\n",
       "    </tr>\n",
       "    <tr>\n",
       "      <th>3</th>\n",
       "      <td>3.618</td>\n",
       "      <td>2.603</td>\n",
       "      <td>5.685</td>\n",
       "      <td>4.883</td>\n",
       "    </tr>\n",
       "    <tr>\n",
       "      <th>4</th>\n",
       "      <td>3.661</td>\n",
       "      <td>3.238</td>\n",
       "      <td>5.969</td>\n",
       "      <td>4.648</td>\n",
       "    </tr>\n",
       "  </tbody>\n",
       "</table>\n",
       "</div>"
      ],
      "text/plain": [
       "   avg_aqi_CO  avg_aqi_O3  avg_aqi_pm25  avg_aqi_NO2\n",
       "0       3.933       3.341         5.831        4.745\n",
       "1       3.184       1.541         5.803        4.597\n",
       "2       3.575       2.056         5.715        4.838\n",
       "3       3.618       2.603         5.685        4.883\n",
       "4       3.661       3.238         5.969        4.648"
      ]
     },
     "execution_count": 50,
     "metadata": {},
     "output_type": "execute_result"
    }
   ],
   "source": [
    "X.head()"
   ]
  },
  {
   "cell_type": "code",
   "execution_count": 51,
   "metadata": {},
   "outputs": [
    {
     "data": {
      "text/html": [
       "<table class=\"simpletable\">\n",
       "<caption>OLS Regression Results</caption>\n",
       "<tr>\n",
       "  <th>Dep. Variable:</th>    <td>Incidents_per_population</td> <th>  R-squared:         </th> <td>   0.989</td> \n",
       "</tr>\n",
       "<tr>\n",
       "  <th>Model:</th>                       <td>OLS</td>           <th>  Adj. R-squared:    </th> <td>   0.989</td> \n",
       "</tr>\n",
       "<tr>\n",
       "  <th>Method:</th>                 <td>Least Squares</td>      <th>  F-statistic:       </th> <td>9.321e+04</td>\n",
       "</tr>\n",
       "<tr>\n",
       "  <th>Date:</th>                 <td>Tue, 04 Dec 2018</td>     <th>  Prob (F-statistic):</th>  <td>  0.00</td>  \n",
       "</tr>\n",
       "<tr>\n",
       "  <th>Time:</th>                     <td>09:25:35</td>         <th>  Log-Likelihood:    </th> <td> -1896.8</td> \n",
       "</tr>\n",
       "<tr>\n",
       "  <th>No. Observations:</th>          <td>  4139</td>          <th>  AIC:               </th> <td>   3802.</td> \n",
       "</tr>\n",
       "<tr>\n",
       "  <th>Df Residuals:</th>              <td>  4135</td>          <th>  BIC:               </th> <td>   3827.</td> \n",
       "</tr>\n",
       "<tr>\n",
       "  <th>Df Model:</th>                  <td>     4</td>          <th>                     </th>     <td> </td>    \n",
       "</tr>\n",
       "<tr>\n",
       "  <th>Covariance Type:</th>          <td>nonrobust</td>        <th>                     </th>     <td> </td>    \n",
       "</tr>\n",
       "</table>\n",
       "<table class=\"simpletable\">\n",
       "<tr>\n",
       "        <td></td>          <th>coef</th>     <th>std err</th>      <th>t</th>      <th>P>|t|</th>  <th>[0.025</th>    <th>0.975]</th>  \n",
       "</tr>\n",
       "<tr>\n",
       "  <th>avg_aqi_CO</th>   <td>    0.2253</td> <td>    0.012</td> <td>   19.389</td> <td> 0.000</td> <td>    0.202</td> <td>    0.248</td>\n",
       "</tr>\n",
       "<tr>\n",
       "  <th>avg_aqi_O3</th>   <td>    0.5259</td> <td>    0.005</td> <td>  101.935</td> <td> 0.000</td> <td>    0.516</td> <td>    0.536</td>\n",
       "</tr>\n",
       "<tr>\n",
       "  <th>avg_aqi_pm25</th> <td>    0.1718</td> <td>    0.006</td> <td>   29.715</td> <td> 0.000</td> <td>    0.160</td> <td>    0.183</td>\n",
       "</tr>\n",
       "<tr>\n",
       "  <th>avg_aqi_NO2</th>  <td>    0.0499</td> <td>    0.008</td> <td>    6.080</td> <td> 0.000</td> <td>    0.034</td> <td>    0.066</td>\n",
       "</tr>\n",
       "</table>\n",
       "<table class=\"simpletable\">\n",
       "<tr>\n",
       "  <th>Omnibus:</th>       <td>299.367</td> <th>  Durbin-Watson:     </th> <td>   0.854</td>\n",
       "</tr>\n",
       "<tr>\n",
       "  <th>Prob(Omnibus):</th> <td> 0.000</td>  <th>  Jarque-Bera (JB):  </th> <td>1432.876</td>\n",
       "</tr>\n",
       "<tr>\n",
       "  <th>Skew:</th>          <td> 0.151</td>  <th>  Prob(JB):          </th> <td>    0.00</td>\n",
       "</tr>\n",
       "<tr>\n",
       "  <th>Kurtosis:</th>      <td> 5.867</td>  <th>  Cond. No.          </th> <td>    17.0</td>\n",
       "</tr>\n",
       "</table><br/><br/>Warnings:<br/>[1] Standard Errors assume that the covariance matrix of the errors is correctly specified."
      ],
      "text/plain": [
       "<class 'statsmodels.iolib.summary.Summary'>\n",
       "\"\"\"\n",
       "                               OLS Regression Results                               \n",
       "====================================================================================\n",
       "Dep. Variable:     Incidents_per_population   R-squared:                       0.989\n",
       "Model:                                  OLS   Adj. R-squared:                  0.989\n",
       "Method:                       Least Squares   F-statistic:                 9.321e+04\n",
       "Date:                      Tue, 04 Dec 2018   Prob (F-statistic):               0.00\n",
       "Time:                              09:25:35   Log-Likelihood:                -1896.8\n",
       "No. Observations:                      4139   AIC:                             3802.\n",
       "Df Residuals:                          4135   BIC:                             3827.\n",
       "Df Model:                                 4                                         \n",
       "Covariance Type:                  nonrobust                                         \n",
       "================================================================================\n",
       "                   coef    std err          t      P>|t|      [0.025      0.975]\n",
       "--------------------------------------------------------------------------------\n",
       "avg_aqi_CO       0.2253      0.012     19.389      0.000       0.202       0.248\n",
       "avg_aqi_O3       0.5259      0.005    101.935      0.000       0.516       0.536\n",
       "avg_aqi_pm25     0.1718      0.006     29.715      0.000       0.160       0.183\n",
       "avg_aqi_NO2      0.0499      0.008      6.080      0.000       0.034       0.066\n",
       "==============================================================================\n",
       "Omnibus:                      299.367   Durbin-Watson:                   0.854\n",
       "Prob(Omnibus):                  0.000   Jarque-Bera (JB):             1432.876\n",
       "Skew:                           0.151   Prob(JB):                         0.00\n",
       "Kurtosis:                       5.867   Cond. No.                         17.0\n",
       "==============================================================================\n",
       "\n",
       "Warnings:\n",
       "[1] Standard Errors assume that the covariance matrix of the errors is correctly specified.\n",
       "\"\"\""
      ]
     },
     "execution_count": 51,
     "metadata": {},
     "output_type": "execute_result"
    }
   ],
   "source": [
    "import statsmodels.api as sm\n",
    "\n",
    "\n",
    "# Note the difference in argument order\n",
    "model = sm.OLS(Y, X).fit()\n",
    "predictions = model.predict(X) # make the predictions by the model\n",
    "\n",
    "# Print out the statistics\n",
    "model.summary()"
   ]
  },
  {
   "cell_type": "markdown",
   "metadata": {},
   "source": [
    "# Split the Training and Test Set"
   ]
  },
  {
   "cell_type": "code",
   "execution_count": 52,
   "metadata": {},
   "outputs": [
    {
     "name": "stdout",
     "output_type": "stream",
     "text": [
      "(2897, 4) (2897,)\n",
      "(1242, 4) (1242,)\n"
     ]
    }
   ],
   "source": [
    "import pandas as pd\n",
    "from sklearn import datasets, linear_model\n",
    "from sklearn.model_selection import train_test_split\n",
    "\n",
    "X_train, X_test, y_train, y_test = train_test_split(X, Y, test_size=0.3)\n",
    "print (X_train.shape, y_train.shape)\n",
    "print (X_test.shape, y_test.shape)\n",
    "\n",
    "\n"
   ]
  },
  {
   "cell_type": "code",
   "execution_count": 53,
   "metadata": {},
   "outputs": [
    {
     "name": "stderr",
     "output_type": "stream",
     "text": [
      "/Users/nikhileshchaudhary/anaconda3/lib/python3.6/site-packages/pandas/core/indexing.py:189: SettingWithCopyWarning: \n",
      "A value is trying to be set on a copy of a slice from a DataFrame\n",
      "\n",
      "See the caveats in the documentation: http://pandas.pydata.org/pandas-docs/stable/indexing.html#indexing-view-versus-copy\n",
      "  self._setitem_with_indexer(indexer, value)\n",
      "/Users/nikhileshchaudhary/anaconda3/lib/python3.6/site-packages/ipykernel_launcher.py:4: SettingWithCopyWarning: \n",
      "A value is trying to be set on a copy of a slice from a DataFrame\n",
      "\n",
      "See the caveats in the documentation: http://pandas.pydata.org/pandas-docs/stable/indexing.html#indexing-view-versus-copy\n",
      "  after removing the cwd from sys.path.\n",
      "/Users/nikhileshchaudhary/anaconda3/lib/python3.6/site-packages/ipykernel_launcher.py:5: SettingWithCopyWarning: \n",
      "A value is trying to be set on a copy of a slice from a DataFrame\n",
      "\n",
      "See the caveats in the documentation: http://pandas.pydata.org/pandas-docs/stable/indexing.html#indexing-view-versus-copy\n",
      "  \"\"\"\n"
     ]
    }
   ],
   "source": [
    "# Standardize numerical features\n",
    "from sklearn.preprocessing import StandardScaler\n",
    "stdSc = StandardScaler()\n",
    "X_train.loc[:, numeric_feats] = stdSc.fit_transform(X_train.loc[:, numeric_feats])\n",
    "X_test.loc[:, numeric_feats] = stdSc.transform(X_test.loc[:, numeric_feats])"
   ]
  },
  {
   "cell_type": "code",
   "execution_count": 54,
   "metadata": {},
   "outputs": [],
   "source": [
    "# Define error measure for official scoring : RMSE\n",
    "from sklearn.metrics import mean_squared_error, make_scorer\n",
    "\n",
    "scorer = make_scorer(mean_squared_error, greater_is_better = False)\n",
    "\n",
    "def rmse_cv_train(model):\n",
    "    rmse= np.sqrt(-cross_val_score(model, X_train, y_train, scoring = scorer, cv = 10))\n",
    "    return(rmse)\n",
    "\n",
    "def rmse_cv_test(model):\n",
    "    rmse= np.sqrt(-cross_val_score(model, X_test, y_test, scoring = scorer, cv = 10))\n",
    "    return(rmse)"
   ]
  },
  {
   "cell_type": "markdown",
   "metadata": {},
   "source": [
    "# 1* Linear Regression without regularization"
   ]
  },
  {
   "cell_type": "code",
   "execution_count": 55,
   "metadata": {},
   "outputs": [
    {
     "name": "stdout",
     "output_type": "stream",
     "text": [
      "RMSE on Training set : 0.12109508246332838\n",
      "RMSE on Test set : 0.14028056637556693\n",
      "Accuracy of model= 0.0591008463211542\n"
     ]
    }
   ],
   "source": [
    "# Linear Regression\n",
    "\n",
    "lr = LinearRegression()\n",
    "lr.fit(X_train, y_train)\n",
    "\n",
    "# Look at predictions on training and validation set\n",
    "print(\"RMSE on Training set :\", rmse_cv_train(lr).mean())\n",
    "print(\"RMSE on Test set :\", rmse_cv_test(lr).mean())\n",
    "y_train_pred = lr.predict(X_train)\n",
    "y_test_pred = lr.predict(X_test)\n",
    "\n",
    "print('Accuracy of model=',lr.score(X_test,y_test))\n",
    "\n",
    "mods=['Linear_Regression']\n",
    "vals=[]\n",
    "\n",
    "vals.append(rmse_cv_test(lr).mean())"
   ]
  },
  {
   "cell_type": "code",
   "execution_count": 56,
   "metadata": {
    "scrolled": true
   },
   "outputs": [
    {
     "name": "stdout",
     "output_type": "stream",
     "text": [
      "r2 train: 0.089, test : 0.059\n"
     ]
    },
    {
     "data": {
      "image/png": "[encoded data removed]",
      "text/plain": [
       "<Figure size 432x288 with 1 Axes>"
      ]
     },
     "metadata": {},
     "output_type": "display_data"
    }
   ],
   "source": [
    "plt.scatter(y_test, y_test_pred)\n",
    "plt.xlabel('True Values')\n",
    "plt.ylabel('Predictions')\n",
    "\n",
    "## R2 score Evaluation\n",
    "# y_train_pred=model.predict(X_train)\n",
    "# y_test_pred=model.predict(X_test)\n",
    "\n",
    "from sklearn.metrics import r2_score\n",
    "from sklearn import metrics\n",
    "\n",
    "print(\"r2 train: %.3f, test : %.3f\" %(r2_score(y_train,y_train_pred),r2_score(y_test,y_test_pred) ))\n",
    "\n"
   ]
  },
  {
   "cell_type": "markdown",
   "metadata": {},
   "source": [
    "# Feature Importance in Linear Regression"
   ]
  },
  {
   "cell_type": "code",
   "execution_count": 57,
   "metadata": {},
   "outputs": [
    {
     "data": {
      "image/png": "[encoded data removed]",
      "text/plain": [
       "<Figure size 432x288 with 1 Axes>"
      ]
     },
     "metadata": {},
     "output_type": "display_data"
    }
   ],
   "source": [
    "coefs = pd.Series(lr.coef_, index = X_train.columns)\n",
    "imp_coefs = coefs.sort_values().head(10)\n",
    "imp_coefs.plot(kind = \"barh\")\n",
    "plt.title(\"Coefficients in the Linear Regression Model\")\n",
    "plt.show()"
   ]
  },
  {
   "cell_type": "markdown",
   "metadata": {},
   "source": [
    "# 2* Linear Regression with Ridge regularization (L2 penalty)"
   ]
  },
  {
   "cell_type": "code",
   "execution_count": 58,
   "metadata": {
    "scrolled": true
   },
   "outputs": [
    {
     "name": "stdout",
     "output_type": "stream",
     "text": [
      "Best alpha : 10.0\n",
      "Try again for more precision with alphas centered around 10.0\n",
      "Best alpha : 14.0\n",
      "Ridge RMSE on Training set : 0.12109400770052951\n",
      "Ridge RMSE on Test set : 0.14027801024462883\n"
     ]
    }
   ],
   "source": [
    "# 2* Ridge\n",
    "ridge = RidgeCV(alphas = [0.01, 0.03, 0.06, 0.1, 0.3, 0.6, 1, 3, 6, 10, 30, 60])\n",
    "ridge.fit(X_train, y_train)\n",
    "alpha = ridge.alpha_\n",
    "print(\"Best alpha :\", alpha)\n",
    "\n",
    "print(\"Try again for more precision with alphas centered around \" + str(alpha))\n",
    "ridge = RidgeCV(alphas = [alpha * .6, alpha * .65, alpha * .7, alpha * .75, alpha * .8, alpha * .85, \n",
    "                          alpha * .9, alpha * .95, alpha, alpha * 1.05, alpha * 1.1, alpha * 1.15,\n",
    "                          alpha * 1.25, alpha * 1.3, alpha * 1.35, alpha * 1.4], \n",
    "                cv = 10)\n",
    "ridge.fit(X_train, y_train)\n",
    "alpha = ridge.alpha_\n",
    "print(\"Best alpha :\", alpha)\n",
    "\n",
    "print(\"Ridge RMSE on Training set :\", rmse_cv_train(ridge).mean())\n",
    "print(\"Ridge RMSE on Test set :\", rmse_cv_test(ridge).mean())\n",
    "y_train_rdg = ridge.predict(X_train)\n",
    "y_test_rdg = ridge.predict(X_test)\n",
    "\n",
    "mods.append('Ridge Regressor')\n",
    "vals.append(rmse_cv_test(ridge).mean())\n",
    "\n"
   ]
  },
  {
   "cell_type": "code",
   "execution_count": 59,
   "metadata": {},
   "outputs": [
    {
     "name": "stdout",
     "output_type": "stream",
     "text": [
      "Ridge picked 4 features and eliminated the other 0 features\n"
     ]
    },
    {
     "data": {
      "image/png": "[encoded data removed]",
      "text/plain": [
       "<Figure size 432x288 with 1 Axes>"
      ]
     },
     "metadata": {},
     "output_type": "display_data"
    }
   ],
   "source": [
    "# Plot important coefficients\n",
    "coefs = pd.Series(ridge.coef_, index = X_train.columns)\n",
    "print(\"Ridge picked \" + str(sum(coefs != 0)) + \" features and eliminated the other \" +  \\\n",
    "      str(sum(coefs == 0)) + \" features\")\n",
    "imp_coefs = coefs.sort_values().head(10)\n",
    "imp_coefs.plot(kind = \"barh\")\n",
    "plt.title(\"Coefficients in the Ridge Model\")\n",
    "plt.show()"
   ]
  },
  {
   "cell_type": "code",
   "execution_count": 60,
   "metadata": {},
   "outputs": [
    {
     "name": "stdout",
     "output_type": "stream",
     "text": [
      "r2 train: 0.089, test : 0.059\n"
     ]
    },
    {
     "data": {
      "image/png": "[encoded data removed]",
      "text/plain": [
       "<Figure size 432x288 with 1 Axes>"
      ]
     },
     "metadata": {},
     "output_type": "display_data"
    }
   ],
   "source": [
    "plt.scatter(y_test, y_test_rdg)\n",
    "plt.xlabel('True Values')\n",
    "plt.ylabel('Predictions')\n",
    "\n",
    "## R2 score Evaluation\n",
    "# y_train_pred=model.predict(X_train)\n",
    "# y_test_pred=model.predict(X_test)\n",
    "\n",
    "from sklearn.metrics import r2_score\n",
    "from sklearn import metrics\n",
    "\n",
    "print(\"r2 train: %.3f, test : %.3f\" %(r2_score(y_train,y_train_rdg),r2_score(y_test,y_test_rdg) ))\n"
   ]
  },
  {
   "cell_type": "markdown",
   "metadata": {},
   "source": [
    "# 3* Linear Regression with Lasso regularization (L1 penalty)"
   ]
  },
  {
   "cell_type": "code",
   "execution_count": 61,
   "metadata": {
    "scrolled": true
   },
   "outputs": [
    {
     "name": "stdout",
     "output_type": "stream",
     "text": [
      "Best alpha : 0.0001\n",
      "Try again for more precision with alphas centered around 0.0001\n",
      "Best alpha : 6e-05\n",
      "Lasso RMSE on Training set : 0.12109624971042801\n",
      "Lasso RMSE on Test set : 0.1402797447802197\n"
     ]
    }
   ],
   "source": [
    "# 3* Lasso\n",
    "lasso = LassoCV(alphas = [0.0001, 0.0003, 0.0006, 0.001, 0.003, 0.006, 0.01, 0.03, 0.06, 0.1, \n",
    "                          0.3, 0.6, 1], \n",
    "                max_iter = 50000, cv = 10)\n",
    "lasso.fit(X_train, y_train)\n",
    "alpha = lasso.alpha_\n",
    "print(\"Best alpha :\", alpha)\n",
    "\n",
    "print(\"Try again for more precision with alphas centered around \" + str(alpha))\n",
    "lasso = LassoCV(alphas = [alpha * .6, alpha * .65, alpha * .7, alpha * .75, alpha * .8, \n",
    "                          alpha * .85, alpha * .9, alpha * .95, alpha, alpha * 1.05, \n",
    "                          alpha * 1.1, alpha * 1.15, alpha * 1.25, alpha * 1.3, alpha * 1.35, \n",
    "                          alpha * 1.4], \n",
    "                max_iter = 50000, cv = 10)\n",
    "lasso.fit(X_train, y_train)\n",
    "alpha = lasso.alpha_\n",
    "print(\"Best alpha :\", alpha)\n",
    "\n",
    "print(\"Lasso RMSE on Training set :\", rmse_cv_train(lasso).mean())\n",
    "print(\"Lasso RMSE on Test set :\", rmse_cv_test(lasso).mean())\n",
    "y_train_las = lasso.predict(X_train)\n",
    "y_test_las = lasso.predict(X_test)\n",
    "\n",
    "mods.append('Lasso Regressor')\n",
    "vals.append(rmse_cv_test(lasso).mean())\n",
    "\n"
   ]
  },
  {
   "cell_type": "code",
   "execution_count": 62,
   "metadata": {},
   "outputs": [
    {
     "name": "stdout",
     "output_type": "stream",
     "text": [
      "Lasso picked 4 features and eliminated the other 0 features\n"
     ]
    },
    {
     "data": {
      "image/png": "[encoded data removed]",
      "text/plain": [
       "<Figure size 432x288 with 1 Axes>"
      ]
     },
     "metadata": {},
     "output_type": "display_data"
    }
   ],
   "source": [
    "# Plot important coefficients\n",
    "coefs = pd.Series(lasso.coef_, index = X_train.columns)\n",
    "print(\"Lasso picked \" + str(sum(coefs != 0)) + \" features and eliminated the other \" +  \\\n",
    "      str(sum(coefs == 0)) + \" features\")\n",
    "imp_coefs = coefs.sort_values().head(10)\n",
    "imp_coefs.plot(kind = \"barh\")\n",
    "plt.title(\"Coefficients in the Lasso Model\")\n",
    "plt.show()"
   ]
  },
  {
   "cell_type": "code",
   "execution_count": 63,
   "metadata": {},
   "outputs": [
    {
     "name": "stdout",
     "output_type": "stream",
     "text": [
      "r2 train: 0.089, test : 0.059\n"
     ]
    },
    {
     "data": {
      "image/png": "[encoded data removed]",
      "text/plain": [
       "<Figure size 432x288 with 1 Axes>"
      ]
     },
     "metadata": {},
     "output_type": "display_data"
    }
   ],
   "source": [
    "plt.scatter(y_test, y_test_rdg)\n",
    "plt.xlabel('True Values')\n",
    "plt.ylabel('Predictions')\n",
    "\n",
    "## R2 score Evaluation\n",
    "# y_train_pred=model.predict(X_train)\n",
    "# y_test_pred=model.predict(X_test)\n",
    "\n",
    "from sklearn.metrics import r2_score\n",
    "from sklearn import metrics\n",
    "\n",
    "print(\"r2 train: %.3f, test : %.3f\" %(r2_score(y_train,y_train_las),r2_score(y_test,y_test_las) ))\n",
    "\n"
   ]
  },
  {
   "cell_type": "markdown",
   "metadata": {},
   "source": [
    "# 4* Linear Regression with ElasticNet regularization (L1 and L2 penalty)"
   ]
  },
  {
   "cell_type": "code",
   "execution_count": 64,
   "metadata": {
    "scrolled": true
   },
   "outputs": [
    {
     "name": "stdout",
     "output_type": "stream",
     "text": [
      "Best l1_ratio : 0.1\n",
      "Best alpha : 0.0003\n",
      "Try again for more precision with l1_ratio centered around 0.1\n",
      "Best l1_ratio : 0.085\n",
      "Best alpha : 0.0003\n",
      "Now try again for more precision on alpha, with l1_ratio fixed at 0.085 and alpha centered around 0.0003\n",
      "Best l1_ratio : 0.085\n",
      "Best alpha : 0.00041999999999999996\n",
      "ElasticNet RMSE on Training set : 0.12109489616371287\n",
      "ElasticNet RMSE on Test set : 0.14027967941707142\n"
     ]
    }
   ],
   "source": [
    "# 4* ElasticNet\n",
    "elasticNet = ElasticNetCV(l1_ratio = [0.1, 0.3, 0.5, 0.6, 0.7, 0.8, 0.85, 0.9, 0.95, 1],\n",
    "                          alphas = [0.0001, 0.0003, 0.0006, 0.001, 0.003, 0.006, \n",
    "                                    0.01, 0.03, 0.06, 0.1, 0.3, 0.6, 1, 3, 6], \n",
    "                          max_iter = 50000, cv = 10)\n",
    "elasticNet.fit(X_train, y_train)\n",
    "alpha = elasticNet.alpha_\n",
    "ratio = elasticNet.l1_ratio_\n",
    "print(\"Best l1_ratio :\", ratio)\n",
    "print(\"Best alpha :\", alpha )\n",
    "\n",
    "print(\"Try again for more precision with l1_ratio centered around \" + str(ratio))\n",
    "elasticNet = ElasticNetCV(l1_ratio = [ratio * .85, ratio * .9, ratio * .95, ratio, ratio * 1.05, ratio * 1.1, ratio * 1.15],\n",
    "                          alphas = [0.0001, 0.0003, 0.0006, 0.001, 0.003, 0.006, 0.01, 0.03, 0.06, 0.1, 0.3, 0.6, 1, 3, 6], \n",
    "                          max_iter = 50000, cv = 10)\n",
    "elasticNet.fit(X_train, y_train)\n",
    "if (elasticNet.l1_ratio_ > 1):\n",
    "    elasticNet.l1_ratio_ = 1    \n",
    "alpha = elasticNet.alpha_\n",
    "ratio = elasticNet.l1_ratio_\n",
    "print(\"Best l1_ratio :\", ratio)\n",
    "print(\"Best alpha :\", alpha )\n",
    "\n",
    "print(\"Now try again for more precision on alpha, with l1_ratio fixed at \" + str(ratio) + \n",
    "      \" and alpha centered around \" + str(alpha))\n",
    "elasticNet = ElasticNetCV(l1_ratio = ratio,\n",
    "                          alphas = [alpha * .6, alpha * .65, alpha * .7, alpha * .75, alpha * .8, alpha * .85, alpha * .9, \n",
    "                                    alpha * .95, alpha, alpha * 1.05, alpha * 1.1, alpha * 1.15, alpha * 1.25, alpha * 1.3, \n",
    "                                    alpha * 1.35, alpha * 1.4], \n",
    "                          max_iter = 50000, cv = 10)\n",
    "elasticNet.fit(X_train, y_train)\n",
    "if (elasticNet.l1_ratio_ > 1):\n",
    "    elasticNet.l1_ratio_ = 1    \n",
    "alpha = elasticNet.alpha_\n",
    "ratio = elasticNet.l1_ratio_\n",
    "print(\"Best l1_ratio :\", ratio)\n",
    "print(\"Best alpha :\", alpha )\n",
    "\n",
    "print(\"ElasticNet RMSE on Training set :\", rmse_cv_train(elasticNet).mean())\n",
    "print(\"ElasticNet RMSE on Test set :\", rmse_cv_test(elasticNet).mean())\n",
    "y_train_ela = elasticNet.predict(X_train)\n",
    "y_test_ela = elasticNet.predict(X_test)\n",
    "\n",
    "mods.append('ElasticNet Regressor')\n",
    "vals.append(rmse_cv_test(elasticNet).mean())\n",
    "\n"
   ]
  },
  {
   "cell_type": "code",
   "execution_count": 65,
   "metadata": {},
   "outputs": [
    {
     "name": "stdout",
     "output_type": "stream",
     "text": [
      "ElasticNet picked 4 features and eliminated the other 0 features\n"
     ]
    },
    {
     "data": {
      "image/png": "[encoded data removed]",
      "text/plain": [
       "<Figure size 432x288 with 1 Axes>"
      ]
     },
     "metadata": {},
     "output_type": "display_data"
    }
   ],
   "source": [
    "# Plot important coefficients\n",
    "coefs = pd.Series(elasticNet.coef_, index = X_train.columns)\n",
    "print(\"ElasticNet picked \" + str(sum(coefs != 0)) + \" features and eliminated the other \" +  str(sum(coefs == 0)) + \" features\")\n",
    "imp_coefs = coefs.sort_values().head(10)\n",
    "imp_coefs.plot(kind = \"barh\")\n",
    "plt.title(\"Coefficients in the ElasticNet Model\")\n",
    "plt.show()"
   ]
  },
  {
   "cell_type": "code",
   "execution_count": 66,
   "metadata": {},
   "outputs": [
    {
     "name": "stdout",
     "output_type": "stream",
     "text": [
      "r2 train: 0.089, test : 0.059\n"
     ]
    },
    {
     "data": {
      "image/png": "[encoded data removed]",
      "text/plain": [
       "<Figure size 432x288 with 1 Axes>"
      ]
     },
     "metadata": {},
     "output_type": "display_data"
    }
   ],
   "source": [
    "plt.scatter(y_test, y_test_ela)\n",
    "plt.xlabel('True Values')\n",
    "plt.ylabel('Predictions')\n",
    "\n",
    "## R2 score Evaluation\n",
    "# y_train_pred=model.predict(X_train)\n",
    "# y_test_pred=model.predict(X_test)\n",
    "\n",
    "from sklearn.metrics import r2_score\n",
    "from sklearn import metrics\n",
    "\n",
    "print(\"r2 train: %.3f, test : %.3f\" %(r2_score(y_train,y_train_ela),r2_score(y_test,y_test_ela) ))\n"
   ]
  },
  {
   "cell_type": "markdown",
   "metadata": {},
   "source": [
    "# Linear Models"
   ]
  },
  {
   "cell_type": "markdown",
   "metadata": {},
   "source": [
    "## 1. Linear Regression"
   ]
  },
  {
   "cell_type": "code",
   "execution_count": 67,
   "metadata": {},
   "outputs": [],
   "source": [
    "# # Linear Models\n",
    "\n",
    "# ## 1. Linear Regression\n",
    "\n",
    "# # fit a model\n",
    "# lm = linear_model.LinearRegression()\n",
    "# model = lm.fit(X_train, y_train)\n",
    "# predictions = lm.predict(X_test)\n",
    "\n",
    "# print('Accuracy of model=',lm.score(X_test,y_test))\n",
    "\n",
    "# from sklearn import metrics\n",
    "                               \n",
    "# print(np.sqrt(metrics.mean_squared_error(y_test, predictions)))\n",
    "\n",
    "\n",
    "# mods=['Linear_Regression']\n",
    "# vals=[]\n",
    "# ## Vals contains rmse for test set\n",
    "# vals.append(np.sqrt(metrics.mean_squared_error(y_test, predictions)))"
   ]
  },
  {
   "cell_type": "code",
   "execution_count": 68,
   "metadata": {},
   "outputs": [],
   "source": [
    "# ## The line / model\n",
    "# plt.scatter(y_test, predictions)\n",
    "# plt.xlabel('True Values')\n",
    "# plt.ylabel('Predictions')\n",
    "\n",
    "# ## R2 score Evaluation\n",
    "# y_train_pred=model.predict(X_train)\n",
    "# y_test_pred=model.predict(X_test)\n"
   ]
  },
  {
   "cell_type": "code",
   "execution_count": 69,
   "metadata": {},
   "outputs": [],
   "source": [
    "\n",
    "# from sklearn.metrics import r2_score\n",
    "# from sklearn import metrics\n",
    "\n",
    "# print(\"r2 train: %.3f, test : %.3f\" %(r2_score(y_train,y_train_pred),r2_score(y_test,y_test_pred) ))\n",
    "\n",
    "# print('Rmse VAlue is:')\n",
    "# print(np.sqrt(metrics.mean_squared_error(y_test, y_test_pred)))\n"
   ]
  },
  {
   "cell_type": "markdown",
   "metadata": {},
   "source": [
    "## Feature Importance in Linear Regression\n"
   ]
  },
  {
   "cell_type": "code",
   "execution_count": 70,
   "metadata": {},
   "outputs": [],
   "source": [
    "# coefs = pd.Series(model.coef_, index = X_train.columns)\n",
    "# imp_coefs = coefs.sort_values().head(10)\n",
    "# imp_coefs.plot(kind = \"barh\")\n",
    "# plt.title(\"Coefficients in the Linear Regression Model\")\n",
    "# plt.show()\n"
   ]
  },
  {
   "cell_type": "code",
   "execution_count": 71,
   "metadata": {},
   "outputs": [],
   "source": [
    "# #Validation function\n",
    "# n_folds = 3\n",
    "\n",
    "# def rmsle_cv(model):\n",
    "#     kf = KFold(n_folds, shuffle=True, random_state=42).get_n_splits(X.values)\n",
    "#     rmse= np.sqrt(-cross_val_score(model, X.values, Y, scoring=\"neg_mean_squared_error\", cv = kf))\n",
    "#     return(rmse)"
   ]
  },
  {
   "cell_type": "code",
   "execution_count": 72,
   "metadata": {
    "scrolled": true
   },
   "outputs": [],
   "source": [
    "# model_ridge = Ridge()\n",
    "# alphas = [0.001,0.005,0.05, 0.1, 0.3, 1, 3, 5, 10, 15, 30, 50, 75]\n",
    "# cv_ridge = [rmsle_cv(Ridge(alpha = alpha)).mean() \n",
    "#             for alpha in alphas]\n",
    "\n",
    "# cv_ridge = pd.Series(cv_ridge, index = alphas)\n",
    "# cv_ridge.plot(title = \"Validation - Just Do It\")\n",
    "# plt.xlabel(\"alpha\")\n",
    "# plt.ylabel(\"rmse\")\n",
    "\n",
    "# print(cv_ridge.min())\n"
   ]
  },
  {
   "cell_type": "code",
   "execution_count": 73,
   "metadata": {
    "scrolled": true
   },
   "outputs": [],
   "source": [
    "# import matplotlib\n",
    "# import matplotlib.pyplot as plt\n",
    "# %matplotlib inline\n",
    "\n",
    "# ## use min alpha\n",
    "# model_ridge=Ridge(alpha=cv_ridge.idxmin())\n",
    "# model_ridge.fit(X_train, y_train)\n",
    "\n",
    "# # make predictions on the testing set\n",
    "# y_pred = model_ridge.predict(X_test)\n",
    "\n",
    "# # compute the RMSE of our predictions\n",
    "# print(np.sqrt(metrics.mean_squared_error(y_test, y_pred)))\n",
    "\n",
    "# mods.append('Ridge Regressor')\n",
    "# vals.append(np.sqrt(metrics.mean_squared_error(y_test, y_pred)))\n",
    "\n",
    "# coef = pd.Series(model_ridge.coef_, index = X_train.columns)\n",
    "# imp_coef = coef.sort_values().head(10)\n",
    "\n",
    "# matplotlib.rcParams['figure.figsize'] = (8.0, 10.0)\n",
    "# imp_coef.plot(kind = \"barh\")\n",
    "# plt.title(\"Coefficients in the Ridge Model\")"
   ]
  },
  {
   "cell_type": "code",
   "execution_count": 74,
   "metadata": {},
   "outputs": [],
   "source": [
    "# model_ridge.coef_"
   ]
  },
  {
   "cell_type": "markdown",
   "metadata": {},
   "source": [
    "# 2. Lasso Regression\n"
   ]
  },
  {
   "cell_type": "code",
   "execution_count": 75,
   "metadata": {
    "scrolled": true
   },
   "outputs": [],
   "source": [
    "\n",
    "# model_lasso = LassoCV()\n",
    "# alphas = [0.001,0.005,0.05, 0.1, 0.3, 1, 3, 5, 10, 15, 30, 50, 75]\n",
    "# cv_lasso = [rmsle_cv(Lasso(alpha = alpha)).mean() \n",
    "#             for alpha in alphas]\n",
    "\n",
    "# cv_lasso = pd.Series(cv_lasso, index = alphas)\n",
    "# cv_lasso.plot(title = \"Validation - Just Do It\")\n",
    "# plt.xlabel(\"alpha\")\n",
    "# plt.ylabel(\"rmse\")"
   ]
  },
  {
   "cell_type": "code",
   "execution_count": 76,
   "metadata": {
    "scrolled": true
   },
   "outputs": [],
   "source": [
    "\n",
    "\n",
    "\n",
    "# model_lasso=Lasso(alpha=cv_lasso.idxmin())\n",
    "# model_lasso.fit(X_train, y_train)\n",
    "# ##rmsle_cv(model_lasso).min()\n",
    "\n",
    "# # make predictions on the testing set\n",
    "# y_pred = model_lasso.predict(X_test)\n",
    "\n",
    "# # compute the RMSE of our predictions\n",
    "# print(np.sqrt(metrics.mean_squared_error(y_test, y_pred)))\n",
    "\n",
    "# mods.append('Lasso Regressor')\n",
    "# vals.append(np.sqrt(metrics.mean_squared_error(y_test, y_pred)))\n",
    "\n",
    "# coef = pd.Series(model_lasso.coef_, index = X_train.columns)\n",
    "# imp_coef = coef.sort_values().head(10)\n",
    "                     \n",
    "# matplotlib.rcParams['figure.figsize'] = (8.0, 10.0)\n",
    "# imp_coef.plot(kind = \"barh\")\n",
    "# plt.title(\"Coefficients in the Lasso Model\")\n"
   ]
  },
  {
   "cell_type": "markdown",
   "metadata": {},
   "source": [
    "# 3. ElasticNet Regression"
   ]
  },
  {
   "cell_type": "code",
   "execution_count": 77,
   "metadata": {},
   "outputs": [],
   "source": [
    "# model_elastic_net=ElasticNet()\n",
    "# parametersGrid = {\"max_iter\": [1, 5, 10,100,1000,10000],\n",
    "#                       \"alpha\": [0.0001, 0.001, 0.01, 0.1, 1, 10, 100],\n",
    "#                       \"l1_ratio\": np.arange(0.0, 1.0, 0.1)}\n",
    "\n",
    "# grid = GridSearchCV(estimator=model_elastic_net,param_grid=parametersGrid,cv=3,scoring='neg_mean_absolute_error')\n",
    "# grid.fit(X, Y)\n",
    "# print (\"best grid params: \", grid.best_params_)\n"
   ]
  },
  {
   "cell_type": "code",
   "execution_count": 78,
   "metadata": {},
   "outputs": [],
   "source": [
    "# grid.best_estimator_"
   ]
  },
  {
   "cell_type": "code",
   "execution_count": 79,
   "metadata": {
    "scrolled": false
   },
   "outputs": [],
   "source": [
    "\n",
    "# ENet=grid.best_estimator_\n",
    "# ENet.fit(X_train, y_train)\n",
    "# # rmsle_cv(model_lasso).min()\n",
    "# # make predictions on the testing set\n",
    "# y_pred = ENet.predict(X_test)\n",
    "\n",
    "# # compute the RMSE of our predictions\n",
    "# print(np.sqrt(metrics.mean_squared_error(y_test, y_pred)))\n",
    "\n",
    "# mods.append('ElasticNet Regressor')\n",
    "# vals.append(np.sqrt(metrics.mean_squared_error(y_test, y_pred)))\n",
    "\n",
    "# coef = pd.Series(ENet.coef_, index = X_train.columns)\n",
    "# imp_coef = coef.sort_values().head(10)\n",
    "                     \n",
    "# matplotlib.rcParams['figure.figsize'] = (8.0, 10.0)\n",
    "# imp_coef.plot(kind = \"barh\")\n",
    "# plt.title(\"Coefficients in the ElasticNet Model\")\n",
    "\n",
    "# # \n",
    "# # print(\"\\nLasso score: {:.4f} ({:.4f})\\n\".format(score.mean(), score.std()))\n"
   ]
  },
  {
   "cell_type": "markdown",
   "metadata": {},
   "source": [
    "# XgBoost Regression"
   ]
  },
  {
   "cell_type": "code",
   "execution_count": 80,
   "metadata": {},
   "outputs": [],
   "source": [
    "\n",
    "# A parameter grid for XGBoost\n",
    "params = {'min_child_weight':[4,5], 'gamma':[i/10.0 for i in range(3,6)], \n",
    "        'max_depth': [2,3,4],'n_estimators':[100,300],\n",
    "        'learning_rate': [0.01, 0.1, 1.0]}\n",
    "\n"
   ]
  },
  {
   "cell_type": "code",
   "execution_count": 81,
   "metadata": {},
   "outputs": [
    {
     "name": "stdout",
     "output_type": "stream",
     "text": [
      "best grid params:  {'gamma': 0.3, 'learning_rate': 1.0, 'max_depth': 2, 'min_child_weight': 4, 'n_estimators': 100}\n"
     ]
    }
   ],
   "source": [
    "# Initialize XGB and GridSearch\n",
    "xgb = XGBRegressor(nthread=-1,objective='reg:linear',booster='gblinear') \n",
    "\n",
    "grid = GridSearchCV(xgb, params,cv=10,scoring='neg_mean_absolute_error')\n",
    "grid.fit(X_train, y_train)\n",
    "\n",
    "print (\"best grid params: \", grid.best_params_)\n"
   ]
  },
  {
   "cell_type": "code",
   "execution_count": null,
   "metadata": {},
   "outputs": [],
   "source": []
  },
  {
   "cell_type": "code",
   "execution_count": 82,
   "metadata": {},
   "outputs": [],
   "source": [
    "# # grid.best_estimator_\n",
    "\n",
    "# XGBRegressor(\n",
    "#         base_score=0.5, booster='gblinear', colsample_bylevel=1,\n",
    "#        colsample_bytree=1, gamma=0.3, learning_rate=0.01, max_delta_step=0,\n",
    "#        max_depth=2, min_child_weight=4, missing=None, n_estimators=100,\n",
    "#        n_jobs=1, nthread=-1, objective='reg:linear', random_state=0,\n",
    "#        reg_alpha=0, reg_lambda=1, scale_pos_weight=1, seed=None,\n",
    "#        silent=True, subsample=1,objective='reg:linear',booster='gblinear')"
   ]
  },
  {
   "cell_type": "code",
   "execution_count": 83,
   "metadata": {
    "scrolled": true
   },
   "outputs": [
    {
     "name": "stdout",
     "output_type": "stream",
     "text": [
      "0.15545612445450382\n"
     ]
    }
   ],
   "source": [
    "\n",
    "xg_model=grid.best_estimator_\n",
    "\n",
    "xg_model.fit(X_train, y_train)\n",
    "# rmsle_cv(model_lasso).min()\n",
    "# make predictions on the testing set\n",
    "y_pred = xg_model.predict(X_test)\n",
    "\n",
    "# compute the RMSE of our predictions\n",
    "print(np.sqrt(metrics.mean_squared_error(y_test, y_pred)))\n",
    "\n",
    "mods.append('XgBoost Regressor')\n",
    "vals.append(np.sqrt(metrics.mean_squared_error(y_test, y_pred)))\n",
    "\n",
    "\n",
    "# \n",
    "# print(\"\\nLasso score: {:.4f} ({:.4f})\\n\".format(score.mean(), score.std()))\n"
   ]
  },
  {
   "cell_type": "code",
   "execution_count": 84,
   "metadata": {},
   "outputs": [
    {
     "data": {
      "text/plain": [
       "Text(0.5,1,'Coefficients in the XgBoost Regression Model')"
      ]
     },
     "execution_count": 84,
     "metadata": {},
     "output_type": "execute_result"
    },
    {
     "data": {
      "image/png": "[encoded data removed]",
      "text/plain": [
       "<Figure size 576x720 with 1 Axes>"
      ]
     },
     "metadata": {},
     "output_type": "display_data"
    }
   ],
   "source": [
    "coef = pd.Series(xg_model.coef_, index = X_train.columns)\n",
    "imp_coef = coef.sort_values().head(10)\n",
    "                     \n",
    "matplotlib.rcParams['figure.figsize'] = (8.0, 10.0)\n",
    "imp_coef.plot(kind = \"barh\")\n",
    "plt.title(\"Coefficients in the XgBoost Regression Model\")\n",
    "\n"
   ]
  },
  {
   "cell_type": "markdown",
   "metadata": {},
   "source": [
    "# Compare RMSE of all the 5 models"
   ]
  },
  {
   "cell_type": "code",
   "execution_count": 85,
   "metadata": {},
   "outputs": [],
   "source": [
    "\n",
    "ser_df=pd.DataFrame({'Model': mods, 'RMSE_VALUE': vals})\n",
    "ser_df.sort_values(by='RMSE_VALUE', ascending=True,inplace=True)\n",
    "source = ColumnDataSource(ser_df)\n",
    "\n",
    "label_type = source.data['Model'].tolist()\n",
    "\n",
    "p = figure(x_range=label_type, plot_width=1100, plot_height=700)\n",
    "color_map = factor_cmap(field_name='Model', palette=Spectral6, factors=mods)\n",
    "p.vbar(x='Model', top='RMSE_VALUE', source=source, width=0.70, color=color_map)\n",
    "\n",
    "p.title.text ='Comparison of Models'\n",
    "p.xaxis.axis_label = 'Model Types'\n",
    "p.yaxis.axis_label = \"RMSE value of different models On Test Set\"\n",
    "\n",
    "show(p)"
   ]
  },
  {
   "cell_type": "code",
   "execution_count": 86,
   "metadata": {},
   "outputs": [],
   "source": [
    "# # Reference https://www.kaggle.com/jasonbenner/ridge-regression-cv-tutorial\n",
    "# # https://www.kaggle.com/jsaadani/simple-ridge-regression-in-python\n",
    "# from sklearn.model_selection import GridSearchCV\n",
    "\n",
    "# solverOptions = (['svd', 'cholesky', 'sparse_cg', 'sag'])\n",
    "# fit_interceptOptions = ([True, False])\n",
    "# alphas = np.linspace(0,1,30)\n",
    "# model = Ridge(normalize=True)\n",
    "\n",
    "# grid = GridSearchCV(estimator=model,param_grid=dict(alpha=alphas,fit_intercept=fit_interceptOptions,\n",
    "#                                               solver=solverOptions),cv=3,scoring='neg_mean_absolute_error')\n",
    "# grid.fit(X_train, y_train)\n",
    "\n",
    "# print (\"best grid params: \", grid.best_params_)\n",
    "\n"
   ]
  },
  {
   "cell_type": "code",
   "execution_count": 87,
   "metadata": {},
   "outputs": [],
   "source": [
    "# print('Best score: ',grid.best_score_)"
   ]
  },
  {
   "cell_type": "code",
   "execution_count": 88,
   "metadata": {},
   "outputs": [
    {
     "data": {
      "text/html": [
       "<div>\n",
       "<style scoped>\n",
       "    .dataframe tbody tr th:only-of-type {\n",
       "        vertical-align: middle;\n",
       "    }\n",
       "\n",
       "    .dataframe tbody tr th {\n",
       "        vertical-align: top;\n",
       "    }\n",
       "\n",
       "    .dataframe thead th {\n",
       "        text-align: right;\n",
       "    }\n",
       "</style>\n",
       "<table border=\"1\" class=\"dataframe\">\n",
       "  <thead>\n",
       "    <tr style=\"text-align: right;\">\n",
       "      <th></th>\n",
       "      <th>Model</th>\n",
       "      <th>RMSE_VALUE</th>\n",
       "    </tr>\n",
       "  </thead>\n",
       "  <tbody>\n",
       "    <tr>\n",
       "      <th>1</th>\n",
       "      <td>Ridge Regressor</td>\n",
       "      <td>0.140</td>\n",
       "    </tr>\n",
       "    <tr>\n",
       "      <th>3</th>\n",
       "      <td>ElasticNet Regressor</td>\n",
       "      <td>0.140</td>\n",
       "    </tr>\n",
       "    <tr>\n",
       "      <th>2</th>\n",
       "      <td>Lasso Regressor</td>\n",
       "      <td>0.140</td>\n",
       "    </tr>\n",
       "    <tr>\n",
       "      <th>0</th>\n",
       "      <td>Linear_Regression</td>\n",
       "      <td>0.140</td>\n",
       "    </tr>\n",
       "    <tr>\n",
       "      <th>4</th>\n",
       "      <td>XgBoost Regressor</td>\n",
       "      <td>0.155</td>\n",
       "    </tr>\n",
       "  </tbody>\n",
       "</table>\n",
       "</div>"
      ],
      "text/plain": [
       "                  Model  RMSE_VALUE\n",
       "1       Ridge Regressor       0.140\n",
       "3  ElasticNet Regressor       0.140\n",
       "2       Lasso Regressor       0.140\n",
       "0     Linear_Regression       0.140\n",
       "4     XgBoost Regressor       0.155"
      ]
     },
     "execution_count": 88,
     "metadata": {},
     "output_type": "execute_result"
    }
   ],
   "source": [
    "ser_df"
   ]
  },
  {
   "cell_type": "code",
   "execution_count": null,
   "metadata": {},
   "outputs": [],
   "source": []
  }
 ],
 "metadata": {
  "kernelspec": {
   "display_name": "Python 3",
   "language": "python",
   "name": "python3"
  },
  "language_info": {
   "codemirror_mode": {
    "name": "ipython",
    "version": 3
   },
   "file_extension": ".py",
   "mimetype": "text/x-python",
   "name": "python",
   "nbconvert_exporter": "python",
   "pygments_lexer": "ipython3",
   "version": "3.6.5"
  }
 },
 "nbformat": 4,
 "nbformat_minor": 2
}
